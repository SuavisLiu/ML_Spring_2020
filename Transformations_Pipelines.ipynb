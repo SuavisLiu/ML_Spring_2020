{
 "cells": [
  {
   "cell_type": "code",
   "execution_count": 1,
   "metadata": {
    "slideshow": {
     "slide_type": "notes"
    }
   },
   "outputs": [
    {
     "data": {
      "text/latex": [
       "$$\n",
       "\\newcommand{\\x}{\\mathbf{x}}\n",
       "\\newcommand{\\tx}{\\tilde{\\x}}\n",
       "\\newcommand{\\y}{\\mathbf{y}}\n",
       "\\newcommand{\\b}{\\mathbf{b}}\n",
       "\\newcommand{\\c}{\\mathbf{c}}\n",
       "\\newcommand{\\e}{\\mathbf{e}}\n",
       "\\newcommand{\\z}{\\mathbf{z}}\n",
       "\\newcommand{\\h}{\\mathbf{h}}\n",
       "\\newcommand{\\w}{\\mathbf{w}}\n",
       "\\newcommand{\\W}{\\mathbf{W}}\n",
       "\\newcommand{\\X}{\\mathbf{X}}\n",
       "\\newcommand{\\KL}{\\mathbf{KL}}\n",
       "\\newcommand{\\E}{{\\mathbb{E}}}\n",
       "\\newcommand{\\ip}{\\mathbf{{(i)}}}\n",
       "% \\ll indexes a layer; we can change the actual letter\n",
       "\\newcommand{\\ll}{l}\n",
       "\\newcommand{\\llp}{{(\\ll)}}\n",
       "%\n",
       "% \\tt indexes a time step\n",
       "\\newcommand{\\tt}{t}\n",
       "\\newcommand{\\tp}{{(\\tt)}}\n",
       "%\n",
       "\\newcommand{\\loss}{\\mathcal{L}}\n",
       "\\newcommand{\\cost}{\\mathcal{L}}\n",
       "%\n",
       "%                     \n",
       "\\newcommand{\\pdata}{p_\\text{data}}\n",
       "\\newcommand{\\pmodel}{p_\\text{model}}\n",
       "%\n",
       "% Functions with arguments\n",
       "\\def\\xsy#1#2{#1^#2}\n",
       "\\def\\rand#1{\\tilde{#1}}\n",
       "\\def\\randx{\\rand{\\x}}\n",
       "\\def\\randy{\\rand{\\y}}\n",
       "%\n",
       "\\def\\argmax#1{\\underset{#1} {\\operatorname{argmax}} }\n",
       "\\def\\argmin#1{\\underset{#1} {\\operatorname{argmin}} }\n",
       "\\def\\max#1{\\underset{#1} {\\operatorname{max}} }\n",
       "\\def\\min#1{\\underset{#1} {\\operatorname{min}} }\n",
       "%\n",
       "\\def\\pr#1{\\mathcal{p}(#1)}\n",
       "\\def\\cnt#1{\\mathcal{count}_{#1}}\n",
       "\\def\\node#1{\\mathbb{#1}}\n",
       "%\n",
       "\\newcommand{\\floor}[1]{\\left\\lfloor #1 \\right\\rfloor}\n",
       "\\newcommand{\\ceil}[1]{\\left\\lceil #1 \\right\\rceil}\n",
       "%\n",
       "\n",
       "$$\n"
      ],
      "text/plain": [
       "<IPython.core.display.Latex object>"
      ]
     },
     "metadata": {},
     "output_type": "display_data"
    },
    {
     "name": "stdout",
     "output_type": "stream",
     "text": [
      "Macro `_latex_std_` created. To execute, type its name (without quotes).\n",
      "=== Macro contents: ===\n",
      "get_ipython().run_line_magic('run', 'Latex_macros.ipynb ')\n",
      " no stored variable _latex_std_\n"
     ]
    }
   ],
   "source": [
    "%run Latex_macros.ipynb \n"
   ]
  },
  {
   "cell_type": "code",
   "execution_count": 2,
   "metadata": {
    "slideshow": {
     "slide_type": "notes"
    }
   },
   "outputs": [],
   "source": [
    "# My standard magic !  You will see this in almost all my notebooks.\n",
    "\n",
    "from IPython.core.interactiveshell import InteractiveShell\n",
    "InteractiveShell.ast_node_interactivity = \"all\"\n",
    "\n",
    "# Reload all modules imported with %aimport\n",
    "%load_ext autoreload\n",
    "%autoreload 1\n",
    "\n",
    "%matplotlib inline"
   ]
  },
  {
   "cell_type": "code",
   "execution_count": 3,
   "metadata": {
    "slideshow": {
     "slide_type": "notes"
    }
   },
   "outputs": [],
   "source": [
    "import numpy as np\n",
    "import pandas as pd\n",
    "import matplotlib.pyplot as plt\n",
    "         \n",
    "    \n",
    "from sklearn import datasets, linear_model\n",
    "from sklearn.metrics import mean_squared_error, r2_score\n",
    "\n",
    "import recipe_helper\n",
    "%aimport recipe_helper\n",
    "rh = recipe_helper.Recipe_Helper()"
   ]
  },
  {
   "cell_type": "markdown",
   "metadata": {
    "slideshow": {
     "slide_type": "slide"
    }
   },
   "source": [
    "# Transformation pipelines\n",
    "\n",
    "Transformations are a key part of the Recipe for Machine Learning.\n",
    "\n",
    "A transformation $T$ changes raw input example $\\x$ into transformed example $\\x' = T(\\x)$.\n",
    "\n",
    "Features may have been added, dropped, re-scaled, etc.\n",
    "\n",
    "What is important is that our model (hypothesis $h$) computes $h(T(\\x))$ rather than $h(\\x)$"
   ]
  },
  {
   "cell_type": "markdown",
   "metadata": {
    "slideshow": {
     "slide_type": "slide"
    }
   },
   "source": [
    "<img src=images/ML_process_pipeline.jpg>"
   ]
  },
  {
   "cell_type": "markdown",
   "metadata": {
    "slideshow": {
     "slide_type": "subslide"
    }
   },
   "source": [
    "We were very deliberate in first computing $T(\\x)$ during training.\n",
    "\n",
    "When predicting on a non-training example $\\x$ (e.g., validation, test) we must apply the *identical* $T$\n",
    "to ensure that the prediction is $h(T(x))$.\n",
    "- in the most obvious case: $\\x$ and $T(\\x)$ have different \"shapes\" and thus we can't compute $h(\\x)$.\n",
    "    - $\\x = (1, \\x_1)$ versus $T(\\x) = (1, \\x_1, \\x_1^2)$"
   ]
  },
  {
   "cell_type": "markdown",
   "metadata": {
    "slideshow": {
     "slide_type": "subslide"
    }
   },
   "source": [
    "We applied only a single transformation in our first example but, in general, there may be *sequence*  of transformations to apply.\n",
    "$$T_1, T_2, \\ldots T_t$$\n",
    "\n",
    "We refer to a sequence of transformations as a pipeline.\n",
    "$$T(\\x) = T_t( \\,T_{t-1} ( \\ldots T_2(\\,\\, T_1(\\x)\\,\\,) ) \\,)$$\n",
    "\n",
    "That is: the pipeline is a single transformation $T$ that is the *sequential composition* of each transformation.\n",
    "- first apply $T_1$ to input $\\x$ to yield $T_1(\\x)$\n",
    "- then apply $T_2$ to the result to yield $T_2( \\; T_1(\\x) \\; )$\n",
    "- etc."
   ]
  },
  {
   "cell_type": "markdown",
   "metadata": {
    "slideshow": {
     "slide_type": "subslide"
    }
   },
   "source": [
    "You can\n",
    "- create your own class and methods for a transformation\n",
    "    - with a \"fit\" method to fit during training\n",
    "    - with a \"transform\" method to apply\n",
    "        - during training\n",
    "        - during test\n"
   ]
  },
  {
   "cell_type": "raw",
   "metadata": {
    "slideshow": {
     "slide_type": "subslide"
    }
   },
   "source": [
    "\n",
    "def fit_T(X):\n",
    "    X_1 = T_1.fit(X)\n",
    "    X_2 = T_2.fit(X_1)\n",
    "        ...\n",
    "    X_t  = T_t.fit(X_{t-1})\n",
    "    \n",
    "\n",
    "def transform_T(X):\n",
    "    X_1 = T_1.transform(X)\n",
    "    X_2 = T_2.transform(X_1)\n",
    "        ...\n",
    "    X_t  = T_t.transform(X_{t-1})\n",
    "    \n",
    "    return X_t\n",
    "`"
   ]
  },
  {
   "cell_type": "markdown",
   "metadata": {
    "slideshow": {
     "slide_type": "subslide"
    }
   },
   "source": [
    "        \n",
    "Alternatively, you can take advantage of `sklearn`'s built-in \"pipelines\"\n",
    "\n",
    "Regardless of how you implement transformations it's important that thye satisfy some key properties."
   ]
  },
  {
   "cell_type": "markdown",
   "metadata": {
    "slideshow": {
     "slide_type": "subslide"
    }
   },
   "source": [
    "\n",
    "# Key properties in implementing transformations\n",
    "\n",
    "We'll motivate key properties of transformation code using our module for fitting the \"curvy\" dataset.\n",
    "\n",
    "We will then switch to the more refined methods of `sklearn`.\n",
    "\n",
    "You *don't have to* use `sklearn`'s method, but you *do* have to satisfy key properties."
   ]
  },
  {
   "cell_type": "markdown",
   "metadata": {
    "slideshow": {
     "slide_type": "subslide"
    }
   },
   "source": [
    "## Consistent application across train, validation and test\n",
    "\n",
    "The transformation pipeline $T$ should work the same way for any example.\n",
    "\n",
    "By creating a single method that works for *any* example we ensure consistency.\n"
   ]
  },
  {
   "cell_type": "markdown",
   "metadata": {
    "slideshow": {
     "slide_type": "subslide"
    }
   },
   "source": [
    "## No cheating, even in transformations !\n",
    "\n",
    "The transformations in pipeline $T$ may have their own parameters.\n",
    "\n",
    "**These parameters are fit on the **training** data and nothing else !\n",
    "\n",
    "`X_train, X_test, y_train, y_test = split(X,y)` \n",
    "\n",
    "`T.fit(X_train)`\n",
    "\n",
    "but used to **transform all data**\n",
    "\n",
    "- `X_train-trans = T.transform(X_train)`\n",
    "\n",
    "- `X_validation_trans = T.transform(X__validation)`\n",
    "\n",
    "- `X_test_trans = T.transform(X_test)`"
   ]
  },
  {
   "cell_type": "markdown",
   "metadata": {
    "slideshow": {
     "slide_type": "subslide"
    }
   },
   "source": [
    "Is this different from first fitting the *entire* dataset $\\X$ and then splitting ?\n",
    "\n",
    "`T.fit(X)`\n",
    "\n",
    "`X_trans = T.transform(X)`\n",
    "\n",
    "`X_train, X_test, y_train, y_test = split(X,y)` "
   ]
  },
  {
   "cell_type": "markdown",
   "metadata": {
    "slideshow": {
     "slide_type": "subslide"
    }
   },
   "source": [
    "Most definitely !\n",
    "\n",
    "The `fit` method, when applied to the entire set $\\X$ has **cheated** by looking at what will become $\\X_\\text{test}$\n",
    "\n",
    "For example\n",
    "- a missing data imputation transformation should use\n",
    "$$\\text{mean}(\\X_{\\text{train}})$$\n",
    "not \n",
    "$$\\text{mean}(\\X)$$"
   ]
  },
  {
   "cell_type": "markdown",
   "metadata": {
    "slideshow": {
     "slide_type": "subslide"
    }
   },
   "source": [
    "## No cheating in cross-validation !\n",
    "\n",
    "Cross-validation provides a subtle opportunity to \"cheat\"\n",
    "\n",
    "$k$-fold cross validation creates $k$ different (train, validation) set splits.\n",
    "\n",
    "Let $\\X'_{(j)}, \\X''_{(j)}$ denote the partition of $\\X$ into the train/validation set for split $j$.\n",
    "- $\\X'_{(j)}$ is used to train one model instance, which is evaluated on hold-out data $\\X''_{(j)}$\n",
    "- $\\X''_{(j)}$ serves the role of \"test\" set for the $j^{th}$  split\n",
    "- So pipeline $T$ should be fit on  only $\\X'_{(j)}$ rather than the entire $\\X$\n",
    "    - it would be cheating to see $\\X''_{(j)}$"
   ]
  },
  {
   "cell_type": "markdown",
   "metadata": {
    "slideshow": {
     "slide_type": "slide"
    }
   },
   "source": [
    "# Pipelines in sklearn\n",
    "\n",
    "`sklearn` has created a generic architecture to simplify this for you.\n",
    "\n",
    "We'll give a quick overview of how `sklearn` facilitates transformations.\n",
    "\n",
    "Let's create a pipeline with the following stages\n",
    "- create polynomial features of order up to and including 2\n",
    "- linear regression"
   ]
  },
  {
   "cell_type": "markdown",
   "metadata": {
    "slideshow": {
     "slide_type": "subslide"
    }
   },
   "source": [
    "What we have done is used Pipelines to create a new model\n",
    "$$\n",
    "h'(\\x) = h(\\, T(\\x) \\, )\n",
    "$$\n",
    "\n",
    "This \"model\" combines the transformation and fitting steps.\n",
    "\n",
    "We can use $h'$ just as we used $h$\n",
    "- for example in cross validation: `h'.cross_val_score( .. )`\n",
    "\n",
    "This is a simple implementation that avoids \"cheating\" by wrapping *all steps* into a single function."
   ]
  },
  {
   "cell_type": "markdown",
   "metadata": {
    "slideshow": {
     "slide_type": "subslide"
    }
   },
   "source": [
    "Notice how we have included the Linear Regression step as part of the pipeline.\n",
    "\n",
    "This means that the pipeline can run all the steps up to and including fitting of the model\n",
    "- data preparation\n",
    "- training\n",
    "\n",
    "That is: we can treat the pipeline as a self-contained model that performs its own prerequisites."
   ]
  },
  {
   "cell_type": "markdown",
   "metadata": {
    "slideshow": {
     "slide_type": "subslide"
    }
   },
   "source": [
    "In addition to being a convenience, a pipeline ending in a model\n",
    "- **avoids the potential to cheat in cross-validation**\n",
    "- cross-validation performs `transform` and `predict` for each fold as hold-out\n",
    "    - passing in the non-holdout as train\n",
    "    - so the `transform` never sees the holdout data for the fold !"
   ]
  },
  {
   "cell_type": "code",
   "execution_count": 4,
   "metadata": {
    "slideshow": {
     "slide_type": "subslide"
    }
   },
   "outputs": [],
   "source": [
    "# I will give you the data via a function (so I can easily alter the data in subsequent examples)\n",
    "v1, a1 = 1, .005\n",
    "\n",
    "X_lin, y_lin = rh.gen_data(num=50, v=v1, a=a1)\n",
    "\n",
    "v2, a2 = v1, a1*2\n",
    "X_curve, y_curve = rh.gen_data(num=50, v=v2, a=a2)\n",
    "\n",
    "\n",
    "X_train, X_test, y_train, y_test = rh.split(X_curve,y_curve)\n"
   ]
  },
  {
   "cell_type": "code",
   "execution_count": 5,
   "metadata": {
    "slideshow": {
     "slide_type": "subslide"
    }
   },
   "outputs": [
    {
     "data": {
      "text/plain": [
       "Pipeline(memory=None,\n",
       "         steps=[('polynomialfeatures',\n",
       "                 PolynomialFeatures(degree=2, include_bias=True,\n",
       "                                    interaction_only=False, order='C')),\n",
       "                ('linearregression',\n",
       "                 LinearRegression(copy_X=True, fit_intercept=True, n_jobs=None,\n",
       "                                  normalize=False))],\n",
       "         verbose=False)"
      ]
     },
     "execution_count": 5,
     "metadata": {},
     "output_type": "execute_result"
    }
   ],
   "source": [
    "from sklearn.preprocessing import PolynomialFeatures\n",
    "import sklearn.preprocessing as pre_proc\n",
    "\n",
    "# Create the Pipeline\n",
    "from sklearn.pipeline import make_pipeline\n",
    "poly_model = make_pipeline(pre_proc.PolynomialFeatures(2),\n",
    "                           linear_model.LinearRegression())\n",
    "\n",
    "# Fit the model, running the data transformation first\n",
    "poly_model.fit(X_train.reshape(-1,1), y_train)"
   ]
  },
  {
   "cell_type": "markdown",
   "metadata": {
    "slideshow": {
     "slide_type": "subslide"
    }
   },
   "source": [
    "A pipeline successively applies tranformations, with the result of transformation $(i-1)$ fed as input to transformation $i$.\n",
    "\n",
    "Let's look \"inside\" the pipeline at the stages, and apply them manually."
   ]
  },
  {
   "cell_type": "code",
   "execution_count": 6,
   "metadata": {
    "slideshow": {
     "slide_type": "subslide"
    }
   },
   "outputs": [
    {
     "name": "stdout",
     "output_type": "stream",
     "text": [
      "Input shape: (10, 1)\n",
      "polynomialfeatures returns shape: (10, 3)\n",
      "linearregression returns shape: (10, 1)\n"
     ]
    }
   ],
   "source": [
    "# Examine the \"stages\" of the pipeline\n",
    "print(\"Input shape: {shp}\".format(shp=X_test.reshape(-1,1).shape)  )\n",
    "\n",
    "# First stage: Create First and Second Order polynomial features\n",
    "(label_0, model_0) = poly_model.steps[0]\n",
    "transf_0 = model_0.transform(X_test.reshape(-1,1))\n",
    "print(\"{lab:s} returns shape: {shp}\".format(lab=label_0, shp=transf_0.shape) )\n",
    "\n",
    "# Second stage: Linear Regression\n",
    "(label_1, model_1) = poly_model.steps[1]\n",
    "transf_1 = model_1.predict( transf_0 )\n",
    "print(\"{lab:s} returns shape: {shp}\".format(lab=label_1, shp=transf_1.shape) )\n"
   ]
  },
  {
   "cell_type": "code",
   "execution_count": 7,
   "metadata": {
    "slideshow": {
     "slide_type": "subslide"
    }
   },
   "outputs": [
    {
     "name": "stdout",
     "output_type": "stream",
     "text": [
      "Score (train):  1.0\n",
      "Score (test):  1.0\n"
     ]
    }
   ],
   "source": [
    "# Prediction based on test set\n",
    "y_pred = poly_model.predict(X_test.reshape(-1,1))\n",
    "\n",
    "# In and out of sample scores\n",
    "print(\"Score (train): \", poly_model.score(X_train.reshape(-1,1), y_train))\n",
    "print(\"Score (test): \",  poly_model.score(X_test.reshape(-1,1),  y_test))"
   ]
  },
  {
   "cell_type": "code",
   "execution_count": 8,
   "metadata": {
    "slideshow": {
     "slide_type": "subslide"
    }
   },
   "outputs": [
    {
     "name": "stdout",
     "output_type": "stream",
     "text": [
      "R-squared score (test): 1.00\n"
     ]
    },
    {
     "data": {
      "image/png": "[encoded data removed]",
      "text/plain": [
       "<Figure size 432x288 with 2 Axes>"
      ]
     },
     "metadata": {
      "needs_background": "light"
     },
     "output_type": "display_data"
    }
   ],
   "source": [
    "# Plot the results\n",
    "# Create a figure\n",
    "fig = plt.figure()\n",
    "\n",
    "# Create a histogram for X.  The figure will be 1 row by 2 columns and the plot for X will be in column 1\n",
    "ax = fig.add_subplot(121)\n",
    "_= ax.scatter(X_train,y_train)\n",
    "\n",
    "xfit = np.linspace( X_train[:,0].min(), X_train[:,0].max()).reshape(-1,1)\n",
    "yfit = poly_model.predict(xfit)\n",
    "_= ax.plot(xfit, yfit);\n",
    "_= ax.set_title(\"Train\")\n",
    "\n",
    "ax = fig.add_subplot(122);\n",
    "_ = ax.scatter(X_test, y_test, color=\"blue\")\n",
    "_ = ax.scatter(X_test, y_pred, color=\"red\")\n",
    "\n",
    "_ = ax.plot(xfit, yfit)\n",
    "_= ax.set_title(\"Test\")\n",
    "\n",
    "\n",
    "print(\"R-squared score (test): {:.2f}\".format(r2_score(y_test, y_pred)) )"
   ]
  },
  {
   "cell_type": "markdown",
   "metadata": {
    "slideshow": {
     "slide_type": "slide"
    }
   },
   "source": [
    "[Here's](external/PythonDataScienceHandbook/notebooks/05.04-Feature-Engineering.ipynb#Feature-Pipelines) a slightly longer pipeline from VanderPlas.\n",
    "\n",
    "\n",
    "- `Imputer` to deal with misssing values\n",
    "- `PolynomialFeatures(degree=2)`\n",
    "- `LinearRegression()`"
   ]
  },
  {
   "cell_type": "markdown",
   "metadata": {
    "slideshow": {
     "slide_type": "slide"
    }
   },
   "source": [
    "## Advanced Pipelines: FeatureUnion\n",
    "\n",
    "What if some transformations are applicable only to certain features, for example, based on feature type\n",
    "- numeric transformations for numeric features\n",
    "- categorical transformations for categorical features\n",
    "\n",
    "`sklearn` facilitates this by\n",
    "- Allowing you to create \"filters\" that restrict features to a subset\n",
    "- Applying one pipeline per subset\n",
    "- Creating a union of transformed features at the end\n"
   ]
  },
  {
   "cell_type": "markdown",
   "metadata": {
    "slideshow": {
     "slide_type": "subslide"
    }
   },
   "source": [
    "The following is a preview of the next lecture, where we will learn about non-numeric (categorical) features.\n",
    "\n",
    "For now: just know that you can't apply numeric operations to categorical data.\n",
    "\n",
    "Consider a dataset that contains both numeric and categorical features\n",
    "- Imputation of missing data handled differently\n",
    "    - Numeric: median\n",
    "    - Categorical: most frequent\n",
    "\n",
    "In addition, the categorical features will need to be encoded as numbers"
   ]
  },
  {
   "cell_type": "raw",
   "metadata": {
    "slideshow": {
     "slide_type": "subslide"
    }
   },
   "source": [
    "num_pipeline = Pipeline([\n",
    "        (\"select_numeric\", DataFrameSelector([\"Age\", \"SibSp\", \"Parch\", \"Fare\"])),\n",
    "        (\"imputer\", SimpleImputer(strategy=\"median\")),\n",
    "    ])\n",
    "    \n",
    "cat_pipeline = Pipeline([\n",
    "        (\"select_cat\", DataFrameSelector([\"Pclass\", \"Sex\", \"Embarked\"])),\n",
    "        (\"imputer\", MostFrequentImputer()),\n",
    "        (\"cat_encoder\", OneHotEncoder(sparse=False)),\n",
    "    ])\n",
    "    \n",
    "from sklearn.pipeline import FeatureUnion\n",
    "preprocess_pipeline = FeatureUnion(transformer_list=[\n",
    "        (\"num_pipeline\", num_pipeline),\n",
    "        (\"cat_pipeline\", cat_pipeline),\n",
    "    ])   "
   ]
  },
  {
   "cell_type": "markdown",
   "metadata": {
    "slideshow": {
     "slide_type": "subslide"
    }
   },
   "source": [
    "- We create a custom transformer `DataFrameSelector` to \"filter\" (restrict) features\n",
    "    - Stage \"select_numeric\" filters to numeric features\n",
    "    - Stage \"elect_cat\" filters to categorical features\n",
    "    \n",
    "- We create one pipeline for each of the Numeric and Categorical features\n",
    "\n",
    "- We \"union\" the disjoint features produced by the two pipelines into the final set of transformed features"
   ]
  },
  {
   "cell_type": "markdown",
   "metadata": {
    "slideshow": {
     "slide_type": "slide"
    }
   },
   "source": [
    "# Recap\n",
    "\n",
    "We emphasized the importance of performing transformations and doing so consistently.\n",
    "\n",
    "`sklearn` has a nice framework.\n",
    "\n",
    "Even if you choose to perform your own transformations, the ideas it implements are worth considering."
   ]
  },
  {
   "cell_type": "code",
   "execution_count": 9,
   "metadata": {
    "slideshow": {
     "slide_type": "slide"
    }
   },
   "outputs": [
    {
     "name": "stdout",
     "output_type": "stream",
     "text": [
      "Done !\n"
     ]
    }
   ],
   "source": [
    "print(\"Done !\")"
   ]
  }
 ],
 "metadata": {
  "celltoolbar": "Slideshow",
  "kernelspec": {
   "display_name": "Python 3",
   "language": "python",
   "name": "python3"
  },
  "language_info": {
   "codemirror_mode": {
    "name": "ipython",
    "version": 3
   },
   "file_extension": ".py",
   "mimetype": "text/x-python",
   "name": "python",
   "nbconvert_exporter": "python",
   "pygments_lexer": "ipython3",
   "version": "3.7.4"
  },
  "toc": {
   "base_numbering": 1,
   "nav_menu": {},
   "number_sections": true,
   "sideBar": true,
   "skip_h1_title": false,
   "title_cell": "Table of Contents",
   "title_sidebar": "Contents",
   "toc_cell": false,
   "toc_position": {
    "height": "calc(100% - 180px)",
    "left": "10px",
    "top": "150px",
    "width": "368px"
   },
   "toc_section_display": true,
   "toc_window_display": true
  }
 },
 "nbformat": 4,
 "nbformat_minor": 2
}
