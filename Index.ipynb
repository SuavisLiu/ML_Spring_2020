{
 "cells": [
  {
   "cell_type": "markdown",
   "metadata": {},
   "source": [
    "# Week 1\n",
    "- Plan\n",
    "    - Motivate Machine Learning\n",
    "    - Introduce notation used throughout course\n",
    "    - Plan for initial lectures\n",
    "        - *What*: Introduce, motivate a model\n",
    "        - *How*:  How to use a model: function signature, code (API)\n",
    "        - *Why*:  Mathematical basis -- enhance understanding and ability to improve results\n",
    "        \n",
    "        \n",
    "- [Course Overview](Course_overview.ipynb)\n",
    "- [Getting Started](Getting_Started.ipynb)\n",
    "- [Machine Learning: Overview](ML_Overview.ipynb)\n",
    "- [Intro to Classical ML](Intro_Classical_ML.ipynb)"
   ]
  },
  {
   "cell_type": "markdown",
   "metadata": {},
   "source": [
    "# Week 2\n",
    "- Plan\n",
    "    - Introduce a model for the Regression task: Linear Regression\n",
    "    - Introduce the Recipe for Machine Learning: detailed steps to problem solving\n",
    "- [Recap: Intro to Classical ML](Recap_of_Intro_Classical_ML.ipynb)\n",
    "\n",
    "- [Our first model: Linear Regression (Overview)](Linear_Regression_Overview.ipynb)\n",
    "- A *process* for Machine Learning\n",
    "    - Go through the methodical, multi-step process\n",
    "        - Quick first pass, followed by Deeper Dives\n",
    "    - This will be a code-heavy notebook !\n",
    "    - Illustrate Pandas, Jupyter, etc\n",
    "    - [Recipe for Machine Learning: Overview](Recipe_Overview.ipynb)\n",
    "        - [Linked notebook](Recipe_for_ML.ipynb)\n",
    "- The Loss function for Linear Regression\n",
    "    - [Linear Regression: Loss Function](Linear_Regression_Loss_Function.ipynb)\n",
    "\n",
    "- Deeper dives\n",
    "    - Iterative improvement\n",
    "        - [When to stop: Bias and Variance](Bias_and_Variance.ipynb)\n",
    "            - Regularization\n",
    "    - Prepare Data step\n",
    "        - Fitting a transformation on training data\n",
    "        - Applying to training, validation, test\n",
    "        - [Prepare Data: deeper dive](Prepare_data_Overview.ipynb)\n",
    "    - Prepare data 2: Tranformation Pipelines\n",
    "        - Applying transformations consistently\n",
    "        - Key properties to adhere to\n",
    "        - `sklearn` Pipelines\n",
    "        - [Transformation pipelines](Transformations_Pipelines.ipynb)\n",
    "    - [Fine tuning techniques](Fine_tuning.ipynb)"
   ]
  }
 ],
 "metadata": {
  "kernelspec": {
   "display_name": "Python 3",
   "language": "python",
   "name": "python3"
  },
  "language_info": {
   "codemirror_mode": {
    "name": "ipython",
    "version": 3
   },
   "file_extension": ".py",
   "mimetype": "text/x-python",
   "name": "python",
   "nbconvert_exporter": "python",
   "pygments_lexer": "ipython3",
   "version": "3.7.4"
  },
  "toc": {
   "base_numbering": 1,
   "nav_menu": {},
   "number_sections": true,
   "sideBar": true,
   "skip_h1_title": false,
   "title_cell": "Table of Contents",
   "title_sidebar": "Contents",
   "toc_cell": false,
   "toc_position": {},
   "toc_section_display": true,
   "toc_window_display": false
  }
 },
 "nbformat": 4,
 "nbformat_minor": 2
}
