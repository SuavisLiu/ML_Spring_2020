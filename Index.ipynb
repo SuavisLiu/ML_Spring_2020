{
 "cells": [
  {
   "cell_type": "markdown",
   "metadata": {},
   "source": [
    "# Week 1\n",
    "- Plan\n",
    "    - Motivate Machine Learning\n",
    "    - Introduce notation used throughout course\n",
    "    - Plan for initial lectures\n",
    "        - *What*: Introduce, motivate a model\n",
    "        - *How*:  How to use a model: function signature, code (API)\n",
    "        - *Why*:  Mathematical basis -- enhance understanding and ability to improve results\n",
    "        \n",
    "- [Course Overview](Course_overview.ipynb)\n",
    "- [Getting Started](Getting_Started.ipynb)\n",
    "- [Machine Learning: Overview](ML_Overview.ipynb)\n",
    "- [Intro to Classical ML](Intro_Classical_ML.ipynb)"
   ]
  }
 ],
 "metadata": {
  "kernelspec": {
   "display_name": "Python 3",
   "language": "python",
   "name": "python3"
  },
  "language_info": {
   "codemirror_mode": {
    "name": "ipython",
    "version": 3
   },
   "file_extension": ".py",
   "mimetype": "text/x-python",
   "name": "python",
   "nbconvert_exporter": "python",
   "pygments_lexer": "ipython3",
   "version": "3.7.4"
  },
  "toc": {
   "base_numbering": 1,
   "nav_menu": {},
   "number_sections": true,
   "sideBar": true,
   "skip_h1_title": false,
   "title_cell": "Table of Contents",
   "title_sidebar": "Contents",
   "toc_cell": false,
   "toc_position": {},
   "toc_section_display": true,
   "toc_window_display": false
  }
 },
 "nbformat": 4,
 "nbformat_minor": 2
}
