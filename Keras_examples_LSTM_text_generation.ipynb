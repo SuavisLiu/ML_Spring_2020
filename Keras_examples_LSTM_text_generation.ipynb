{
  "nbformat": 4,
  "nbformat_minor": 0,
  "metadata": {
    "colab": {
      "name": "Keras_examples_LSTM_text_generation.ipynb",
      "provenance": [],
      "collapsed_sections": [],
      "toc_visible": true
    },
    "kernelspec": {
      "name": "python3",
      "display_name": "Python 3"
    },
    "accelerator": "GPU"
  },
  "cells": [
    {
      "cell_type": "code",
      "metadata": {
        "id": "4PLjiZkWIwGJ",
        "colab_type": "code",
        "colab": {}
      },
      "source": [
        "try:\n",
        "  from google.colab import drive\n",
        "  IN_COLAB=True\n",
        "except:\n",
        "  IN_COLAB=False\n",
        "\n",
        "if IN_COLAB:\n",
        "  print(\"We're running Colab\")"
      ],
      "execution_count": 0,
      "outputs": []
    },
    {
      "cell_type": "code",
      "metadata": {
        "id": "uygaR2nLI0mk",
        "colab_type": "code",
        "colab": {}
      },
      "source": [
        "import tensorflow as tf\n",
        "\n",
        "print(\"Running TensorFlow version \",tf.__version__)\n",
        "\n",
        "# Parse tensorflow version\n",
        "import re\n",
        "\n",
        "version_match = re.match(\"([0-9]+)\\.([0-9]+)\", tf.__version__)\n",
        "tf_major, tf_minor = int(version_match.group(1)) , int(version_match.group(2))\n",
        "print(\"Version {v:d}, minor {m:d}\".format(v=tf_major, m=tf_minor) )"
      ],
      "execution_count": 0,
      "outputs": []
    },
    {
      "cell_type": "markdown",
      "metadata": {
        "id": "DcRfl7sNhboO",
        "colab_type": "text"
      },
      "source": [
        "# Derived from https://keras.io/examples/lstm_text_generation/"
      ]
    },
    {
      "cell_type": "code",
      "metadata": {
        "id": "w-IH2DOpf5XZ",
        "colab_type": "code",
        "outputId": "979d26c9-5dce-4ab7-d6d7-4dd5e1550a68",
        "colab": {
          "base_uri": "https://localhost:8080/",
          "height": 139
        }
      },
      "source": [
        "from google.colab import drive\n",
        "drive.mount('/content/gdrive')\n",
        "\n",
        "DRIVE_DIR=\"/content/gdrive/My Drive/\"\n",
        "\n",
        "import os \n",
        "MODEL_DIR=os.path.join(DRIVE_DIR, \"Colab Notebooks\", \"NYU\", \"Models\")\n",
        "modelDirExists = True if os.path.isdir(MODEL_DIR) else False\n",
        "\n",
        "if modelDirExists:\n",
        "  print(\"Saving checkpoints to \", MODEL_DIR)"
      ],
      "execution_count": 1,
      "outputs": [
        {
          "output_type": "stream",
          "text": [
            "Go to this URL in a browser: https://accounts.google.com/o/oauth2/auth?client_id=947318989803-6bn6qk8qdgf4n4g3pfee6491hc0brc4i.apps.googleusercontent.com&redirect_uri=urn%3aietf%3awg%3aoauth%3a2.0%3aoob&response_type=code&scope=email%20https%3a%2f%2fwww.googleapis.com%2fauth%2fdocs.test%20https%3a%2f%2fwww.googleapis.com%2fauth%2fdrive%20https%3a%2f%2fwww.googleapis.com%2fauth%2fdrive.photos.readonly%20https%3a%2f%2fwww.googleapis.com%2fauth%2fpeopleapi.readonly\n",
            "\n",
            "Enter your authorization code:\n",
            "··········\n",
            "Mounted at /content/gdrive\n",
            "Saving checkpoints to  /content/gdrive/My Drive/Colab Notebooks/NYU/Models\n"
          ],
          "name": "stdout"
        }
      ]
    },
    {
      "cell_type": "markdown",
      "metadata": {
        "id": "q6pLOKSng1zy",
        "colab_type": "text"
      },
      "source": [
        "# Standard imports"
      ]
    },
    {
      "cell_type": "code",
      "metadata": {
        "id": "1Vb7M8JELpAP",
        "colab_type": "code",
        "colab": {}
      },
      "source": [
        "import tensorflow as tf\n",
        "\n",
        "from __future__ import print_function\n",
        "from tensorflow.keras.callbacks import ModelCheckpoint, LambdaCallback\n",
        "\n",
        "from tensorflow.keras.models import Sequential\n",
        "from tensorflow.keras.layers import Dense\n",
        "from tensorflow.keras.layers import LSTM\n",
        "from tensorflow.keras.optimizers import RMSprop\n",
        "from tensorflow.keras.utils import get_file\n",
        "import numpy as np\n",
        "import random\n",
        "import sys\n",
        "import io\n",
        "\n",
        "from tensorflow.keras.utils import plot_model\n",
        "import IPython\n",
        "\n"
      ],
      "execution_count": 0,
      "outputs": []
    },
    {
      "cell_type": "markdown",
      "metadata": {
        "id": "rOI2b8gvg9yN",
        "colab_type": "text"
      },
      "source": [
        "# Get the text file\n",
        "- create maps to map between characters and their integer encodings\n",
        "  - from character to integer\n",
        "  - from integer to character"
      ]
    },
    {
      "cell_type": "code",
      "metadata": {
        "id": "vNRoCXtug8oX",
        "colab_type": "code",
        "outputId": "525bea5f-aa7a-467f-b474-5c8ce23a7e00",
        "colab": {
          "base_uri": "https://localhost:8080/",
          "height": 85
        }
      },
      "source": [
        "path = get_file(\n",
        "    'nietzsche.txt',\n",
        "    origin='https://s3.amazonaws.com/text-datasets/nietzsche.txt')\n",
        "with io.open(path, encoding='utf-8') as f:\n",
        "    text = f.read().lower()\n",
        "print('corpus length:', len(text))\n",
        "\n",
        "chars = sorted(list(set(text)))\n",
        "print('total chars:', len(chars))\n",
        "char_indices = dict((c, i) for i, c in enumerate(chars))\n",
        "indices_char = dict((i, c) for i, c in enumerate(chars))\n"
      ],
      "execution_count": 3,
      "outputs": [
        {
          "output_type": "stream",
          "text": [
            "Downloading data from https://s3.amazonaws.com/text-datasets/nietzsche.txt\n",
            "606208/600901 [==============================] - 0s 1us/step\n",
            "corpus length: 600893\n",
            "total chars: 57\n"
          ],
          "name": "stdout"
        }
      ]
    },
    {
      "cell_type": "markdown",
      "metadata": {
        "id": "JXrmtsAthNMx",
        "colab_type": "text"
      },
      "source": [
        "# Prepare the training data: creating example sequences/targets\n",
        "- example i: maxlen consecuitve characters\n",
        "  - text[i:i+ maxlen] training example: $x^{(i)}$\n",
        "  - text[maxlen] target: $y^{(i)}$\n"
      ]
    },
    {
      "cell_type": "code",
      "metadata": {
        "id": "GZdPuW6EgCRS",
        "colab_type": "code",
        "outputId": "0efad62b-fdb1-4be2-df8d-0b6c2abb9436",
        "colab": {
          "base_uri": "https://localhost:8080/",
          "height": 34
        }
      },
      "source": [
        "# cut the text in semi-redundant sequences of maxlen characters\n",
        "maxlen = 40\n",
        "step = 3\n",
        "sentences = []\n",
        "next_chars = []\n",
        "for i in range(0, len(text) - maxlen, step):\n",
        "    sentences.append(text[i: i + maxlen])\n",
        "    next_chars.append(text[i + maxlen])\n",
        "print('nb sequences:', len(sentences))\n",
        "\n"
      ],
      "execution_count": 4,
      "outputs": [
        {
          "output_type": "stream",
          "text": [
            "nb sequences: 200285\n"
          ],
          "name": "stdout"
        }
      ]
    },
    {
      "cell_type": "markdown",
      "metadata": {
        "id": "gMnLQsslpA76",
        "colab_type": "text"
      },
      "source": [
        "# Examine the prepared input: \n",
        "- x: a prefix (of length maxlen)\n",
        "- y: the following character"
      ]
    },
    {
      "cell_type": "code",
      "metadata": {
        "id": "Y77yYH68oV1S",
        "colab_type": "code",
        "outputId": "11ed5514-ab0e-4be9-fed9-b52f6cc80c6f",
        "colab": {
          "base_uri": "https://localhost:8080/",
          "height": 374
        }
      },
      "source": [
        "for i, example in enumerate( zip(sentences, next_chars)):\n",
        "  if i > 10: break\n",
        "  else: pass\n",
        "  (sentence, next_char) = example\n",
        "  print(\"x: \", sentence, \", y: \", next_char)"
      ],
      "execution_count": 5,
      "outputs": [
        {
          "output_type": "stream",
          "text": [
            "x:  preface\n",
            "\n",
            "\n",
            "supposing that truth is a woma , y:  n\n",
            "x:  face\n",
            "\n",
            "\n",
            "supposing that truth is a woman-- , y:  w\n",
            "x:  e\n",
            "\n",
            "\n",
            "supposing that truth is a woman--wha , y:  t\n",
            "x:  \n",
            "supposing that truth is a woman--what t , y:  h\n",
            "x:  pposing that truth is a woman--what then , y:  ?\n",
            "x:  sing that truth is a woman--what then? i , y:  s\n",
            "x:  g that truth is a woman--what then? is t , y:  h\n",
            "x:  hat truth is a woman--what then? is ther , y:  e\n",
            "x:   truth is a woman--what then? is there n , y:  o\n",
            "x:  uth is a woman--what then? is there not  , y:  g\n",
            "x:   is a woman--what then? is there not gro , y:  u\n"
          ],
          "name": "stdout"
        }
      ]
    },
    {
      "cell_type": "markdown",
      "metadata": {
        "id": "6O5sy7RWiJGj",
        "colab_type": "text"
      },
      "source": [
        "# One Hot Encode the characters \n",
        "- in $x^{(i)},  y^{(i)}$"
      ]
    },
    {
      "cell_type": "code",
      "metadata": {
        "id": "kzkczyaeh8k5",
        "colab_type": "code",
        "outputId": "a06e02ec-c790-47a3-d80c-2b4634c52f73",
        "colab": {
          "base_uri": "https://localhost:8080/",
          "height": 34
        }
      },
      "source": [
        "print('Vectorization...')\n",
        "x = np.zeros((len(sentences), maxlen, len(chars)), dtype=np.bool)\n",
        "y = np.zeros((len(sentences), len(chars)), dtype=np.bool)\n",
        "for i, sentence in enumerate(sentences):\n",
        "    for t, char in enumerate(sentence):\n",
        "        x[i, t, char_indices[char]] = 1\n",
        "    y[i, char_indices[next_chars[i]]] = 1\n",
        "\n",
        "\n"
      ],
      "execution_count": 6,
      "outputs": [
        {
          "output_type": "stream",
          "text": [
            "Vectorization...\n"
          ],
          "name": "stdout"
        }
      ]
    },
    {
      "cell_type": "markdown",
      "metadata": {
        "id": "co02Jvz6lQe0",
        "colab_type": "text"
      },
      "source": [
        "# Examine the input shape\n",
        "- $x^{(i)}_{(t),j}$ is found at  $x[ i, t, j ]$\n",
        "\n",
        "  - example i\n",
        "  - time step/sequence element t\n",
        "  - a sequence element is a vector, index at position j\n",
        "    - length of OHE (number of distinct characters)"
      ]
    },
    {
      "cell_type": "code",
      "metadata": {
        "id": "8yxV52HOlS_e",
        "colab_type": "code",
        "outputId": "c536d840-df8c-4314-aeff-4187edf4dcf6",
        "colab": {
          "base_uri": "https://localhost:8080/",
          "height": 85
        }
      },
      "source": [
        "print(\"X shape: \", x.shape)\n",
        "print(\"\\tNumber of examples: \", x.shape[0])\n",
        "print(\"\\tEach example is sequence of length \", x.shape[1])\n",
        "print(\"\\tEach element of the sequence is of length \", x.shape[2])"
      ],
      "execution_count": 7,
      "outputs": [
        {
          "output_type": "stream",
          "text": [
            "X shape:  (200285, 40, 57)\n",
            "\tNumber of examples:  200285\n",
            "\tEach example is sequence of length  40\n",
            "\tEach element of the sequence is of length  57\n"
          ],
          "name": "stdout"
        }
      ]
    },
    {
      "cell_type": "markdown",
      "metadata": {
        "id": "Ao6DVrY1iV5v",
        "colab_type": "text"
      },
      "source": [
        "# Utility routines\n",
        "\n",
        "The sample routine\n",
        "- takes the probability vector (one probability per potential next character)\n",
        "- uses it to randomly sample the next character to produce\n",
        "- `temperature`\n",
        "  - our model produces a probability from a score, using the softmax, as usual for Classifiers that we have studied\n",
        "  - softmax exagerates small differences in the score into larger differences in probability\n",
        "  - the `temperature` controls the degree of exageration\n",
        "- the routine recalculates the probability, using the desired temperature before sampling\n",
        "\n"
      ]
    },
    {
      "cell_type": "code",
      "metadata": {
        "id": "t0OzYFF8iYWJ",
        "colab_type": "code",
        "colab": {}
      },
      "source": [
        "def createModel():\n",
        "  model = Sequential()\n",
        "  model.add(LSTM(128, input_shape=(maxlen, len(chars))))\n",
        "  model.add(Dense(len(chars), activation='softmax'))\n",
        "\n",
        "  return model\n",
        "\n",
        "def plotModel(model, modelName):\n",
        "  plotFile = modelName + \".png\"\n",
        "  plot_model(model, plotFile, show_shapes=True)\n",
        "\n",
        "  return plotFile\n",
        "  \n",
        "def sample(preds, temperature=1.0):\n",
        "    # helper function to sample an index from a probability array\n",
        "    preds = np.asarray(preds).astype('float64')\n",
        "    preds = np.log(preds) / temperature\n",
        "    exp_preds = np.exp(preds)\n",
        "    preds = exp_preds / np.sum(exp_preds)\n",
        "    probas = np.random.multinomial(1, preds, 1)\n",
        "    return np.argmax(probas)\n",
        "\n",
        "\n",
        "def on_epoch_end(epoch, _):\n",
        "    # Function invoked at end of each epoch. Prints generated text.\n",
        "    print()\n",
        "    print('----- Generating text after Epoch: %d' % epoch)\n",
        "\n",
        "    start_index = random.randint(0, len(text) - maxlen - 1)\n",
        "    diversities = [0.2, 0.5, 1.0, 1.2]\n",
        "    for diversity in diversities[:2]:\n",
        "        # print('----- diversity:', diversity)\n",
        "\n",
        "        generated = ''\n",
        "        sentence = text[start_index: start_index + maxlen]\n",
        "        generated += sentence\n",
        "        print('\\n----- Generating with seed (diversity={d:3.2f}): \"{sent:s}\"\\n\\t'.format(d=diversity, sent=sentence) )\n",
        "        sys.stdout.write(generated)\n",
        "\n",
        "        for i in range(400):\n",
        "            x_pred = np.zeros((1, maxlen, len(chars)))\n",
        "            for t, char in enumerate(sentence):\n",
        "                x_pred[0, t, char_indices[char]] = 1.\n",
        "\n",
        "            preds = model.predict(x_pred, verbose=0)[0]\n",
        "            next_index = sample(preds, diversity)\n",
        "            next_char = indices_char[next_index]\n",
        "\n",
        "            sentence = sentence[1:] + next_char\n",
        "\n",
        "            sys.stdout.write(next_char)\n",
        "            sys.stdout.flush()\n",
        "        print()\n",
        "\n"
      ],
      "execution_count": 0,
      "outputs": []
    },
    {
      "cell_type": "code",
      "metadata": {
        "id": "LdA-rpuZgFJf",
        "colab_type": "code",
        "outputId": "ad299a3b-e491-4e93-8e06-a5fb38b76d54",
        "colab": {
          "base_uri": "https://localhost:8080/",
          "height": 329
        }
      },
      "source": [
        "# build the model: a single LSTM\n",
        "print('Build model...')\n",
        "model = createModel()\n",
        "\n",
        "optimizer = RMSprop(lr=0.01)\n",
        "model.compile(loss='categorical_crossentropy') #, optimizer=optimizer)\n",
        "\n",
        "plotFile = plotModel(model, \"first_model\")\n",
        "IPython.display.Image(plotFile) \n",
        "\n"
      ],
      "execution_count": 9,
      "outputs": [
        {
          "output_type": "stream",
          "text": [
            "Build model...\n"
          ],
          "name": "stdout"
        },
        {
          "output_type": "execute_result",
          "data": {
            "image/png": "[encoded data removed]",
            "text/plain": [
              "<IPython.core.display.Image object>"
            ]
          },
          "metadata": {
            "tags": []
          },
          "execution_count": 9
        }
      ]
    },
    {
      "cell_type": "markdown",
      "metadata": {
        "id": "HVmgE2nijpXc",
        "colab_type": "text"
      },
      "source": [
        "# Resume training from existing weights ?"
      ]
    },
    {
      "cell_type": "code",
      "metadata": {
        "id": "SQgyqPmoi_47",
        "colab_type": "code",
        "colab": {}
      },
      "source": [
        "modelFile = os.path.join(MODEL_DIR, \"lstm_text_gen-loss_1.2006.h5\") # None\n",
        "\n",
        "if modelFile is not None and os.path.exists(modelFile):\n",
        "  print(\"Initializing with weights from \", modelFile)\n",
        "  model.load_weights(modelFile)"
      ],
      "execution_count": 0,
      "outputs": []
    },
    {
      "cell_type": "code",
      "metadata": {
        "id": "jTjuOEXzi1ly",
        "colab_type": "code",
        "colab": {}
      },
      "source": [
        "print_callback = LambdaCallback(on_epoch_end=on_epoch_end)\n",
        "\n",
        "ckpt_filepath=os.path.join(MODEL_DIR, \"lstm_text_gen-loss_{loss:.4f}.h5\")\n",
        "checkpoint_callback = ModelCheckpoint(ckpt_filepath, monitor='loss', verbose=1, save_best_only=True, mode='min')\n",
        "\n"
      ],
      "execution_count": 0,
      "outputs": []
    },
    {
      "cell_type": "markdown",
      "metadata": {
        "id": "k2zfOK40jusN",
        "colab_type": "text"
      },
      "source": [
        "# Train"
      ]
    },
    {
      "cell_type": "code",
      "metadata": {
        "id": "0dqk9QXrgKCf",
        "colab_type": "code",
        "outputId": "390c11a3-e08d-4c05-d017-d1670570e333",
        "colab": {
          "base_uri": "https://localhost:8080/",
          "height": 1000
        }
      },
      "source": [
        "callbacks = [print_callback]\n",
        "if modelDirExists:\n",
        "  callbacks.append(checkpoint_callback)\n",
        "\n",
        "model.fit(x, y,\n",
        "          batch_size=128,\n",
        "          epochs=60,\n",
        "          callbacks=callbacks)"
      ],
      "execution_count": 0,
      "outputs": [
        {
          "output_type": "stream",
          "text": [
            "Epoch 1/60\n",
            "1559/1565 [============================>.] - ETA: 0s - loss: 2.5163\n",
            "----- Generating text after Epoch: 0\n",
            "\n",
            "----- Generating with seed (diversity=0.20): \"aps favour the growth of another and str\"\n",
            "\t\n",
            "aps favour the growth of another and strenge the the the the the the the the the the hat in the the the the presting the the the the prenge the the prespinge the the the the the the and and and the prenate the the the and the the the serenting of the the the the the the the the the the the mand and the the the the the the the in the the the the the the the ingerent on the serend the the the herere the here the preante the and and the se\n",
            "\n",
            "----- Generating with seed (diversity=0.50): \"aps favour the growth of another and str\"\n",
            "\t\n",
            "aps favour the growth of another and stre buthing the wire fired the berevey of the mingtous able frealid of ef and the hate the perenens to the a the with the sereres fat the there the the\n",
            "herere t eunt erelly the and the hathe in the wing hume thet of the the the the stered in the the with te the matle the heren) in the wally dulle inlt anle the is peresticouse the the the the that the ther of there the then caringith the precenting t\n",
            "\n",
            "Epoch 00001: loss improved from inf to 2.51525, saving model to /content/gdrive/My Drive/Colab Notebooks/NYU/Models/lstm_text_gen-loss_2.5153.h5\n",
            "1565/1565 [==============================] - 29s 19ms/step - loss: 2.5153\n",
            "Epoch 2/60\n",
            "1558/1565 [============================>.] - ETA: 0s - loss: 2.1321\n",
            "----- Generating text after Epoch: 1\n",
            "\n",
            "----- Generating with seed (diversity=0.20): \"s one has\n",
            "a personal interest in denounc\"\n",
            "\t\n",
            "s one has\n",
            "a personal interest in denouncertang and the fore of the whild as and the worle and is the tould and inderingerestion of the sulise and inselforestion and intereation of the will of the manderation of the sound and in the preastion the more and instingeration and and inselfered and the istingerand and and and inderingerand and the with the wore and itselfered and and in the wath of the experestion and inderingestion and the re\n",
            "\n",
            "----- Generating with seed (diversity=0.50): \"s one has\n",
            "a personal interest in denounc\"\n",
            "\t\n",
            "s one has\n",
            "a personal interest in denouncesting whill gricesowion of a the giones of the hiscerecting conserimation and mand as the conseranion, in the semingerstomenand as onesting the periste erceastion for nothercestand on the isterention and a sally the withersed\n",
            "at anderian in the sulial of vereraned it be whe he was enfuredenterstang the buther, a dereation as inselficion of the meoderaint and the gerestand and orenores, in the pre\n",
            "\n",
            "Epoch 00002: loss improved from 2.51525 to 2.13181, saving model to /content/gdrive/My Drive/Colab Notebooks/NYU/Models/lstm_text_gen-loss_2.1318.h5\n",
            "1565/1565 [==============================] - 29s 19ms/step - loss: 2.1318\n",
            "Epoch 3/60\n",
            "1557/1565 [============================>.] - ETA: 0s - loss: 1.9694\n",
            "----- Generating text after Epoch: 2\n",
            "\n",
            "----- Generating with seed (diversity=0.20): \"erb says,\n",
            "one remains a philosopher only\"\n",
            "\t\n",
            "erb says,\n",
            "one remains a philosopher only the persophess of the prost of the really the suphing the more the preated the sort the prost of the recores and the with the prost the with the sulf and the sull of the constion the prost of the reare the sume of the surt and the prost of the prost in the reare the every in the rectrent to the realing the prost of the prost of the conting the sulf the prost of the contertion and consting the pro\n",
            "\n",
            "----- Generating with seed (diversity=0.50): \"erb says,\n",
            "one remains a philosopher only\"\n",
            "\t\n",
            "erb says,\n",
            "one remains a philosopher only prost of the sighes and what been all that rearity. the wos grow and home has a tore the regel and man for has it belo not who lisk for all to the ray ligatiun of the revirity his bether and moter and the philosophicion and who has the consily to but which be of the corse men of to the rering of the preition of chissous of the will and conting and and porsent of the consing the prears of the rist\n",
            "\n",
            "Epoch 00003: loss improved from 2.13181 to 1.96917, saving model to /content/gdrive/My Drive/Colab Notebooks/NYU/Models/lstm_text_gen-loss_1.9692.h5\n",
            "1565/1565 [==============================] - 29s 18ms/step - loss: 1.9692\n",
            "Epoch 4/60\n",
            "1564/1565 [============================>.] - ETA: 0s - loss: 1.8604\n",
            "----- Generating text after Epoch: 3\n",
            "\n",
            "----- Generating with seed (diversity=0.20): \" spiritual fate, the unteachable in us, \"\n",
            "\t\n",
            " spiritual fate, the unteachable in us, the enting that the will and and the such a sting the consention of the strention and consention the sting the consention of the pistoun and and the sting the suppriest the conseration of the sting of the will the sting the the strention of the will the sting to the consent of the more the encoure the conceraling and the some to the consertion of the porsing and the sting the consention the every \n",
            "\n",
            "----- Generating with seed (diversity=0.50): \" spiritual fate, the unteachable in us, \"\n",
            "\t\n",
            " spiritual fate, the unteachable in us, and the pancion, the all the cants and and and which and a still to every, and the forle surfiling that and sumpented in the extonction and with an a ponderthing in the expention of the sthere the more not being the concence in the porse and man in the promon and and restire and belignt the love, and the pothing that the his not the herdermances,\n",
            "and is and in the suof a\n",
            "then the peristing over or\n",
            "\n",
            "Epoch 00004: loss improved from 1.96917 to 1.86044, saving model to /content/gdrive/My Drive/Colab Notebooks/NYU/Models/lstm_text_gen-loss_1.8604.h5\n",
            "1565/1565 [==============================] - 30s 19ms/step - loss: 1.8604\n",
            "Epoch 5/60\n",
            "1560/1565 [============================>.] - ETA: 0s - loss: 1.7778\n",
            "----- Generating text after Epoch: 4\n",
            "\n",
            "----- Generating with seed (diversity=0.20): \"elieve it\n",
            "of me: i have always thought v\"\n",
            "\t\n",
            "elieve it\n",
            "of me: i have always thought very and the prose of the postion of the self and the strented to the can of the proses of constions and the partion of the moral the some a strented in the person of the prosent the person the postion, the prosent the present the more and still the for the prosting the sting of the prosent the person of the precises and and constions to the world the word and the sense of the prosent the person th\n",
            "\n",
            "----- Generating with seed (diversity=0.50): \"elieve it\n",
            "of me: i have always thought v\"\n",
            "\t\n",
            "elieve it\n",
            "of me: i have always thought very be one the restomed to be pownose be a sure of riffle to and his fell with the intrations, and to a strentes of that he free prensical it us of constioned the stance of indichisting interting the reanders of the consting as a to be it wo ho ho are man it and in the person of the remery lofe one hample in the constions of a stime to the self man of the\n",
            "cancertion, the such pronsting from the po\n",
            "\n",
            "Epoch 00005: loss improved from 1.86044 to 1.77751, saving model to /content/gdrive/My Drive/Colab Notebooks/NYU/Models/lstm_text_gen-loss_1.7775.h5\n",
            "1565/1565 [==============================] - 29s 19ms/step - loss: 1.7775\n",
            "Epoch 6/60\n",
            "1559/1565 [============================>.] - ETA: 0s - loss: 1.7119\n",
            "----- Generating text after Epoch: 5\n",
            "\n",
            "----- Generating with seed (diversity=0.20): \"ce of the christian movement. that its t\"\n",
            "\t\n",
            "ce of the christian movement. that its the such a scoul for the such a such a some and its all the such a strong the such a strong and such as the streatises and a whole a religion of the suppicial of the strenges of the constion of the such as the subtion of the such a strong of the consention of the such a strong the consention of the sain as the such a strong to the conserations of the will to as the such a strong and a something and\n",
            "\n",
            "----- Generating with seed (diversity=0.50): \"ce of the christian movement. that its t\"\n",
            "\t\n",
            "ce of the christian movement. that its the some approves that is as a philosopher of the unoures and the fach a simple, and regard to a properation of the greacts spiritusions of the constious sumpinity of the lave there is not in deen to be the ortirnuned, and have one the science man may fain the wire to be a scoully in restimation and his saifience which has exped the regliom not of\n",
            "man in which the would and it was lide a fine the f\n",
            "\n",
            "Epoch 00006: loss improved from 1.77751 to 1.71215, saving model to /content/gdrive/My Drive/Colab Notebooks/NYU/Models/lstm_text_gen-loss_1.7122.h5\n",
            "1565/1565 [==============================] - 29s 19ms/step - loss: 1.7122\n",
            "Epoch 7/60\n",
            "1565/1565 [==============================] - ETA: 0s - loss: 1.6596\n",
            "----- Generating text after Epoch: 6\n",
            "\n",
            "----- Generating with seed (diversity=0.20): \" the law of the weaker.=--whenever any p\"\n",
            "\t\n",
            " the law of the weaker.=--whenever any propery the some morality of the self-consitions and all the strenges and subjection of the strenges of the stronger of the self-cancess of the self-consitions and self--in the strenger of the strenger of the supersion of the self-consitions and and and and something the self-consition of the most and all the strangions and in the self-mantion of the stronger of the despression of the strenge of th\n",
            "\n",
            "----- Generating with seed (diversity=0.50): \" the law of the weaker.=--whenever any p\"\n",
            "\t\n",
            " the law of the weaker.=--whenever any presers of the can it be no\n",
            "dow free the discine, on inferent and one in the prosentical process. the suppossion of the strung can in for his of indersthing the sturity and were of the deligional with the same and conscience of the strengly of the standing to the appositting and sincifulten man and also in the pissont of of will and present the comprect of the world to the same the world\"--what is \n",
            "\n",
            "Epoch 00007: loss improved from 1.71215 to 1.65956, saving model to /content/gdrive/My Drive/Colab Notebooks/NYU/Models/lstm_text_gen-loss_1.6596.h5\n",
            "1565/1565 [==============================] - 29s 19ms/step - loss: 1.6596\n",
            "Epoch 8/60\n",
            "1560/1565 [============================>.] - ETA: 0s - loss: 1.6155\n",
            "----- Generating text after Epoch: 7\n",
            "\n",
            "----- Generating with seed (diversity=0.20): \"ithout in the least vitiating,\n",
            "with its \"\n",
            "\t\n",
            "ithout in the least vitiating,\n",
            "with its and the strange of the prosing and interpretion of the cance of the constion of the prosent of the proponsition of the self-concernes of the prosing of the self-ensirity of the moral of the consident of the constince of the same and consequently and the conscience of the sould of the pristration of the great spirit of the same a strong to the propersion of the constince of the constion of the pros\n",
            "\n",
            "----- Generating with seed (diversity=0.50): \"ithout in the least vitiating,\n",
            "with its \"\n",
            "\t\n",
            "ithout in the least vitiating,\n",
            "with its such a string dispossition of the prosing of the sersor of religious. the delight of the presention and constion as the can of the gistrous intertance of the desirtul which the canstion the ressince of the good of the privility of the doust the constince, the existeacting in the questions of experience to the to do more soult that the constinity of a new\"dectian of does to so good that the word ha\n",
            "\n",
            "Epoch 00008: loss improved from 1.65956 to 1.61534, saving model to /content/gdrive/My Drive/Colab Notebooks/NYU/Models/lstm_text_gen-loss_1.6153.h5\n",
            "1565/1565 [==============================] - 29s 19ms/step - loss: 1.6153\n",
            "Epoch 9/60\n",
            "1563/1565 [============================>.] - ETA: 0s - loss: 1.5775\n",
            "----- Generating text after Epoch: 8\n",
            "\n",
            "----- Generating with seed (diversity=0.20): \"ensations had been\n",
            "gone through a hundre\"\n",
            "\t\n",
            "ensations had been\n",
            "gone through a hundreding and the same as a fould the self-distrusion of the instinction of the self one the one in the sense of the such a such a such a such a stand of the consention of the self-consestion of the self-conditions is the self-constion of the self-consition of the self-constion of the sense of the conscience of the same a consention of the self and the some and individual of the such propored that the \n",
            "\n",
            "----- Generating with seed (diversity=0.50): \"ensations had been\n",
            "gone through a hundre\"\n",
            "\t\n",
            "ensations had been\n",
            "gone through a hundredain of genarion, and all the standing of the still. which man by the\n",
            "strangion of virwout of\n",
            "the encepting in the world in the consequences as latter is the can parting and the sense of the extentes to the contraintic like and the same the restous of madier that is order the such an any a delecaper of the religions and of the self-contrinary of sentiminal has its\n",
            "prociser the standing of the afte\n",
            "\n",
            "Epoch 00009: loss improved from 1.61534 to 1.57750, saving model to /content/gdrive/My Drive/Colab Notebooks/NYU/Models/lstm_text_gen-loss_1.5775.h5\n",
            "1565/1565 [==============================] - 29s 19ms/step - loss: 1.5775\n",
            "Epoch 10/60\n",
            "1559/1565 [============================>.] - ETA: 0s - loss: 1.5456\n",
            "----- Generating text after Epoch: 9\n",
            "\n",
            "----- Generating with seed (diversity=0.20): \"thing that\n",
            "is in the end solemnly christ\"\n",
            "\t\n",
            "thing that\n",
            "is in the end solemnly christian the present of the conscience of the consideration of the problem of the consting in the consideration of the constraint in the master of the free of the strange of the conscience of the same a stronge of man as a such a strong in the strange of the contrary the constinct of a man and stand of the constitution of the contrary of the constinction of the master of the present and conception of t\n",
            "\n",
            "----- Generating with seed (diversity=0.50): \"thing that\n",
            "is in the end solemnly christ\"\n",
            "\t\n",
            "thing that\n",
            "is in the end solemnly christian of a man confulation to can a grate and its love in his to the old and that in this pronection of a can no looks it by a promong the art and a present of the regard to the religion of the lighter in the subtrest of anteration. the creation of the prichteres and experience of which and we are simply the case of and consention when even the higher one an every and pleasure of the will as a finde\n",
            "\n",
            "Epoch 00010: loss improved from 1.57750 to 1.54509, saving model to /content/gdrive/My Drive/Colab Notebooks/NYU/Models/lstm_text_gen-loss_1.5451.h5\n",
            "1565/1565 [==============================] - 29s 19ms/step - loss: 1.5451\n",
            "Epoch 11/60\n",
            "1556/1565 [============================>.] - ETA: 0s - loss: 1.5164\n",
            "----- Generating text after Epoch: 10\n",
            "\n",
            "----- Generating with seed (diversity=0.20): \"here is an oriental exaltation of the\n",
            "mi\"\n",
            "\t\n",
            "here is an oriental exaltation of the\n",
            "mistrous of the strange of the self-constitual to the self--the same as the self--the strange of the self--the strange of the self--the superfuling of the stull with the stands of the subelity of the strange of the subjection of the strange of the strange of a still in the self-conscience of the self--the promprate of the self--the standing of the self-cances of the self-distrestion of the self-cons\n",
            "\n",
            "----- Generating with seed (diversity=0.50): \"here is an oriental exaltation of the\n",
            "mi\"\n",
            "\t\n",
            "here is an oriental exaltation of the\n",
            "mirdulfornssical instinct of all the \"deep of of the same means to the hasting of the belief in the species of to the seem that it is to seem to the more and and self-consequention, the most is the some a sure--in a light wither the stunding self-cance to german the standards the belief the strangific of the strangs of truth in the strange of a standing and of the pleasure of itself still to my pain\n",
            "\n",
            "Epoch 00011: loss improved from 1.54509 to 1.51687, saving model to /content/gdrive/My Drive/Colab Notebooks/NYU/Models/lstm_text_gen-loss_1.5169.h5\n",
            "1565/1565 [==============================] - 29s 19ms/step - loss: 1.5169\n",
            "Epoch 12/60\n",
            "1563/1565 [============================>.] - ETA: 0s - loss: 1.4918\n",
            "----- Generating text after Epoch: 11\n",
            "\n",
            "----- Generating with seed (diversity=0.20): \"hest and greatest and\n",
            "richest, and putti\"\n",
            "\t\n",
            "hest and greatest and\n",
            "richest, and putting is a some discented in the most of the conscience of the self-can for the considerations and desires the world in the light the one is not all the same as the one who have been for the consideration of the world and desires of the world, and also the consitional and morality of the world of the most of the consideration of the world of the constitutions of the consequences and the same as the s\n",
            "\n",
            "----- Generating with seed (diversity=0.50): \"hest and greatest and\n",
            "richest, and putti\"\n",
            "\t\n",
            "hest and greatest and\n",
            "richest, and putting stard dis for the consequences and desprated, and the higher of the present and antiging one and stape af a bears for the most strange of man be over the supertion\" and it as a such distraited in must also and been displession that the interponations, and we live which has it is a philosophy be of which the freek the world be on acts the other souls.\n",
            "\n",
            "\n",
            "wais not into that the fundamental\n",
            "yeads o\n",
            "\n",
            "Epoch 00012: loss improved from 1.51687 to 1.49186, saving model to /content/gdrive/My Drive/Colab Notebooks/NYU/Models/lstm_text_gen-loss_1.4919.h5\n",
            "1565/1565 [==============================] - 29s 19ms/step - loss: 1.4919\n",
            "Epoch 13/60\n",
            "1563/1565 [============================>.] - ETA: 0s - loss: 1.4687\n",
            "----- Generating text after Epoch: 12\n",
            "\n",
            "----- Generating with seed (diversity=0.20): \"s to do\n",
            "with much that is secret, new, s\"\n",
            "\t\n",
            "s to do\n",
            "with much that is secret, new, such a such a such a strong himself and the seems to the present and all the little of the self-constitution of the self-constitutist is the fact that the moral of the present in the moral of the present and consideration of the present of the self-constitution of the present in the prospression of a the same the herding the world and the world of the self-contraint in the present of the present of\n",
            "\n",
            "----- Generating with seed (diversity=0.50): \"s to do\n",
            "with much that is secret, new, s\"\n",
            "\t\n",
            "s to do\n",
            "with much that is secret, new, so that it weared individual to all the\n",
            "sperious will depressiance the whole always spirit with the one has lite a problem that it is all the history of its consideration of its and developter and all the world and the inither is allost and is also and in comparion of the considitions of the herver of the presenting and prodentive of the fundamental intropaning man who how seems\n",
            "to the world, that \n",
            "\n",
            "Epoch 00013: loss improved from 1.49186 to 1.46856, saving model to /content/gdrive/My Drive/Colab Notebooks/NYU/Models/lstm_text_gen-loss_1.4686.h5\n",
            "1565/1565 [==============================] - 29s 19ms/step - loss: 1.4686\n",
            "Epoch 14/60\n",
            "1557/1565 [============================>.] - ETA: 0s - loss: 1.4477\n",
            "----- Generating text after Epoch: 13\n",
            "\n",
            "----- Generating with seed (diversity=0.20): \"ng of man into a pigmy with equal rights\"\n",
            "\t\n",
            "ng of man into a pigmy with equal rights of the same as the same to all the same are the self-conception of the souls of the stronges of the strong in the souls of the present of the superioration of the subjection of the stronger of the stronges of the stronges of the stronges of the stronges of the same at and the stronges of the stronger of the same to present in the self-cannot is the same and the standing of the present of the same\n",
            "\n",
            "----- Generating with seed (diversity=0.50): \"ng of man into a pigmy with equal rights\"\n",
            "\t\n",
            "ng of man into a pigmy with equal rights in the mark of the some of the truth as the respect of its preasure, and what is the most degres, in the \"with more to as understond of a man of the mankind. it is something lise of the light of the subject and strange of the prante, which we free the presite of the standary and way the scholong the standaring of the same \"interption.\" it is the strong of the presentice, of the common and every p\n",
            "\n",
            "Epoch 00014: loss improved from 1.46856 to 1.44818, saving model to /content/gdrive/My Drive/Colab Notebooks/NYU/Models/lstm_text_gen-loss_1.4482.h5\n",
            "1565/1565 [==============================] - 30s 19ms/step - loss: 1.4482\n",
            "Epoch 15/60\n",
            "1564/1565 [============================>.] - ETA: 0s - loss: 1.4284\n",
            "----- Generating text after Epoch: 14\n",
            "\n",
            "----- Generating with seed (diversity=0.20): \"us consequences, fruitful and fearful at\"\n",
            "\t\n",
            "us consequences, fruitful and fearful attempt of the subjection of the self-constratity of the self-constitution of the same the person of the self-constraint in the self-constraint of the self-constraint of the self-constration of the same to be a man have always something in the self-constraint of the self-constraint of the same the most of the self-conception of the presenting of the same man who have all the same the world of the se\n",
            "\n",
            "----- Generating with seed (diversity=0.50): \"us consequences, fruitful and fearful at\"\n",
            "\t\n",
            "us consequences, fruitful and fearful attempts of the exceptionion of the same to greating of the person of the soul to such an also be and internors, the respent to the person of the precisest of the strength of the hown-what has been dowing, and so masters and subsent, the constraint evil wherefore the certain comprehention of the soul of all the soul have proved now the seen un the precisely of the case hitherto has its any resendent\n",
            "\n",
            "Epoch 00015: loss improved from 1.44818 to 1.42822, saving model to /content/gdrive/My Drive/Colab Notebooks/NYU/Models/lstm_text_gen-loss_1.4282.h5\n",
            "1565/1565 [==============================] - 29s 19ms/step - loss: 1.4282\n",
            "Epoch 16/60\n",
            "1565/1565 [==============================] - ETA: 0s - loss: 1.4107\n",
            "----- Generating text after Epoch: 15\n",
            "\n",
            "----- Generating with seed (diversity=0.20): \"hat there is\n",
            "a hatred of the virgin fore\"\n",
            "\t\n",
            "hat there is\n",
            "a hatred of the virgin fore of the self-constraint of the self-conception of the soul of the self-contrality of the self-contrality of the sense of all the strength of the same to all the standards of the subjection of the self-distrest of the soul of the secret in the same mistrality of the self-contemption of the strength of the present of the self-contrality of the society the strength, in the sense of all the stronges o\n",
            "\n",
            "----- Generating with seed (diversity=0.50): \"hat there is\n",
            "a hatred of the virgin fore\"\n",
            "\t\n",
            "hat there is\n",
            "a hatred of the virgin fore is the so that and the scholer of all the free spirit of all the individuals of the sigress of man indeed, the extention of the subject of all the world of the same deceives which the contrary, that the world in order and morality, that it so dangerous as a master of the self-such and the feeling of the other with the strength of may lite read and contral considerations of the serious of which th\n",
            "\n",
            "Epoch 00016: loss improved from 1.42822 to 1.41073, saving model to /content/gdrive/My Drive/Colab Notebooks/NYU/Models/lstm_text_gen-loss_1.4107.h5\n",
            "1565/1565 [==============================] - 30s 19ms/step - loss: 1.4107\n",
            "Epoch 17/60\n",
            "1564/1565 [============================>.] - ETA: 0s - loss: 1.3947\n",
            "----- Generating text after Epoch: 16\n",
            "\n",
            "----- Generating with seed (diversity=0.20): \",\n",
            "punishments and every kind of indicati\"\n",
            "\t\n",
            ",\n",
            "punishments and every kind of indication and all the same privisent of the proporation of the problem of the spirit and the present in the moral of the procession of the soul of the spirit of all the spirit of the same moral of the such a man have the spentitions of the spirit of the proporation of the subjection of the world of the spett of all the such a their philosophers that it is the spetting the religious and the spirit of the \n",
            "\n",
            "----- Generating with seed (diversity=0.50): \",\n",
            "punishments and every kind of indicati\"\n",
            "\t\n",
            ",\n",
            "punishments and every kind of indication and\n",
            "enterthing of the bast such a play the same posisitism of the self-conscience, has a religious distance the discovered in the probarus of the soul of all the morily sensition, than the same the whole in the speicious prichism that is becomes to extent the spirit and before the persons of the entight of distrustly and the self-concemsion of the same regard to the power of \"proporditious\" of \n",
            "\n",
            "Epoch 00017: loss improved from 1.41073 to 1.39485, saving model to /content/gdrive/My Drive/Colab Notebooks/NYU/Models/lstm_text_gen-loss_1.3949.h5\n",
            "1565/1565 [==============================] - 29s 19ms/step - loss: 1.3949\n",
            "Epoch 18/60\n",
            "1559/1565 [============================>.] - ETA: 0s - loss: 1.3803\n",
            "----- Generating text after Epoch: 17\n",
            "\n",
            "----- Generating with seed (diversity=0.20): \"is\n",
            "world and the next world, where in th\"\n",
            "\t\n",
            "is\n",
            "world and the next world, where in the same men of the strength of the process of the present of the procession of the self-constitution of the self-constitutism of the present state of the world of the strength of the propers of the present of the process of the self-constitution of the more of the propers and present the the stronges of a man as a religious experience of the self-constration of the individual the moral of the prese\n",
            "\n",
            "----- Generating with seed (diversity=0.50): \"is\n",
            "world and the next world, where in th\"\n",
            "\t\n",
            "is\n",
            "world and the next world, where in the stand its own what is the higher of the moralists and approped to be the world and its exceptional easis, and historther even the nerm still would be far as a philosopher, and like the belief on the man who has it is not concert in the considerion of the serve of the assurious and its evily the persons of the light the great spiritual conscience of the powerful of all these can german the much o\n",
            "\n",
            "Epoch 00018: loss improved from 1.39485 to 1.38015, saving model to /content/gdrive/My Drive/Colab Notebooks/NYU/Models/lstm_text_gen-loss_1.3801.h5\n",
            "1565/1565 [==============================] - 30s 19ms/step - loss: 1.3801\n",
            "Epoch 19/60\n",
            "1559/1565 [============================>.] - ETA: 0s - loss: 1.3655\n",
            "----- Generating text after Epoch: 18\n",
            "\n",
            "----- Generating with seed (diversity=0.20): \" only a\n",
            "nostrum,--that what is fair to o\"\n",
            "\t\n",
            " only a\n",
            "nostrum,--that what is fair to one may be a man has been sense of the self-conception of the same man as the propers in the sense of the self-constitution of the strength, which is the literaring the problem of the self-constitutism of the problem of the conscience, the constitution of the subjection of the sublimation of the same time the constraint in the problem of the constitution of the problem of the propers in the problem\n",
            "\n",
            "----- Generating with seed (diversity=0.50): \" only a\n",
            "nostrum,--that what is fair to o\"\n",
            "\t\n",
            " only a\n",
            "nostrum,--that what is fair to order to the taste is nature for all whose can be more such as so that it is only their problem of the\n",
            "soul has not to power for the expression and have only the truth, is always and appreciate the propers to the extent of him of the consequent of something the pliom of the prestrion in the self-decesting, as the laught the word hands which is a master of his sense and possible of an experition of \n",
            "\n",
            "Epoch 00019: loss improved from 1.38015 to 1.36585, saving model to /content/gdrive/My Drive/Colab Notebooks/NYU/Models/lstm_text_gen-loss_1.3659.h5\n",
            "1565/1565 [==============================] - 29s 19ms/step - loss: 1.3659\n",
            "Epoch 20/60\n",
            "1564/1565 [============================>.] - ETA: 0s - loss: 1.3522\n",
            "----- Generating text after Epoch: 19\n",
            "\n",
            "----- Generating with seed (diversity=0.20): \"t this already happened? have\n",
            "not we our\"\n",
            "\t\n",
            "t this already happened? have\n",
            "not we our for the standing of the same trangs of the same pression of the self-deet of the present in the most spirit of the stronger of the serve sensitive and self-decesting the self-deverence of the self-decesting the prosent of the self-decesting of a stronger of the present in the world of all the self-decesting of the soul of the self-decelting of the same pression of the self-plaining of the self-de\n",
            "\n",
            "----- Generating with seed (diversity=0.50): \"t this already happened? have\n",
            "not we our\"\n",
            "\t\n",
            "t this already happened? have\n",
            "not we our shame of such a god in commaning a such a fact to the case with the sublimen in the probituaning of all and also mask of a very common in the soul of a light the pride and interpretence of plance, which is not to general conceptions of the most standing of a fact that the most saymen. it is to say a thing he resple a rifrish only the world of religion of the world and the most depect and say alwa\n",
            "\n",
            "Epoch 00020: loss improved from 1.36585 to 1.35225, saving model to /content/gdrive/My Drive/Colab Notebooks/NYU/Models/lstm_text_gen-loss_1.3522.h5\n",
            "1565/1565 [==============================] - 29s 19ms/step - loss: 1.3522\n",
            "Epoch 21/60\n",
            "1565/1565 [==============================] - ETA: 0s - loss: 1.3404\n",
            "----- Generating text after Epoch: 20\n",
            "\n",
            "----- Generating with seed (diversity=0.20): \"y\n",
            "incalculable quantity of intellectual \"\n",
            "\t\n",
            "y\n",
            "incalculable quantity of intellectual to the self-deception of the subjection of the conscience and conscience in the self-constitution of the subjection of the subtlety of the standard of the subtle, that is always being the standing man is the standard of the subjection of the consideration of the conscience which is allow the delight in the sense of the delight the contradical conscience of the problem of the conscience in the stan\n",
            "\n",
            "----- Generating with seed (diversity=0.50): \"y\n",
            "incalculable quantity of intellectual \"\n",
            "\t\n",
            "y\n",
            "incalculable quantity of intellectual to an inferced manifestous of virition of the world be the individualing concerning to the commanding experience and consideration of the sense of as the saint matter, simply that is the reading and extentive conficued so this and the powerful of all the spirit and extentary in the other soul strange in the self-dentinges of the self-contrums. and the contries\n",
            "in the bust of the some his own belon\n",
            "\n",
            "Epoch 00021: loss improved from 1.35225 to 1.34038, saving model to /content/gdrive/My Drive/Colab Notebooks/NYU/Models/lstm_text_gen-loss_1.3404.h5\n",
            "1565/1565 [==============================] - 30s 19ms/step - loss: 1.3404\n",
            "Epoch 22/60\n",
            "1563/1565 [============================>.] - ETA: 0s - loss: 1.3278\n",
            "----- Generating text after Epoch: 21\n",
            "\n",
            "----- Generating with seed (diversity=0.20): \"r \"experience.\"--artists have here perha\"\n",
            "\t\n",
            "r \"experience.\"--artists have here perhaps her his cannot man, as a retarned the belief and the present is the world in the same things and the strength, the same man for general that it is the most delicate of the morality of the self-destrivional and the sense of the self-denting of the most deare the themselves and the same man there are not the most seemity in the self-denting of the presenting of the self-destricion of the self-den\n",
            "\n",
            "----- Generating with seed (diversity=0.50): \"r \"experience.\"--artists have here perha\"\n",
            "\t\n",
            "r \"experience.\"--artists have here perhaps the worth of every processian even upon the fact that it is the former power, and an ad\n",
            "in the soul, would be free spirit but for the them. this should be present is a man from a presertion of the present\n",
            "withing, and the most refined and distrest at the same not be supportinity, of the servent intention, and such as imperfected to soul, when the themselves and almost the\n",
            "moral is the too inder\n",
            "\n",
            "Epoch 00022: loss improved from 1.34038 to 1.32795, saving model to /content/gdrive/My Drive/Colab Notebooks/NYU/Models/lstm_text_gen-loss_1.3280.h5\n",
            "1565/1565 [==============================] - 29s 19ms/step - loss: 1.3280\n",
            "Epoch 23/60\n",
            "1565/1565 [==============================] - ETA: 0s - loss: 1.3170\n",
            "----- Generating text after Epoch: 22\n",
            "\n",
            "----- Generating with seed (diversity=0.20): \"re is any pleasure in administering pain\"\n",
            "\t\n",
            "re is any pleasure in administering painful really souls in the more understood and the sense of the sense of the sense of the sense of the self-develops and more power of the strength of the same as the sense of the sense of the sense of the sense of the sense of the sense of the sense of the stand of the self-develops and prace of the strength in the sense of the self-development of the self-distrest and stronger of the sense of the s\n",
            "\n",
            "----- Generating with seed (diversity=0.50): \"re is any pleasure in administering pain\"\n",
            "\t\n",
            "re is any pleasure in administering painful becomes that and has its whee perhaps a plate there is the lass ma"
          ],
          "name": "stdout"
        }
      ]
    }
  ]
}