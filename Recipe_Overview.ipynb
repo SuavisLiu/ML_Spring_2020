{
 "cells": [
  {
   "cell_type": "code",
   "execution_count": 1,
   "metadata": {
    "slideshow": {
     "slide_type": "notes"
    }
   },
   "outputs": [
    {
     "data": {
      "text/latex": [
       "$$\n",
       "\\newcommand{\\x}{\\mathbf{x}}\n",
       "\\newcommand{\\tx}{\\tilde{\\x}}\n",
       "\\newcommand{\\y}{\\mathbf{y}}\n",
       "\\newcommand{\\b}{\\mathbf{b}}\n",
       "\\newcommand{\\c}{\\mathbf{c}}\n",
       "\\newcommand{\\e}{\\mathbf{e}}\n",
       "\\newcommand{\\z}{\\mathbf{z}}\n",
       "\\newcommand{\\h}{\\mathbf{h}}\n",
       "\\newcommand{\\w}{\\mathbf{w}}\n",
       "\\newcommand{\\W}{\\mathbf{W}}\n",
       "\\newcommand{\\X}{\\mathbf{X}}\n",
       "\\newcommand{\\KL}{\\mathbf{KL}}\n",
       "\\newcommand{\\E}{{\\mathbb{E}}}\n",
       "\\newcommand{\\ip}{\\mathbf{{(i)}}}\n",
       "% \\ll indexes a layer; we can change the actual letter\n",
       "\\newcommand{\\ll}{l}\n",
       "\\newcommand{\\llp}{{(\\ll)}}\n",
       "%\n",
       "% \\tt indexes a time step\n",
       "\\newcommand{\\tt}{t}\n",
       "\\newcommand{\\tp}{{(\\tt)}}\n",
       "%\n",
       "\\newcommand{\\loss}{\\mathcal{L}}\n",
       "\\newcommand{\\cost}{\\mathcal{L}}\n",
       "%\n",
       "%                     \n",
       "\\newcommand{\\pdata}{p_\\text{data}}\n",
       "\\newcommand{\\pmodel}{p_\\text{model}}\n",
       "%\n",
       "% Functions with arguments\n",
       "\\def\\xsy#1#2{#1^#2}\n",
       "\\def\\rand#1{\\tilde{#1}}\n",
       "\\def\\randx{\\rand{\\x}}\n",
       "\\def\\randy{\\rand{\\y}}\n",
       "%\n",
       "\\def\\argmax#1{\\underset{#1} {\\operatorname{argmax}} }\n",
       "\\def\\argmin#1{\\underset{#1} {\\operatorname{argmin}} }\n",
       "\\def\\max#1{\\underset{#1} {\\operatorname{max}} }\n",
       "\\def\\min#1{\\underset{#1} {\\operatorname{min}} }\n",
       "%\n",
       "\\def\\pr#1{\\mathcal{p}(#1)}\n",
       "\\def\\cnt#1{\\mathcal{count}_{#1}}\n",
       "\\def\\node#1{\\mathbb{#1}}\n",
       "%\n",
       "\\newcommand{\\floor}[1]{\\left\\lfloor #1 \\right\\rfloor}\n",
       "\\newcommand{\\ceil}[1]{\\left\\lceil #1 \\right\\rceil}\n",
       "%\n",
       "\n",
       "$$\n"
      ],
      "text/plain": [
       "<IPython.core.display.Latex object>"
      ]
     },
     "metadata": {},
     "output_type": "display_data"
    },
    {
     "name": "stdout",
     "output_type": "stream",
     "text": [
      "Macro `_latex_std_` created. To execute, type its name (without quotes).\n",
      "=== Macro contents: ===\n",
      "get_ipython().run_line_magic('run', 'Latex_macros.ipynb')\n",
      " "
     ]
    }
   ],
   "source": [
    "%run Latex_macros.ipynb"
   ]
  },
  {
   "cell_type": "markdown",
   "metadata": {
    "slideshow": {
     "slide_type": "slide"
    }
   },
   "source": [
    "# What is the \"Recipe\" for Machine Learning\n",
    "\n",
    "We will define a methodical approach to solve problems using Machine Learning.\n",
    "\n",
    "This is the *Recipe for Machine Learning*"
   ]
  },
  {
   "cell_type": "markdown",
   "metadata": {
    "slideshow": {
     "slide_type": "subslide"
    }
   },
   "source": [
    "<table>\n",
    "    <tr>\n",
    "        <th><center>Recipe for Machine Learning</center></th>\n",
    "    </tr>\n",
    "    <tr>\n",
    "        <td><img src=\"images/ML_process.jpg\" width=800></td>\n",
    "    </tr>\n",
    "</table>\n",
    "​"
   ]
  },
  {
   "cell_type": "markdown",
   "metadata": {
    "slideshow": {
     "slide_type": "subslide"
    }
   },
   "source": [
    "There are no short-cuts !\n",
    "\n",
    "Each step in the Recipe  both prepares you for the next and, crucially, gives you *deeper insight*\n",
    "which improves the result."
   ]
  },
  {
   "cell_type": "markdown",
   "metadata": {
    "slideshow": {
     "slide_type": "slide"
    }
   },
   "source": [
    "# Get the data\n",
    "\n",
    "The first step is obtaining data for training and evaluation.\n",
    "\n",
    "This is often the most challenging part !\n",
    "- Interesting data is scattered: requires collection\n",
    "- Supervised Learning requires labelled data; where do the labels come from ?\n",
    "\n",
    "In this course, we will usually provide you with data so you will be mostly insulated from this challenge.\n",
    "- Learning how to obtain data is a good skill to learn\n",
    "    - Web scraping"
   ]
  },
  {
   "cell_type": "markdown",
   "metadata": {
    "slideshow": {
     "slide_type": "slide"
    }
   },
   "source": [
    "Let's visit the notebook section [Get the Data](Recipe_for_ML.ipynb#Recipe-step-A:-Get-the-data)"
   ]
  },
  {
   "cell_type": "markdown",
   "metadata": {
    "slideshow": {
     "slide_type": "subslide"
    }
   },
   "source": [
    "## Look at the data\n",
    "\n",
    "Always put your eyes on the data !\n",
    "- You will learn about its \"shape\":\n",
    "    - tabular ?  \n",
    "    - What are the attribute names ?\n",
    "    - What are the types of the attributes ? Numeric ? Text ?\n",
    "- You will learn about potential data problems\n",
    "    - missing data\n",
    "    - strange values\n",
    "    \n",
    "Don't even try to do anything with your data until you have at least the most basic understanding by\n",
    "performing an inspection."
   ]
  },
  {
   "cell_type": "markdown",
   "metadata": {
    "slideshow": {
     "slide_type": "subslide"
    }
   },
   "source": [
    "Let's visit the notebook and [Look at the data](Recipe_for_ML.ipynb#Recipe-A.2:-Have-a-look-at-the-data_"
   ]
  },
  {
   "cell_type": "markdown",
   "metadata": {
    "slideshow": {
     "slide_type": "subslide"
    }
   },
   "source": [
    "## Define a Performance Measure\n",
    "\n",
    "How do I know how well my predictions are ? How do I know when to stop modelling and training ?\n",
    "\n",
    "We answer these questions by defining a *Performance Measure* that quantifies how well your model is performing.\n"
   ]
  },
  {
   "cell_type": "markdown",
   "metadata": {
    "slideshow": {
     "slide_type": "subslide"
    }
   },
   "source": [
    "Let's visit the notebook and [Define a Performance Measure](Recipe_for_ML.ipynb#select_performance_measure)\n"
   ]
  },
  {
   "cell_type": "markdown",
   "metadata": {
    "slideshow": {
     "slide_type": "subslide"
    }
   },
   "source": [
    "### Performance Measure versus Loss Function\n",
    "\n",
    "There may some confusion between the Performance Measure and Loss functions\n",
    "- they are both evaluated over a set of examples\n",
    "- they both measure performance of some sort\n"
   ]
  },
  {
   "cell_type": "markdown",
   "metadata": {
    "slideshow": {
     "slide_type": "subslide"
    }
   },
   "source": [
    "- A Performance Measure\n",
    "    - is a property of the *problem* (not the model used to solve the problem)\n",
    "    - you may have more than one Performance Measure\n",
    "        - each expressing some desired quality of the prediction\n",
    "    - is evaluated *out of sample*, that is, on non-training examples"
   ]
  },
  {
   "cell_type": "markdown",
   "metadata": {
    "slideshow": {
     "slide_type": "subslide"
    }
   },
   "source": [
    "- The Loss Function\n",
    "    - is a property of a *model*: it guides a particular model's search for the best $\\Theta$\n",
    "        - different models may have different Loss Functions\n",
    "            - but the *problem's* Performance Metric is the same\n",
    "    - is evaluated *in sample*, that is, on training data"
   ]
  },
  {
   "cell_type": "markdown",
   "metadata": {
    "slideshow": {
     "slide_type": "slide"
    }
   },
   "source": [
    "# Exploratory Data Analysis\n",
    "\n",
    "This is one of the key steps of a good Data Scientist.\n",
    "\n",
    "Besides \"seeing\" the data, we need to hear it: what is it telling us that may aid prediction\n",
    "\n",
    "- any problems with the data that would inhibit learning ?\n",
    "- any apparant relationship between target and a single feature ?\n",
    "- any apparant relationship between target and combinations of features ?\n",
    "- any apparant relationship between features ?\n",
    "- what are the relative magnitudes of features ?"
   ]
  },
  {
   "cell_type": "markdown",
   "metadata": {
    "slideshow": {
     "slide_type": "subslide"
    }
   },
   "source": [
    "Often,  understanding the data intimately can lead to\n",
    "- transformations of the features that will aid prediction\n",
    "- improved models"
   ]
  },
  {
   "cell_type": "markdown",
   "metadata": {
    "slideshow": {
     "slide_type": "subslide"
    }
   },
   "source": [
    "Let's visit the notebook and perform [Exploratory Data Analysis](Recipe_for_ML.ipynb#Recipe-Step-B:-Exploratory-Data-Analysis-(EDA))"
   ]
  },
  {
   "cell_type": "markdown",
   "metadata": {
    "slideshow": {
     "slide_type": "slide"
    }
   },
   "source": [
    "# Prepare the data\n",
    "\n",
    "It is not always the case that the data in \"raw\" form is adequate for modelling\n",
    "- Cleanliness\n",
    "    - dealing with missing data or anamolous values\n",
    "- Numericalization\n",
    "    - Converting non-numeric/categorical data into appropriate numbers\n",
    "- Scaling, normalization\n",
    "    - putting features on compatible scales\n",
    "- Creating new \"synthetic\" features from original features\n",
    "    - Knowing when/how to do this is what separates a good Data Scientist from an average one\n"
   ]
  },
  {
   "cell_type": "markdown",
   "metadata": {
    "slideshow": {
     "slide_type": "subslide"
    }
   },
   "source": [
    "We will call the process of preparing the data *Transformations* or *Feature Engineering*.\n",
    "\n",
    "Transformation takes an example in raw form and creates a \"processed\" example suitable for modelling.\n",
    "\n",
    "It is important to emphasize that \"example\" means either training, validation, or test.\n",
    "\n",
    "Always apply transformations consistently to all example\n",
    "- In particular: transformations applied to a training example should be applied to test examples at inference time"
   ]
  },
  {
   "cell_type": "code",
   "execution_count": null,
   "metadata": {
    "slideshow": {
     "slide_type": "subslide"
    }
   },
   "outputs": [],
   "source": []
  },
  {
   "cell_type": "markdown",
   "metadata": {
    "slideshow": {
     "slide_type": "slide"
    }
   },
   "source": [
    "# Train a model\n",
    "\n",
    "The model is our \"predictor\": the machine that takes features and produces predictions.\n",
    "\n",
    "All the prior steps of the recipe were \"prep-work\": preparing the ingredients (data) for cooking (modelling)\n",
    "\n",
    "Unlike actual cooking, this step is *iterative*\n",
    "- we try one model\n",
    "- fit the model to the data\n",
    "- examine the results critically\n",
    "    - has the Performance Measure improved ? Is it good enough ?\n",
    "    - learn lessons from errors\n",
    "- improve the model and repeat"
   ]
  },
  {
   "cell_type": "markdown",
   "metadata": {
    "slideshow": {
     "slide_type": "slide"
    }
   },
   "source": [
    "The iterative nature is often overlooked in the rush to learn models.\n",
    "\n",
    "But Error Analysis is key to guiding us on the weaknesses of the existing model, and to improving the model."
   ]
  },
  {
   "cell_type": "markdown",
   "metadata": {
    "slideshow": {
     "slide_type": "subslide"
    }
   },
   "source": [
    "<table>\n",
    "    <tr>\n",
    "        <th><center>Iterative training</center></th>\n",
    "    </tr>\n",
    "    <tr>\n",
    "        <td><img src=\"images/ML_process_iterate.jpg\"></td>\n",
    "    </tr>\n",
    "</table>\n",
    "​"
   ]
  },
  {
   "cell_type": "markdown",
   "metadata": {
    "slideshow": {
     "slide_type": "subslide"
    }
   },
   "source": [
    "Let's move to the notebook and [Train the model](Recipe_for_ML.ipynb#Recipe-Step-D:-Train-a-model)"
   ]
  },
  {
   "cell_type": "markdown",
   "metadata": {
    "slideshow": {
     "slide_type": "slide"
    }
   },
   "source": [
    "## Error analysis\n",
    "\n",
    "We have now fit a model and evaluated it with a Performance Metric.\n",
    "\n",
    "If the metric is \"good\", are we done ?\n",
    "\n",
    "Unfortunately, many people (and courses!) answer: \"Yes\"\n",
    "\n",
    "This is discouraged;\n",
    "let's move to the notebook to [Examine the errors](Recipe_for_ML.ipynb#Recipe-D.4:--Error-analysis)\n",
    "to see why a deeper analysis may be warranted.\n",
    "\n"
   ]
  },
  {
   "cell_type": "markdown",
   "metadata": {
    "slideshow": {
     "slide_type": "subslide"
    }
   },
   "source": [
    "## Iterate: Linear Regression with higher order features\n",
    "\n",
    "The Error Analysis we performed on our first model (single non-constant feature) suggested a need for improvement.\n",
    "\n",
    "Two types of improvement come to mind\n",
    "- Hypothesis iteration: try  a different model\n",
    "    \n",
    "- Feature iteration: change/add to the features of the current model\n",
    "    - adding a previously discarded feature\n",
    "    - creating a synthetic feature\n"
   ]
  },
  {
   "cell_type": "markdown",
   "metadata": {
    "slideshow": {
     "slide_type": "slide"
    }
   },
   "source": [
    "We will take the approach of adding a feature.\n",
    "\n",
    "Let's extend Linear Regression with [higher order features](Linear_Regression_HigherOrderFeatures.ipynb)"
   ]
  },
  {
   "cell_type": "markdown",
   "metadata": {
    "slideshow": {
     "slide_type": "slide"
    }
   },
   "source": [
    "## When to stop iterating\n",
    "\n",
    "Adding second order features resulted in a perfect in-sample fit, so there is no point iterating further.\n",
    "\n",
    "In general, this will not be the case.\n",
    "\n",
    "How do we know that our model is \"good enough\" ?\n",
    "\n",
    "Let's explore [Bias and Variance](Bias_and_Variance.ipynb)"
   ]
  },
  {
   "cell_type": "markdown",
   "metadata": {
    "slideshow": {
     "slide_type": "slide"
    }
   },
   "source": [
    "# Fine tune\n",
    "\n",
    "There are often \"tweaks\" that can be applied to a near-final model in order to squeeze out increase\n",
    "performance.\n",
    "\n",
    "For example: many models have *hyper parameters*.\n",
    "\n",
    "These are values that are *chosen* at model construction, rather than *discovered* by fitting during training ($\\Theta$)\n",
    "\n",
    "- the $k$ in K Nearest Neigbhors\n",
    "- the degree $d$ of the polynomial when constructing higher order features $\\x^d$\n",
    "- strength of the regularization penalty\n",
    "- whether to include/exclude the interecept $\\Theta_0$ in a Linear Regression\n"
   ]
  },
  {
   "cell_type": "markdown",
   "metadata": {
    "slideshow": {
     "slide_type": "subslide"
    }
   },
   "source": [
    "Perhaps a different choice of a hyper-parameter would improve the model ?\n",
    "\n",
    "We can try many choices before settling on the one giving the best Performance Metric.\n",
    "\n",
    "Hyper parameters search is another reason for using Cross Validation\n",
    "- we can't use the Test set more than once\n",
    "- with a single Validation set: we might overfit to the validation set\n",
    "    - that is, choose a value for the hyper parameter that is best for this *single* validation set"
   ]
  },
  {
   "cell_type": "code",
   "execution_count": null,
   "metadata": {},
   "outputs": [],
   "source": [
    "print(\"Done !\")"
   ]
  }
 ],
 "metadata": {
  "celltoolbar": "Slideshow",
  "kernelspec": {
   "display_name": "Python 3",
   "language": "python",
   "name": "python3"
  },
  "language_info": {
   "codemirror_mode": {
    "name": "ipython",
    "version": 3
   },
   "file_extension": ".py",
   "mimetype": "text/x-python",
   "name": "python",
   "nbconvert_exporter": "python",
   "pygments_lexer": "ipython3",
   "version": "3.7.4"
  },
  "toc": {
   "base_numbering": 1,
   "nav_menu": {},
   "number_sections": true,
   "sideBar": true,
   "skip_h1_title": false,
   "title_cell": "Table of Contents",
   "title_sidebar": "Contents",
   "toc_cell": false,
   "toc_position": {
    "height": "calc(100% - 180px)",
    "left": "10px",
    "top": "150px",
    "width": "370.594px"
   },
   "toc_section_display": true,
   "toc_window_display": true
  }
 },
 "nbformat": 4,
 "nbformat_minor": 4
}
