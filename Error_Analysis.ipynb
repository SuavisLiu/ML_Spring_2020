{
 "cells": [
  {
   "cell_type": "code",
   "execution_count": 1,
   "metadata": {
    "slideshow": {
     "slide_type": "notes"
    }
   },
   "outputs": [
    {
     "data": {
      "text/latex": [
       "$$\n",
       "\\newcommand{\\x}{\\mathbf{x}}\n",
       "\\newcommand{\\tx}{\\tilde{\\x}}\n",
       "\\newcommand{\\y}{\\mathbf{y}}\n",
       "\\newcommand{\\b}{\\mathbf{b}}\n",
       "\\newcommand{\\c}{\\mathbf{c}}\n",
       "\\newcommand{\\e}{\\mathbf{e}}\n",
       "\\newcommand{\\z}{\\mathbf{z}}\n",
       "\\newcommand{\\h}{\\mathbf{h}}\n",
       "\\newcommand{\\v}{\\mathbf{v}}\n",
       "\\newcommand{\\w}{\\mathbf{w}}\n",
       "\\newcommand{\\W}{\\mathbf{W}}\n",
       "\\newcommand{\\X}{\\mathbf{X}}\n",
       "\\newcommand{\\KL}{\\mathbf{KL}}\n",
       "\\newcommand{\\E}{{\\mathbb{E}}}\n",
       "\\newcommand{\\ip}{\\mathbf{{(i)}}}\n",
       "%\n",
       "% Test set\n",
       "\\newcommand{\\xt}{\\underline{\\x}}\n",
       "\\newcommand{\\yt}{\\underline{\\y}}\n",
       "\\newcommand{\\Xt}{\\underline{\\X}}\n",
       "\\newcommand{\\perfm}{\\mathcal{P}}\n",
       "%\n",
       "% \\ll indexes a layer; we can change the actual letter\n",
       "\\newcommand{\\ll}{l}\n",
       "\\newcommand{\\llp}{{(\\ll)}}\n",
       "%\n",
       "\\newcommand{Thetam}{\\Theta_{-0}}\n",
       "\n",
       "%\n",
       "% \\tt indexes a time step\n",
       "\\newcommand{\\tt}{t}\n",
       "\\newcommand{\\tp}{{(\\tt)}}\n",
       "%\n",
       "\\newcommand{\\loss}{\\mathcal{L}}\n",
       "\\newcommand{\\cost}{\\mathcal{L}}\n",
       "%\n",
       "%                     \n",
       "\\newcommand{\\pdata}{p_\\text{data}}\n",
       "\\newcommand{\\pmodel}{p_\\text{model}}\n",
       "%\n",
       "% SVM\n",
       "\\newcommand{\\margin}{{\\mathbb{m}}}\n",
       "\\newcommand{\\lmk}{\\boldsymbol{\\ell}}\n",
       "%\n",
       "% Functions with arguments\n",
       "\\def\\xsy#1#2{#1^#2}\n",
       "\\def\\rand#1{\\tilde{#1}}\n",
       "\\def\\randx{\\rand{\\x}}\n",
       "\\def\\randy{\\rand{\\y}}\n",
       "\\def\\trans#1{\\dot{#1}}\n",
       "\\def\\transx{\\trans{\\x}}\n",
       "\\def\\transy{\\trans{\\y}}\n",
       "%\n",
       "\\def\\argmax#1{\\underset{#1} {\\operatorname{argmax}} }\n",
       "\\def\\argmin#1{\\underset{#1} {\\operatorname{argmin}} }\n",
       "\\def\\max#1{\\underset{#1} {\\operatorname{max}} }\n",
       "\\def\\min#1{\\underset{#1} {\\operatorname{min}} }\n",
       "%\n",
       "\\def\\pr#1{\\mathcal{p}(#1)}\n",
       "\\def\\cnt#1{\\mathcal{count}_{#1}}\n",
       "\\def\\node#1{\\mathbb{#1}}\n",
       "%\n",
       "\\newcommand{\\floor}[1]{\\left\\lfloor #1 \\right\\rfloor}\n",
       "\\newcommand{\\ceil}[1]{\\left\\lceil #1 \\right\\rceil}\n",
       "%\n",
       "\n",
       "$$\n"
      ],
      "text/plain": [
       "<IPython.core.display.Latex object>"
      ]
     },
     "metadata": {},
     "output_type": "display_data"
    }
   ],
   "source": [
    "%run Latex_macros.ipynb"
   ]
  },
  {
   "cell_type": "code",
   "execution_count": 2,
   "metadata": {
    "slideshow": {
     "slide_type": "notes"
    }
   },
   "outputs": [],
   "source": [
    "# My standard magic !  You will see this in almost all my notebooks.\n",
    "\n",
    "from IPython.core.interactiveshell import InteractiveShell\n",
    "InteractiveShell.ast_node_interactivity = \"all\"\n",
    "\n",
    "# Reload all modules imported with %aimport\n",
    "%load_ext autoreload\n",
    "%autoreload 1\n",
    "\n",
    "%matplotlib inline"
   ]
  },
  {
   "cell_type": "code",
   "execution_count": 3,
   "metadata": {
    "slideshow": {
     "slide_type": "notes"
    }
   },
   "outputs": [],
   "source": [
    "import numpy as np\n",
    "import pandas as pd\n",
    "import matplotlib.pyplot as plt\n",
    "\n",
    "import os\n",
    "MOVIE_DIR=\"./images\"\n",
    "\n",
    "CREATE_MOVIE = False # True if you have ffmpeg installed\n",
    "\n",
    "import training_models_helper\n",
    "%aimport training_models_helper\n",
    "\n",
    "tmh = training_models_helper.TrainingModelsHelper()\n",
    "\n",
    "import mnist_helper\n",
    "%aimport mnist_helper\n",
    "\n",
    "mnh = mnist_helper.MNIST_Helper()\n",
    "\n",
    "import class_helper\n",
    "%aimport class_helper\n",
    "\n",
    "clh= class_helper.Classification_Helper()\n",
    "\n",
    "import recipe_helper\n",
    "%aimport recipe_helper\n",
    "rh = recipe_helper.Recipe_Helper()"
   ]
  },
  {
   "cell_type": "code",
   "execution_count": 4,
   "metadata": {
    "slideshow": {
     "slide_type": "notes"
    }
   },
   "outputs": [],
   "source": [
    "from sklearn.model_selection import cross_val_score\n",
    "from sklearn.datasets import make_classification\n",
    "from sklearn.neighbors import KNeighborsClassifier\n",
    "from sklearn.linear_model import LogisticRegression"
   ]
  },
  {
   "cell_type": "markdown",
   "metadata": {
    "slideshow": {
     "slide_type": "slide"
    }
   },
   "source": [
    "# Becoming a successful Data Scientist: Error Analysis\n",
    "\n",
    "As of now, you should know\n",
    "- how to construct models (the \"recipe\")\n",
    "- how to use them for prediction\n",
    "- some simple metrics on how they perform"
   ]
  },
  {
   "cell_type": "markdown",
   "metadata": {
    "slideshow": {
     "slide_type": "subslide"
    }
   },
   "source": [
    "In this module, the topics to be covered provide answers:\n",
    "- model diagnostics \n",
    "\n",
    "In other words: the importance of Error Aanalysis in diagnosing and improving models."
   ]
  },
  {
   "cell_type": "markdown",
   "metadata": {
    "slideshow": {
     "slide_type": "slide"
    }
   },
   "source": [
    "# Classification: Beyond accuracy\n",
    "\n",
    "Let's re-run the MNIST problem and examine measures of error more detailed than accuracy\n"
   ]
  },
  {
   "cell_type": "code",
   "execution_count": 5,
   "metadata": {
    "slideshow": {
     "slide_type": "subslide"
    }
   },
   "outputs": [
    {
     "name": "stdout",
     "output_type": "stream",
     "text": [
      "Retrieving MNIST_784 from cache\n"
     ]
    },
    {
     "data": {
      "text/plain": [
       "LogisticRegression(C=0.01, class_weight=None, dual=False, fit_intercept=True,\n",
       "                   intercept_scaling=1, l1_ratio=None, max_iter=100,\n",
       "                   multi_class='multinomial', n_jobs=None, penalty='l2',\n",
       "                   random_state=None, solver='saga', tol=0.1, verbose=0,\n",
       "                   warm_start=False)"
      ]
     },
     "execution_count": 5,
     "metadata": {},
     "output_type": "execute_result"
    }
   ],
   "source": [
    "mnh = mnist_helper.MNIST_Helper()\n",
    "mnh.setup()\n",
    "_= mnh.fit()"
   ]
  },
  {
   "cell_type": "markdown",
   "metadata": {
    "slideshow": {
     "slide_type": "subslide"
    }
   },
   "source": [
    "Examine the score (n.b., ran with L2 penalty)"
   ]
  },
  {
   "cell_type": "code",
   "execution_count": 6,
   "metadata": {
    "slideshow": {
     "slide_type": "subslide"
    }
   },
   "outputs": [
    {
     "name": "stdout",
     "output_type": "stream",
     "text": [
      "Avg cross val score=0.87\n",
      "\n",
      "Sparsity with l2 penalty: 16.20.\n"
     ]
    }
   ],
   "source": [
    "clf = mnh.clf\n",
    "\n",
    " # Cross validation\n",
    "scores = cross_val_score(clf, mnh.X_train, mnh.y_train, cv=10)\n",
    "print(\"Avg cross val score={s:3.2f}\\n\".format( s=scores.mean()) )\n",
    "\n",
    "# How many zero coefficients were forced by the penalty ?\n",
    "sparsity = np.mean(clf.coef_ == 0) * 100\n",
    "\n",
    "print(\"Sparsity with {p} penalty: {s:.2f}.\".format(p=clf.penalty, s=sparsity) )"
   ]
  },
  {
   "cell_type": "markdown",
   "metadata": {
    "slideshow": {
     "slide_type": "subslide"
    }
   },
   "source": [
    "We achieved an out of sample accuracy of about 87%\n",
    "\n",
    "That sounds good, but is it really ?\n",
    "\n",
    "If each of the 10 labels occurs with equal frequency among the training examples\n",
    "- We could mis-predict *every* occurrence of a single digit(i.e., 10% of the training examples)\n",
    "- And still achieve an Accuracy of 90% if we perfectly predict all other digits\n",
    "\n",
    "Would that be satisfactory ?"
   ]
  },
  {
   "cell_type": "markdown",
   "metadata": {
    "slideshow": {
     "slide_type": "subslide"
    }
   },
   "source": [
    "This motivates the need to measure *Conditional Performance* or *Conditional Loss*\n",
    "- Performance/Loss conditioned on meaningful subsets of training examples\n",
    "\n",
    "We will examine some conditional metrics for the Classification task."
   ]
  },
  {
   "cell_type": "markdown",
   "metadata": {
    "slideshow": {
     "slide_type": "subslide"
    }
   },
   "source": [
    "<img src=\"images/Back_to_parent.jpg\">"
   ]
  },
  {
   "cell_type": "markdown",
   "metadata": {
    "slideshow": {
     "slide_type": "subslide"
    }
   },
   "source": [
    "# Binary classification: Conditional accuracy\n",
    "\n",
    "For simplicity: let's begin with a Classification task with only two classes (Positive and Negative).\n",
    "\n",
    "We can divide overall Accuracy into 4 subsets:\n",
    "\n",
    "- the row labels correspond to the predicted class\n",
    "- the column labels correspond to the target (actual) class\n",
    "\n",
    "$$\n",
    "\\begin{array}{lll}\n",
    "\\\\\n",
    "           & \\textbf{P} &  \\textbf{N} \\\\\n",
    "\\textbf{P} & \\text{TP}        & \\text{FP} \\\\\n",
    "\\textbf{N} & \\text{FN}        & \\text{TN} \\\\\n",
    "\\end{array}\n",
    "$$"
   ]
  },
  {
   "cell_type": "markdown",
   "metadata": {
    "slideshow": {
     "slide_type": "subslide"
    }
   },
   "source": [
    "The correct predictions\n",
    "- True Positives (TP) are  test examples predicted as Positive that were in fact Positive\n",
    "- True Positives (TN) are  test examples predicted as Negative that were in fact Negative\n",
    "\n",
    "The incorrect predictions\n",
    "- False Positives (FP) are  test examples predicted as Positive that were in fact Negative\n",
    "- False Positives (FN) are  test examples predicted as Negative that were in fact Positive\n"
   ]
  },
  {
   "cell_type": "markdown",
   "metadata": {
    "slideshow": {
     "slide_type": "subslide"
    }
   },
   "source": [
    "Unconditional Accuracy can thus be written as\n",
    "\n",
    "$$\\textrm{Accuracy} =  { \\text{TP} + \\text{TN} \\over  \\text{TP} + \\text{FP} + \\text{TN} + \\text{FN} } $$\n",
    "\n",
    "We can also define some conditional Accuracy measures"
   ]
  },
  {
   "cell_type": "markdown",
   "metadata": {
    "slideshow": {
     "slide_type": "slide"
    }
   },
   "source": [
    "## Imbalanced data: the case for conditional accuracy\n",
    "\n",
    "It is quite possible that the number of Positive and Negative examples in a dataset are quite different\n",
    "- Titanic example: many fewer examples with Survive than Not Survive\n",
    "\n",
    "Metrics based on unconditional accuracy favor the dominant category (the one with most examples).\n",
    "- They are more numerous and hence have greater cumulative influence\n",
    "$$\\text{TP} + \\text{FN} << \\text{TN} + \\text{FP}$$\n",
    "\n",
    "Conditional metrics are one way of placing focus on the minority category."
   ]
  },
  {
   "cell_type": "markdown",
   "metadata": {
    "slideshow": {
     "slide_type": "subslide"
    }
   },
   "source": [
    "##  Recall\n",
    "- Conditioned on Positive test examples\n",
    "\n",
    "$$\n",
    "\\textrm{Recall} = { { \\textrm{TP} } \\over { \\textrm{TP} +  \\textrm{FN} }  }\n",
    "$$\n",
    "- The fraction of Positive examples that were correctly classified\n",
    "- You can achieve 100% Recall by always predicting positive, but Unconditional Accuracy will suffer.\n",
    "- Also goes by the names: True Positive Rate (TPR), Sensitivity"
   ]
  },
  {
   "cell_type": "markdown",
   "metadata": {
    "slideshow": {
     "slide_type": "subslide"
    }
   },
   "source": [
    "## Specificity\n",
    "- conditioned on Negative examples\n",
    "\n",
    "$$\n",
    "\\textrm{Specificity} = { { \\textrm{TN} } \\over { \\textrm{TN} +  \\textrm{FP} }  }\n",
    "$$\n",
    "\n",
    "- The fraction of Negative examples that were correctly classified\n",
    "- Also goes by the name: True Negative Rate (TNR)"
   ]
  },
  {
   "cell_type": "markdown",
   "metadata": {
    "slideshow": {
     "slide_type": "subslide"
    }
   },
   "source": [
    "## Precision\n",
    "A metric to tell you the fraction of your Positive predictions that were correct.\n",
    "\n",
    "$$\n",
    "\\textrm{Precision} = { { \\textrm{TP} } \\over { \\textrm{TP} +  \\textrm{FP} }  }\n",
    "$$\n",
    "\n",
    "There is a degenerate case of perfect precision:\n",
    "- predict \"Positive\" for only a single, known actual positive\n",
    "- 100% precision, but you fail to correctly predict most actual positives"
   ]
  },
  {
   "cell_type": "markdown",
   "metadata": {
    "slideshow": {
     "slide_type": "subslide"
    }
   },
   "source": [
    "## False Positive Rate\n",
    "$$\n",
    "\\begin{array}{lll}\n",
    "\\textrm{FPR} & = & { { \\textrm{FP} } \\over { \\textrm{FP} + \\textrm{TN} } } \\\\\n",
    "             & = & 1 - \\textrm{Specificity}\n",
    "\\end{array}\n",
    "$$"
   ]
  },
  {
   "cell_type": "markdown",
   "metadata": {
    "slideshow": {
     "slide_type": "subslide"
    }
   },
   "source": [
    "<img src=\"images/Back_to_parent.jpg\">"
   ]
  },
  {
   "cell_type": "markdown",
   "metadata": {
    "slideshow": {
     "slide_type": "slide"
    }
   },
   "source": [
    "## Precison/Recall Tradeoff\n",
    "\n",
    "Ideally, we would like our model to have both\n",
    "- High Recall: correctly identify a large fraction of Positive examples\n",
    "- High Precision: do not mis-identify too many Negative examples as positive\n",
    "\n",
    "But it may not be possible to have both.\n",
    "\n",
    "We will \n",
    "- show how to trade off one measure for the other\n",
    "- discuss when to favor one type of error over another\n"
   ]
  },
  {
   "cell_type": "markdown",
   "metadata": {
    "slideshow": {
     "slide_type": "subslide"
    }
   },
   "source": [
    "Some Classification models (e.g., Logistic Regression) have hyperparameters\n",
    "that compare numerical \"scores\" to a threshold in order to make a prediction.\n",
    "\n",
    "By varying the threshold, we can change predictions to favor a particular Conditional Performance metric.\n",
    "\n",
    "We will show how this happens and demonstrate ways to evaluate the tradeoff between metrics."
   ]
  },
  {
   "cell_type": "markdown",
   "metadata": {
    "slideshow": {
     "slide_type": "subslide"
    }
   },
   "source": [
    "Recall our methodology for Classification via Logistic Regression:\n",
    "- Compute a \"score\" that our example is in each of the target classes\n",
    "- Construct a probability distribution (over the target classes) from the scores\n",
    "    - convert the per class score into a probability via the sigmoid/softmax function\n",
    "- Compare the probability to a threshhold\n",
    "\n",
    "$$\\hat{p} = \\sigma(\\Theta^T \\x)  $$\n",
    "where $\\sigma$,  the *logistic function*, is:\n",
    "\n",
    "Convert $\\hat{p}^\\ip$ into Classification prediction $\\hat{y}^\\ip$\n",
    "\n",
    "$$\n",
    "\\hat{y}^\\ip = \n",
    "\\left\\{\n",
    "    {\n",
    "    \\begin{array}{lll}\n",
    "    0 & \\textrm{if } \\hat{p}^\\ip < 0.5   & \\text{Negative} \\\\\n",
    "    1 & \\textrm{if } \\hat{p}^\\ip \\ge 0.5  & \\text{Positive} \\\\\n",
    "    \\end{array}\n",
    "    }\n",
    "\\right.\n",
    "$$"
   ]
  },
  {
   "cell_type": "markdown",
   "metadata": {
    "slideshow": {
     "slide_type": "subslide"
    }
   },
   "source": [
    "<table>\n",
    "    <tr>\n",
    "        <center>Separation bounday as function of probability threshold</center>\n",
    "    </tr>\n",
    "<img src=\"images/class_overview_prob_lines.jpg\" width=1000>\n",
    "</table>\n"
   ]
  },
  {
   "cell_type": "markdown",
   "metadata": {
    "slideshow": {
     "slide_type": "subslide"
    }
   },
   "source": [
    "We can affect the prediction of Positive/Negative by varying the choice of Threshhold.\n",
    "\n",
    "We can increase the number of Positive predictions by lowering the threshhold\n",
    "- this will increase TP\n",
    "    - increase Recall by increasing numerator\n",
    "    - degenerate case: *always* predict Positive !\n",
    "- but also increase  FP\n",
    "    - no effect on Recall (FP *does not* appear in denominator)\n",
    "    - which decreases Precision (where FP *does* appear in the denominator)\n",
    "    \n",
    "So there is a tradeoff between Recall and Precision that is determine by our choice of threshold."
   ]
  },
  {
   "cell_type": "markdown",
   "metadata": {
    "slideshow": {
     "slide_type": "slide"
    }
   },
   "source": [
    "**Precision vs Recall: which one to favor ?**\n",
    "\n",
    "- Depending on the context, you may favor Precision over Recall, or vice-versa:\n",
    "    - Favor Precision when a False Positive is undesirable\n",
    "        - FP: mistakenly tell someone they are in trouble\n",
    "    - Favor Recall when False Negative is undesirable\n",
    "        - FN: mistakenly fail to identify a highly-communicable disease"
   ]
  },
  {
   "cell_type": "markdown",
   "metadata": {
    "slideshow": {
     "slide_type": "subslide"
    }
   },
   "source": [
    "Why would we want to increase Recall (at the potential cost of decreased unconditional Accuracy) ?\n",
    "\n",
    "It depends on your task.\n",
    "\n",
    "Consider a diagnostic test for an extremely dangerous, infectious disease\n",
    "- It might very important to have high Recall (catch truly infected patients)\n",
    "- Even at the expense of incorrectly labelling some healthy patients as infected"
   ]
  },
  {
   "cell_type": "markdown",
   "metadata": {
    "slideshow": {
     "slide_type": "subslide"
    }
   },
   "source": [
    "By *decreasing* the threshold we increase the number of Positive predictions\n",
    "- Recall increases (by increasing TP)\n",
    "- Precision decreases (by increasing FP)\n"
   ]
  },
  {
   "cell_type": "markdown",
   "metadata": {
    "slideshow": {
     "slide_type": "subslide"
    }
   },
   "source": [
    "By *raising* the threshhold, we can decrease the number of Positive predictions.\n",
    "- Potentially decrease Recall (by decreasing TP)\n",
    "- Increase Precision (by decreasing FP)\n",
    "\n",
    "Decreasing the number of Positive predictions increases the number of Negatives\n",
    "- Complementary effect on the Negative counterparts of the Positive metrics (Recall:Specificity)\n",
    "- Increase Specificity (by decreasing FP, we increase TN)"
   ]
  },
  {
   "cell_type": "markdown",
   "metadata": {
    "slideshow": {
     "slide_type": "subslide"
    }
   },
   "source": [
    "Why would we want to increase Specificity (potentially decreasing unconditional Accuracy) ?\n",
    "- decrease Unconditional Accuracy by increasing the False Negatives (FN)\n",
    "\n",
    "Consider a diagnostic test for a mild, non-infectious disease\n",
    "- A Positive prediction might entail an expensive/painful remedy, which we want to avoid\n",
    "- Even at the expense of incorrectly labelling some non-healthy patients as healthy\n",
    "   "
   ]
  },
  {
   "cell_type": "markdown",
   "metadata": {
    "slideshow": {
     "slide_type": "slide"
    }
   },
   "source": [
    "### Precision/Recall tradeoff: plot\n",
    "\n",
    "To be concrete: let's examine the tradeoff between Recall and Precision\n",
    "in the context of a binary classifier\n",
    "- Using MNIST examples: classify an example as being a single chosen digit versus the 9 other digits\n",
    "\n",
    "- Create a binary classifier for a single MNIST digit"
   ]
  },
  {
   "cell_type": "code",
   "execution_count": 7,
   "metadata": {
    "slideshow": {
     "slide_type": "subslide"
    }
   },
   "outputs": [
    {
     "name": "stdout",
     "output_type": "stream",
     "text": [
      "Retrieving MNIST_784 from cache\n"
     ]
    },
    {
     "data": {
      "text/plain": [
       "LogisticRegression(C=0.01, class_weight=None, dual=False, fit_intercept=True,\n",
       "                   intercept_scaling=1, l1_ratio=None, max_iter=100,\n",
       "                   multi_class='multinomial', n_jobs=None, penalty='l2',\n",
       "                   random_state=None, solver='saga', tol=0.1, verbose=0,\n",
       "                   warm_start=False)"
      ]
     },
     "execution_count": 7,
     "metadata": {},
     "output_type": "execute_result"
    }
   ],
   "source": [
    "# Fetch the MNIST data into object\n",
    "\n",
    "mnh_d = mnist_helper.MNIST_Helper()\n",
    "mnh_d.setup()\n",
    "\n",
    "# Turn the 10 class training set into a binary training set\n",
    "# - Same examples, different targets\n",
    "# - targets are now \"is 'digit'\" or \"is not 'digit'\" for a single digit\n",
    "digit = '5'\n",
    "y_train_d, y_test_d = mnh_d.make_binary(digit)\n",
    "\n",
    "# Fit a binary model: Is digit/Is not digit\n",
    "mnh_d.fit(y_train=y_train_d)\n",
    "scores = cross_val_score(mnh_d.clf, mnh_d.X_train, y_train_d, cv=3, scoring=\"accuracy\")\n",
    "\n",
    "from sklearn.model_selection import cross_val_predict\n",
    "\n",
    "y_train_pred = cross_val_predict(mnh_d.clf, mnh_d.X_train, y_train_d, cv=5, method=\"decision_function\")\n"
   ]
  },
  {
   "cell_type": "markdown",
   "metadata": {
    "slideshow": {
     "slide_type": "subslide"
    }
   },
   "source": [
    "Let's plot the tradeoff"
   ]
  },
  {
   "cell_type": "code",
   "execution_count": 8,
   "metadata": {
    "slideshow": {
     "slide_type": "subslide"
    }
   },
   "outputs": [],
   "source": [
    "from sklearn.metrics import precision_recall_curve\n",
    "\n",
    "precisions, recalls, thresholds = precision_recall_curve(y_train_d, y_train_pred)\n",
    "\n",
    "# Convert thresholds (log odds) to probability\n",
    "probs = np.exp(thresholds)/(1+np.exp(thresholds))\n",
    "\n",
    "def plot_precision_recall_vs_threshold(precisions, recalls, thresholds, probs=None):\n",
    "    fig, ax = plt.subplots(1,1, figsize=(12,4))\n",
    "    \n",
    "    if probs is None:\n",
    "        horiz = thresholds\n",
    "        label = \"Threshold\"\n",
    "    else:\n",
    "        horiz = probs\n",
    "        label = \"Probability threshold\"\n",
    "    _ = ax.plot(horiz, precisions[:-1], \"b--\", label=\"Precision\", linewidth=2)\n",
    "    _ = ax.plot(horiz, recalls[:-1], \"g-\", label=\"Recall\", linewidth=2)\n",
    "    _ = ax.set_xlabel(label, fontsize=16)\n",
    "    _ = ax.legend(loc=\"upper left\", fontsize=16)\n",
    "    _ = ax.set_ylim([0, 1])\n",
    "    \n",
    "    _ = ax.set_xlim([ horiz.min(), horiz.max()])\n",
    "    \n",
    "    return fig, ax\n",
    "\n",
    "fig, ax = plot_precision_recall_vs_threshold(precisions, recalls, thresholds, probs=probs)\n",
    "plt.close(fig)"
   ]
  },
  {
   "cell_type": "code",
   "execution_count": 9,
   "metadata": {
    "slideshow": {
     "slide_type": "subslide"
    }
   },
   "outputs": [
    {
     "data": {
      "image/png": "[encoded data removed]",
      "text/plain": [
       "<Figure size 864x288 with 1 Axes>"
      ]
     },
     "execution_count": 9,
     "metadata": {},
     "output_type": "execute_result"
    }
   ],
   "source": [
    "fig"
   ]
  },
  {
   "cell_type": "markdown",
   "metadata": {
    "slideshow": {
     "slide_type": "subslide"
    }
   },
   "source": [
    "You can see how varying the threshold (units is log odds ?) affects Recall and Precision\n",
    "- one at the expense of the other"
   ]
  },
  {
   "cell_type": "markdown",
   "metadata": {
    "slideshow": {
     "slide_type": "subslide"
    }
   },
   "source": [
    "### ROC/AUC: Evaluating the Precision/Recall tradeoff\n",
    "\n",
    "The **ROC** plots the True Positive Rate (TPR) versus the False Positive Rate (FPR).\n",
    "\n",
    "The resulting curve helps us choose a threshold.\n",
    "\n",
    "Our goal is to get a high TPR with a low FPR.\n",
    "\n",
    "This corresponds to the Area Under the Curve being as high as possible, as we will see in the plots."
   ]
  },
  {
   "cell_type": "markdown",
   "metadata": {
    "slideshow": {
     "slide_type": "subslide"
    }
   },
   "source": [
    "Here's how it works\n",
    "- fit a binary classifier\n",
    "- predict on a dataset (e.g., test)\n",
    "    - this gives a vector of probabilities for each example\n",
    "    - classifier predicts Positive if corresponding probability exceeds a threshold\n",
    "- vary the threshold between 0 and 1\n",
    "    - each threshold value gives a TPR and FPR"
   ]
  },
  {
   "cell_type": "markdown",
   "metadata": {
    "slideshow": {
     "slide_type": "subslide"
    }
   },
   "source": [
    "We illustrate with a couple of classifiers for the binary MNIST digit classification problem."
   ]
  },
  {
   "cell_type": "code",
   "execution_count": 10,
   "metadata": {
    "slideshow": {
     "slide_type": "subslide"
    }
   },
   "outputs": [
    {
     "data": {
      "image/png": "[encoded data removed]",
      "text/plain": [
       "<Figure size 864x432 with 3 Axes>"
      ]
     },
     "metadata": {
      "needs_background": "light"
     },
     "output_type": "display_data"
    }
   ],
   "source": [
    "# ROC curves for binary classifier: Is Digit/Is not Digit\n",
    "clh.AUC_plot(X_train=mnh.X_train, y_train=y_train_d, X_test=mnh.X_train, y_test=y_train_d)\n"
   ]
  },
  {
   "cell_type": "markdown",
   "metadata": {
    "slideshow": {
     "slide_type": "subslide"
    }
   },
   "source": [
    "You can see the results of \n",
    "- Logistic Regression\n",
    "- KNN\n",
    "- Random Forests"
   ]
  },
  {
   "cell_type": "markdown",
   "metadata": {
    "slideshow": {
     "slide_type": "subslide"
    }
   },
   "source": [
    "### $F_1$: Another way to combine Precision and Recall\n",
    "\n",
    "There is a simple metric to combine\n",
    " Precision and Recall into a single number:\n",
    "\n",
    "$$\n",
    "\\textrm{F}_1 = { { \\textrm{TP} } \\over { \\textrm{TP} +  { { \\textrm{FN} + \\textrm{FP} }   \\over 2 } }  }\n",
    "$$"
   ]
  },
  {
   "cell_type": "markdown",
   "metadata": {
    "slideshow": {
     "slide_type": "subslide"
    }
   },
   "source": [
    "<img src=\"images/Back_to_parent.jpg\">"
   ]
  },
  {
   "cell_type": "markdown",
   "metadata": {
    "slideshow": {
     "slide_type": "slide"
    }
   },
   "source": [
    "# Multinomial classification: Confusion matrix\n",
    "\n",
    "So far we have been dealing with a classifier with only two classes.\n",
    "\n",
    "So the simple grid\n",
    "\n",
    "$$\n",
    "\\begin{array}{lll}\n",
    "\\\\\n",
    "           & \\textbf{P} &  \\textbf{N} \\\\\n",
    "\\textbf{P} & \\text{TP}        & \\text{FP} \\\\\n",
    "\\textbf{N} & \\text{FN}        & \\text{TN} \\\\\n",
    "\\end{array}\n",
    "$$\n",
    "\n",
    "was sufficient.\n",
    "\n",
    "The generalization of the  multiple classes is called the *Confusion Matrix*"
   ]
  },
  {
   "cell_type": "code",
   "execution_count": 11,
   "metadata": {
    "slideshow": {
     "slide_type": "subslide"
    }
   },
   "outputs": [
    {
     "name": "stdout",
     "output_type": "stream",
     "text": [
      "Normalized confusion matrix\n"
     ]
    },
    {
     "data": {
      "image/png": "[encoded data removed]",
      "text/plain": [
       "<Figure size 864x432 with 1 Axes>"
      ]
     },
     "metadata": {
      "needs_background": "light"
     },
     "output_type": "display_data"
    }
   ],
   "source": [
    "# Now predict the value of the digit on the second half:\n",
    "fig, ax = plt.subplots(figsize=(12,6))\n",
    "confusion_mat = mnh.create_confusion_matrix()\n",
    "\n",
    "digits = range(0,10)\n",
    "_= clh.plot_confusion_matrix(confusion_mat, digits, ax=ax, normalize=True)"
   ]
  },
  {
   "cell_type": "markdown",
   "metadata": {
    "slideshow": {
     "slide_type": "subslide"
    }
   },
   "source": [
    "- The row labels are the (correct) targets\n",
    "- The column labels are the predictions\n",
    "\n",
    "The entry in the matrix for row $i$, column $j$\n",
    "- fraction of test examples for class $i$ that were\n",
    "predicted as class $j$."
   ]
  },
  {
   "cell_type": "markdown",
   "metadata": {
    "slideshow": {
     "slide_type": "subslide"
    }
   },
   "source": [
    "- The diagonal of the Confusion Matrix is the Recall for each digit\n",
    "- The non-diagonal elements of a row show how often a given digit was mistaken for another\n",
    "\n",
    "By analyzing the non-diagnonal elements of a row, we may be able to diagnose (and correct) defficiencies in our model."
   ]
  },
  {
   "cell_type": "markdown",
   "metadata": {
    "slideshow": {
     "slide_type": "subslide"
    }
   },
   "source": [
    "From the confusion matrix: \n",
    "- our classifier is doing a great job recognizing the digit 0\n",
    "- our classifier is struggling to recognize the digit 5\n",
    "    - most often confusing it with the digit 3\n",
    "- our classifier is struggling to recognize the digit 8\n",
    "    - most often confusing it with the digits 5 and 1\n"
   ]
  },
  {
   "cell_type": "markdown",
   "metadata": {
    "slideshow": {
     "slide_type": "subslide"
    }
   },
   "source": [
    "<img src=\"images/Back_to_parent.jpg\">"
   ]
  },
  {
   "cell_type": "markdown",
   "metadata": {
    "slideshow": {
     "slide_type": "slide"
    }
   },
   "source": [
    "## Regression: beyond RMSE/$R^2$\n",
    "\n",
    "We just spent time developing methods to study errors of classification.\n",
    "\n",
    "What is the analog for Regression ?\n",
    "\n",
    "Examining the residuals."
   ]
  },
  {
   "cell_type": "code",
   "execution_count": 12,
   "metadata": {
    "slideshow": {
     "slide_type": "slide"
    }
   },
   "outputs": [
    {
     "name": "stdout",
     "output_type": "stream",
     "text": [
      "Coefficients: \n",
      " [9.86448852] [[0.93673892]]\n",
      "\n",
      "\n",
      "R-squared (test): 0.91\n",
      "Root Mean squared error (test): 13.73\n",
      "\n",
      "\n",
      "R-squared (train): 0.91\n",
      "Root Mean squared error (train): 13.13\n"
     ]
    },
    {
     "data": {
      "image/png": "[encoded data removed]",
      "text/plain": [
       "<Figure size 432x288 with 1 Axes>"
      ]
     },
     "metadata": {
      "needs_background": "light"
     },
     "output_type": "display_data"
    },
    {
     "data": {
      "image/png": "[encoded data removed]",
      "text/plain": [
       "<Figure size 864x288 with 2 Axes>"
      ]
     },
     "metadata": {
      "needs_background": "light"
     },
     "output_type": "display_data"
    }
   ],
   "source": [
    "v1, a1 = 1, .005\n",
    "v2, a2 = v1, a1*2\n",
    "curv = recipe_helper.Recipe_Helper(v = v2, a = a2)\n",
    "X_curve, y_curve = curv.gen_data(num=50)\n",
    "\n",
    "(xlabel, ylabel) = (\"Size\", \"Price Premium\")\n",
    "\n",
    "figp, axp = curv.gen_plot(X_curve,y_curve, xlabel, ylabel)\n",
    "\n",
    "fig, axs = curv.regress_with_error(X_curve, y_curve, xlabel=xlabel, ylabel=ylabel)\n",
    "plt.close(fig)"
   ]
  },
  {
   "cell_type": "markdown",
   "metadata": {
    "slideshow": {
     "slide_type": "subslide"
    }
   },
   "source": [
    "Let's focus on the errors."
   ]
  },
  {
   "cell_type": "code",
   "execution_count": 13,
   "metadata": {
    "slideshow": {
     "slide_type": "subslide"
    }
   },
   "outputs": [
    {
     "data": {
      "image/png": "[encoded data removed]",
      "text/plain": [
       "<Figure size 864x288 with 2 Axes>"
      ]
     },
     "execution_count": 13,
     "metadata": {},
     "output_type": "execute_result"
    }
   ],
   "source": [
    "fig"
   ]
  },
  {
   "cell_type": "markdown",
   "metadata": {
    "slideshow": {
     "slide_type": "subslide"
    }
   },
   "source": [
    "Not good !\n",
    "- clear pattern: errors increase in the tails\n",
    "- not constant variance\n",
    "\n",
    "Recall that our conclusion was that there was a missing feature: a higher order $x^2$ term.\n",
    "\n",
    "Once we added that term, the target became linear in \n",
    "$$ \\Theta^T \\cdot X = \\beta_1 *x + \\beta_2 * x^2$$"
   ]
  },
  {
   "cell_type": "code",
   "execution_count": 14,
   "metadata": {
    "slideshow": {
     "slide_type": "slide"
    }
   },
   "outputs": [
    {
     "name": "stdout",
     "output_type": "stream",
     "text": [
      "Done\n"
     ]
    }
   ],
   "source": [
    "print(\"Done\")"
   ]
  }
 ],
 "metadata": {
  "celltoolbar": "Slideshow",
  "kernelspec": {
   "display_name": "Python 3",
   "language": "python",
   "name": "python3"
  },
  "language_info": {
   "codemirror_mode": {
    "name": "ipython",
    "version": 3
   },
   "file_extension": ".py",
   "mimetype": "text/x-python",
   "name": "python",
   "nbconvert_exporter": "python",
   "pygments_lexer": "ipython3",
   "version": "3.7.4"
  },
  "toc": {
   "base_numbering": 1,
   "nav_menu": {},
   "number_sections": true,
   "sideBar": true,
   "skip_h1_title": false,
   "title_cell": "Table of Contents",
   "title_sidebar": "Contents",
   "toc_cell": false,
   "toc_position": {
    "height": "calc(100% - 180px)",
    "left": "10px",
    "top": "150px",
    "width": "370.594px"
   },
   "toc_section_display": true,
   "toc_window_display": true
  }
 },
 "nbformat": 4,
 "nbformat_minor": 2
}
