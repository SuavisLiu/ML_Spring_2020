{
 "cells": [
  {
   "cell_type": "code",
   "execution_count": 1,
   "metadata": {
    "slideshow": {
     "slide_type": "notes"
    }
   },
   "outputs": [
    {
     "data": {
      "text/latex": [
       "$$\n",
       "\\newcommand{\\x}{\\mathbf{x}}\n",
       "\\newcommand{\\tx}{\\tilde{\\x}}\n",
       "\\newcommand{\\y}{\\mathbf{y}}\n",
       "\\newcommand{\\b}{\\mathbf{b}}\n",
       "\\newcommand{\\c}{\\mathbf{c}}\n",
       "\\newcommand{\\e}{\\mathbf{e}}\n",
       "\\newcommand{\\z}{\\mathbf{z}}\n",
       "\\newcommand{\\h}{\\mathbf{h}}\n",
       "\\newcommand{\\v}{\\mathbf{v}}\n",
       "\\newcommand{\\w}{\\mathbf{w}}\n",
       "\\newcommand{\\W}{\\mathbf{W}}\n",
       "\\newcommand{\\X}{\\mathbf{X}}\n",
       "\\newcommand{\\KL}{\\mathbf{KL}}\n",
       "\\newcommand{\\E}{{\\mathbb{E}}}\n",
       "\\newcommand{\\ip}{\\mathbf{{(i)}}}\n",
       "%\n",
       "% Test set\n",
       "\\newcommand{\\xt}{\\underline{\\x}}\n",
       "\\newcommand{\\yt}{\\underline{\\y}}\n",
       "\\newcommand{\\Xt}{\\underline{\\X}}\n",
       "\\newcommand{\\perfm}{\\mathcal{P}}\n",
       "%\n",
       "% \\ll indexes a layer; we can change the actual letter\n",
       "\\newcommand{\\ll}{l}\n",
       "\\newcommand{\\llp}{{(\\ll)}}\n",
       "%\n",
       "\\newcommand{Thetam}{\\Theta_{-0}}\n",
       "\n",
       "%\n",
       "% \\tt indexes a time step\n",
       "\\newcommand{\\tt}{t}\n",
       "\\newcommand{\\tp}{{(\\tt)}}\n",
       "%\n",
       "\\newcommand{\\loss}{\\mathcal{L}}\n",
       "\\newcommand{\\cost}{\\mathcal{L}}\n",
       "%\n",
       "%                     \n",
       "\\newcommand{\\pdata}{p_\\text{data}}\n",
       "\\newcommand{\\pmodel}{p_\\text{model}}\n",
       "%\n",
       "% SVM\n",
       "\\newcommand{\\margin}{{\\mathbb{m}}}\n",
       "\\newcommand{\\lmk}{\\boldsymbol{\\ell}}\n",
       "%\n",
       "% Functions with arguments\n",
       "\\def\\xsy#1#2{#1^#2}\n",
       "\\def\\rand#1{\\tilde{#1}}\n",
       "\\def\\randx{\\rand{\\x}}\n",
       "\\def\\randy{\\rand{\\y}}\n",
       "\\def\\trans#1{\\dot{#1}}\n",
       "\\def\\transx{\\trans{\\x}}\n",
       "\\def\\transy{\\trans{\\y}}\n",
       "%\n",
       "\\def\\argmax#1{\\underset{#1} {\\operatorname{argmax}} }\n",
       "\\def\\argmin#1{\\underset{#1} {\\operatorname{argmin}} }\n",
       "\\def\\max#1{\\underset{#1} {\\operatorname{max}} }\n",
       "\\def\\min#1{\\underset{#1} {\\operatorname{min}} }\n",
       "%\n",
       "\\def\\pr#1{\\mathcal{p}(#1)}\n",
       "\\def\\prc#1#2{\\mathcal{p}(#1 \\; | \\; #2)}\n",
       "\\def\\cnt#1{\\mathcal{count}_{#1}}\n",
       "\\def\\node#1{\\mathbb{#1}}\n",
       "%\n",
       "\\newcommand{\\floor}[1]{\\left\\lfloor #1 \\right\\rfloor}\n",
       "\\newcommand{\\ceil}[1]{\\left\\lceil #1 \\right\\rceil}\n",
       "%\n",
       "\\def\\loc#1{{\\text{##} {#1}}}\n",
       "%\n",
       "$$\n"
      ],
      "text/plain": [
       "<IPython.core.display.Latex object>"
      ]
     },
     "metadata": {},
     "output_type": "display_data"
    }
   ],
   "source": [
    "%run Latex_macros.ipynb"
   ]
  },
  {
   "cell_type": "code",
   "execution_count": 2,
   "metadata": {
    "slideshow": {
     "slide_type": "notes"
    }
   },
   "outputs": [],
   "source": [
    "# My standard magic !  You will see this in almost all my notebooks.\n",
    "\n",
    "from IPython.core.interactiveshell import InteractiveShell\n",
    "InteractiveShell.ast_node_interactivity = \"all\"\n",
    "\n",
    "# Reload all modules imported with %aimport\n",
    "%load_ext autoreload\n",
    "%autoreload 1\n",
    "\n",
    "%matplotlib inline"
   ]
  },
  {
   "cell_type": "code",
   "execution_count": 3,
   "metadata": {
    "slideshow": {
     "slide_type": "notes"
    }
   },
   "outputs": [],
   "source": [
    "import numpy as np\n",
    "import pandas as pd\n",
    "import matplotlib.pyplot as plt\n",
    "\n",
    "import os\n",
    "MOVIE_DIR=\"./images\"\n",
    "\n",
    "CREATE_MOVIE = False # True if you have ffmpeg installed\n",
    "\n",
    "import training_models_helper\n",
    "%aimport training_models_helper\n",
    "\n",
    "tmh = training_models_helper.TrainingModelsHelper()\n",
    "\n",
    "import mnist_helper\n",
    "%aimport mnist_helper\n",
    "\n",
    "mnh = mnist_helper.MNIST_Helper()\n",
    "\n",
    "import class_helper\n",
    "%aimport class_helper\n",
    "\n",
    "clh= class_helper.Classification_Helper()"
   ]
  },
  {
   "cell_type": "code",
   "execution_count": 4,
   "metadata": {
    "slideshow": {
     "slide_type": "notes"
    }
   },
   "outputs": [],
   "source": [
    "from sklearn.model_selection import cross_val_score"
   ]
  },
  {
   "cell_type": "markdown",
   "metadata": {
    "slideshow": {
     "slide_type": "slide"
    }
   },
   "source": [
    "# Interpreting the coefficients in Linear Models\n",
    "\n",
    "The dot product has been a recurring character during our Classical Machine Learning journey.\n",
    "$$\n",
    "\\Theta \\cdot \\x\n",
    "$$\n",
    "\n",
    "By examining this expression more closely\n",
    "- We can gain insight into what $\\Theta$ means\n",
    "- Understand mathematically why transformation may be necessary\n",
    "- Gain an appeciation of the \"pattern matching\" that it embodies"
   ]
  },
  {
   "cell_type": "markdown",
   "metadata": {
    "slideshow": {
     "slide_type": "subslide"
    }
   },
   "source": [
    "Recall the places in which dot product appears\n",
    "- Linear Regression\n",
    "$$\n",
    "\\hat{y} = \\Theta \\cdot \\x\n",
    "$$\n",
    "\n",
    "- Logistic Regression\n",
    "$$\n",
    "\\hat{s} = \\Theta \\cdot \\x\n",
    "$$\n",
    "for score $\\hat{s}$ (which becomes a probablility via $\\hat{p} = \\sigma(\\hat{s})$\n",
    "\n",
    "- Boundary equation for linearly separable classifiers, e.g., SVM\n",
    "$$\n",
    "0 = \\Theta \\cdot \\x\n",
    "$$\n"
   ]
  },
  {
   "cell_type": "markdown",
   "metadata": {
    "slideshow": {
     "slide_type": "subslide"
    }
   },
   "source": [
    "Consider one feature $\\x^\\ip_j$ for example $i$.\n",
    "\n",
    "- A unit increase in $\\x^\\ip_j$\n",
    "- Holding constant the values for all other features,\n",
    "- Increases $\\Theta \\cdot \\x^\\ip$ by $\\Theta_j$\n",
    "\n",
    "Thus\n",
    "$$\n",
    "\\Theta_j = \\frac{\\partial } {\\partial \\x_j} \\Theta \\cdot \\x\n",
    "$$"
   ]
  },
  {
   "cell_type": "markdown",
   "metadata": {
    "slideshow": {
     "slide_type": "subslide"
    }
   },
   "source": [
    "$\\Theta_j$ may be interpreted as\n",
    "- The sensitivity of $\\Theta \\cdot \\x$ to changes in feature $j$"
   ]
  },
  {
   "cell_type": "markdown",
   "metadata": {
    "slideshow": {
     "slide_type": "subslide"
    }
   },
   "source": [
    " ## Numeric features\n",
    " \n",
    "Consider numeric features $\\x_j, \\x_{j'}$.\n",
    "\n",
    "Does\n",
    "$$\n",
    "\\Theta_j \\gt \\Theta_{j'}\n",
    "$$\n",
    "mean that feature $j$ is \"more important\" than feature $j'$ ?\n",
    "- No !\n",
    "- It just means it has a larger impact\n",
    "- Which can *also* occur if $\\x_j, \\x_{j'}$ are on different scales"
   ]
  },
  {
   "cell_type": "markdown",
   "metadata": {
    "slideshow": {
     "slide_type": "subslide"
    }
   },
   "source": [
    "For example consider the equality\n",
    "$$\n",
    "\\y = \\Theta \\cdot \\x\n",
    "$$\n",
    "\n",
    "- Replacing  $\\x_j$ \n",
    "- By $\\x_{j''} = \\x_j * 10$\n",
    "- Mathemtically results in $\\Theta_{j''} = \\Theta_j/10$\n",
    "\n",
    "Thus, the scale of the parameter is dependent on the scale of the feature.\n",
    "\n",
    "Unless two features are on the same scale: we cant directly compare their corresponding parameters."
   ]
  },
  {
   "cell_type": "markdown",
   "metadata": {
    "slideshow": {
     "slide_type": "slide"
    }
   },
   "source": [
    "## Categorical features\n",
    "\n",
    "Consider a categorical feature with categories from\n",
    " $$C = \\{ c_1, c_2, \\ldots \\}$$\n",
    "\n",
    "One Hot Encoding this feature replaces the original feature with $||C||$ binary features\n",
    "\n",
    "- $\\text{Is } c_1$\n",
    "- $\\text{Is } c_2$\n",
    "- $\\vdots$\n",
    "- $\\text{Is } c_{||C||}$\n",
    "   \n"
   ]
  },
  {
   "cell_type": "markdown",
   "metadata": {
    "slideshow": {
     "slide_type": "slide"
    }
   },
   "source": [
    "Suppose $\\x_j$ corresponds to the binary feature\n",
    "$$\\text{Is } c_1$$\n",
    "\n",
    "Then, by the formula for dot product\n",
    "- $\\Theta_j$ is the *increment* to $\\Theta \\cdot \\x$ \n",
    "- Arising from $\\x^\\ip_j = 1$\n",
    "- Compared to $x^\\ip_j = 0$"
   ]
  },
  {
   "cell_type": "markdown",
   "metadata": {
    "slideshow": {
     "slide_type": "slide"
    }
   },
   "source": [
    "That is: \n",
    "- $\\Theta_j$ is how much $\\Theta \\cdot \\x$ increases\n",
    "- When example $i$ has feature value $c_1$ rather than any of $\\{ c_2, \\ldots, \\}$"
   ]
  },
  {
   "cell_type": "markdown",
   "metadata": {
    "slideshow": {
     "slide_type": "subslide"
    }
   },
   "source": [
    "We can use this interpretation \n",
    "- To further emphasize the problem of\n",
    "- Treating a categorical variables as a number rather than a collection of binary indicator variables\n",
    "\n",
    "For example, let's revisit the Passenger Class `Pclass` $ \\in \\{1,2,3\\}$ from the Titanic example."
   ]
  },
  {
   "cell_type": "markdown",
   "metadata": {
    "slideshow": {
     "slide_type": "subslide"
    }
   },
   "source": [
    "- As a collection of binary indicator variables, the increment of being in each class is\n",
    "$$\n",
    "\\Theta_{\\text{Is } 1}, \\Theta_{\\text{Is } 2}, \\Theta_{\\text{Is } 3}\n",
    "$$\n",
    "- As a numeric variable with parameter value $\\Theta_j$\n",
    "    - Being in Class 3 has three times the effect as being in Class 1\n",
    "\n",
    "Thus\n",
    "- As numeric, we imply a particular magnitude with each category\n",
    "- As binary indicator,the magnitude is determined by the data\n",
    "      "
   ]
  },
  {
   "cell_type": "markdown",
   "metadata": {
    "slideshow": {
     "slide_type": "subslide"
    }
   },
   "source": [
    "# Motivating a transformation\n",
    "\n",
    "Suppose we have a Linear Regression\n",
    "$$\n",
    "\\y = \\Theta \\cdot \\x\n",
    "$$\n",
    "\n",
    "Now that we know that $\\Theta_j$ is the impact on $\\y$ of a unit increase in $\\x_j$\n",
    "- Do we want to *transform* either $\\y$ or $\\x$\n",
    "- So as to make this increment more plausible ?"
   ]
  },
  {
   "cell_type": "markdown",
   "metadata": {
    "slideshow": {
     "slide_type": "subslide"
    }
   },
   "source": [
    "For example, consider\n",
    "- $\\y$ and $\\x$ are time-series of prices, with different scales\n",
    "- The impact of $\\y$ of a unit change in $\\x_j$ \n",
    "    - When $\\x_j$ is small\n",
    "    - Is different than when $\\x_j$ is large\n",
    "    - So \n",
    "    $$\\y \\ne \\Theta \\cdot \\x$$ "
   ]
  },
  {
   "cell_type": "markdown",
   "metadata": {
    "slideshow": {
     "slide_type": "subslide"
    }
   },
   "source": [
    "Now consider transforming $\\y, \\x$ to $\\y', \\x'$\n",
    "- Where $\\y' = \\text{% change in } \\y$\n",
    "- Where $\\x' = \\text{% change in } \\x$\n",
    "\n",
    "That is, $\\y', \\x'$ are the daily *returns*"
   ]
  },
  {
   "cell_type": "markdown",
   "metadata": {
    "slideshow": {
     "slide_type": "subslide"
    }
   },
   "source": [
    "It may be the case that a unit increase\n",
    "- In the daily returns of $\\x_j$\n",
    "- Has the same impact on the daily return of $\\y$\n",
    "- Independent of the magnitude of $\\x_j$\n",
    "\n",
    "So\n",
    "$$\n",
    "\\y' = \\Theta' \\cdot \\x'\n",
    "$$"
   ]
  },
  {
   "cell_type": "markdown",
   "metadata": {
    "slideshow": {
     "slide_type": "slide"
    }
   },
   "source": [
    "## Transformed targets\n",
    "\n",
    "At times we may apply transformations to target values rather than just features.\n",
    "\n",
    "This means that $\\Theta_j$ is the sensitivity of the *transformed* target.\n"
   ]
  },
  {
   "cell_type": "markdown",
   "metadata": {
    "slideshow": {
     "slide_type": "subslide"
    }
   },
   "source": [
    "Recall that Logistic Regression could be formulated\n",
    "as\n",
    "- Linear Regression of the features\n",
    "- Verus the *log odds*\n",
    "\n",
    "$$\n",
    "\\log_e{\\frac{\\hat{p}}{1 - \\hat{p}}} = \\Theta^T \\x\n",
    "$$\n",
    "\n"
   ]
  },
  {
   "cell_type": "markdown",
   "metadata": {
    "slideshow": {
     "slide_type": "subslide"
    }
   },
   "source": [
    "\n",
    "So a unit change in feature $\\x_j$ with parameter $\\Theta_j$\n",
    "changes the *odds* $\\frac{\\hat{p}}{1 - \\hat{p}}$ in a *multiplicative* way\n",
    "\n",
    "$$\n",
    "\\log(\\frac{\\hat{p}}{1 - \\hat{p}}) + \\Theta_j = \\log{(\\frac{\\hat{p}}{1 - \\hat{p}} * \\exp{\\Theta_j} ) }\n",
    "$$\n",
    "-"
   ]
  },
  {
   "cell_type": "markdown",
   "metadata": {
    "slideshow": {
     "slide_type": "subslide"
    }
   },
   "source": [
    "# Examples\n",
    "- Log transform of target: \n",
    "    - $\\log{\\y} =   \\Theta_0 + \\Theta_1 * \\x_1  $\n",
    "    - $\\theta_1 = { \\partial{ \\log{\\y} } \\over { \\partial{ \\x_1 } } } = \\% $ change in $\\y$ per unit change in $\\x_1$\n",
    "- Log transform of both target and feature:\n",
    "    - $ \\log{\\y} =  \\Theta_0 + \\Theta_1 * \\log{\\x_1} $   \n",
    "    - $\\Theta_1 = { \\partial{ \\log{\\y} } \\over { \\partial{ \\log{\\x_1} } } } = \\% $ change in $y$ per $\\%$ change in $\\x_1$\n",
    "    \n",
    "- Standardize feature\n",
    "    - Transform $\\x$ into $z_\\x = { { \\x - \\bar{\\x} } \\over { \\sigma_\\x } }$\n",
    "    - $\\y = \\Theta_0 + \\Theta_1 * z_\\x$\n",
    "    - $\\Theta_1 = { \\partial{ \\log{\\y} } \\over { \\partial{ z_\\x } } }$ change in $\\y$ per $1$ standard deviation change in $\\x$\n",
    "        - since $z$ is in units of \"number of standard deviations\"\n",
    "    "
   ]
  },
  {
   "cell_type": "markdown",
   "metadata": {
    "slideshow": {
     "slide_type": "subslide"
    }
   },
   "source": [
    "**Remember**\n",
    "- if you transform features in training, you must apply the same transformation to features in test\n",
    "    - if the transformation is parameterized, the parameters are determined at **train** fit time, not test !\n",
    "- if you transform the target, the prediction is in different units than the original\n",
    "    - you can perform the inverse transformation to get a prediction in original units"
   ]
  },
  {
   "cell_type": "markdown",
   "metadata": {
    "slideshow": {
     "slide_type": "slide"
    }
   },
   "source": [
    "## Bucketing/Binning re-visited\n",
    "\n",
    "Suppose $\\x_j$ is a continous numeric feature (e.g., `Age`).\n",
    "\n",
    "Some questions to consider\n",
    "- Is a 1 year increase in age equally relevant for all ages ?\n",
    "    - If so: numeric\n",
    "    \n",
    "- Is a 1 year increase in age of the same relevance for a senior adult compared to an infant ?\n",
    "    - If not: consider reducing discrete ages to discrete buckets\n",
    "    - Is there a linear relationship between target and the center point of the bucket ?\n",
    "        - If so: bucket featurecan be numeric\n",
    "        - If not: bucket feature categorical\n",
    "\n"
   ]
  },
  {
   "cell_type": "markdown",
   "metadata": {
    "slideshow": {
     "slide_type": "slide"
    }
   },
   "source": [
    "# Interpreting the MNIST classifier: template matching\n",
    "\n",
    "The $\\Theta$ produced by a linear classifier can be viewed as templates\n",
    "- the strength of $\\Theta_j$ tells you how strongly feature $\\x_j$ influences the target\n",
    "\n",
    "So we can interpret $\\Theta$ as a \"template\" for what a model is looking for.\n",
    "\n",
    "Let's look at the template for \n",
    "- The 10 separate, single-digit binary MNIST classifiers\n",
    "- Or similarly: each *row* of $\\Theta$\n",
    "for the multinomial 10 class MNIST classifier\n",
    "\n"
   ]
  },
  {
   "cell_type": "markdown",
   "metadata": {
    "slideshow": {
     "slide_type": "subslide"
    }
   },
   "source": [
    "Here's the training data"
   ]
  },
  {
   "cell_type": "code",
   "execution_count": 5,
   "metadata": {
    "slideshow": {
     "slide_type": "subslide"
    }
   },
   "outputs": [
    {
     "name": "stdout",
     "output_type": "stream",
     "text": [
      "Retrieving MNIST_784 from cache\n"
     ]
    },
    {
     "data": {
      "image/png": "[encoded data removed]",
      "text/plain": [
       "<Figure size 720x720 with 25 Axes>"
      ]
     },
     "execution_count": 5,
     "metadata": {},
     "output_type": "execute_result"
    },
    {
     "data": {
      "image/png": "[encoded data removed]",
      "text/plain": [
       "<Figure size 720x720 with 25 Axes>"
      ]
     },
     "metadata": {
      "needs_background": "light"
     },
     "output_type": "display_data"
    }
   ],
   "source": [
    "mnh.setup()\n",
    "mnh.visualize()"
   ]
  },
  {
   "cell_type": "markdown",
   "metadata": {
    "slideshow": {
     "slide_type": "subslide"
    }
   },
   "source": [
    "Let's fit a `LogisticRegression` model and examine the templates (coefficients $\\Theta$)"
   ]
  },
  {
   "cell_type": "code",
   "execution_count": 9,
   "metadata": {
    "slideshow": {
     "slide_type": "subslide"
    }
   },
   "outputs": [
    {
     "data": {
      "image/png": "[encoded data removed]",
      "text/plain": [
       "<Figure size 720x576 with 10 Axes>"
      ]
     },
     "metadata": {},
     "output_type": "display_data"
    }
   ],
   "source": [
    "_= mnh.fit()\n",
    "mnist_fig, mnist_ax = mnh.plot_coeff()"
   ]
  },
  {
   "cell_type": "markdown",
   "metadata": {
    "slideshow": {
     "slide_type": "subslide"
    }
   },
   "source": [
    "Recall\n",
    "- There is one parameter per pixel\n",
    "- The parameters are ordered in the same way as the linearization of the pixels\n",
    "    - from $(28 \\times 28)$ grid to a vector of 784 numbers.\n",
    "- We can display the 784 parameters in a $(28 \\times 28)$ image to show the intensity of parameter associated with a pixel\n",
    "- White is high parameter value; Black is low (or negative)"
   ]
  },
  {
   "cell_type": "markdown",
   "metadata": {
    "slideshow": {
     "slide_type": "subslide"
    }
   },
   "source": [
    "- The template for $0$ emphasizes small values (absence of bright pixels) in the center of the image\n",
    "- The template for $1$ emphasizes bright vertical pixels\n",
    "- The template for $8$ emphasizes the absence of bright pixels\n",
    "    - in the two circles\n",
    "    - in the pinched waist"
   ]
  },
  {
   "cell_type": "markdown",
   "metadata": {
    "slideshow": {
     "slide_type": "subslide"
    }
   },
   "source": [
    "You can now imagine how these templates might lead to misclassification\n",
    "\n",
    "What is the classification of\n",
    "- a \"7\" with a strong vertical line in the center (that's what the \"1\" template tries to match)\n",
    "- a thin \"0\" (the \"0\" template is looking for a large donut)\n",
    "\n",
    "So interpretation is a very powerful diagnostic tool for both understanding and improving your models."
   ]
  },
  {
   "cell_type": "code",
   "execution_count": 7,
   "metadata": {
    "slideshow": {
     "slide_type": "slide"
    }
   },
   "outputs": [
    {
     "name": "stdout",
     "output_type": "stream",
     "text": [
      "Done\n"
     ]
    }
   ],
   "source": [
    "print(\"Done\")"
   ]
  }
 ],
 "metadata": {
  "celltoolbar": "Slideshow",
  "kernelspec": {
   "display_name": "Python 3",
   "language": "python",
   "name": "python3"
  },
  "language_info": {
   "codemirror_mode": {
    "name": "ipython",
    "version": 3
   },
   "file_extension": ".py",
   "mimetype": "text/x-python",
   "name": "python",
   "nbconvert_exporter": "python",
   "pygments_lexer": "ipython3",
   "version": "3.7.4"
  },
  "toc": {
   "base_numbering": 1,
   "nav_menu": {},
   "number_sections": true,
   "sideBar": true,
   "skip_h1_title": false,
   "title_cell": "Table of Contents",
   "title_sidebar": "Contents",
   "toc_cell": false,
   "toc_position": {
    "height": "calc(100% - 180px)",
    "left": "10px",
    "top": "150px",
    "width": "370.594px"
   },
   "toc_section_display": true,
   "toc_window_display": true
  }
 },
 "nbformat": 4,
 "nbformat_minor": 2
}
