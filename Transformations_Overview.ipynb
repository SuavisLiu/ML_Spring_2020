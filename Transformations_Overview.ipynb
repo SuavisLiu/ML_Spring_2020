{
 "cells": [
  {
   "cell_type": "code",
   "execution_count": 1,
   "metadata": {
    "slideshow": {
     "slide_type": "notes"
    }
   },
   "outputs": [
    {
     "data": {
      "text/latex": [
       "$$\n",
       "\\newcommand{\\x}{\\mathbf{x}}\n",
       "\\newcommand{\\tx}{\\tilde{\\x}}\n",
       "\\newcommand{\\y}{\\mathbf{y}}\n",
       "\\newcommand{\\b}{\\mathbf{b}}\n",
       "\\newcommand{\\c}{\\mathbf{c}}\n",
       "\\newcommand{\\e}{\\mathbf{e}}\n",
       "\\newcommand{\\z}{\\mathbf{z}}\n",
       "\\newcommand{\\h}{\\mathbf{h}}\n",
       "\\newcommand{\\v}{\\mathbf{v}}\n",
       "\\newcommand{\\w}{\\mathbf{w}}\n",
       "\\newcommand{\\W}{\\mathbf{W}}\n",
       "\\newcommand{\\X}{\\mathbf{X}}\n",
       "\\newcommand{\\KL}{\\mathbf{KL}}\n",
       "\\newcommand{\\E}{{\\mathbb{E}}}\n",
       "\\newcommand{\\ip}{\\mathbf{{(i)}}}\n",
       "%\n",
       "% Test set\n",
       "\\newcommand{\\xt}{\\underline{\\x}}\n",
       "\\newcommand{\\yt}{\\underline{\\y}}\n",
       "\\newcommand{\\Xt}{\\underline{\\X}}\n",
       "\\newcommand{\\perfm}{\\mathcal{P}}\n",
       "%\n",
       "% \\ll indexes a layer; we can change the actual letter\n",
       "\\newcommand{\\ll}{l}\n",
       "\\newcommand{\\llp}{{(\\ll)}}\n",
       "%\n",
       "\\newcommand{Thetam}{\\Theta_{-0}}\n",
       "\n",
       "%\n",
       "% \\tt indexes a time step\n",
       "\\newcommand{\\tt}{t}\n",
       "\\newcommand{\\tp}{{(\\tt)}}\n",
       "%\n",
       "\\newcommand{\\loss}{\\mathcal{L}}\n",
       "\\newcommand{\\cost}{\\mathcal{L}}\n",
       "%\n",
       "%                     \n",
       "\\newcommand{\\pdata}{p_\\text{data}}\n",
       "\\newcommand{\\pmodel}{p_\\text{model}}\n",
       "%\n",
       "% SVM\n",
       "\\newcommand{\\margin}{{\\mathbb{m}}}\n",
       "\\newcommand{\\lmk}{\\boldsymbol{\\ell}}\n",
       "%\n",
       "% Functions with arguments\n",
       "\\def\\xsy#1#2{#1^#2}\n",
       "\\def\\rand#1{\\tilde{#1}}\n",
       "\\def\\randx{\\rand{\\x}}\n",
       "\\def\\randy{\\rand{\\y}}\n",
       "\\def\\trans#1{\\dot{#1}}\n",
       "\\def\\transx{\\trans{\\x}}\n",
       "\\def\\transy{\\trans{\\y}}\n",
       "%\n",
       "\\def\\argmax#1{\\underset{#1} {\\operatorname{argmax}} }\n",
       "\\def\\argmin#1{\\underset{#1} {\\operatorname{argmin}} }\n",
       "\\def\\max#1{\\underset{#1} {\\operatorname{max}} }\n",
       "\\def\\min#1{\\underset{#1} {\\operatorname{min}} }\n",
       "%\n",
       "\\def\\pr#1{\\mathcal{p}(#1)}\n",
       "\\def\\cnt#1{\\mathcal{count}_{#1}}\n",
       "\\def\\node#1{\\mathbb{#1}}\n",
       "%\n",
       "\\newcommand{\\floor}[1]{\\left\\lfloor #1 \\right\\rfloor}\n",
       "\\newcommand{\\ceil}[1]{\\left\\lceil #1 \\right\\rceil}\n",
       "%\n",
       "\n",
       "$$\n"
      ],
      "text/plain": [
       "<IPython.core.display.Latex object>"
      ]
     },
     "metadata": {},
     "output_type": "display_data"
    }
   ],
   "source": [
    "%run Latex_macros.ipynb"
   ]
  },
  {
   "cell_type": "code",
   "execution_count": 2,
   "metadata": {
    "slideshow": {
     "slide_type": "notes"
    }
   },
   "outputs": [],
   "source": [
    "# My standard magic !  You will see this in almost all my notebooks.\n",
    "\n",
    "from IPython.core.interactiveshell import InteractiveShell\n",
    "InteractiveShell.ast_node_interactivity = \"all\"\n",
    "\n",
    "# Reload all modules imported with %aimport\n",
    "%load_ext autoreload\n",
    "%autoreload 1\n",
    "\n",
    "%matplotlib inline"
   ]
  },
  {
   "cell_type": "code",
   "execution_count": 3,
   "metadata": {
    "slideshow": {
     "slide_type": "notes"
    }
   },
   "outputs": [],
   "source": [
    "import numpy as np\n",
    "import pandas as pd\n",
    "import matplotlib.pyplot as plt\n",
    "\n",
    "from sklearn import svm, pipeline\n",
    "from sklearn.preprocessing import PolynomialFeatures\n",
    "\n",
    "import training_models_helper as tmh\n",
    "%aimport training_models_helper\n",
    "\n",
    "tm = tmh.TrainingModelsHelper()\n",
    "\n",
    "import svm_helper\n",
    "%aimport svm_helper\n",
    "svmh = svm_helper.SVM_Helper()\n",
    "\n",
    "kn = tmh.KNN_Helper()\n",
    "\n",
    "import transform_helper\n",
    "%aimport transform_helper\n",
    "\n",
    "th = transform_helper.Transformation_Helper()\n",
    "\n",
    "iph = transform_helper.InfluentialPoints_Helper()\n",
    "\n",
    "import svm_helper\n",
    "%aimport svm_helper\n",
    "svmh = svm_helper.SVM_Helper()"
   ]
  },
  {
   "cell_type": "markdown",
   "metadata": {
    "slideshow": {
     "slide_type": "slide"
    }
   },
   "source": [
    "# Transformations\n",
    "\n",
    "It is often the case that the \"raw\" example data is not yet in a form amenable to successful modeling.\n",
    "\n",
    "We have already encountered two such cases\n",
    "- The \"curvy\" dataset in Linear Regression\n",
    "    - The raw data was not amenable to a linear model until we added a polynomial feature\n",
    "- The Categorical features in our Classification task\n",
    "    - Non-numeric data needed to be encoded as numbers"
   ]
  },
  {
   "cell_type": "markdown",
   "metadata": {
    "slideshow": {
     "slide_type": "subslide"
    }
   },
   "source": [
    "As motivation, consider a Binary Classification task\n",
    "- examples have a single numeric feature\n",
    "- Classes Positive and Negative\n",
    "    - encoded as 1 and 0\n",
    "\n",
    "It should be clear from the plot that the classes are not linearly separable."
   ]
  },
  {
   "cell_type": "code",
   "execution_count": 16,
   "metadata": {
    "slideshow": {
     "slide_type": "subslide"
    }
   },
   "outputs": [
    {
     "data": {
      "image/png": "[encoded data removed]",
      "text/plain": [
       "<Figure size 864x432 with 1 Axes>"
      ]
     },
     "execution_count": 16,
     "metadata": {},
     "output_type": "execute_result"
    }
   ],
   "source": [
    "th = transform_helper.Transformation_Helper()\n",
    "fig_raw, ax_raw, fig_trans, ax_trans = th.LinearSeparate_1d_example(max_val=10, num_examples=50, visible=False)\n",
    "\n",
    "fig_raw"
   ]
  },
  {
   "cell_type": "markdown",
   "metadata": {
    "slideshow": {
     "slide_type": "subslide"
    }
   },
   "source": [
    "But consider the simple transformation of added a new dimension\n",
    "- $\\x_2 = \\x_1^2$"
   ]
  },
  {
   "cell_type": "code",
   "execution_count": 17,
   "metadata": {
    "slideshow": {
     "slide_type": "subslide"
    }
   },
   "outputs": [
    {
     "data": {
      "image/png": "[encoded data removed]",
      "text/plain": [
       "<Figure size 864x432 with 1 Axes>"
      ]
     },
     "execution_count": 17,
     "metadata": {},
     "output_type": "execute_result"
    }
   ],
   "source": [
    "fig_trans"
   ]
  },
  {
   "cell_type": "markdown",
   "metadata": {
    "slideshow": {
     "slide_type": "subslide"
    }
   },
   "source": [
    "This simple transformation has made the data linearly separable\n",
    "- and thus amenable to several classification models"
   ]
  },
  {
   "cell_type": "code",
   "execution_count": null,
   "metadata": {
    "slideshow": {
     "slide_type": "subslide"
    }
   },
   "outputs": [],
   "source": [
    "In this module we focus on the process of transforming raw examples into a form that\n",
    "facilitates successful modeling.\n",
    "\n",
    "We will use the term *Transformation* broadly to encompass this process, sometimes including\n",
    "- Cleaning\n",
    "- Numericalization (Handle Non-Numeric attributes)\n",
    "- Scaling\n"
   ]
  },
  {
   "cell_type": "markdown",
   "metadata": {},
   "source": [
    "<center><b>Process</b>\n",
    "<img src=images/ML_process.jpg>\n",
    "</center>"
   ]
  },
  {
   "cell_type": "markdown",
   "metadata": {
    "slideshow": {
     "slide_type": "subslide"
    }
   },
   "source": [
    "Our focus\n",
    "- Is not so much on the *how* (relatively straight forward)\n",
    "    - We will enumerate transformations built-into `sklearn`\n",
    "- But on the *when* and *why*\n",
    "    - Transformations are one of the key skills of a successful Data Scientist"
   ]
  },
  {
   "cell_type": "markdown",
   "metadata": {
    "slideshow": {
     "slide_type": "slide"
    }
   },
   "source": [
    "# The mechanics of transformations\n",
    "\n",
    "Let's briefly review the *how*:\n",
    "- [Mechanics of transformations](Transformations_Mechanics.ipynb)\n",
    "- [Coding transformations in `sklearn`](Transformations_Pipelines.ipynb)\n"
   ]
  },
  {
   "cell_type": "markdown",
   "metadata": {
    "slideshow": {
     "slide_type": "slide"
    }
   },
   "source": [
    "# The why's of transformations\n",
    "\n",
    "There are many different types of transformations, and the same transformation may be used for several reasons.\n",
    "\n",
    "This makes it hard to provide a clean taxonomy.\n",
    "\n",
    "We will instead motivate most transformations with example use cases."
   ]
  },
  {
   "cell_type": "markdown",
   "metadata": {
    "slideshow": {
     "slide_type": "slide"
    }
   },
   "source": [
    "## Making the data fit your model's assumptions\n",
    "\n",
    "We have thus far been dealing with models that assume a linear relationship between targets and features.\n",
    "\n",
    "Sometimes, either the target (e.g., Logistic Regression) or the features (\"curvy data\" for Linear Regression)\n",
    "need to be transformed to induce linearity.\n",
    "\n",
    "Let's visit the notebook section [Inducing linearity](Transformations.ipynb#Linearity-inducing-transformations:-Making-data-fit-your-model)"
   ]
  },
  {
   "cell_type": "markdown",
   "metadata": {
    "slideshow": {
     "slide_type": "slide"
    }
   },
   "source": [
    "## Missing features\n",
    "\n",
    "Sometimes, your examples have all the \"information\" you need, but in the wrong form.\n",
    "\n",
    "Creating new \"synthetic\" features from raw features is one way of making this information\n",
    "available to the model.\n",
    "\n",
    "Let's visit the notebook section [Missing numeric features](Transformations.ipynb#Transformation-to-add-a-%22missing%22numeric-feature)"
   ]
  },
  {
   "cell_type": "markdown",
   "metadata": {
    "slideshow": {
     "slide_type": "subslide"
    }
   },
   "source": [
    "## Missing \"group\" indicator feature\n",
    "\n",
    "**identical up to an additive constant**\n",
    "\n",
    "There is a more subtle case of a missing feature\n",
    "- examples that naturally partition into sub-groups\n",
    "\n",
    "The sub-groups might be examples that come from similar geographies or points in time.\n",
    "\n",
    "The key is that\n",
    "- The relationship between target and features is *almost identical* between groups\n",
    "- with the exception of a constant shift\n",
    "    \n",
    "Adding indicator/dummy variables as new features is the way to address this.\n",
    "\n",
    "Let's visit the notebook section [Missing indicator](Transformations.ipynb#Transformation-to-add-a-%22missing%22-indicator)"
   ]
  },
  {
   "cell_type": "markdown",
   "metadata": {
    "slideshow": {
     "slide_type": "slide"
    }
   },
   "source": [
    "## Cross features\n",
    "\n",
    "We witnessed the power of a simple indicator feature to isolate differences between groups of\n",
    "examples.\n",
    "\n",
    "It is possible to\n",
    "- Create multiple indicator features\n",
    "- Create indicator features that are the *product* of other indicators\n",
    "\n",
    "This is called a *cross feature* and is a powerful way to isolate complicated sub-groups of examples.\n",
    "\n",
    "Let's visit the notebook section [Cross features](Transformations.ipynb#Cross-features)\n"
   ]
  },
  {
   "cell_type": "markdown",
   "metadata": {
    "slideshow": {
     "slide_type": "slide"
    }
   },
   "source": [
    "## Feature Scaling\n",
    "\n",
    "There is a class of transformations that alter the *scale* (magnitude) of \n",
    "features.\n",
    "\n",
    "In the Recipe for ML, Scaling is treated as separate from the othe transformations.\n",
    "\n",
    "Perhaps this is because scaling is sometimes performed \n",
    "- *not* strictly because of the relationship between target and features\n",
    "- but because of the mathematics of the *loss function*\n",
    "\n",
    "Let's visit the notebook section [Scale sensitive loss functions](/Transformations.ipynb#Feature-scaling)"
   ]
  },
  {
   "cell_type": "markdown",
   "metadata": {
    "slideshow": {
     "slide_type": "slide"
    }
   },
   "source": [
    "## Normalization\n",
    "\n",
    "We will use the term \"normalization\" (non-standard terminology ?) to refer\n",
    "to a transformation that re-scales examples by different amounts\n",
    "- as opposed to traditional \"scaling\" where all examples are scaled equally\n",
    "\n",
    "Let's visit the notebook section [Target normalization](Transformations.ipynb#Target-??-normalization)"
   ]
  },
  {
   "cell_type": "markdown",
   "metadata": {
    "slideshow": {
     "slide_type": "slide"
    }
   },
   "source": [
    "# Other transformations\n",
    "\n",
    "The continuation of the linked notebook describes more transformations.\n",
    "\n",
    "We encourage you to review these.\n",
    "-  [Categorical variable transformation](Transformations.ipynb#Categorical-transformation) \n",
    "- [Transformations to induce normality](Transformations.ipynb#Normality-inducing-transformations)\n",
    "- [Other transformation](Transformations.ipynb#Other-transformations)"
   ]
  },
  {
   "cell_type": "code",
   "execution_count": 18,
   "metadata": {
    "slideshow": {
     "slide_type": "slide"
    }
   },
   "outputs": [
    {
     "name": "stdout",
     "output_type": "stream",
     "text": [
      "Done\n"
     ]
    }
   ],
   "source": [
    "print(\"Done\")"
   ]
  }
 ],
 "metadata": {
  "celltoolbar": "Slideshow",
  "kernelspec": {
   "display_name": "Python 3",
   "language": "python",
   "name": "python3"
  },
  "language_info": {
   "codemirror_mode": {
    "name": "ipython",
    "version": 3
   },
   "file_extension": ".py",
   "mimetype": "text/x-python",
   "name": "python",
   "nbconvert_exporter": "python",
   "pygments_lexer": "ipython3",
   "version": "3.7.4"
  },
  "toc": {
   "base_numbering": 1,
   "nav_menu": {},
   "number_sections": true,
   "sideBar": true,
   "skip_h1_title": false,
   "title_cell": "Table of Contents",
   "title_sidebar": "Contents",
   "toc_cell": false,
   "toc_position": {
    "height": "calc(100% - 180px)",
    "left": "10px",
    "top": "150px",
    "width": "369px"
   },
   "toc_section_display": true,
   "toc_window_display": true
  }
 },
 "nbformat": 4,
 "nbformat_minor": 2
}
