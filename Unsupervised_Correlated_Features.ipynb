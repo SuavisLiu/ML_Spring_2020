{
 "cells": [
  {
   "cell_type": "code",
   "execution_count": 1,
   "metadata": {
    "slideshow": {
     "slide_type": "notes"
    }
   },
   "outputs": [
    {
     "data": {
      "text/latex": [
       "$$\n",
       "\\newcommand{\\x}{\\mathbf{x}}\n",
       "\\newcommand{\\tx}{\\tilde{\\x}}\n",
       "\\newcommand{\\y}{\\mathbf{y}}\n",
       "\\newcommand{\\b}{\\mathbf{b}}\n",
       "\\newcommand{\\c}{\\mathbf{c}}\n",
       "\\newcommand{\\e}{\\mathbf{e}}\n",
       "\\newcommand{\\z}{\\mathbf{z}}\n",
       "\\newcommand{\\h}{\\mathbf{h}}\n",
       "\\newcommand{\\u}{\\mathbf{u}}\n",
       "\\newcommand{\\v}{\\mathbf{v}}\n",
       "\\newcommand{\\w}{\\mathbf{w}}\n",
       "\\newcommand{\\W}{\\mathbf{W}}\n",
       "\\newcommand{\\X}{\\mathbf{X}}\n",
       "\\newcommand{\\KL}{\\mathbf{KL}}\n",
       "\\newcommand{\\E}{{\\mathbb{E}}}\n",
       "\\newcommand{\\ip}{\\mathbf{{(i)}}}\n",
       "%\n",
       "% Test set\n",
       "\\newcommand{\\xt}{\\underline{\\x}}\n",
       "\\newcommand{\\yt}{\\underline{\\y}}\n",
       "\\newcommand{\\Xt}{\\underline{\\X}}\n",
       "\\newcommand{\\perfm}{\\mathcal{P}}\n",
       "%\n",
       "% \\ll indexes a layer; we can change the actual letter\n",
       "\\newcommand{\\ll}{l}\n",
       "\\newcommand{\\llp}{{(\\ll)}}\n",
       "%\n",
       "\\newcommand{Thetam}{\\Theta_{-0}}\n",
       "\n",
       "%\n",
       "% \\tt indexes a time step\n",
       "\\newcommand{\\tt}{t}\n",
       "\\newcommand{\\tp}{{(\\tt)}}\n",
       "%\n",
       "\\newcommand{\\loss}{\\mathcal{L}}\n",
       "\\newcommand{\\cost}{\\mathcal{L}}\n",
       "%\n",
       "%                     \n",
       "\\newcommand{\\pdata}{p_\\text{data}}\n",
       "\\newcommand{\\pmodel}{p_\\text{model}}\n",
       "%\n",
       "% SVM\n",
       "\\newcommand{\\margin}{{\\mathbb{m}}}\n",
       "\\newcommand{\\lmk}{\\boldsymbol{\\ell}}\n",
       "%\n",
       "% Functions with arguments\n",
       "\\def\\xsy#1#2{#1^#2}\n",
       "\\def\\rand#1{\\tilde{#1}}\n",
       "\\def\\randx{\\rand{\\x}}\n",
       "\\def\\randy{\\rand{\\y}}\n",
       "\\def\\trans#1{\\dot{#1}}\n",
       "\\def\\transx{\\trans{\\x}}\n",
       "\\def\\transy{\\trans{\\y}}\n",
       "%\n",
       "\\def\\argmax#1{\\underset{#1} {\\operatorname{argmax}} }\n",
       "\\def\\argmin#1{\\underset{#1} {\\operatorname{argmin}} }\n",
       "\\def\\max#1{\\underset{#1} {\\operatorname{max}} }\n",
       "\\def\\min#1{\\underset{#1} {\\operatorname{min}} }\n",
       "%\n",
       "\\def\\pr#1{\\mathcal{p}(#1)}\n",
       "\\def\\prc#1#2{\\mathcal{p}(#1 \\; | \\; #2)}\n",
       "\\def\\cnt#1{\\mathcal{count}_{#1}}\n",
       "\\def\\node#1{\\mathbb{#1}}\n",
       "%\n",
       "\\newcommand{\\floor}[1]{\\left\\lfloor #1 \\right\\rfloor}\n",
       "\\newcommand{\\ceil}[1]{\\left\\lceil #1 \\right\\rceil}\n",
       "%\n",
       "\\def\\loc#1{{\\text{##} {#1}}}\n",
       "%\n",
       "$$\n"
      ],
      "text/plain": [
       "<IPython.core.display.Latex object>"
      ]
     },
     "metadata": {},
     "output_type": "display_data"
    }
   ],
   "source": [
    "%run Latex_macros.ipynb"
   ]
  },
  {
   "cell_type": "code",
   "execution_count": 2,
   "metadata": {
    "slideshow": {
     "slide_type": "notes"
    }
   },
   "outputs": [],
   "source": [
    "# My standard magic !  You will see this in almost all my notebooks.\n",
    "\n",
    "from IPython.core.interactiveshell import InteractiveShell\n",
    "InteractiveShell.ast_node_interactivity = \"all\"\n",
    "\n",
    "# Reload all modules imported with %aimport\n",
    "%load_ext autoreload\n",
    "%autoreload 1\n",
    "\n",
    "%matplotlib inline"
   ]
  },
  {
   "cell_type": "code",
   "execution_count": 3,
   "metadata": {
    "slideshow": {
     "slide_type": "notes"
    }
   },
   "outputs": [],
   "source": [
    "import numpy as np\n",
    "import os\n",
    "\n",
    "import matplotlib.pyplot as plt\n",
    "\n",
    "import class_helper\n",
    "%aimport class_helper\n"
   ]
  },
  {
   "cell_type": "markdown",
   "metadata": {
    "slideshow": {
     "slide_type": "slide"
    }
   },
   "source": [
    "# Correlated features\n",
    "Consider the following set of examples with $2$ features"
   ]
  },
  {
   "cell_type": "code",
   "execution_count": 4,
   "metadata": {
    "slideshow": {
     "slide_type": "subslide"
    }
   },
   "outputs": [
    {
     "data": {
      "image/png": "[encoded data removed]",
      "text/plain": [
       "<Figure size 864x288 with 1 Axes>"
      ]
     },
     "metadata": {
      "needs_background": "light"
     },
     "output_type": "display_data"
    }
   ],
   "source": [
    "import numpy as np\n",
    "import matplotlib.pyplot as plt\n",
    "\n",
    "%matplotlib inline\n",
    "\n",
    "m = 30\n",
    "rng = np.random.RandomState(1)\n",
    "x_1 = rng.rand(m)\n",
    "x_2 = 2 * x_1\n",
    "\n",
    "fig, ax = plt.subplots(1,1,figsize=(12,4))\n",
    "_= ax.scatter( x_1, x_2, color=\"blue\", s=50)\n",
    "_= ax.plot( x_1, x_2, color=\"black\", linestyle=\"dashed\")\n",
    "_= ax.set_xlabel(\"$x_1$\")\n",
    "_= ax.set_ylabel(\"$x_2$\")"
   ]
  },
  {
   "cell_type": "markdown",
   "metadata": {
    "slideshow": {
     "slide_type": "subslide"
    }
   },
   "source": [
    "As you can see\n",
    "- $\\x_2$ is perfectly correlated with $\\x_1$\n",
    "$$\n",
    "\\x_2^\\ip = 2 * \\x_1^\\ip\n",
    "$$"
   ]
  },
  {
   "cell_type": "markdown",
   "metadata": {
    "slideshow": {
     "slide_type": "subslide"
    }
   },
   "source": [
    "A way to conceptualize $\\x^\\ip$\n",
    "- As a point in the space spanned by unit basis vectors\n",
    "$$\\begin{array}[lll]\\\\\n",
    "\\u_{(1)} = (1,0) \\\\\n",
    "\\u_{(2)} = (0,1) \\\\\n",
    "\\end{array}\n",
    "$$\n",
    "- With $\\x^\\ip$ having exposure \n",
    "\n",
    "$$\n",
    "\\begin{array}[lll]\\\\\n",
    "\\x^\\ip_1 \\text{ to } \\u_{(1)} \\\\\n",
    "\\x^\\ip_2 \\text{ to } \\u_{(2)} \\\\\n",
    "\\end{array}\n",
    "$$\n",
    "\n",
    "\n",
    "So example $\\x^\\ip$ is\n",
    "$$\n",
    "\\x^\\ip = \\sum_{j'=1}^2 { \\x^\\ip_{j'} * \\u_{(j')} }\n",
    "$$"
   ]
  },
  {
   "cell_type": "markdown",
   "metadata": {
    "slideshow": {
     "slide_type": "subslide"
    }
   },
   "source": [
    "But because\n",
    "$$\n",
    "\\x_2^\\ip = 2 * \\x_1^\\ip\n",
    "$$\n",
    "\n",
    "we can create an *alternate* basis vector\n",
    "$$\n",
    "\\tilde{\\v}_{(1)} = (1,2)\n",
    "$$\n",
    "\n",
    "such that example $\\x^\\ip$ is\n",
    "$$\n",
    "\\x^\\ip = \\tilde\\x^\\ip_1 * \\tilde{\\v}_{(1)}\n",
    "$$\n",
    "where $\\tilde\\x^\\ip_1 = \\x^\\ip_1$"
   ]
  },
  {
   "cell_type": "markdown",
   "metadata": {
    "slideshow": {
     "slide_type": "subslide"
    }
   },
   "source": [
    "That is, $\\x^\\ip$ has exposure $\\tilde\\x^\\ip_1$ to the new, single basis vector.\n",
    "\n",
    "So \n",
    "- Rather than representing $\\x^\\ip$ as a vector with 2 features (in the original basis)\n",
    "- We can represent it as $\\tilde\\x^\\ip$, a vector with 1 feature (in the new basis)\n",
    "\n",
    "This is the essence of dimensionality reduction\n",
    "- Changing bases to one with fewer basis vectors"
   ]
  },
  {
   "cell_type": "markdown",
   "metadata": {
    "slideshow": {
     "slide_type": "subslide"
    }
   },
   "source": [
    "It is rarely the case for features to be perfectly correlated\n"
   ]
  },
  {
   "cell_type": "code",
   "execution_count": 5,
   "metadata": {
    "slideshow": {
     "slide_type": "subslide"
    }
   },
   "outputs": [
    {
     "data": {
      "image/png": "[encoded data removed]",
      "text/plain": [
       "<Figure size 432x432 with 1 Axes>"
      ]
     },
     "metadata": {
      "needs_background": "light"
     },
     "output_type": "display_data"
    }
   ],
   "source": [
    "eps = .01\n",
    "x_2p = 2 * x_1 + .2 * rng.randn( x_1.shape[0] )\n",
    "\n",
    "x_p = np.concatenate( [ x_1.reshape(-1,1), x_2p.reshape(-1,1)], axis=1)\n",
    "\n",
    "fig, ax = plt.subplots(1,1,figsize=(6,6))\n",
    "_= ax.scatter( x_p[:,0], x_p[:,1], color=\"blue\", s=50)\n",
    "_= ax.plot( x_1, x_2, color=\"black\", linestyle=\"dashed\")\n",
    "_= ax.set_xlabel(\"$x_1$\")\n",
    "_= ax.set_ylabel(\"$x_2$\")\n",
    "_= ax.axis(\"equal\")"
   ]
  },
  {
   "cell_type": "markdown",
   "metadata": {},
   "source": [
    "In this case\n",
    "- A second basis vector $\\tilde{\\v}_{(2)}$\n",
    "- Orthogonal to the first\n",
    "$$\n",
    "\\tilde{\\v}_{(1)} \\cdot \\tilde{\\v}_{(2)} = 0\n",
    "$$\n",
    " could approximate $\\x^\\ip$\n",
    " $$\n",
    "\\x^\\ip = \\sum_{j'=1}^2 { \\tilde\\x^\\ip_{j'} * \\tilde{\\v}_{(j')} }\n",
    "$$"
   ]
  },
  {
   "cell_type": "code",
   "execution_count": 6,
   "metadata": {},
   "outputs": [
    {
     "data": {
      "image/png": "[encoded data removed]",
      "text/plain": [
       "<Figure size 432x432 with 1 Axes>"
      ]
     },
     "metadata": {
      "needs_background": "light"
     },
     "output_type": "display_data"
    }
   ],
   "source": [
    "from sklearn.decomposition import PCA\n",
    "import math\n",
    "\n",
    "pca_x2p = PCA()\n",
    "#x_p = x_p - x_p.mean(axis=0)\n",
    "                    \n",
    "pca_x2p_proj = pca_x2p.fit_transform(x_p)\n",
    "\n",
    "\n",
    "def draw_vector(v0, v1, ax=None):\n",
    "    arrowprops=dict(arrowstyle='->',\n",
    "                    linewidth=2,\n",
    "                    color=\"black\",\n",
    "                    shrinkA=0, shrinkB=0)\n",
    "    _ = ax.annotate('', v1, v0, arrowprops=arrowprops)\n",
    "\n",
    "    return ax\n",
    "\n",
    "fig, ax = plt.subplots(1,1, figsize=(6,6))\n",
    "mean = x_p.mean(axis=0)\n",
    "\n",
    "maxp = np.sqrt( pca_x2p.explained_variance_[-1] )\n",
    "\n",
    "_= ax.scatter( x_p[:,0], x_p[:,1], color=\"blue\", s=10)\n",
    "\n",
    "for i in range(0, 2):\n",
    "    comp, length = pca_x2p.components_[i], pca_x2p.explained_variance_[i]\n",
    "    v = comp  # *  np.sqrt(length)   \n",
    "    _= draw_vector( mean, mean + v , ax=ax)\n",
    "   \n",
    "\n",
    "\n",
    "_= ax.scatter( mean[0], mean[1], s=50, color=\"black\")\n",
    "\n",
    "_= ax.axis(\"equal\")\n"
   ]
  },
  {
   "cell_type": "markdown",
   "metadata": {
    "slideshow": {
     "slide_type": "subslide"
    }
   },
   "source": [
    "The black lines represent the alternate basis vectors $\\tilde{\\v}_{(1)}, \\tilde{\\v}_{(2)}$.\n",
    "\n",
    "As you can see:\n",
    "- The variation along $\\tilde{\\v}_{(1)}$ is much greater than that around $\\tilde{\\v}_{(2)}$\n",
    "- Capturing the notion that the \"main\" relationship is along $\\tilde{\\u}_{(1)}$\n",
    "\n",
    "In fact, if we dropped $\\tilde{\\v}_{(2)}$ such that $|| \\tilde\\x || = 1$\n",
    "- The examples would be projected onto $\\tilde{\\v}_{(1)}$\n",
    "- With little information being lost"
   ]
  },
  {
   "cell_type": "markdown",
   "metadata": {
    "slideshow": {
     "slide_type": "slide"
    }
   },
   "source": [
    "# Subsets of correlated features\n",
    "\n",
    "It may not be the case that a group of features is correlated across *all* examples\n",
    "\n",
    "Consider the MNIST digits\n",
    "- The subset of examples corresponding to the digit \"1\"\n",
    "- Have a particular set of correlated features (forming a vertical column of pixels)\n",
    "- Which *may not* be correlated with the same features in examples corresponding to *other* digits\n",
    "\n",
    "Thus, a synthetic feature encodes a \"concept\" that occurs in many but not all examples\n",
    "\n",
    "The \"concept\" will be *discovered*\n",
    "- It may not necessarily be the pattern of features that corresponds to an entire digit\n",
    "- It may be a partial pattern common to several digits\n",
    "    - Vertical band (0, 1, 4, 7)\n",
    "    - Horizontal band at top (5, 7, 9)"
   ]
  },
  {
   "cell_type": "code",
   "execution_count": 7,
   "metadata": {
    "slideshow": {
     "slide_type": "slide"
    }
   },
   "outputs": [
    {
     "name": "stdout",
     "output_type": "stream",
     "text": [
      "Done\n"
     ]
    }
   ],
   "source": [
    "print(\"Done\")"
   ]
  }
 ],
 "metadata": {
  "celltoolbar": "Slideshow",
  "kernelspec": {
   "display_name": "Python 3",
   "language": "python",
   "name": "python3"
  },
  "language_info": {
   "codemirror_mode": {
    "name": "ipython",
    "version": 3
   },
   "file_extension": ".py",
   "mimetype": "text/x-python",
   "name": "python",
   "nbconvert_exporter": "python",
   "pygments_lexer": "ipython3",
   "version": "3.7.4"
  },
  "toc": {
   "base_numbering": 1,
   "nav_menu": {},
   "number_sections": true,
   "sideBar": true,
   "skip_h1_title": false,
   "title_cell": "Table of Contents",
   "title_sidebar": "Contents",
   "toc_cell": false,
   "toc_position": {},
   "toc_section_display": true,
   "toc_window_display": false
  }
 },
 "nbformat": 4,
 "nbformat_minor": 2
}
