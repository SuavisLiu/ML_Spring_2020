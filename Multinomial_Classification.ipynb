{
 "cells": [
  {
   "cell_type": "markdown",
   "metadata": {
    "slideshow": {
     "slide_type": "notes"
    }
   },
   "source": [
    "%run Latex_macros.ipynb"
   ]
  },
  {
   "cell_type": "markdown",
   "metadata": {
    "slideshow": {
     "slide_type": "notes"
    }
   },
   "source": [
    "$$\n",
    "\\newcommand{\\o}{\\mathbf{o}}\n",
    "$$\n"
   ]
  },
  {
   "cell_type": "code",
   "execution_count": 1,
   "metadata": {
    "slideshow": {
     "slide_type": "notes"
    }
   },
   "outputs": [],
   "source": [
    "# My standard magic !  You will see this in almost all my notebooks.\n",
    "\n",
    "from IPython.core.interactiveshell import InteractiveShell\n",
    "InteractiveShell.ast_node_interactivity = \"all\"\n",
    "\n",
    "# Reload all modules imported with %aimport\n",
    "%load_ext autoreload\n",
    "%autoreload 1\n",
    "%matplotlib inline"
   ]
  },
  {
   "cell_type": "code",
   "execution_count": 2,
   "metadata": {
    "slideshow": {
     "slide_type": "notes"
    }
   },
   "outputs": [],
   "source": [
    "# Standard imports\n",
    "import pandas as pd\n",
    "import numpy as np\n",
    "import matplotlib.pyplot as plt\n",
    "\n",
    "# Common imports\n",
    "import os\n",
    "\n",
    "import mnist_helper\n",
    "%aimport mnist_helper\n",
    "\n",
    "mnh = mnist_helper.MNIST_Helper()\n",
    "\n",
    "import class_helper\n",
    "%aimport class_helper\n",
    "\n",
    "clh= class_helper.Classification_Helper()\n",
    "\n",
    "import training_models_helper as tmh\n",
    "%aimport training_models_helper\n",
    "\n",
    "tm = tmh.TrainingModelsHelper()\n",
    "\n",
    "num_head=5"
   ]
  },
  {
   "cell_type": "code",
   "execution_count": 3,
   "metadata": {
    "slideshow": {
     "slide_type": "notes"
    }
   },
   "outputs": [],
   "source": [
    "from sklearn.model_selection import train_test_split, cross_val_score\n",
    "from sklearn import linear_model, preprocessing, model_selection \n",
    "from sklearn.preprocessing import OneHotEncoder\n",
    "from sklearn.metrics import accuracy_score\n",
    "from sklearn.compose import ColumnTransformer\n",
    "from sklearn.pipeline import Pipeline\n",
    "from sklearn.impute import SimpleImputer \n",
    "from sklearn.base import BaseEstimator, TransformerMixin"
   ]
  },
  {
   "cell_type": "markdown",
   "metadata": {
    "slideshow": {
     "slide_type": "slide"
    }
   },
   "source": [
    "#  Multinomial Classification: from binary to many classes\n",
    "\n",
    "What if our targets come from a class $C$  with more than two discrete values ?\n",
    "\n",
    "The case of $|| C || > 2$ is called **Multinomial** or **Multiclass** Classification.\n",
    "\n"
   ]
  },
  {
   "cell_type": "markdown",
   "metadata": {
    "slideshow": {
     "slide_type": "slide"
    }
   },
   "source": [
    "Some models (e.g. Decision Trees) can handle Multinomial classification directly.\n",
    "\n",
    "For those that can't, there are two general approaches to multinomial classification\n",
    "- Turn the classification task into multiple *binary* classification tasks\n",
    "    - One versus All others, One versus One\n",
    "- Generalize the loss function to directly accomodate multiple classes"
   ]
  },
  {
   "cell_type": "markdown",
   "metadata": {
    "slideshow": {
     "slide_type": "subslide"
    }
   },
   "source": [
    "Both approaches can be viewed as representing target $\\y^\\ip$ \n",
    "- as a *vector* of 1's and 0's of length $||C||$\n",
    "- with exactly 1 non-zero element\n",
    "- if example $i$'s target is the $j^{th}$ element of $C$\n",
    "    - $\\y^\\ip_j = 1$\n",
    "- the sum of the elements of the representation is $1$.\n",
    "    \n",
    "This representing of 1 out of $||C||$ is called *One Hot Encoding (OHE)* and we will discuss it in more\n",
    "detail below."
   ]
  },
  {
   "cell_type": "markdown",
   "metadata": {
    "slideshow": {
     "slide_type": "subslide"
    }
   },
   "source": [
    "This approach produces predictions $\\hat{y}^\\ip$\n",
    "- as a vector of values in the range $[0,1]$ of length $||C||$\n",
    "- whose elements sum to $1$"
   ]
  },
  {
   "cell_type": "markdown",
   "metadata": {
    "slideshow": {
     "slide_type": "subslide"
    }
   },
   "source": [
    "## Prediction as probability\n",
    "\n",
    "Because the representations of $\\y^\\ip$ and $\\hat{\\y}^\\ip$\n",
    "- are of length $||C||$\n",
    "- have elements in the range $[0,1]$\n",
    "- and whose elements sum to $1$\n",
    "\n",
    "both $\\y^\\ip$ and $\\hat{\\y}^\\ip$ can be viewed as *probability distributions* over $||C||$ discrete values.\n",
    "- $\\y^\\ip$ has all the probability lumped at a single value\n",
    "- $\\hat{\\y}^\\ip$ may spread the probability across multiple values\n",
    "    - $\\hat{\\y}^\\ip_j$ is the prob"
   ]
  },
  {
   "cell_type": "markdown",
   "metadata": {
    "slideshow": {
     "slide_type": "subslide"
    }
   },
   "source": [
    "Thus, rather than predicting a single value, $\\hat{\\y}^\\ip$ assigns a probability for each possible target value in $C$\n",
    "- the class of the $j^{th}$ element of $C$ is given by $\\hat{\\y}^\\ip$"
   ]
  },
  {
   "cell_type": "markdown",
   "metadata": {
    "slideshow": {
     "slide_type": "subslide"
    }
   },
   "source": [
    "## Multinomial classification using multiple binary classifiers\n",
    "\n",
    "### One versus all\n",
    "\n",
    "The One versus All (OvA) method creates $||C||$ binary classifiers\n",
    "- one for each $c \\in C$\n",
    "- the classifier for class $c$ identifies \n",
    "    - Positive examples as those having target $c$\n",
    "    - Negative examples as those having targets other than $c$"
   ]
  },
  {
   "cell_type": "markdown",
   "metadata": {
    "slideshow": {
     "slide_type": "subslide"
    }
   },
   "source": [
    "For the binary classifier for class $c$, let\n",
    "- $\\hat{p}^{c} (\\x)$  denote the prediction of example $\\x$ being Positive (i.e., class $c$) made by this binary classifier\n",
    "\n",
    "\n",
    "Combining the predictions for each class into a vector $\\hat{p}$ of length $||C||$ such that\n",
    "$$\n",
    "\\hat{p}_c = \\hat{p}^{c} (\\x)\n",
    "$$"
   ]
  },
  {
   "cell_type": "markdown",
   "metadata": {
    "slideshow": {
     "slide_type": "subslide"
    }
   },
   "source": [
    "Note that the elements of $\\hat{p}$ may not sum to $1$, so in order to create a probability vector\n",
    "we need to normalize its elements in order to create the OvA prediction vector\n",
    "\n",
    "$$\n",
    "\\hat{\\y}_c (\\x) = \\frac{ \\hat{p}^{c} (\\x) } { \\sum_{c' \\in C} {  \\hat{p}^{c'} (\\x)} }\n",
    "$$\n",
    "\n",
    "That is: it normalizes the probabilities so that they sum to $1$ for each example.\n",
    "\n",
    "**Note**\n",
    "\n",
    "We have abused notation by using class $c$ as a subscript of $\\hat{y}, \\hat{p}$ rather than the integer\n",
    "$j$, where $c$ is the $j^{th}$ class in $C$."
   ]
  },
  {
   "cell_type": "markdown",
   "metadata": {
    "slideshow": {
     "slide_type": "subslide"
    }
   },
   "source": [
    "Note that the binary classifier for each class $c$ has it's own parameters $\\Theta_c$.\n",
    "\n",
    "So the number of parameters in the $\\Theta$ for the OvA classifier is $||C||$ times as big\n",
    "as the number of parameters for a single classifier."
   ]
  },
  {
   "cell_type": "markdown",
   "metadata": {
    "slideshow": {
     "slide_type": "subslide"
    }
   },
   "source": [
    "### One versus one\n",
    "\n",
    "The One versus One (OvO) method creates $\\frac{||C|| * (||C|| -1 )}{2}$ binary classifiers\n",
    "- one for each pair $c, c'$ of distinct values in $C$\n",
    "- the classifier for pair $c, c'$ identifies \n",
    "    - Positive examples as those having target $c$\n",
    "    - Negative examples as those having targets $c'$\n",
    "\n",
    "Essentially, OvO creates a \"competition\" between pairs of classes for a given example $\\x$\n",
    "- the class that \"wins\" most often is chosen as the predicted class for the OvO classifier on example $\\x$\n",
    " "
   ]
  },
  {
   "cell_type": "markdown",
   "metadata": {
    "slideshow": {
     "slide_type": "slide"
    }
   },
   "source": [
    "Let's be clear on the number of coefficients estimated in One versus All:\n",
    "\n",
    "For the digit classification problem where there are $C = 10$ classes\n",
    "the number of of parameters is *10 times* that of a binary classifier.\n",
    "\n",
    "Fortunately, `sklearn` hides all of this from you.\n",
    "\n",
    "What you *should* realize is that $||C||$ models are being fit, each with it's own parameters."
   ]
  },
  {
   "cell_type": "markdown",
   "metadata": {
    "slideshow": {
     "slide_type": "slide"
    }
   },
   "source": [
    "## Softmax\n",
    "\n",
    "A number of binary classifiers (e.g., Logistic Regression)\n",
    "- produce a score\n",
    "- which is then converted into a probability \n",
    "\n",
    "For multinomial versions of these classifiers using the One versus All scheme,\n",
    "we can go directly from score to probability\n"
   ]
  },
  {
   "cell_type": "markdown",
   "metadata": {},
   "source": [
    "For the binary classifier for class $c$, let\n",
    "- $\\hat{s}^{c} (\\x)$  denote the score of example $\\x$ produced by this binary classifier\n",
    "\n",
    "The probability vector $\\hat{y}$ can be computed by the *Softmax* function\n",
    "$$\n",
    "\\hat{y}_c(\\x) = \\frac{\\exp( s^{c}(\\x) )}  { \\sum_{c \\in C} {\\exp( s^{c}(\\x) )}}\n",
    "$$\n",
    "\n",
    "You can see that each $\\hat{y}_c(\\x)  \\in [0,1]$ and that\n",
    "$\\sum_{c \\in C} { \\hat{y}_c(\\x) } = 1$ so $\\hat{\\y}$ is indeed a probablility vector.\n",
    "\n",
    "\n"
   ]
  },
  {
   "cell_type": "markdown",
   "metadata": {
    "slideshow": {
     "slide_type": "subslide"
    }
   },
   "source": [
    "The Softmax function is a generalization of the Sigmoid function to more than 2 classes.\n",
    "\n",
    "By exponentiating the score, the softmax magnifies small differences in scores into larger\n",
    "differenece in probability.\n",
    "\n",
    "To illustrate: suppose we have two scores $s^c, s_{c'}$ such that\n",
    "$$\n",
    "\\frac{s^c}{s^{c'}} = M \\approx 1\n",
    "$$\n",
    "\n",
    "- If we normalize scores by dividing a score by the sum (across all scores)\n",
    "    - $\\frac{\\hat{y}_c }{\\hat{y}_{c'}}= M $\n",
    "- If we normalize by softmax\n",
    "    - $\\frac{\\hat{y}_c }{\\hat{y}_{c'}} = \\frac{\\exp(M \\hat{s}_c)}{\\exp(\\hat{s}^{c})} = \\exp(\\hat{s}_c (M-1))$"
   ]
  },
  {
   "cell_type": "markdown",
   "metadata": {
    "slideshow": {
     "slide_type": "subslide"
    }
   },
   "source": [
    "Softmax is most often seen in the context of Logistic Regression."
   ]
  },
  {
   "cell_type": "markdown",
   "metadata": {
    "slideshow": {
     "slide_type": "slide"
    }
   },
   "source": [
    "## Multinomial classification by generalizing the loss function\n",
    "\n",
    "We will deal with the loss functions, both for Binary and Multinomial Classification\n",
    "in a separate module.\n",
    "- For Binary Classification: the loss function is called Binary Cross Entropy\n",
    "- The generalization of the loss function to Multinomial Classification is called *Cross Entropy*"
   ]
  },
  {
   "cell_type": "markdown",
   "metadata": {
    "slideshow": {
     "slide_type": "slide"
    }
   },
   "source": [
    "## Prediction for multinomial classification\n",
    "\n",
    "Both approaches create a prediction vector $\\hat{\\y}$ that is a probability distribution.\n",
    "\n",
    "If we need to choose a single target as our prediction, we can chose the one with greatest probability.\n",
    "We can choose the class $c$ with the largest value in $\\hat{\\mathbf{p}}$ as our prediction\n",
    "$$\n",
    "\\argmax{c \\in \\{1, \\ldots, ||C||\\} } \\hat{\\y}_c \n",
    "$$\n"
   ]
  },
  {
   "cell_type": "markdown",
   "metadata": {
    "slideshow": {
     "slide_type": "slide"
    }
   },
   "source": [
    "# One hot encoding (OHE)\n",
    "\n",
    "Categorical variables can have more than 2 classes.\n",
    "\n",
    "The way to represent a categorical variable $v$ with $||C||$ classes is with a \n",
    "vector $\\v$ of length $||C||$.\n",
    "\n",
    "$\\v$ will have the property of being all zero *except* at a single index $j$ where $\\v_j = 1$.\n",
    "\n",
    "Hence the name *one hot* encoding."
   ]
  },
  {
   "cell_type": "markdown",
   "metadata": {
    "slideshow": {
     "slide_type": "subslide"
    }
   },
   "source": [
    "We need to create a mapping $m$ from class $c \\in C$ to  integers $\\in \\left[ \\, 1, ||C|| \\,\\right]$.\n",
    "\n",
    "This will enable us to associate an integer with a class label.\n",
    "\n",
    "For example $i$, suppose $v$ has class label $c$.\n",
    "\n",
    "Then $\\v^\\ip$ is defined as\n",
    "$$\n",
    "\\begin{array}[lll]\\\\\n",
    "\\v^\\ip_j & = & 1 & \\text{ if } j = m(c) \\\\\n",
    "\\v^\\ip_j & = & 0 & \\text{ if } j \\ne m(c) \\\\\n",
    "\\end{array}\n",
    "$$\n",
    "\n",
    "**n.b., we may slip into writing $\\mathbf{v}^\\ip_c$ rather than $\\mathbf{v}^\\ip_{m(c)}$**\n",
    "- since $c$ is a category (non-numeric) and $m(c)$ is an integer this is unambgious"
   ]
  },
  {
   "cell_type": "markdown",
   "metadata": {
    "slideshow": {
     "slide_type": "subslide"
    }
   },
   "source": [
    "The categorical variable $v$ was replaced with $||C||$ binary variables $\\v_1, \\ldots, \\v_{||C||}$.\n",
    "- for each example $i$: there is exactly $1$ index $j$ such that $\\v_j = 1$\n",
    "- if feature $\\v$ of example $i$ was from the $j^{th}$ class in $C$, then $\\v^\\ip_j = 1$\n",
    "\n",
    "Each of the new *binary* features is called an *indicator* or *dummy* variable.\n",
    "\n",
    "\n",
    "This is called **one hot encoding (OHE)** of a variable.\n",
    "\n",
    "We can use OHE on variables, whether they are targets or features."
   ]
  },
  {
   "cell_type": "markdown",
   "metadata": {
    "slideshow": {
     "slide_type": "subslide"
    }
   },
   "source": [
    "Let's see what $\\v$ looks like on a number of examples, one for each possible class $c \\in C$:\n",
    "\n",
    "$$\n",
    "\\begin{array}{cccc}\\\\\n",
    "&    & \\v_1 & \\v_2 & \\v_3 & \\ldots & \\v_{||C||} \\\\\n",
    "&m(c)=1 & 1    & 0    & 0    &        & 0    \\\\\n",
    "&m(c)=2 & 0    & 1    & 0    &        & 0    \\\\\n",
    "&m(c)=3 & 0    & 0    & 1    &        & 0    \\\\\n",
    "& \\ldots \\\\\n",
    "&m(c)=||C|| & 0    & 0    & 0    &        & 1    \\\\\n",
    "\\end{array}\n",
    "$$\n"
   ]
  },
  {
   "cell_type": "markdown",
   "metadata": {
    "slideshow": {
     "slide_type": "subslide"
    }
   },
   "source": [
    "To be concrete let's consider a data set with\n",
    "- one numeric variable $x_0$\n",
    "- categorical variable $x_1$ (\"Gender\") from categories $C_{(1)} = \\{ \"Male\", \"Female\" \\}$\n",
    "- categorical variable $x_2$ (\"Location\")from categories $C_{(2)} = \\{ \"Urban\", \"Suburban\", \"Exurban\" \\}$"
   ]
  },
  {
   "cell_type": "markdown",
   "metadata": {
    "slideshow": {
     "slide_type": "subslide"
    }
   },
   "source": [
    "And a few rows from our data set\n",
    "\n",
    "$\n",
    "  \\X' = \\begin{pmatrix}\n",
    "  \\mathbf{const} & \\mathbf{Gender} & \\mathbf{Location} \\\\\n",
    "  1 & Female & Urban \\\\ \n",
    "  1 & Female & Exurban \\\\ \n",
    "  1 & Male & Exurban \\\\ \n",
    "  1 & Male & Suburban \\\\ \n",
    "   \\vdots \\\\\n",
    "  \\end{pmatrix}\n",
    "$"
   ]
  },
  {
   "cell_type": "markdown",
   "metadata": {
    "slideshow": {
     "slide_type": "subslide"
    }
   },
   "source": [
    "After our One Hot Encoding we get\n",
    "\n",
    "$\n",
    "  \\X'' = \\begin{pmatrix}\n",
    "  \\mathbf{const} & \\mathbf{Is Female} & \\mathbf{Is Male} & \\mathbf{Is Urban} & \\mathbf{Is Suburban} & \\mathbf{Is Exurban}\\\\\n",
    "  1 &  1 & 0 & 1 & 0 & 0 \\\\ \n",
    "  1 &  1 & 0 &  0 & 0 & 1\\\\ \n",
    "  1 &  0 & 1 &  0 & 0 & 1 \\\\ \n",
    "  1 &  0 & 1 &  0 & 1 & 0 \\\\ \n",
    "   \\vdots \\\\\n",
    "  \\end{pmatrix}\n",
    "$"
   ]
  },
  {
   "cell_type": "markdown",
   "metadata": {
    "slideshow": {
     "slide_type": "subslide"
    }
   },
   "source": [
    "Notice that the number of features has increased.\n",
    "\n",
    "Specifically: a single categorical variable $x_j$ from a category $C = \\{ c_1, c_2, \\ldots \\}$ of size $||C||$ \n",
    "- has been replaced by $||C||$ new varibles\n",
    "   - $\\text{Is } c_1$\n",
    "   - $\\text{Is } c_2$\n",
    "   - $\\vdots$\n",
    "   - $\\text{Is } c_{||C||}$\n",
    "   \n"
   ]
  },
  {
   "cell_type": "markdown",
   "metadata": {
    "slideshow": {
     "slide_type": "subslide"
    }
   },
   "source": [
    "## One-Hot encoding of a feature\n",
    "\n",
    "We can apply one hot encoding to features as well, as illustrated in the example above.\n",
    "\n",
    "**Warning**: Depending on the model: \n",
    "- we may fall into the Dummy Variable Trap\n",
    "when using OHE on *features*\n",
    "- More in a moment."
   ]
  },
  {
   "cell_type": "markdown",
   "metadata": {
    "slideshow": {
     "slide_type": "slide"
    }
   },
   "source": [
    "# Text: another categorial variables\n",
    "\n",
    "How do you include text variables ? One-hot encoding of the vocabulary !\n",
    "\n",
    "That's only approximately true, as vocabularies can be quite large and thus, the vectors are very long.\n",
    "\n",
    "Dealing with Text will be the subject of another lecture\n",
    "\n",
    "**Example:** Spam filtering (classification task: Is Spam/Is Not Spam)\n",
    "- each word is an indicator\n",
    "- Dealing with large vocabulary\n",
    "    - sparse matrices\n",
    "    - word vectors\n",
    "- feature engineering: an ALLCAP feature"
   ]
  },
  {
   "cell_type": "markdown",
   "metadata": {
    "slideshow": {
     "slide_type": "slide"
    }
   },
   "source": [
    "# Multinomial classification example: MNIST digit classifier\n",
    "\n",
    "Remember the digit classifier using KNN from our introductory lecture ?\n",
    "\n",
    "We criticized the model as being one of excessive template matching: one template per training example.\n",
    "\n",
    "We can now use Logistic Regression to obtain a classifier with *many* fewer paramters.\n",
    "\n",
    "It will also have the benefit of helping us *interpret* **how** the classifer is making its predictions.\n",
    "\n",
    "We won't go into interpretation until a later lecture, but for now: a preview of coming attractions.\n",
    "\n",
    "\n"
   ]
  },
  {
   "cell_type": "markdown",
   "metadata": {
    "slideshow": {
     "slide_type": "subslide"
    }
   },
   "source": [
    "Let's fetch the data and visualize it."
   ]
  },
  {
   "cell_type": "code",
   "execution_count": 4,
   "metadata": {
    "slideshow": {
     "slide_type": "subslide"
    }
   },
   "outputs": [
    {
     "name": "stdout",
     "output_type": "stream",
     "text": [
      "Retrieving MNIST_784 from cache\n"
     ]
    },
    {
     "data": {
      "image/png": "[encoded data removed]",
      "text/plain": [
       "<Figure size 720x720 with 25 Axes>"
      ]
     },
     "execution_count": 4,
     "metadata": {},
     "output_type": "execute_result"
    },
    {
     "data": {
      "image/png": "[encoded data removed]",
      "text/plain": [
       "<Figure size 720x720 with 25 Axes>"
      ]
     },
     "metadata": {
      "needs_background": "light"
     },
     "output_type": "display_data"
    }
   ],
   "source": [
    "mnh.setup()\n",
    "mnh.visualize()"
   ]
  },
  {
   "cell_type": "code",
   "execution_count": 5,
   "metadata": {
    "slideshow": {
     "slide_type": "subslide"
    }
   },
   "outputs": [
    {
     "name": "stdout",
     "output_type": "stream",
     "text": [
      "Training set: X shape=(5000, 784), y shape: (5000,)\n",
      "Training labels: y is of type <class 'str'>\n"
     ]
    }
   ],
   "source": [
    "print(\"Training set: X shape={xs}, y shape: {ys}\".format(xs=mnh.X_train.shape, ys=mnh.y_train.shape) )\n",
    "print(\"Training labels: y is of type {t}\".format(t=type(mnh.y_train[0]) ) )"
   ]
  },
  {
   "cell_type": "markdown",
   "metadata": {
    "slideshow": {
     "slide_type": "subslide"
    }
   },
   "source": [
    "The training set $\\X$ consists of 5000 examples, each having 784 features.\n",
    "\n",
    "The 784 features are pixel intensity values (1=white, 0=black),  visualized as a $(28 \\times 28)$ image.\n",
    "\n",
    "Importantly, the labels (targets) are strings, i.e, string \"0\" rather than integer 0.\n",
    "$$\n",
    "C = \\{ \"0\", \"1\", \\ldots, \"9\" \\}\n",
    "$$\n",
    "\n",
    "Let's fit a Logistic Regression model."
   ]
  },
  {
   "cell_type": "code",
   "execution_count": 6,
   "metadata": {
    "slideshow": {
     "slide_type": "subslide"
    }
   },
   "outputs": [
    {
     "name": "stdout",
     "output_type": "stream",
     "text": [
      "Example run in 1.030 s\n"
     ]
    }
   ],
   "source": [
    "mnist_lr = mnh.fit()"
   ]
  },
  {
   "cell_type": "markdown",
   "metadata": {
    "slideshow": {
     "slide_type": "subslide"
    }
   },
   "source": [
    "How did we do, i.e., what was the Performance Metric ?"
   ]
  },
  {
   "cell_type": "code",
   "execution_count": 7,
   "metadata": {
    "slideshow": {
     "slide_type": "subslide"
    }
   },
   "outputs": [
    {
     "name": "stdout",
     "output_type": "stream",
     "text": [
      "Test score with l2 penalty:0.86\n",
      "Sparsity with l2 penalty: 16.07.\n"
     ]
    }
   ],
   "source": [
    "clf = mnh.clf\n",
    "score = clf.score(mnh.X_test, mnh.y_test)\n",
    "\n",
    "# How many zero coefficients were forced by the penalty ?\n",
    "sparsity = np.mean(clf.coef_ == 0) * 100\n",
    "\n",
    "print(\"Test score with {p} penalty:{s:.2f}\".format(p=clf.penalty, s=score) )\n",
    "print(\"Sparsity with {p} penalty: {s:.2f}.\".format(p=clf.penalty, s=sparsity) )"
   ]
  },
  {
   "cell_type": "markdown",
   "metadata": {
    "slideshow": {
     "slide_type": "subslide"
    }
   },
   "source": [
    "We achieved an accuracy on the Test set of about 88%.\n",
    "\n",
    "Is this good ?  We'll probe that question in a later lecture.\n",
    "\n",
    "For now: it sounds pretty good, but\n",
    "- in a Test set with equal quantities of each digit\n",
    "- we could get *all* instances of a single digit wrong and still achieve 90% accuracy !\n",
    "- **Lesson**: absolute numbers are mis-leading"
   ]
  },
  {
   "cell_type": "markdown",
   "metadata": {
    "slideshow": {
     "slide_type": "subslide"
    }
   },
   "source": [
    "Also notice that `LogisticRegression` used an L2 penalty (Ridge Regression) that caused\n",
    "about 16% of the parameters to become $0$."
   ]
  },
  {
   "cell_type": "markdown",
   "metadata": {
    "slideshow": {
     "slide_type": "slide"
    }
   },
   "source": [
    "How many parameters did we fit (i.e., what is the size of $\\Theta$ ?"
   ]
  },
  {
   "cell_type": "code",
   "execution_count": 8,
   "metadata": {
    "slideshow": {
     "slide_type": "subslide"
    }
   },
   "outputs": [
    {
     "name": "stdout",
     "output_type": "stream",
     "text": [
      "The classifier non-intercept parameters shape: (10, 784);  intercept parameters shape: (10,)\n"
     ]
    }
   ],
   "source": [
    "print(\"The classifier non-intercept parameters shape: {nc};  intercept parameters shape: {ni}\".format(\n",
    "    nc=mnh.clf.coef_.shape,\n",
    "    ni=mnh.clf.intercept_.shape\n",
    ")\n",
    "     )\n"
   ]
  },
  {
   "cell_type": "markdown",
   "metadata": {
    "slideshow": {
     "slide_type": "slide"
    }
   },
   "source": [
    "`sklearn` separately stores\n",
    "- the intercept (`clf.intercept_`): the parameter associated with the `const` column in $\\X'$)\n",
    "- all other parameters (`clf.coef_`) \n"
   ]
  },
  {
   "cell_type": "markdown",
   "metadata": {
    "slideshow": {
     "slide_type": "subslide"
    }
   },
   "source": [
    "As you can see from the leading dimension (10) there are essentially $||C||$ binary classifiers\n",
    "- one parameter per element of the feature vector\n",
    "- plus one intercept/constant parameter\n",
    "\n",
    "In total $\\Theta$ has $10*(784 + 1) = 7850$ parameters."
   ]
  },
  {
   "cell_type": "markdown",
   "metadata": {
    "slideshow": {
     "slide_type": "slide"
    }
   },
   "source": [
    "More precisely\n",
    "- The target vector $\\y$ is of length $||C|| = 10$, i.e., OHE target\n",
    "    - we have previously only seen scalar targets\n",
    "- `LogisticRegression` is performing One versus All (OvA) classification\n",
    "- Because $||\\y^\\ip|| > 1$, it is using a Cross Entropy Loss in the cost function\n"
   ]
  },
  {
   "cell_type": "markdown",
   "metadata": {
    "slideshow": {
     "slide_type": "subslide"
    }
   },
   "source": [
    "Compare this to the KNN classifier from the first lecture\n",
    "- one template per example, at $(28 \\times 28) = 784$ parameters per example\n",
    "- times $m = 5000$ examples\n",
    "\n",
    "So the Logistic Classifier uses about $m = 5000$ times fewer parameters."
   ]
  },
  {
   "cell_type": "markdown",
   "metadata": {
    "slideshow": {
     "slide_type": "slide"
    }
   },
   "source": [
    "What do the 784 non-intercept parameters look like ?\n",
    "\n",
    "That is: what is the \"template\" for each class (digit) ?\n",
    "\n",
    "Since there is one parameter per pixel, ordered in the same way as the input image pixels, we can display the 784 parameters in a $(28 \\times 28)$ image.\n",
    "\n",
    "Remember: there is one parameter vector (template) for each of the $||C|| = 10$ classes."
   ]
  },
  {
   "cell_type": "code",
   "execution_count": 9,
   "metadata": {
    "slideshow": {
     "slide_type": "subslide"
    }
   },
   "outputs": [
    {
     "name": "stderr",
     "output_type": "stream",
     "text": [
      "/home/kjp/Notebooks/NYU/mnist_helper.py:172: UserWarning: Matplotlib is currently using module://ipykernel.pylab.backend_inline, which is a non-GUI backend, so cannot show the figure.\n",
      "  _ = fig.show()\n"
     ]
    },
    {
     "data": {
      "image/png": "[encoded data removed]",
      "text/plain": [
       "<Figure size 720x576 with 10 Axes>"
      ]
     },
     "metadata": {},
     "output_type": "display_data"
    }
   ],
   "source": [
    "mnist_fig, mnist_ax = mnh.plot_coeff()"
   ]
  },
  {
   "cell_type": "markdown",
   "metadata": {
    "slideshow": {
     "slide_type": "subslide"
    }
   },
   "source": [
    "Our model learned a template, per digit, which hopefully captures the \"essence\" of the digit\n",
    "- fuzzy, since it needs to match many possible examples of the digit, each written differently\n",
    "\n",
    "We will \"interpret\" these coefficients in a subsequent lecture but, for now:\n",
    "- dark colored parameters indicate the template for the pixel best matches dark input pixels\n",
    "- bright colored parameters indicate the template for the pixel best matches bright input pixels\n",
    "\n",
    "So the \"essence\" of an image representing the \"1\" digit is a vertical band of bright pixels."
   ]
  },
  {
   "cell_type": "markdown",
   "metadata": {
    "slideshow": {
     "slide_type": "slide"
    }
   },
   "source": [
    "<div class=\"alert alert-block alert-success\">\n",
    "<b>TIP</b>\n",
    "    \n",
    "The <font face=courier>fetch_mnist_784</font>\n",
    "routine in the module takes a <b>long</b> time to execute.  Caching results makes you more productive.\n",
    "\n",
    "</div>"
   ]
  },
  {
   "cell_type": "markdown",
   "metadata": {
    "slideshow": {
     "slide_type": "slide"
    }
   },
   "source": [
    "# Recap\n",
    "\n",
    "- We saw how to deal with categorical targets and features\n",
    "- We saw some real-life transformations\n",
    "    - We saw a real Data Transformation pipeline\n",
    "        - feature union\n",
    "        - was able to transform Pandas DataFrame !\n",
    "        - Data cleaning via Imputer\n",
    "        - One Hot Encoding\n",
    "\n",
    "- Multiple models at no extra effort !\n",
    "    - snuck in RandomForest and SVC classifiers - more later\n",
    "    - only 1 line (instantiate model) changes !\n",
    "\n",
    "- First pass at data cleaning - more later\n"
   ]
  },
  {
   "cell_type": "code",
   "execution_count": 10,
   "metadata": {
    "slideshow": {
     "slide_type": "slide"
    }
   },
   "outputs": [
    {
     "name": "stdout",
     "output_type": "stream",
     "text": [
      "Done\n"
     ]
    }
   ],
   "source": [
    "print(\"Done\")"
   ]
  }
 ],
 "metadata": {
  "celltoolbar": "Slideshow",
  "kernelspec": {
   "display_name": "Python 3",
   "language": "python",
   "name": "python3"
  },
  "language_info": {
   "codemirror_mode": {
    "name": "ipython",
    "version": 3
   },
   "file_extension": ".py",
   "mimetype": "text/x-python",
   "name": "python",
   "nbconvert_exporter": "python",
   "pygments_lexer": "ipython3",
   "version": "3.7.4"
  },
  "toc": {
   "base_numbering": 1,
   "nav_menu": {},
   "number_sections": true,
   "sideBar": true,
   "skip_h1_title": false,
   "title_cell": "Table of Contents",
   "title_sidebar": "Contents",
   "toc_cell": false,
   "toc_position": {
    "height": "calc(100% - 180px)",
    "left": "10px",
    "top": "150px",
    "width": "368px"
   },
   "toc_section_display": true,
   "toc_window_display": true
  }
 },
 "nbformat": 4,
 "nbformat_minor": 2
}
