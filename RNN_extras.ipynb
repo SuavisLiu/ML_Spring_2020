{
 "cells": [
  {
   "cell_type": "code",
   "execution_count": 1,
   "metadata": {},
   "outputs": [
    {
     "data": {
      "text/latex": [
       "$$\n",
       "\\newcommand{\\x}{\\mathbf{x}}\n",
       "\\newcommand{\\tx}{\\tilde{\\x}}\n",
       "\\newcommand{\\y}{\\mathbf{y}}\n",
       "\\newcommand{\\b}{\\mathbf{b}}\n",
       "\\newcommand{\\c}{\\mathbf{c}}\n",
       "\\newcommand{\\e}{\\mathbf{e}}\n",
       "\\newcommand{\\z}{\\mathbf{z}}\n",
       "\\newcommand{\\h}{\\mathbf{h}}\n",
       "\\newcommand{\\w}{\\mathbf{w}}\n",
       "\\newcommand{\\W}{\\mathbf{W}}\n",
       "\\newcommand{\\X}{\\mathbf{X}}\n",
       "\\newcommand{\\KL}{\\mathbf{KL}}\n",
       "\\newcommand{\\E}{{\\mathbb{E}}}\n",
       "\\newcommand{\\ip}{\\mathbf{{(i)}}}\n",
       "% \\ll indexes a layer; we can change the actual letter\n",
       "\\newcommand{\\ll}{l}\n",
       "\\newcommand{\\llp}{{(\\ll)}}\n",
       "%\n",
       "% \\tt indexes a time step\n",
       "\\newcommand{\\tt}{t}\n",
       "\\newcommand{\\tp}{{(\\tt)}}\n",
       "%\n",
       "\\newcommand{\\loss}{\\mathcal{L}}\n",
       "\\newcommand{\\cost}{\\mathcal{L}}\n",
       "%\n",
       "% Functions with arguments\n",
       "\\def\\xsy#1#2{#1^#2}\n",
       "\\def\\rand#1{\\tilde{#1}}\n",
       "\\def\\randx{\\rand{\\x}}\n",
       "\\def\\randy{\\rand{\\y}}\n",
       "%\n",
       "\\def\\argmax#1{\\underset{#1} {\\operatorname{argmax}} }\n",
       "\\def\\argmin#1{\\underset{#1} {\\operatorname{argmin}} }\n",
       "\\def\\max#1{\\underset{#1} {\\operatorname{max}} }\n",
       "\\def\\min#1{\\underset{#1} {\\operatorname{min}} }\n",
       "%\n",
       "\\def\\pr#1{\\mathcal{p}(#1)}\n",
       "\\def\\cnt#1{\\mathcal{count}_{#1}}\n",
       "\\def\\node#1{\\mathbb{#1}}\n",
       "$$\n"
      ],
      "text/plain": [
       "<IPython.core.display.Latex object>"
      ]
     },
     "metadata": {},
     "output_type": "display_data"
    },
    {
     "name": "stdout",
     "output_type": "stream",
     "text": [
      "Macro `_latex_std_` created. To execute, type its name (without quotes).\n",
      "=== Macro contents: ===\n",
      "get_ipython().run_line_magic('run', 'Latex_macros.ipynb')\n",
      " "
     ]
    }
   ],
   "source": [
    "%run Latex_macros.ipynb"
   ]
  },
  {
   "cell_type": "markdown",
   "metadata": {},
   "source": [
    "# RNN BPTT, vanishing/exploding gradient problem\n",
    "\n",
    "\n",
    "\n",
    "\n",
    "- BPTT\n",
    "    - [cs 224d RNN lecture](https://web.stanford.edu/class/archive/cs/cs224n/cs224n.1174/lectures/cs224n-2017-lecture8.pdf)\n",
    "    - page 12 onwards\n",
    "    - page 14\n",
    "        - BPTT\n",
    "        `- $$\\frac{\\partial \\loss}{\\partial \\W}\n",
    "    - [Stats 157](http://courses.d2l.ai/berkeley-stat-157/slides/4_9/19-RNN.pdf)\n",
    "        - slides 17, 18\n",
    "            - rather than write $\\frac{h_\\tp}{\\partial h_{(\\tt-k)}$\n",
    "            - he writes $\\frac{h_\\tp}{\\partial h_{(\\tt-k)}$ recursively\n",
    "                - product, from $\\tt$ to $\\tt -k$ of \\frac{h_{(j)}{\\partial h_{(j-1)}$\n",
    "            - the product term becomes useful for vanishing gradient explanation\n",
    "                - also highlights that $\\loss_\\tp$ involves states *all the way back to time step 1$\n",
    "                    - even if the outer $sum_{t=1}^T { \\loss_\\tp }$ were truncated to $sum_{t=T-k}^T { \\loss_\\tp }\n",
    "                             \n",
    "[cs 231n RNN lecture](http://cs231n.stanford.edu/slides/2018/cs231n_2018_lecture10.pdf)\n",
    "- RNN slides 92 onward\n",
    "- LSTM 102\n",
    "    - backprop does not involve multiplication by W\n",
    "        - vanish/explode caused by W being multiplied together on each backprop step\n",
    "\n",
    "- loss function for vanishing gradient\n",
    "    - https://youtu.be/Keqep_PKrY8  @21:00\n",
    "- intro to LSTM in tensorflow,  center for brain, https://youtu.be/l4X-kZjl1gs\n",
    "    - @22:00 good example of derivative through time\n",
    "    - loss is sum over time up to T\n",
    "    - h_t is function of h_t for all the le T, so t terms \n",
    "    - partial h_t wrt h_{t'A] is produced of times between t\" and t\n",
    "    - @30:00 remember allows to bypass backprop all the way to start?\n",
    "    - forget gate passes info unchanged by W\n",
    "    - h_t depends on h_{t-1} through addition\n",
    "    -no longer chain rule \n",
    "\n"
   ]
  },
  {
   "cell_type": "markdown",
   "metadata": {},
   "source": [
    "**Note**\n",
    "Sources of cheating cs [see 224d RNN lecture page 12 onwards for real derivation](https://web.stanford.edu/class/archive/cs/cs224n/cs224n.1174/lectures/cs224n-2017-lecture8.pdf)\n",
    "\n",
    "- we have a single loss, so the RNN is computing a many to one function.\n",
    "    - if it were many to many, we'd have a loss per time step\n",
    "        - total loss would be sum of losses across time steps\n",
    "        - the loss per time step would be identical to what we used with the addition of a super/sub script to identify the loss as the loss of a layer rather than just the loss of the final layer\n",
    "        \n",
    "- $\\h_{(K)}$, the final layer, is really connected to $\\W$, multiple ($K$) times so derivatives should be the sum:\n",
    "    - [total derivative](http://www.math.psu.edu/tseng/class/Math251/Notes-Partial%20Differentiation.pdf)\n",
    "    - $\\frac{\\partial \\loss}{\\partial \\W} = \n",
    "\\sum_{i=1}^K {\n",
    "\\frac{\\partial \\loss}{\\partial \\h_\\tp} \n",
    "\\frac{\\partial \\h_\\tp}{\\partial \\h_{(i)}} \n",
    "\\frac{\\partial \\h_{(i)}}{\\partial \\W}\n",
    "}$\n",
    "    - if we were to do a loss per layer, the upper bound on the sum for layer $l$ would be $l$ instead of $K$\n",
    "- we ignored part of the RNN layer equation.    "
   ]
  },
  {
   "cell_type": "markdown",
   "metadata": {},
   "source": [
    "# RNN as generative model\n",
    "\n",
    "- Generate text Keras\n",
    "    - [Keras site](https://keras.io/examples/lstm_text_generation/)\n",
    "        - uses call back\n",
    "    - [blog](https://machinelearningmastery.com/text-generation-lstm-recurrent-neural-networks-python-keras/)\n",
    "        - [source to download books out of copyright](https://www.gutenberg.org/)\n",
    "    \n",
    "-[Deep Learning book](http://www.deeplearningbook.org/contents/rnn.html)\n",
    "   - teacher forcing\n",
    "\n",
    "- [Unreasonable effectiveness of RNN's](https://www.timesofisrael.com/nobody-hijacked-israel-its-just-not-what-its-pioneers-thought-theyd-created/)\n",
    "\n",
    "- [cs 224d RNN lecture](https://web.stanford.edu/class/archive/cs/cs224n/cs224n.1174/lectures/cs224n-2017-lecture8.pdf)\n",
    "    - page 9 onwards\n",
    "\n"
   ]
  },
  {
   "cell_type": "markdown",
   "metadata": {},
   "source": [
    "# LSTM\n",
    "\n",
    "- skip connection \n",
    "- cell is counter \n",
    "- the output of sigmoid is increment or decrement \n",
    "- gate o control part of long term cell that goes into new h, control \n",
    "- h is also output , to prediction or next layer for example \n",
    "- h updated by additive operations \n",
    "- similar to skip connection\n",
    "- karpathy 2016 @1:06:00\n",
    "    - but multiplication by forget gate can kill gradient  too\n",
    "    - so not true bypass\n",
    "    - bias together gate initialization to not forget at first\n",
    "    - the addition is of old state h? \n",
    "    - so gradient can flow backwards unchanged \n",
    "- clip gradient prevents explosion \n",
    "- GRU has only h  not c \n"
   ]
  }
 ],
 "metadata": {
  "kernelspec": {
   "display_name": "Python 3",
   "language": "python",
   "name": "python3"
  },
  "language_info": {
   "codemirror_mode": {
    "name": "ipython",
    "version": 3
   },
   "file_extension": ".py",
   "mimetype": "text/x-python",
   "name": "python",
   "nbconvert_exporter": "python",
   "pygments_lexer": "ipython3",
   "version": "3.7.1"
  },
  "toc": {
   "base_numbering": 1,
   "nav_menu": {},
   "number_sections": true,
   "sideBar": true,
   "skip_h1_title": false,
   "title_cell": "Table of Contents",
   "title_sidebar": "Contents",
   "toc_cell": false,
   "toc_position": {},
   "toc_section_display": true,
   "toc_window_display": false
  }
 },
 "nbformat": 4,
 "nbformat_minor": 2
}
