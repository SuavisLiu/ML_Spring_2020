{
 "cells": [
  {
   "cell_type": "code",
   "execution_count": 9,
   "metadata": {
    "scrolled": true,
    "slideshow": {
     "slide_type": "notes"
    }
   },
   "outputs": [
    {
     "data": {
      "text/latex": [
       "$$\n",
       "\\newcommand{\\x}{\\mathbf{x}}\n",
       "\\newcommand{\\tx}{\\tilde{\\x}}\n",
       "\\newcommand{\\y}{\\mathbf{y}}\n",
       "\\newcommand{\\b}{\\mathbf{b}}\n",
       "\\newcommand{\\c}{\\mathbf{c}}\n",
       "\\newcommand{\\e}{\\mathbf{e}}\n",
       "\\newcommand{\\z}{\\mathbf{z}}\n",
       "\\newcommand{\\h}{\\mathbf{h}}\n",
       "\\newcommand{\\w}{\\mathbf{w}}\n",
       "\\newcommand{\\W}{\\mathbf{W}}\n",
       "\\newcommand{\\X}{\\mathbf{X}}\n",
       "\\newcommand{\\KL}{\\mathbf{KL}}\n",
       "\\newcommand{\\E}{{\\mathbb{E}}}\n",
       "\\newcommand{\\ip}{\\mathbf{{(i)}}}\n",
       "% \\ll indexes a layer; we can change the actual letter\n",
       "\\newcommand{\\ll}{l}\n",
       "\\newcommand{\\llp}{{(\\ll)}}\n",
       "%\n",
       "% \\tt indexes a time step\n",
       "\\newcommand{\\tt}{t}\n",
       "\\newcommand{\\tp}{{(\\tt)}}\n",
       "%\n",
       "\\newcommand{\\loss}{\\mathcal{L}}\n",
       "\\newcommand{\\cost}{\\mathcal{L}}\n",
       "%\n",
       "%                     \n",
       "\\newcommand{\\pdata}{p_\\text{data}}\n",
       "\\newcommand{\\pmodel}{p_\\text{model}}\n",
       "%\n",
       "% Functions with arguments\n",
       "\\def\\xsy#1#2{#1^#2}\n",
       "\\def\\rand#1{\\tilde{#1}}\n",
       "\\def\\randx{\\rand{\\x}}\n",
       "\\def\\randy{\\rand{\\y}}\n",
       "%\n",
       "\\def\\argmax#1{\\underset{#1} {\\operatorname{argmax}} }\n",
       "\\def\\argmin#1{\\underset{#1} {\\operatorname{argmin}} }\n",
       "\\def\\max#1{\\underset{#1} {\\operatorname{max}} }\n",
       "\\def\\min#1{\\underset{#1} {\\operatorname{min}} }\n",
       "%\n",
       "\\def\\pr#1{\\mathcal{p}(#1)}\n",
       "\\def\\cnt#1{\\mathcal{count}_{#1}}\n",
       "\\def\\node#1{\\mathbb{#1}}\n",
       "%\n",
       "\\newcommand{\\floor}[1]{\\left\\lfloor #1 \\right\\rfloor}\n",
       "\\newcommand{\\ceil}[1]{\\left\\lceil #1 \\right\\rceil}\n",
       "%\n",
       "\n",
       "$$\n"
      ],
      "text/plain": [
       "<IPython.core.display.Latex object>"
      ]
     },
     "metadata": {},
     "output_type": "display_data"
    },
    {
     "name": "stdout",
     "output_type": "stream",
     "text": [
      "Macro `_latex_std_` created. To execute, type its name (without quotes).\n",
      "=== Macro contents: ===\n",
      "get_ipython().run_line_magic('run', 'Latex_macros.ipynb')\n",
      " "
     ]
    }
   ],
   "source": [
    "%run Latex_macros.ipynb"
   ]
  },
  {
   "cell_type": "code",
   "execution_count": 2,
   "metadata": {
    "slideshow": {
     "slide_type": "notes"
    }
   },
   "outputs": [],
   "source": [
    "# My standard magic !  You will see this in almost all my notebooks.\n",
    "\n",
    "from IPython.core.interactiveshell import InteractiveShell\n",
    "InteractiveShell.ast_node_interactivity = \"all\"\n",
    "\n",
    "# Reload all modules imported with %aimport\n",
    "%load_ext autoreload\n",
    "%autoreload 1\n",
    "\n",
    "%matplotlib inline"
   ]
  },
  {
   "cell_type": "markdown",
   "metadata": {
    "slideshow": {
     "slide_type": "slide"
    }
   },
   "source": [
    "# Overview\n",
    "\n",
    "This is the \"trailer\" for the course: a brief plot summary and introduction to the key characters\n",
    "you will encounter.\n",
    "\n",
    "## Goals\n",
    "- Get a high level view of Machine Learning\n",
    "- Introduce notation\n",
    "- Preview concepts\n"
   ]
  },
  {
   "cell_type": "markdown",
   "metadata": {
    "slideshow": {
     "slide_type": "slide"
    }
   },
   "source": [
    "# How this course is different\n",
    "\n",
    "Our belief is that Machine Learning should be taught as a *process* for problem solving.\n",
    "\n",
    "The following picture will be our agenda; each column is one step in the process."
   ]
  },
  {
   "cell_type": "markdown",
   "metadata": {
    "slideshow": {
     "slide_type": "subslide"
    }
   },
   "source": [
    "<img src=images/ML_process.jpg>"
   ]
  },
  {
   "cell_type": "markdown",
   "metadata": {
    "slideshow": {
     "slide_type": "subslide"
    }
   },
   "source": [
    "In contrast, many approaches focus on a few steps under \"Train a model\"\n",
    "- Select a model\n",
    "- Fit\n",
    "\n",
    "At two extremes, these approaches either focus on \"using an API\" or deep math.\n",
    "\n",
    "This may lead to the ability to construct models but, in our opinion, what distinguishes an adequate Data Scientist from a good one are all the other steps in the process."
   ]
  },
  {
   "cell_type": "markdown",
   "metadata": {
    "slideshow": {
     "slide_type": "subslide"
    }
   },
   "source": [
    "To be sure, this course will both teach you how to use an API for Machine Learning and contain a fair amount of math.\n",
    "\n",
    "But we take an engineer/scientist approach and focus on insight and repeatability (hence, process)\n",
    "- we view Data Science as an experimental science\n",
    "- your experiments are implemented via code\n",
    "- you need to understand enough math to diagnose problems and improve experiments\n"
   ]
  },
  {
   "cell_type": "markdown",
   "metadata": {
    "slideshow": {
     "slide_type": "subslide"
    }
   },
   "source": [
    "So *expect to do a lot of coding*.\n",
    "- You don't need to be a \"professional\" programmer\n",
    "- But you do need to be a *disciplined* programmer to ease repeatability\n",
    "    - Subprograms/classes (methods) versus cut and paste\n",
    "    \n",
    "Also expect some math\n",
    "- in order to understand why a model is appropriate or not, and to diagnose why it is not working\n",
    "- **not** to be able to derive formulae"
   ]
  },
  {
   "cell_type": "markdown",
   "metadata": {
    "slideshow": {
     "slide_type": "slide"
    }
   },
   "source": [
    "# Classical ML and Deep Learning\n",
    "\n",
    "There are two main streams in this course\n",
    "- \"Classical ML\"\n",
    "    - somewhat long history\n",
    "    - somewhat related to Statistics\n",
    "- \"Deep Learning\"\n",
    "    - really took off after 2010\n",
    "    - more related to Artificial Intelligence than Statistics\n",
    "        - experimental versus mathematical\n",
    "        \n",
    "This preview is for Classical Machine Learning."
   ]
  },
  {
   "cell_type": "markdown",
   "metadata": {
    "slideshow": {
     "slide_type": "slide"
    }
   },
   "source": [
    "# The big picture\n",
    "<img src=external/scipy-2018-sklearn/notebooks/figures/ml_taxonomy.png>"
   ]
  },
  {
   "cell_type": "markdown",
   "metadata": {
    "colab_type": "text",
    "id": "DnCAQKeGFAo0",
    "slideshow": {
     "slide_type": "slide"
    }
   },
   "source": [
    "# Supervised Learning\n",
    "\n",
    "Supervised learning is about *informed prediction*.\n",
    "\n",
    "Let's parse these word\n",
    "- prediction\n",
    "- informed"
   ]
  },
  {
   "cell_type": "markdown",
   "metadata": {
    "slideshow": {
     "slide_type": "slide"
    }
   },
   "source": [
    "<table>\n",
    "    <tr>\n",
    "        <center>Prediction: what digits do these pixels represent ?</center>\n",
    "    </tr>\n",
    "<img src=images/mnist_small_test.png>\n",
    "</table>"
   ]
  },
  {
   "cell_type": "markdown",
   "metadata": {
    "slideshow": {
     "slide_type": "subslide"
    }
   },
   "source": [
    "**Prediction**:\n",
    "Given an image that we haven't seem before, determine which digit it represents."
   ]
  },
  {
   "cell_type": "markdown",
   "metadata": {
    "colab_type": "text",
    "id": "DnCAQKeGFAo0",
    "slideshow": {
     "slide_type": "subslide"
    }
   },
   "source": [
    "More formally:\n",
    "- A single input $\\x$ is a vector of length $n$, i.e., a collection of $n$ *features*.\n",
    "\n",
    "- A **predictor** is a map from $\\x$ to a class (label) $\\hat{\\y}$.\n",
    "\n",
    "The previously unseen image: $\\x$ consists of $n=64$ pixels (arranged as an $8 \\times 8$ grid.\n",
    "\n",
    "$\\hat{\\y}$ is the digit that we will say the image represents."
   ]
  },
  {
   "cell_type": "markdown",
   "metadata": {
    "colab_type": "text",
    "id": "DnCAQKeGFAo0",
    "slideshow": {
     "slide_type": "subslide"
    }
   },
   "source": [
    "For now: \n",
    "- a class is drawn from a finite set $C$ of potential classes.\n",
    "- we are describing Classification -- mapping $\\x$ to a single class.\n",
    "- we will extend to Regression: outputs are from a continous universe (e.g., numbers)\n",
    "\n",
    "An example is a pair $(\\x, c)$ of a feature vector $\\x$ and a class $c \\in C$ (the target)."
   ]
  },
  {
   "cell_type": "markdown",
   "metadata": {
    "colab_type": "text",
    "id": "DnCAQKeGFAo0",
    "slideshow": {
     "slide_type": "subslide"
    }
   },
   "source": [
    "**Informed prediction** is when the probability of the predictor making a correct prediction\n",
    "is greater than $\\frac{1}{||C||}$.\n",
    "\n",
    "- Consider a single example $(\\x,c)$.\n",
    "\n",
    "- A simple but naive predictor would map $\\x$ to a random $c' \\in C$.\n",
    "\n",
    "The probability of the predictor being correct ($c' = c$) is\n",
    "$\\frac{1}{||C||}$ .\n",
    "\n"
   ]
  },
  {
   "cell_type": "markdown",
   "metadata": {
    "colab_type": "text",
    "id": "DnCAQKeGFAo0",
    "slideshow": {
     "slide_type": "subslide"
    }
   },
   "source": [
    "How do we achieve this ?\n",
    "\n",
    "*Supervised Learning* makes the prediction based on having seen multiple, correctly labelled examples.\n",
    "- It tries to *generalize*: find some pattern in the examples that is associated with the label.\n",
    "- Perhaps the individual features (elements of $\\x$) are associated with the correct class $c$.\n",
    "\n",
    "- The aim of Supervised Learning is to create a function (predictor) that maps an $\\x$ to the correct $c$.\n",
    "\n"
   ]
  },
  {
   "cell_type": "markdown",
   "metadata": {
    "colab_type": "text",
    "id": "UNAynOcdBplo",
    "slideshow": {
     "slide_type": "slide"
    }
   },
   "source": [
    "# Notation\n",
    "\n",
    "- Supervised Learning involves supplying a number ($m$) of examples.\n",
    "- Each example is a pair consisting of\n",
    "    - vector $\\x$ consisting of $n \\ge 1$ *features* (attributes)\n",
    "    - scalar (sometimes a vector) $\\y$\n",
    "        - refered to as the*target* value or *label* associated with $\\x$\n",
    "\n",
    "- we use **bold face** to indicate a vector (e.g, $\\x$)\n",
    "- We use superscript $\\ip$ to denote an element $i$ of a collection of $m$ examples (e.g., $\\x^\\ip$)\n",
    "- We use subscript $j$ to index element $j$ of a vector, e.g., $\\x^\\ip_j$\n"
   ]
  },
  {
   "cell_type": "markdown",
   "metadata": {
    "colab_type": "text",
    "id": "UNAynOcdBplo",
    "slideshow": {
     "slide_type": "subslide"
    }
   },
   "source": [
    "- So $\\x^\\ip$ is\n",
    "\n",
    "$\n",
    "  \\x^\\ip = \\begin{pmatrix}\n",
    " \\x^\\ip_1 \\\\\n",
    " \\x^\\ip_2 \\\\\n",
    "  \\vdots  \\\\\n",
    " \\x^\\ip_n\n",
    "  \\end{pmatrix}\n",
    "$\n",
    "\n",
    "Each  element of $\\x^\\ip$ is a \"feature\""
   ]
  },
  {
   "cell_type": "markdown",
   "metadata": {
    "slideshow": {
     "slide_type": "subslide"
    }
   },
   "source": [
    "## Not just numbers !\n",
    "\n",
    "The features *aren't restricted to be numeric* !\n",
    "\n",
    "In this course, we will deal with data that is\n",
    "- numeric\n",
    "- categorical\n",
    "- text\n",
    "- image\n",
    "- sound (not this course)\n",
    "\n",
    "Of course, you'll have to encode this data as numbers in order for numerical algorithms to handle them."
   ]
  },
  {
   "cell_type": "markdown",
   "metadata": {
    "colab_type": "text",
    "id": "h1441BMaCos9",
    "slideshow": {
     "slide_type": "slide"
    }
   },
   "source": [
    "## Training set\n",
    "\n",
    "- The collection of examples used for fitting (training) a model is called the *training set*:\n",
    "\n",
    "$$ \\langle \\X, \\y \\rangle= [ \\x^\\ip, \\y^\\ip | 1 \\le i \\le m ]$$\n",
    "\n",
    "where $m$ is the size of training set and each $\\x^\\ip$ is a feature vector of length $n$.\n",
    "\n",
    "- By seeing many ($m$) pairs of feature vectors and associated labels\n",
    "we will try to infer the correct label $\\y^\\ip$ from the features in $\\x^\\ip$\n",
    "\n",
    "- $\\X$ is an $(m \\times n)$ matrix and $\\y$ is an $(m \\times 1)$ vector of targets.\n",
    "\n",
    "\n",
    "$\n",
    "  \\X = \\begin{pmatrix}\n",
    "  (\\x^{(1)})^T \\\\\n",
    "  (\\x^{(2)})^T\\\\\n",
    "  \\vdots \\\\\n",
    "  (\\x^{(m)})^T \\\\\n",
    "  \\end{pmatrix} = \\begin{pmatrix}\n",
    " \\x^{(1)}_1 \\ldots\\x^{(1)}_n \\\\ \n",
    "  \\x^{(2)}_1 \\ldots\\x^{(2)}_n \\\\ \n",
    "   \\vdots \\\\\n",
    "  \\x^{(m)}_1 \\ldots\\x^{(m)}_n \\\\\n",
    "  \\end{pmatrix}\n",
    "$"
   ]
  },
  {
   "cell_type": "markdown",
   "metadata": {
    "slideshow": {
     "slide_type": "slide"
    }
   },
   "source": [
    "<table>\n",
    "    <tr>\n",
    "        <center>Training set</center>\n",
    "    </tr>\n",
    "<img src=images/mnist_small_train.png>\n",
    "</table>"
   ]
  },
  {
   "cell_type": "markdown",
   "metadata": {
    "colab_type": "text",
    "id": "h1441BMaCos9",
    "slideshow": {
     "slide_type": "subslide"
    }
   },
   "source": [
    "- We will sometimes add a \"constant\" feature by setting\n",
    "$\\x^\\ip_0 = 1,  0 \\le i \\le m$\n",
    "so that the first column of $\\x$ is $1$:\n",
    "\n",
    "$\n",
    "\\X =\n",
    "\\begin{pmatrix}\n",
    "  1  &\\x^{(1)}_1  & \\ldots &\\x^{(1)}_n \\\\ \n",
    "   1 &\\x^{(2)}_1  &\\ldots  &\\x^{(2)}_n \\\\ \n",
    "   \\vdots & \\vdots & \\ldots &  \\vdots \\\\\n",
    "   1 &\\x^{(m)}_1  &\\ldots  &\\x^{(m)}_n \\\\\n",
    "  \\end{pmatrix}\n",
    "$\n",
    "\n",
    "- So each of the $m$ rows is an example and each of the $n$ columns is a feature."
   ]
  },
  {
   "cell_type": "markdown",
   "metadata": {
    "colab_type": "text",
    "id": "af60_0oNMM3n",
    "slideshow": {
     "slide_type": "slide"
    }
   },
   "source": [
    "## Prediction\n",
    "\n",
    "- Given training example $\\x^\\ip$, we construct a function $h$ to predict its label\n",
    "\n",
    "$\\hat{\\y}^\\ip = h(\\x^\\ip)$\n",
    "- The function $h$ will often be parameterized (by $\\Theta$) so, for clarity, we should write\n",
    "\n",
    "$\\hat{\\y}^\\ip = h(\\x^\\ip; \\Theta)$\n",
    "- We will often drop $\\Theta$ for ease of reading.\n",
    "- Since $h$ is a function, it should also be possible to make a prediction for a vector $\\mathbf{x}$ that is **not** part of the training set.\n",
    "- That is, we are able *generalize* to non-training examples:  to make out of sample predictions"
   ]
  },
  {
   "cell_type": "markdown",
   "metadata": {
    "slideshow": {
     "slide_type": "subslide"
    }
   },
   "source": [
    "**Sumary**\n",
    "- a training example is a pair $(\\x^\\ip,\\y^\\ip)$ drawn from training set $\\langle \\X, \\y \\rangle$ consisting of \n",
    "    - a feature vector $\\x^\\ip$ of length $n$\n",
    "    - the associated label (target) $\\y^\\ip$\n",
    "    - $\\X$ is of dimension $m \\times n$\n",
    "    - $\\y$ is dimension $m \\times 1$, i.e., target is a single, continous value per example\n",
    "- predictions are indicated with a \"hat:\n",
    "    - $\\hat{\\y}^\\ip$ is the prediction made given $\\x^\\ip$ as input\n",
    "  "
   ]
  },
  {
   "cell_type": "markdown",
   "metadata": {
    "slideshow": {
     "slide_type": "slide"
    }
   },
   "source": [
    "# Fundamental assumption of Machine Learning\n",
    "\n",
    "Our goal is to learn (from training examples) to make a good prediction on a never before seen *test* example.\n",
    "\n",
    "A necessary condition is that the training examples are representative of the future test examples we will encounter.\n",
    "\n",
    "Let's imagine that there is some true (but unknown) distribution $\\pdata$ of feature/label pairs $(\\x, \\y)$.\n",
    "\n",
    "In order to learn, we must assume\n",
    "- That each test example $(\\x, \\y)$ is drawn from $\\pdata$\n",
    "- The *training examples* are a sample drawn from $\\pdata$.\n",
    "\n",
    "We sometimes call the training data an *empirical* distribution -- it is just a sample, not the \"true\" distribution.\n",
    "\n"
   ]
  },
  {
   "cell_type": "markdown",
   "metadata": {
    "slideshow": {
     "slide_type": "subslide"
    }
   },
   "source": [
    "That is: our model can only generalize based on training examples\n",
    "- The training examples need to be representative of unseen examples in the wild in order to generalize well\n",
    "- Larger training sets are preferred as they may be more representative of the true $\\pdata$\n",
    "    - They should also be diverse\n",
    "    \n",
    "If the test example $\\x$ is $not$ from $\\pdata$, the model is unconstrained in its prediction."
   ]
  },
  {
   "cell_type": "markdown",
   "metadata": {
    "slideshow": {
     "slide_type": "slide"
    }
   },
   "source": [
    "# Making it concrete: Let's predict !\n",
    "\n",
    "Let's load a dataset to make these concepts concrete"
   ]
  },
  {
   "cell_type": "code",
   "execution_count": 3,
   "metadata": {
    "slideshow": {
     "slide_type": "subslide"
    }
   },
   "outputs": [],
   "source": [
    "import class_helper\n",
    "%aimport class_helper\n",
    "\n",
    "clh= class_helper.Classification_Helper()\n",
    "X_digits,  y_digits = clh.load_digits()\n"
   ]
  },
  {
   "cell_type": "markdown",
   "metadata": {
    "slideshow": {
     "slide_type": "slide"
    }
   },
   "source": [
    "- Let's see what $m$ (number of examples), $n$ (number of features) are"
   ]
  },
  {
   "cell_type": "code",
   "execution_count": 4,
   "metadata": {
    "slideshow": {
     "slide_type": "subslide"
    }
   },
   "outputs": [
    {
     "name": "stdout",
     "output_type": "stream",
     "text": [
      "m=1797 training examples\n",
      "n=64 features per example\n",
      "10 classes: 0, 1, 2, 3, 4, 5, 6, 7, 8, 9\n"
     ]
    }
   ],
   "source": [
    "import numpy as np\n",
    "\n",
    "print(\"m={m:d} training examples\".format(m=X_digits.shape[0]))\n",
    "print(\"n={m:d} features per example\".format(m=X_digits.shape[1]))\n",
    "targets = np.unique(y_digits)\n",
    "targets.sort()\n",
    "\n",
    "print(\"{nc:d} classes: {c:s}\".format(nc=len(targets), c=\", \".join( [ str(t) for t in targets ]) ) )"
   ]
  },
  {
   "cell_type": "code",
   "execution_count": 5,
   "metadata": {
    "slideshow": {
     "slide_type": "subslide"
    }
   },
   "outputs": [
    {
     "name": "stdout",
     "output_type": "stream",
     "text": [
      "\n",
      "Example 0, range(0.00, 1.00):\n",
      "\t  [0.     0.     0.3125 0.8125 0.5625 0.0625 0.     0.     0.     0.\n",
      " 0.8125 0.9375 0.625  0.9375 0.3125 0.     0.     0.1875 0.9375 0.125\n",
      " 0.     0.6875 0.5    0.     0.     0.25   0.75   0.     0.     0.5\n",
      " 0.5    0.     0.     0.3125 0.5    0.     0.     0.5625 0.5    0.\n",
      " 0.     0.25   0.6875 0.     0.0625 0.75   0.4375 0.     0.     0.125\n",
      " 0.875  0.3125 0.625  0.75   0.     0.     0.     0.     0.375  0.8125\n",
      " 0.625  0.     0.     0.    ]\n"
     ]
    }
   ],
   "source": [
    "# Across the features of all examples: what is the min and the max ?\n",
    "# Let's look at the feature vector for example at index ex_num\n",
    "ex_num = 0\n",
    "print(\"\\nExample {n:d}, range({mn:2.2f}, {mx:2.2f}):\\n\\t \".format(n=ex_num, \n",
    "                                                              mn=X_digits.min(), mx=X_digits.max()\n",
    "                                                             ),\n",
    "      X_digits[ex_num,:]\n",
    "     )"
   ]
  },
  {
   "cell_type": "markdown",
   "metadata": {
    "slideshow": {
     "slide_type": "subslide"
    }
   },
   "source": [
    "- The dataset contains a number of examples.\n",
    "\n",
    "    - Each example $\\x^\\ip$ is a vector of 64 features, which are numbers in the range $[0,1]$\n",
    "    - The target $y^\\ip$ is a digit in the range $[0,9]$\n",
    "\n",
    "- In other words: the examples are encodings of images with labels that indicate what the image is.\n",
    "    "
   ]
  },
  {
   "cell_type": "markdown",
   "metadata": {
    "slideshow": {
     "slide_type": "subslide"
    }
   },
   "source": [
    "Since the examples are grey scale values, we can re-arrange them into a square grid and plot:"
   ]
  },
  {
   "cell_type": "code",
   "execution_count": 4,
   "metadata": {
    "scrolled": true,
    "slideshow": {
     "slide_type": "slide"
    }
   },
   "outputs": [
    {
     "data": {
      "image/png": "[encoded data removed]",
      "text/plain": [
       "<Figure size 864x576 with 100 Axes>"
      ]
     },
     "metadata": {
      "needs_background": "light"
     },
     "output_type": "display_data"
    }
   ],
   "source": [
    "fig, axs = clh.plot_digits(X_digits,  y_digits)"
   ]
  },
  {
   "cell_type": "markdown",
   "metadata": {
    "slideshow": {
     "slide_type": "subslide"
    }
   },
   "source": [
    "- Our problem is to take an unknown $\\x$ and map it (predict) to a label in the range $[0,9]$.\n",
    "\n",
    "- This is a *classification* problem as our predictions are from a finite set."
   ]
  },
  {
   "cell_type": "code",
   "execution_count": 7,
   "metadata": {
    "scrolled": true,
    "slideshow": {
     "slide_type": "slide"
    }
   },
   "outputs": [
    {
     "name": "stdout",
     "output_type": "stream",
     "text": [
      "KNN score: 0.990000\n",
      "LogisticRegression score: 1.000000\n"
     ]
    },
    {
     "data": {
      "image/png": "[encoded data removed]",
      "text/plain": [
       "<Figure size 864x216 with 10 Axes>"
      ]
     },
     "metadata": {
      "needs_background": "light"
     },
     "output_type": "display_data"
    }
   ],
   "source": [
    "Xd_train, Xd_test, yd_train, yd_test, models = clh.fit_digits(X_digits, y_digits)\n",
    "\n",
    "_= clh.predict_digits(models[\"knn\"], Xd_test[:10], yd_test[:10])"
   ]
  },
  {
   "cell_type": "markdown",
   "metadata": {
    "slideshow": {
     "slide_type": "slide"
    }
   },
   "source": [
    "- How would **you** predict a label for an image, given the 64 pixel values ?\n",
    "\n",
    "- We will use a very simple (and inefficient) algorithm called *K Nearest Neighbors (KNN)*."
   ]
  },
  {
   "cell_type": "markdown",
   "metadata": {
    "colab_type": "text",
    "id": "WAwEIaJ9UmAC",
    "slideshow": {
     "slide_type": "slide"
    }
   },
   "source": [
    "## Template matching\n",
    "\n",
    "$\\newcommand{\\vc}{\\mathbf{v}_{(c)}}$\n",
    "\n",
    "- One approach to Classification is to match our input vector $\\x$ against a *template*:\n",
    "(a vector of similar length) whose class is known.\n",
    "\n",
    "- With one template $\\vc$ for each class $\\c \\in C$, we could classify $\\x$ as being in the class $c'$\n",
    "whose template was \"closest\" to $\\x$.\n",
    "\n",
    "- We need a similarity measure that maps $\\x$ and $\\vc$ to a number such that\n",
    "larger means more similar.\n"
   ]
  },
  {
   "cell_type": "markdown",
   "metadata": {
    "colab_type": "text",
    "id": "vuTufoJG2R6N",
    "slideshow": {
     "slide_type": "slide"
    }
   },
   "source": [
    "# Our first predictor: K Nearest Neighbors (KNN)\n",
    "\n",
    "- Here's one of the simplest Machine Learning algorithms, that leverages template matching.\n",
    "- In this case, the templates are the feature vectors of the training set.\n",
    "\n",
    "- Use the similarity measure to find the $K$ training examples closest to $\\x$; \n",
    "\n",
    "- Predict the class that appears most frequently among these $K$ examples."
   ]
  },
  {
   "cell_type": "markdown",
   "metadata": {
    "colab_type": "text",
    "id": "vuTufoJG2R6N",
    "slideshow": {
     "slide_type": "subslide"
    }
   },
   "source": [
    "- Here is our predictor function, given *test* input $\\x$:\n",
    "    - For each training example $\\x^\\ip$, compute the similarity $s^\\ip$ of $\\x$ to $\\x^\\ip$\n",
    "    - Let $S_K$ be the set of $K$ training examples $i_1, i_2, \\ldots, i_K$with greatest similarity to $\\x$\n",
    "        - $Y = [ \\y^{(j)}  | \\ j \\in S_K ]$ be the classes associated with these closest examples\n",
    "    - Let $\\text{count}_c$ be the number of elements of $Y$ that are equal to class $c, c \\in C$.\n",
    "    - Predict class $c'$, with the greatest $\\text{count}_{c'}$"
   ]
  },
  {
   "cell_type": "markdown",
   "metadata": {
    "colab_type": "text",
    "id": "vuTufoJG2R6N",
    "slideshow": {
     "slide_type": "subslide"
    }
   },
   "source": [
    "- KNN operates under the assumption (Manifold Hypothesis) that if two vectors are similar, they have the same class.\n",
    "\n",
    "- If $K=1$, the predictions are highly sensitive to the training examples; increasing $K$ may increase\n",
    "the prediction accuracy.\n",
    "  \n",
    "- Although simple, can you spot the drawback to KNN ?\n",
    "\n",
    "    - The size of $\\Theta$ (the number of parameters) is proportional to\n",
    "        - the size of the training set: $m * n$\n",
    "        - ideally: $m$ is very large\n",
    "  \n",
    "  "
   ]
  },
  {
   "cell_type": "markdown",
   "metadata": {
    "slideshow": {
     "slide_type": "slide"
    }
   },
   "source": [
    "KNN is so simple it's almost embarassing to call it Machine Learning.\n",
    "But it does illustrate the key steps\n",
    "- the basis of Supervised Learning are training examples\n",
    "    - the more the better\n",
    "- the training examples are used to *fit* a predictor\n",
    "    - we will learn many predictors (models) in this course\n",
    "- the features of the examples are the key to prediction"
   ]
  },
  {
   "cell_type": "markdown",
   "metadata": {
    "slideshow": {
     "slide_type": "subslide"
    }
   },
   "source": [
    "- KNN did not make intelligent use of the features: it merely  memorized the $m$ examples.\n",
    "\n",
    "    - That is, it used $m$ templates each of size $n$ so $|\\Theta| = m*n$.\n",
    "\n",
    "- We will see that many ML algorithms, both Classic (e.g., Regression) and Deep Learning,\n",
    "are based on *solving* for $\\Theta$ -- finding small templates that are effective\n",
    "for prediction.\n",
    "\n",
    "- A more intelligent basis for prediction would include:\n",
    "    - finding one (or more) features that are predictive\n",
    "    - finding relationships among features that are predictive\n",
    "    - find a subset of features that is *common across all examples* in a class.\n",
    "\n"
   ]
  },
  {
   "cell_type": "markdown",
   "metadata": {
    "slideshow": {
     "slide_type": "subslide"
    }
   },
   "source": [
    "- Another issue: perhaps we are using the wrong features ?\n",
    "    - are $n = 64$ raw pixels the best representation of the input (and template) for learning ?\n",
    "    - would higher level features (e.g., groups of pixels that form horizontal/vertical lines) be more efficient ?\n",
    "\n",
    "\n",
    "- This is called Data Transformation or Feature Engineering and will be key concept."
   ]
  },
  {
   "cell_type": "markdown",
   "metadata": {
    "slideshow": {
     "slide_type": "slide"
    }
   },
   "source": [
    "# Fitting a predictor (training a model)\n",
    "\n",
    "- As simple as KNN is, it has far less mathematical basis than most ML algorithms.\n",
    "\n",
    "- To be more formal, a predictor is a function of feature vectors $\\x$ whose behavior\n",
    "is parameterized by $\\Theta$.\n",
    "    - terminology: also called an *estimator*, *fitted model*\n",
    "\n",
    "- A *cost or loss function*  measures how well the predictor performs\n",
    "on the training set, given  $\\Theta$.\n",
    "\n",
    "- Fitting (or training) the predictor: solve for the $\\Theta$\n",
    "that minimizes the cost function.\n",
    "\n",
    "**Note** The loss function is relative to the *training* set\n",
    "-  it is usually similar, but not\n",
    "identical, to the Performance Measure that quantifies how well the predictor peforms\n",
    "out of sample (e.g., on the Test or Validation set)."
   ]
  },
  {
   "cell_type": "markdown",
   "metadata": {
    "colab_type": "text",
    "id": "m6lKaQvuHCc1",
    "slideshow": {
     "slide_type": "slide"
    }
   },
   "source": [
    "## Cost/Loss, Utility\n",
    "\n",
    "- The prediction $\\hat{\\y}^{(i)}$ for example $\\x^\\ip$ is perfect if it matches the true label $\\y^\\ip$\n",
    "\n",
    "$ \\hat{\\y}^\\ip = \\y^\\ip$\n",
    "\n",
    "- Perfection  is hard (at least at first) so we need a measure for \"how far off\" the prediction is.\n",
    "\n",
    "- We will call the distance between $\\hat{\\y}^{(i)}, y^\\ip$ the *Loss* (or *Cost*) for example $i$:\n",
    "\n",
    "$$\n",
    "\\loss^\\ip_\\Theta =  L( \\;  h(\\x^\\ip; \\Theta),  \\y^\\ip \\;) = L( \\hat{\\y}^\\ip , \\y) \n",
    "$$\n",
    "\n",
    "where $L(a,b)$ is a function that is $0$ when $a = b$ and increasing as $a$ increasingly differs from $b$.\n",
    "\n",
    "Two common forms of $L$ are Mean Squared Error (for Regression) and Cross Entropy Loss (for classification)."
   ]
  },
  {
   "cell_type": "markdown",
   "metadata": {
    "colab_type": "text",
    "id": "m6lKaQvuHCc1",
    "slideshow": {
     "slide_type": "subslide"
    }
   },
   "source": [
    "The Loss for the entire training set is simply the average (across examples) of the Loss for the example\n",
    "\n",
    "$$\n",
    "\\loss_\\Theta  = { 1\\over{m} } \\sum_{i=1}^m \\loss^\\ip_\\Theta\n",
    "$$"
   ]
  },
  {
   "cell_type": "markdown",
   "metadata": {
    "slideshow": {
     "slide_type": "subslide"
    }
   },
   "source": [
    "Whereas Loss describes how \"bad\" our prediction is, we sometimes refer to the converse -- how \"good\" the prediction is.\n",
    "\n",
    "We call the \"goodness\" of the prediction  the *Utility* $U_\\Theta$.\n",
    "\n",
    "So we could state the optimization objective either as\n",
    "\"minimize Cost\" or \"maximize Utility\".\n",
    "\n",
    "By convention, the DL optimization problem is usually framed as one of minimization (of cost or loss) \n",
    "rather than maximization of utility."
   ]
  },
  {
   "cell_type": "markdown",
   "metadata": {
    "slideshow": {
     "slide_type": "subslide"
    }
   },
   "source": [
    "Since Cost is inversely related to Utility, you will sometimes see\n",
    "the minimization objective written as\n",
    "\"minimize -1 times Utility\".\n",
    "\n",
    "So be forewarned that you will often see Loss function with leading \"negation\" signs."
   ]
  },
  {
   "cell_type": "markdown",
   "metadata": {
    "colab_type": "text",
    "id": "m6lKaQvuHCc1",
    "slideshow": {
     "slide_type": "slide"
    }
   },
   "source": [
    "### Creating Loss functions is a key part of Deep Learning\n",
    "\n",
    "As you will come to see, particularly for Deep Learning, the essence of many problems is in creating a Loss Function that captures the objective of your problem.\n",
    "\n",
    "This is  far from a trivial part of the process."
   ]
  },
  {
   "cell_type": "markdown",
   "metadata": {
    "colab_type": "text",
    "id": "SHoiCEeMRxG-",
    "slideshow": {
     "slide_type": "slide"
    }
   },
   "source": [
    "## Optimization: Minimize Cost/Loss, Maximize Utility\n",
    "\n",
    "- The goal of fitting/training is to solve for the $\\Theta$ that minimizes the training set loss \n",
    "$L_\\Theta$ (or conversely, maximizes the Utility $U_\\Theta$.\n",
    "\n",
    "- The method for finding $\\Theta$ is called optimization.\n",
    "\n",
    "- There is one optimization method that we will study in depth: Gradient Descent.\n",
    "\n",
    "- We can use this in Classical ML but it will become a key tool once we move on to Deep Learning.\n",
    "\n",
    "- One focus of this course will be variations on Gradient Descent."
   ]
  },
  {
   "cell_type": "markdown",
   "metadata": {
    "colab_type": "text",
    "id": "SHoiCEeMRxG-",
    "slideshow": {
     "slide_type": "subslide"
    }
   },
   "source": [
    "- The difficulty of finding a good \"solution\" to a problem is\n",
    "    - creating a loss function that describes your objectives, which often have multiple aspects\n",
    "    - having a large and diverse set of training examples to estimate $\\Theta$.\n",
    "\n",
    "- Many packages have a method \"fit\" that takes the training set and performs the optimization.\n",
    "\n",
    "- These packages usually create a \"model\" object (containing the $\\Theta$ among other things)\n",
    "\n",
    "- We use *predictor* and *model* as synonyms."
   ]
  },
  {
   "cell_type": "markdown",
   "metadata": {
    "colab_type": "text",
    "id": "aojGEqYcw9Z5",
    "slideshow": {
     "slide_type": "slide"
    }
   },
   "source": [
    "# The dot product: a common Utility function\n",
    "\n",
    "- The \"dot product\" (special case of inner product) is one function\n",
    "that often appears in template matching\n",
    "\n",
    "- It measures the\n",
    "similarity of two vectors\n",
    "\n",
    "$\n",
    "\\mathbf{v} \\cdot \\mathbf{v}' = \\sum_{i=1}^n \\mathbf{v}_i \\mathbf{v}'_i\n",
    "$\n",
    "\n",
    "- As a similarity measure (rather than as a distance) high dot product means \"more similar\"."
   ]
  },
  {
   "cell_type": "markdown",
   "metadata": {
    "colab_type": "text",
    "id": "aojGEqYcw9Z5",
    "slideshow": {
     "slide_type": "subslide"
    }
   },
   "source": [
    "- There are several intuitions for the dot product\n",
    "\n",
    "- The dot product is maximized  when large (resp., small) values appear in similar positions in both vectors\n",
    "  - this becomes evern more obvious if we $0$-center both vectors such that \"small\" values become negative\n",
    "  - this looks like the statistical formula for covariance\n",
    "    - if we normalize both vectors to unit length, then this looks like correlation"
   ]
  },
  {
   "cell_type": "markdown",
   "metadata": {
    "colab_type": "text",
    "id": "aojGEqYcw9Z5",
    "slideshow": {
     "slide_type": "subslide"
    }
   },
   "source": [
    " - Geometric.  Let $\\alpha$ be the angle between vectors.\n",
    "    - $\\mathbf{v} \\cdot \\mathbf{v}' =  || \\mathbf{v} || *  || \\mathbf{v}' || * \\cos(\\alpha)$\n",
    "    - $\\mathbf{v} \\cdot \\mathbf{v}' \\over{ || \\mathbf{v} || *  || \\mathbf{v}' ||}$ is called the cosine similarity\n",
    "      - similarity between normalized vectors\n",
    "    - similarity is maximized when $\\alpha = 0$, that is $v$ and $v'$ are coincident (but perhaps different lengths)\n",
    "    - similarity is $0$ when $v, v'$ are orthogonal\n",
    "    - similarity is negative when $v, v'$ point in different directions"
   ]
  },
  {
   "cell_type": "markdown",
   "metadata": {
    "colab_type": "text",
    "id": "aojGEqYcw9Z5",
    "slideshow": {
     "slide_type": "subslide"
    }
   },
   "source": [
    "- We can generalize dot product to higher dimensions by taking the sum of element-wise multiplication (or simply by first flattening both vectors to one dimension)\n",
    "\n",
    "- We will see the dot product appear repeatedly, particularly in Deep Learning."
   ]
  },
  {
   "cell_type": "markdown",
   "metadata": {
    "slideshow": {
     "slide_type": "slide"
    }
   },
   "source": [
    "# Summary\n",
    "\n",
    "- Machine Learning is a *process* that involves multiple steps\n",
    "    - It is *not* just learning to use various models (predictors)\n",
    "    - We will emphasize the process as much as the algorithms\n",
    "- Supervised Machine Learning depends on the availability of data\n",
    "    - obtaining, cleaning, augmenting data is important\n",
    "- An example is a collection of \"features\"\n",
    "    - finding/creating/interpretting features is the key skill of a Data Scientist\n",
    "        - which features are important \n",
    "        - how do features interact\n",
    "    - sometimes features are missing or too low level\n",
    "    - a key skill is creating features than enable learning\n",
    "    ML\n",
    "\n",
    "\n",
    "- A key part of Machine Learning is stating an optimization objective that captures your goal\n",
    "    - not always obvious"
   ]
  },
  {
   "cell_type": "markdown",
   "metadata": {
    "slideshow": {
     "slide_type": "slide"
    }
   },
   "source": [
    "<img src=images/ML_process.jpg>"
   ]
  },
  {
   "cell_type": "code",
   "execution_count": 8,
   "metadata": {
    "slideshow": {
     "slide_type": "slide"
    }
   },
   "outputs": [
    {
     "name": "stdout",
     "output_type": "stream",
     "text": [
      "Done\n"
     ]
    }
   ],
   "source": [
    "print(\"Done\")"
   ]
  }
 ],
 "metadata": {
  "celltoolbar": "Slideshow",
  "colab": {
   "name": "Overview_and_notation.ipynb",
   "provenance": [],
   "version": "0.3.2"
  },
  "kernelspec": {
   "display_name": "Python 3",
   "language": "python",
   "name": "python3"
  },
  "language_info": {
   "codemirror_mode": {
    "name": "ipython",
    "version": 3
   },
   "file_extension": ".py",
   "mimetype": "text/x-python",
   "name": "python",
   "nbconvert_exporter": "python",
   "pygments_lexer": "ipython3",
   "version": "3.7.4"
  },
  "toc": {
   "base_numbering": 1,
   "nav_menu": {},
   "number_sections": true,
   "sideBar": true,
   "skip_h1_title": false,
   "title_cell": "Table of Contents",
   "title_sidebar": "Contents",
   "toc_cell": false,
   "toc_position": {
    "height": "calc(100% - 180px)",
    "left": "10px",
    "top": "150px",
    "width": "370.594px"
   },
   "toc_section_display": true,
   "toc_window_display": true
  }
 },
 "nbformat": 4,
 "nbformat_minor": 1
}
