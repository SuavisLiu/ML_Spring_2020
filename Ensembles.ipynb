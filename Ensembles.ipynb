{
 "cells": [
  {
   "cell_type": "code",
   "execution_count": 1,
   "metadata": {
    "slideshow": {
     "slide_type": "notes"
    }
   },
   "outputs": [
    {
     "data": {
      "text/latex": [
       "$$\n",
       "\\newcommand{\\x}{\\mathbf{x}}\n",
       "\\newcommand{\\tx}{\\tilde{\\x}}\n",
       "\\newcommand{\\y}{\\mathbf{y}}\n",
       "\\newcommand{\\b}{\\mathbf{b}}\n",
       "\\newcommand{\\c}{\\mathbf{c}}\n",
       "\\newcommand{\\e}{\\mathbf{e}}\n",
       "\\newcommand{\\z}{\\mathbf{z}}\n",
       "\\newcommand{\\h}{\\mathbf{h}}\n",
       "\\newcommand{\\v}{\\mathbf{v}}\n",
       "\\newcommand{\\w}{\\mathbf{w}}\n",
       "\\newcommand{\\W}{\\mathbf{W}}\n",
       "\\newcommand{\\X}{\\mathbf{X}}\n",
       "\\newcommand{\\KL}{\\mathbf{KL}}\n",
       "\\newcommand{\\E}{{\\mathbb{E}}}\n",
       "\\newcommand{\\ip}{\\mathbf{{(i)}}}\n",
       "%\n",
       "% Test set\n",
       "\\newcommand{\\xt}{\\underline{\\x}}\n",
       "\\newcommand{\\yt}{\\underline{\\y}}\n",
       "\\newcommand{\\Xt}{\\underline{\\X}}\n",
       "\\newcommand{\\perfm}{\\mathcal{P}}\n",
       "%\n",
       "% \\ll indexes a layer; we can change the actual letter\n",
       "\\newcommand{\\ll}{l}\n",
       "\\newcommand{\\llp}{{(\\ll)}}\n",
       "%\n",
       "\\newcommand{Thetam}{\\Theta_{-0}}\n",
       "\n",
       "%\n",
       "% \\tt indexes a time step\n",
       "\\newcommand{\\tt}{t}\n",
       "\\newcommand{\\tp}{{(\\tt)}}\n",
       "%\n",
       "\\newcommand{\\loss}{\\mathcal{L}}\n",
       "\\newcommand{\\cost}{\\mathcal{L}}\n",
       "%\n",
       "%                     \n",
       "\\newcommand{\\pdata}{p_\\text{data}}\n",
       "\\newcommand{\\pmodel}{p_\\text{model}}\n",
       "%\n",
       "% SVM\n",
       "\\newcommand{\\margin}{{\\mathbb{m}}}\n",
       "\\newcommand{\\lmk}{\\boldsymbol{\\ell}}\n",
       "%\n",
       "% Functions with arguments\n",
       "\\def\\xsy#1#2{#1^#2}\n",
       "\\def\\rand#1{\\tilde{#1}}\n",
       "\\def\\randx{\\rand{\\x}}\n",
       "\\def\\randy{\\rand{\\y}}\n",
       "\\def\\trans#1{\\dot{#1}}\n",
       "\\def\\transx{\\trans{\\x}}\n",
       "\\def\\transy{\\trans{\\y}}\n",
       "%\n",
       "\\def\\argmax#1{\\underset{#1} {\\operatorname{argmax}} }\n",
       "\\def\\argmin#1{\\underset{#1} {\\operatorname{argmin}} }\n",
       "\\def\\max#1{\\underset{#1} {\\operatorname{max}} }\n",
       "\\def\\min#1{\\underset{#1} {\\operatorname{min}} }\n",
       "%\n",
       "\\def\\pr#1{\\mathcal{p}(#1)}\n",
       "\\def\\prc#1#2{\\mathcal{p}(#1 \\; | \\; #2)}\n",
       "\\def\\cnt#1{\\mathcal{count}_{#1}}\n",
       "\\def\\node#1{\\mathbb{#1}}\n",
       "%\n",
       "\\newcommand{\\floor}[1]{\\left\\lfloor #1 \\right\\rfloor}\n",
       "\\newcommand{\\ceil}[1]{\\left\\lceil #1 \\right\\rceil}\n",
       "%\n",
       "\\def\\loc#1{{\\text{##} {#1}}}\n",
       "%\n",
       "$$\n"
      ],
      "text/plain": [
       "<IPython.core.display.Latex object>"
      ]
     },
     "metadata": {},
     "output_type": "display_data"
    }
   ],
   "source": [
    "%run Latex_macros.ipynb"
   ]
  },
  {
   "cell_type": "code",
   "execution_count": 2,
   "metadata": {
    "slideshow": {
     "slide_type": "notes"
    }
   },
   "outputs": [],
   "source": [
    "# My standard magic !  You will see this in almost all my notebooks.\n",
    "\n",
    "from IPython.core.interactiveshell import InteractiveShell\n",
    "InteractiveShell.ast_node_interactivity = \"all\"\n",
    "\n",
    "# Reload all modules imported with %aimport\n",
    "%load_ext autoreload\n",
    "%autoreload 1\n",
    "\n",
    "%matplotlib inline"
   ]
  },
  {
   "cell_type": "code",
   "execution_count": 3,
   "metadata": {
    "slideshow": {
     "slide_type": "notes"
    }
   },
   "outputs": [],
   "source": [
    "import pandas as pd\n",
    "import numpy as np\n",
    "import matplotlib.pyplot as plt\n",
    "\n",
    "import matplotlib.ticker as mtick"
   ]
  },
  {
   "cell_type": "code",
   "execution_count": 4,
   "metadata": {
    "slideshow": {
     "slide_type": "notes"
    }
   },
   "outputs": [],
   "source": [
    "import decision_trees_helper\n",
    "%aimport decision_trees_helper\n",
    "\n",
    "import class_helper\n",
    "%aimport class_helper"
   ]
  },
  {
   "cell_type": "code",
   "execution_count": 5,
   "metadata": {
    "slideshow": {
     "slide_type": "notes"
    }
   },
   "outputs": [
    {
     "name": "stdout",
     "output_type": "stream",
     "text": [
      "RandomForest with 30 estimators with features [0, 2] has a score of 0.9466666666666667\n"
     ]
    }
   ],
   "source": [
    "# Generate plots for use in the notebook\n",
    "ens_h = decision_trees_helper.Ensemble_Helper()\n",
    "data = ens_h.make_iris()\n",
    "\n",
    "ens_result = ens_h.make_ens( pairs=[ [0,2] ])\n",
    "fig_submodels, axs_submodles = ens_result[\"individual models plot\"]\n",
    "fig_sum, axs_sum = ens_result[\"ensemble plot\"]\n",
    "pairs = ens_result[\"pairs\"]"
   ]
  },
  {
   "cell_type": "code",
   "execution_count": 6,
   "metadata": {
    "slideshow": {
     "slide_type": "notes"
    }
   },
   "outputs": [],
   "source": [
    "# Pick one pair, one model from the list of (pairs x models) to plot\n",
    "pair_idx, model_idx = 0,0\n",
    "pair = pairs[pair_idx]\n",
    "\n",
    "ens_estimators = ens_result[\"estimators\"][pair_idx][model_idx]\n",
    "X, y = ens_result[\"individual model data\"][pair_idx][model_idx]\n",
    "\n",
    "fig_ens = ens_h.plot_ens(X, y, ens_estimators, feature_names=[ \"$x_{i:d}$\".format(i=idx+1) \n",
    "                                                              for i, idx in enumerate(pair)\n",
    "                                                             ])"
   ]
  },
  {
   "cell_type": "markdown",
   "metadata": {
    "slideshow": {
     "slide_type": "slide"
    }
   },
   "source": [
    "# Ensembles\n",
    "\n",
    "Following our Recipe for Machine Learning, we may try out several models before deciding on the final one.\n",
    "\n",
    "Is a single \"best\" model really best ? Is there an alternative ?"
   ]
  },
  {
   "cell_type": "markdown",
   "metadata": {
    "slideshow": {
     "slide_type": "subslide"
    }
   },
   "source": [
    "By combining models with independent errors, we may be able to construct a combined model\n",
    "whose accuracy is better than the best individual model.\n",
    "\n",
    "The combined models are called an *Ensemble*.\n",
    "\n",
    "The individual models\n",
    "- May be of different types: \n",
    "    - Decision Tree, Logistic Regression, KNN\n",
    "- May be of the *same* type, with different parameters/hyperparameters:\n",
    "    - Decision Trees of different depths or different features\n",
    "    - Regression with polynomial features of different degrees"
   ]
  },
  {
   "cell_type": "markdown",
   "metadata": {
    "slideshow": {
     "slide_type": "subslide"
    }
   },
   "source": [
    "When the individual models are of the same type\n",
    "- Each individual models is trained on a *different* subset of the training examples\n",
    "- This enables the individual models to produce different results\n",
    "- Makes them more robust to outliers\n",
    "\n",
    "We will shortly explain how the subsets are chosen."
   ]
  },
  {
   "cell_type": "markdown",
   "metadata": {
    "slideshow": {
     "slide_type": "subslide"
    }
   },
   "source": [
    "Here is an Ensemble of individual models of the same type: Decision Trees"
   ]
  },
  {
   "cell_type": "code",
   "execution_count": 7,
   "metadata": {
    "slideshow": {
     "slide_type": "subslide"
    }
   },
   "outputs": [
    {
     "data": {
      "image/png": "[encoded data removed]",
      "text/plain": [
       "<Figure size 1080x648 with 3 Axes>"
      ]
     },
     "execution_count": 7,
     "metadata": {},
     "output_type": "execute_result"
    }
   ],
   "source": [
    "fig_ens"
   ]
  },
  {
   "cell_type": "markdown",
   "metadata": {
    "slideshow": {
     "slide_type": "subslide"
    }
   },
   "source": [
    "The individual models are usually quite simple and restricted.\n",
    "- They are *weak learners*: accuracy only marginally better than chance\n",
    "- But combine to create a *strong learner*.\n"
   ]
  },
  {
   "cell_type": "markdown",
   "metadata": {
    "slideshow": {
     "slide_type": "subslide"
    }
   },
   "source": [
    "If the prediction of an ensemble of $M$ binary classifiers is based on a \"majority vote\"\n",
    "- The prediction is incorrect only if $m' \\ge \\ceil{M/2}$ classifiers are incorrect\n",
    "- The probability of a particluar set of $m'$ models of equal accuracy $A$ all being incorrect is\n",
    "$\n",
    "{ (1 - A)^{m'} }\n",
    "$\n",
    "- There are $$ \\begin{pmatrix} M \\\\ m' \\\\\n",
    "\\end{pmatrix}\n",
    "$$\n",
    "combinations of $m'$ models\n",
    "- So the probability of a correct ensemble prediction when $m'$ classifiers are incorrect is\n",
    "$$\n",
    "1- \\begin{pmatrix} M \\\\ m' \\\\\n",
    "\\end{pmatrix} *  { (1 - A)^{m'} }\n",
    "$$\n",
    "which tends to $1$ as $M$ increases."
   ]
  },
  {
   "cell_type": "markdown",
   "metadata": {
    "slideshow": {
     "slide_type": "subslide"
    }
   },
   "source": [
    "The power of Ensembles comes via the size of $M$.\n",
    "\n",
    "Ensembling is independent of the types of the individual models\n",
    "- A meta-model that can combine many different types of individual models\n",
    "- Under the assumption of **independent** errors\n",
    "- Often applied in competitions"
   ]
  },
  {
   "cell_type": "markdown",
   "metadata": {
    "slideshow": {
     "slide_type": "subslide"
    }
   },
   "source": [
    " ## Ensemble prediction\n",
    "\n",
    "Each individual model comes up with a prediction for the target $\\hat{\\y}^\\ip$ of example $i$,\n",
    "given features $\\x^\\ip$.\n",
    "\n",
    "Let\n",
    "$p_{\\tp,c}^\\ip$\n",
    "- Denote the probability predicted by he $\\tt^{th}$ individual classifier\n",
    "- That target $\\y^\\ip$ is in categorcy $c \\in C$\n",
    "- Given features $\\x^\\ip$\n",
    "\n",
    "The class predicted by the ensemble is the one with highest average  (across individual models) probability\n",
    "$$\n",
    "\\hat{y}^\\ip = \\argmax{c}{ \\sum_{\\tt=1}^M} { p_{\\tp,c}^\\ip }\n",
    "$$\n",
    "\n"
   ]
  },
  {
   "cell_type": "markdown",
   "metadata": {
    "slideshow": {
     "slide_type": "subslide"
    }
   },
   "source": [
    "Returning to the Ensemble of Decision Trees example, we can plot the decision boundary of\n",
    "each individual model"
   ]
  },
  {
   "cell_type": "code",
   "execution_count": 8,
   "metadata": {
    "slideshow": {
     "slide_type": "subslide"
    }
   },
   "outputs": [
    {
     "data": {
      "image/png": "[encoded data removed]",
      "text/plain": [
       "<Figure size 864x432 with 3 Axes>"
      ]
     },
     "execution_count": 8,
     "metadata": {},
     "output_type": "execute_result"
    }
   ],
   "source": [
    "fig_submodels"
   ]
  },
  {
   "cell_type": "markdown",
   "metadata": {
    "slideshow": {
     "slide_type": "subslide"
    }
   },
   "source": [
    "By superimposing these boundaries on top of one another, we can visualize the \"vote\"\n"
   ]
  },
  {
   "cell_type": "code",
   "execution_count": 9,
   "metadata": {
    "slideshow": {
     "slide_type": "subslide"
    }
   },
   "outputs": [
    {
     "data": {
      "image/png": "[encoded data removed]",
      "text/plain": [
       "<Figure size 864x432 with 2 Axes>"
      ]
     },
     "execution_count": 9,
     "metadata": {},
     "output_type": "execute_result"
    }
   ],
   "source": [
    "fig_sum"
   ]
  },
  {
   "cell_type": "markdown",
   "metadata": {
    "slideshow": {
     "slide_type": "subslide"
    }
   },
   "source": [
    "- The left plot is the super-position\n",
    "- The right plot is the final boundary of the ensemble\n",
    "\n",
    "You can see that the combination of the weak learners does a pretty good job !"
   ]
  },
  {
   "cell_type": "markdown",
   "metadata": {
    "slideshow": {
     "slide_type": "slide"
    }
   },
   "source": [
    "# Bagging, Bootstrapping\n",
    "\n",
    "One way to construct multiple weak learners of the *same* type of model\n",
    "- Is to train each individual model on a *restricted* set of training examples\n",
    "\n",
    "Because each individual model is trained on different examples, the predictions made by\n",
    "each are hopefully somewhat independent."
   ]
  },
  {
   "cell_type": "markdown",
   "metadata": {
    "slideshow": {
     "slide_type": "slide"
    }
   },
   "source": [
    "Given the full set of training examples\n",
    "$$ \\langle \\X, \\y \\rangle = [ \\x^\\ip, \\y^\\ip | 1 \\le i \\le m ]$$\n",
    "\n",
    "we construct a restricted set of examples \n",
    "$$ \\langle \\X_\\tp, \\y_\\tp \\rangle $$\n",
    "on which to train the $\\tt^{th}$ individual model"
   ]
  },
  {
   "cell_type": "markdown",
   "metadata": {
    "slideshow": {
     "slide_type": "subslide"
    }
   },
   "source": [
    "The restricted set \n",
    "is constructed by\n",
    "- Selecting $m$ examples at random from $\\langle \\X, \\y \\rangle$\n",
    "- *With replacement*\n",
    "- So it is possible for an example $i'$ to appear more than once in $ \\langle \\X_\\tp, \\y_\\tp \\rangle$\n",
    "\n",
    "This process is called *bootstrapping* and results in\n",
    "- $ \\langle \\X_\\tp, \\y_\\tp \\rangle = [ \\x^{(i')}, \\y^{(i')} | i' \\in \\{ i_1, \\ldots, i_m \\} ] $\n",
    "- Where $i'_1, \\ldots, i'_m$ are the indices of the $m$ chosen examples\n"
   ]
  },
  {
   "cell_type": "markdown",
   "metadata": {
    "slideshow": {
     "slide_type": "subslide"
    }
   },
   "source": [
    "If each of the $m$ examples in $ \\langle \\X, \\y \\rangle$ is chosen with equal probability $\\frac{1}{m}$\n",
    "- The probability of a particular example $i$ **not** being in $ \\langle \\X_\\tp, \\y_\\tp \\rangle$ is\n",
    "$$\n",
    "( 1 - \\frac{1}{m} )^m\n",
    "$$"
   ]
  },
  {
   "cell_type": "code",
   "execution_count": 10,
   "metadata": {
    "slideshow": {
     "slide_type": "subslide"
    }
   },
   "outputs": [],
   "source": [
    "m = np.arange(50, 1000, 50)\n",
    "p = (1 - 1/m)**m\n",
    "\n",
    "\n",
    "fig, ax = plt.subplots(1,1, figsize=(12,6))\n",
    "_= ax.plot(m, p)\n",
    "_= ax.set_xlabel(\"m\")\n",
    "_= ax.set_ylabel(\"prob not in bootstrapped sample\")\n",
    "_= ax.set_yticklabels( [ \"{:.2%}\".format(y) for y in p])\n",
    "plt.close(fig)"
   ]
  },
  {
   "cell_type": "code",
   "execution_count": 11,
   "metadata": {
    "slideshow": {
     "slide_type": "subslide"
    }
   },
   "outputs": [
    {
     "data": {
      "image/png": "[encoded data removed]",
      "text/plain": [
       "<Figure size 864x432 with 1 Axes>"
      ]
     },
     "execution_count": 11,
     "metadata": {},
     "output_type": "execute_result"
    }
   ],
   "source": [
    "fig"
   ]
  },
  {
   "cell_type": "markdown",
   "metadata": {
    "slideshow": {
     "slide_type": "subslide"
    }
   },
   "source": [
    "Thus about 63% of the examples in the bootstrapped set are duplicates.\n",
    "\n",
    "The weak learner can't overfit to any example that is not in its training set."
   ]
  },
  {
   "cell_type": "markdown",
   "metadata": {
    "slideshow": {
     "slide_type": "subslide"
    }
   },
   "source": [
    "The process of\n",
    "- Bootstrapping restricted training examples\n",
    "- Training individual models on the bootstrapped examples\n",
    "- Aggregating model predictions into a single prediction\n",
    "\n",
    "is called *bagging* and each individual training set is called a bag"
   ]
  },
  {
   "cell_type": "markdown",
   "metadata": {
    "slideshow": {
     "slide_type": "subslide"
    }
   },
   "source": [
    "Bagging has a nice side-effect\n",
    "- About 37% of the full set of examples are not present in a given bag\n",
    "- Called *out of bag*\n",
    "\n",
    "The out of bag examples thus can be used to test out of sample prediction !"
   ]
  },
  {
   "cell_type": "markdown",
   "metadata": {
    "slideshow": {
     "slide_type": "slide"
    }
   },
   "source": [
    "# Random Forests\n",
    "\n",
    "A Random Forest\n",
    "- Is a collection of Decision Trees\n",
    "- Of restricted power (weak learners)\n",
    "- Created by Bagging\n"
   ]
  },
  {
   "cell_type": "markdown",
   "metadata": {
    "slideshow": {
     "slide_type": "subslide"
    }
   },
   "source": [
    "The learners are made weak by\n",
    "- Training on a bootstrapped subset\n",
    "- By limiting the depth of the Decision Tree\n",
    "- By limiting the choice of feature on which to split a node\n",
    "    - To a random subset of all features\n",
    "    \n",
    "The result is that the individual models (Decision Trees) are relatively independent."
   ]
  },
  {
   "cell_type": "markdown",
   "metadata": {
    "slideshow": {
     "slide_type": "slide"
    }
   },
   "source": [
    "# Boosting\n",
    "\n",
    "There is another approach to creating ensembles of weak learners.\n",
    "\n",
    "The method is called *boosting*\n",
    "- Rather than create weak learners independently, i.e., a *set*\n",
    "- Boosting creates a *sequence* of weak learners: $M_{(0)}, M_{(1)}, \\ldots, M_{(M)}$\n",
    "- Where the $(\\tt +1)^{th}$ individual model in the sequence\n",
    "- Focusses on correctly predicting those examples *incorrectly* predicted by the $\\tt^{th}$ individual model"
   ]
  },
  {
   "cell_type": "markdown",
   "metadata": {
    "slideshow": {
     "slide_type": "subslide"
    }
   },
   "source": [
    "**Notation**\n",
    "\n",
    "We will be dealing with many sequences.  We use subscripts in parentheses to index elements of a sequence.\n",
    "$$M_{(0)}, M_{(1)}, \\ldots, M_{(M)}$$"
   ]
  },
  {
   "cell_type": "markdown",
   "metadata": {
    "slideshow": {
     "slide_type": "subslide"
    }
   },
   "source": [
    "<table>\n",
    "    <tr>\n",
    "        <center>Bagging</center>\n",
    "    </tr>\n",
    "<img src=images/Bagging.jpg>\n",
    "</table>"
   ]
  },
  {
   "cell_type": "markdown",
   "metadata": {
    "slideshow": {
     "slide_type": "subslide"
    }
   },
   "source": [
    "<table>\n",
    "    <tr>\n",
    "        <center>Boosting</center>\n",
    "    </tr>\n",
    "<img src=images/Boosting.jpg>\n",
    "</table>"
   ]
  },
  {
   "cell_type": "markdown",
   "metadata": {
    "slideshow": {
     "slide_type": "subslide"
    }
   },
   "source": [
    "How do we get an individual model to focus on some particular examples ?\n",
    "- By assigning each example a weight"
   ]
  },
  {
   "cell_type": "markdown",
   "metadata": {
    "slideshow": {
     "slide_type": "subslide"
    }
   },
   "source": [
    "Let $\\text{say}_\\tp^\\ip$ denote the weight assigned to example $i$ in the training set for the $\\tt^{th}$\n",
    "individual model\n",
    "\n",
    "The \"say\" is adjusted from the $\\tt^{th}$ model to the $(\\tt+1)^{th}$ individual model\n",
    "\n",
    "$\n",
    "\\begin{array}[lll]\\\\\n",
    "\\text{If example } i \\text{ is incorrectly prediced in model } \\tt: & \\text{say}_{(\\tt+1)}^\\ip > \\text{say}_\\tp^\\ip \\\\\n",
    "\\text{If example } i \\text{ is correctly prediced in model } \\tt: & \\text{say}_{(\\tt+1)}^\\ip ><\\text{say}_\\tp^\\ip \\\\\n",
    "\\end{array}\n",
    "$\n"
   ]
  },
  {
   "cell_type": "markdown",
   "metadata": {
    "slideshow": {
     "slide_type": "subslide"
    }
   },
   "source": [
    "When bootstrapping, rather than drawing examples with equal probability\n",
    "- Draw examples for model $\\tt +1$ in proportion to it's $\\text{say}_{(\\tt+1)}^\\ip$\n",
    "- So examples that were \"problematic\" in model $\\tt$ are over-represented in training model $(\\tt+1)$"
   ]
  },
  {
   "cell_type": "markdown",
   "metadata": {
    "slideshow": {
     "slide_type": "subslide"
    }
   },
   "source": [
    "- Boosting creates a collection of \"specialists\" (focus on hard to predict examples)\n",
    "- Bagging creates a collection of \"generalists\", each a little better than random"
   ]
  },
  {
   "cell_type": "markdown",
   "metadata": {
    "slideshow": {
     "slide_type": "slide"
    }
   },
   "source": [
    "## AdaBoost\n",
    "\n",
    "AdaBoost is a particular model that uses boosting\n",
    "- The individual models are Decision Trees\n",
    "    - usually depth $1$; \"stumps\"\n",
    "- There is a weight associated with each individual model \n",
    "- Models with higher weight have a greater impact on ensemble prediction\n"
   ]
  },
  {
   "cell_type": "markdown",
   "metadata": {
    "slideshow": {
     "slide_type": "slide"
    }
   },
   "source": [
    "Let\n",
    "$$\\text{importance}_\\tp$$ \n",
    "denote the weight of the $\\tt^{th}$ individual model in the sequence.\n",
    "\n",
    "- $\\text{importance}_\\tp$ is determined by the Performance Metric (e.g., Accuracy) of individual model $\\tt$\n",
    "\n",
    "- The class predicted by the ensemble is the one with highest *weighted* average  (across individual models) probability\n",
    "$$\n",
    "\\hat{y}^\\ip = \\argmax{c}{ \\sum_{\\tt=1}^M} { ( p_{\\tp,c}^\\ip * \\text{importance}_\\tp)}\n",
    "$$\n",
    "\n",
    "Thus, models that are more successful have greater weight."
   ]
  },
  {
   "cell_type": "markdown",
   "metadata": {
    "slideshow": {
     "slide_type": "slide"
    }
   },
   "source": [
    "# Gradient Boosting\n",
    "\n",
    "Gradient Boosting is a \"more mathematical\" (less operational) approach to boosting\n",
    "- A Loss Function is defined\n",
    "- That measures the Loss $\\loss_\\tp$ of the ensemble consisting of the first $\\tt$ models in the sequence\n",
    "- Computes the gradient of the Loss $\\loss_\\tp$\n",
    "- Adds model $(\\tt +1)$ to explicitly reduce the loss by moving in the direction of the gradient\n",
    "$$\n",
    "\\loss_{(\\tt+1)} < \\loss_\\tp\n",
    "$$\n"
   ]
  },
  {
   "cell_type": "markdown",
   "metadata": {
    "slideshow": {
     "slide_type": "subslide"
    }
   },
   "source": [
    "We illustrate Gradient Boosting with a Regression task: predict continuous $\\hat{\\y}$\n",
    "- We will produce a sequence of models $M_{(0)}, M_{(1)}, \\ldots, M_{(M)}$\n",
    "- Model $\\tt$ will have target denoted by $e_\\tp$ and prediction $\\hat{e}_\\tp$\n",
    "\n",
    "We have not specified the functional form of the models $M_\\tt$\n",
    "- It will typically be something like a Decision Tree and *not* Linear Regression"
   ]
  },
  {
   "cell_type": "markdown",
   "metadata": {
    "slideshow": {
     "slide_type": "subslide"
    }
   },
   "source": [
    "As a notational convenience, we defined $\\hat{e}_{(0)} = \\bar{\\y}$\n",
    "- where $\\bar{y}$ is the mean (over the $m$ examples in training) of the target\n",
    "$$\n",
    "\\bar{\\y} = \\frac{1}{m} \\sum_{i=1}^m { \\y^\\ip }\n",
    "$$"
   ]
  },
  {
   "cell_type": "markdown",
   "metadata": {
    "slideshow": {
     "slide_type": "subslide"
    }
   },
   "source": [
    "The prediction of the *ensemble* consisting of the first $\\tt$ models is \n",
    "$$\n",
    "\\hat{\\y}_\\tp = \\sum_{\\tt'=0}^\\tt { \\alpha * \\hat{e}_\\tp }\n",
    "$$\n",
    "\n",
    "That is: the *ensemble prediction* is the weighted sum of the *predictions of the individual models*.\n",
    "- Unlike AdaBoost: the weights for each model are identical ($\\alpha$)"
   ]
  },
  {
   "cell_type": "markdown",
   "metadata": {
    "slideshow": {
     "slide_type": "subslide"
    }
   },
   "source": [
    "**Loss function**\n",
    "\n",
    "The Loss function for the ensemble consisting of the first $\\tt$ modles will be the MSE:\n",
    "$$\\loss_\\tp = \\frac{1}{m} \\sum_{i=1}^m { (\\y^\\ip - \\hat{y}_\\tp ^\\ip)^2}$$"
   ]
  },
  {
   "cell_type": "markdown",
   "metadata": {
    "slideshow": {
     "slide_type": "subslide"
    }
   },
   "source": [
    "The ensemble prediction $\\hat{\\y}_\\tp$ differs from the regression target $\\y$ by\n",
    "$$\n",
    "\\y - \\hat{\\y}_\\tp = \\e_{(\\tt + 1)}\n",
    "$$\n",
    "\n",
    "This equation implies\n",
    "- That the target for model $(\\tt +1): \\e_{(\\tt + 1)}$\n",
    "- Is the *residual* (error) of the target with respect to the ensemble prediction up to step $\\tt$\n",
    "\n",
    "In other words: model $(\\tt +1)$ is tasked with predicting the residual remaining after the\n",
    "ensemble prediction of the first $\\tt$ individual models."
   ]
  },
  {
   "cell_type": "markdown",
   "metadata": {
    "slideshow": {
     "slide_type": "subslide"
    }
   },
   "source": [
    "To be clear, let's suppose the $M_\\tp$ are Decision Trees.\n",
    "- Each tree $M_\\tp$ is constructed from *scratch*\n",
    "    - It does not \"extend\" tree $M_{(\\tt-1)}$\n",
    "- It's thus possible that two trees in the sequence have the same test  \n",
    "- Each tree $M_\\tp$ has a different target\n",
    "    - The target for $M_\\tp$ is the remaining error between target $\\y$ and the prediction of the ensemble prefix of length $(\\tt -1)$\n",
    "\n"
   ]
  },
  {
   "cell_type": "markdown",
   "metadata": {
    "slideshow": {
     "slide_type": "subslide"
    }
   },
   "source": [
    "- Because we defined $\\e_{(0)} = \\bar{\\y}$\n",
    "    - $\\e_{(1)} = \\y - \\bar{\\y}$\n",
    "\n",
    "- So model $M_{(1)}$ is trying to predict the residual with respect to a simpler model that always predicts $\\bar{\\y})$\n",
    "\n",
    "- The ensemble of length $1$ predicts\n",
    "$$\n",
    "\\bar{\\y} + \\hat{e}_{(1)}\n",
    "$$\n",
    "\n",
    "Each model $\\tt$ in the sequence attempts to reduce the residual left over from the\n",
    "ensemble prediction of the prefix of length $(\\tt-1)$."
   ]
  },
  {
   "cell_type": "markdown",
   "metadata": {
    "slideshow": {
     "slide_type": "slide"
    }
   },
   "source": [
    "## Where are the gradients in Gradient Descent ?\n",
    "\n",
    "Consider the derivative of the Loss function (MSE) with respect to the ensemble prediction\n",
    "$$\n",
    "\\begin{array}[lll]\\\\\n",
    "\\frac{\\partial \\loss_\\tp}{\\partial \\y_\\tt} & = & \\frac{\\partial \\frac{1}{m} \\sum_{i=1}^m { (\\y^\\ip - \\hat{y}_\\tp ^\\ip)^2}}{\\partial \\hat{y}_\\tt} \\\\\n",
    "& = & \\frac{2}{m}  (\\y^\\ip - \\hat{y}_\\tp ^\\ip) * -1 & \\text{chain rule} \\\\\n",
    "& = &  - \\frac{2}{m}  \\e_{(\\tt + 1)} & \\text{definition of } \\e_{(\\tt + 1)} \\\\\n",
    "\\end{array}\n",
    "$$\n",
    "\n",
    "That is: the gradient is proportional to the residual of the target with respect to the \n",
    "the prediction of the ensemble consisting of the first $\\tt$ models"
   ]
  },
  {
   "cell_type": "markdown",
   "metadata": {
    "slideshow": {
     "slide_type": "subslide"
    }
   },
   "source": [
    "This is just a fact of the MSE\n",
    "- It's derivative is closely related to the residual\n",
    "- One can argue that the MSE was *chosen* exactly because of this property"
   ]
  },
  {
   "cell_type": "markdown",
   "metadata": {
    "slideshow": {
     "slide_type": "subslide"
    }
   },
   "source": [
    "So the ensemble of $(\\tt+1)$ models can decrease the loss compared\n",
    "to the ensemble with $\\tt$ models\n",
    "$$\n",
    "\\loss_{(\\tt+1)} < \\loss_\\tp\n",
    "$$\n",
    "by making $\\hat{\\y}_{(\\tt+1)}$ equal to\n",
    "$\\hat{\\y}_\\tp$ plus the approximation of the residual."
   ]
  },
  {
   "cell_type": "markdown",
   "metadata": {
    "slideshow": {
     "slide_type": "subslide"
    }
   },
   "source": [
    "This process of \n",
    "- Minimizing a Loss function\n",
    "- By incrementally updating predictions\n",
    "    - In the direction (opposite direction really, because gradient is negative) the gradient\n",
    "is called *Gradient Descent*."
   ]
  },
  {
   "cell_type": "markdown",
   "metadata": {
    "slideshow": {
     "slide_type": "subslide"
    }
   },
   "source": [
    "Gradient Descent \n",
    "- Will be our prime method of solving optimizing problems, such as training models (minimizing Loss)\n",
    "- Is a key component of Deep Learning\n",
    "\n",
    "We will explore Gradient Descent in a subsequent module."
   ]
  },
  {
   "cell_type": "markdown",
   "metadata": {
    "slideshow": {
     "slide_type": "subslide"
    }
   },
   "source": [
    "**Aside**\n",
    "\n",
    "Even though AdaBoost was created prior to Gradient Boosting\n",
    "- It can be shown to be equivalent to Gradient Boosting when the Loss function is Exponential Loss."
   ]
  },
  {
   "cell_type": "code",
   "execution_count": 12,
   "metadata": {
    "slideshow": {
     "slide_type": "slide"
    }
   },
   "outputs": [
    {
     "name": "stdout",
     "output_type": "stream",
     "text": [
      "Done\n"
     ]
    }
   ],
   "source": [
    "print(\"Done\")"
   ]
  }
 ],
 "metadata": {
  "celltoolbar": "Slideshow",
  "kernelspec": {
   "display_name": "Python 3",
   "language": "python",
   "name": "python3"
  },
  "language_info": {
   "codemirror_mode": {
    "name": "ipython",
    "version": 3
   },
   "file_extension": ".py",
   "mimetype": "text/x-python",
   "name": "python",
   "nbconvert_exporter": "python",
   "pygments_lexer": "ipython3",
   "version": "3.7.4"
  },
  "toc": {
   "base_numbering": 1,
   "nav_menu": {},
   "number_sections": true,
   "sideBar": true,
   "skip_h1_title": false,
   "title_cell": "Table of Contents",
   "title_sidebar": "Contents",
   "toc_cell": false,
   "toc_position": {
    "height": "calc(100% - 180px)",
    "left": "10px",
    "top": "150px",
    "width": "370.594px"
   },
   "toc_section_display": true,
   "toc_window_display": true
  }
 },
 "nbformat": 4,
 "nbformat_minor": 2
}
