{
 "cells": [
  {
   "cell_type": "code",
   "execution_count": 1,
   "metadata": {
    "slideshow": {
     "slide_type": "notes"
    }
   },
   "outputs": [
    {
     "data": {
      "text/latex": [
       "$$\n",
       "\\newcommand{\\x}{\\mathbf{x}}\n",
       "\\newcommand{\\tx}{\\tilde{\\x}}\n",
       "\\newcommand{\\y}{\\mathbf{y}}\n",
       "\\newcommand{\\b}{\\mathbf{b}}\n",
       "\\newcommand{\\c}{\\mathbf{c}}\n",
       "\\newcommand{\\e}{\\mathbf{e}}\n",
       "\\newcommand{\\z}{\\mathbf{z}}\n",
       "\\newcommand{\\h}{\\mathbf{h}}\n",
       "\\newcommand{\\w}{\\mathbf{w}}\n",
       "\\newcommand{\\W}{\\mathbf{W}}\n",
       "\\newcommand{\\X}{\\mathbf{X}}\n",
       "\\newcommand{\\KL}{\\mathbf{KL}}\n",
       "\\newcommand{\\E}{{\\mathbb{E}}}\n",
       "\\newcommand{\\ip}{\\mathbf{{(i)}}}\n",
       "% \\ll indexes a layer; we can change the actual letter\n",
       "\\newcommand{\\ll}{l}\n",
       "\\newcommand{\\llp}{{(\\ll)}}\n",
       "%\n",
       "% \\tt indexes a time step\n",
       "\\newcommand{\\tt}{t}\n",
       "\\newcommand{\\tp}{{(\\tt)}}\n",
       "%\n",
       "\\newcommand{\\loss}{\\mathcal{L}}\n",
       "\\newcommand{\\cost}{\\mathcal{L}}\n",
       "%\n",
       "%                     \n",
       "\\newcommand{\\pdata}{p_\\text{data}}\n",
       "\\newcommand{\\pmodel}{p_\\text{model}}\n",
       "%\n",
       "% Functions with arguments\n",
       "\\def\\xsy#1#2{#1^#2}\n",
       "\\def\\rand#1{\\tilde{#1}}\n",
       "\\def\\randx{\\rand{\\x}}\n",
       "\\def\\randy{\\rand{\\y}}\n",
       "%\n",
       "\\def\\argmax#1{\\underset{#1} {\\operatorname{argmax}} }\n",
       "\\def\\argmin#1{\\underset{#1} {\\operatorname{argmin}} }\n",
       "\\def\\max#1{\\underset{#1} {\\operatorname{max}} }\n",
       "\\def\\min#1{\\underset{#1} {\\operatorname{min}} }\n",
       "%\n",
       "\\def\\pr#1{\\mathcal{p}(#1)}\n",
       "\\def\\cnt#1{\\mathcal{count}_{#1}}\n",
       "\\def\\node#1{\\mathbb{#1}}\n",
       "%\n",
       "\\newcommand{\\floor}[1]{\\left\\lfloor #1 \\right\\rfloor}\n",
       "\\newcommand{\\ceil}[1]{\\left\\lceil #1 \\right\\rceil}\n",
       "%\n",
       "\n",
       "$$\n"
      ],
      "text/plain": [
       "<IPython.core.display.Latex object>"
      ]
     },
     "metadata": {},
     "output_type": "display_data"
    },
    {
     "name": "stdout",
     "output_type": "stream",
     "text": [
      "Macro `_latex_std_` created. To execute, type its name (without quotes).\n",
      "=== Macro contents: ===\n",
      "get_ipython().run_line_magic('run', 'Latex_macros.ipynb')\n",
      " no stored variable _latex_std_\n"
     ]
    }
   ],
   "source": [
    "%run Latex_macros.ipynb"
   ]
  },
  {
   "cell_type": "code",
   "execution_count": 2,
   "metadata": {},
   "outputs": [],
   "source": [
    "# My standard magic !  You will see this in almost all my notebooks.\n",
    "\n",
    "from IPython.core.interactiveshell import InteractiveShell\n",
    "InteractiveShell.ast_node_interactivity = \"all\"\n",
    "\n",
    "# Reload all modules imported with %aimport\n",
    "%load_ext autoreload\n",
    "%autoreload 1\n",
    "\n",
    "%matplotlib inline"
   ]
  },
  {
   "cell_type": "code",
   "execution_count": 3,
   "metadata": {},
   "outputs": [],
   "source": [
    "import numpy as np\n",
    "import pandas as pd\n",
    "import matplotlib.pyplot as plt\n",
    "         \n",
    "    \n",
    "from sklearn import datasets, linear_model\n",
    "from sklearn.metrics import mean_squared_error, r2_score\n",
    "\n",
    "import recipe_helper\n",
    "%aimport recipe_helper\n"
   ]
  },
  {
   "cell_type": "markdown",
   "metadata": {},
   "source": [
    "# Linear models and matrix notation\n",
    "\n",
    "Our visualization of the data suggests that a reasonable first hypothesis is a linear relation.\n",
    "\n",
    "$$h_\\Theta(\\x) = \\Theta_0 + \\Theta_1  \\x$$\n",
    "\n",
    "In our toy example there is only a single feature so $n = ||\\x || = 1$\n",
    "\n",
    "\n",
    "so that our linear hypothesis can be re-written as\n",
    "\n",
    "$$\n",
    "h_\\Theta(\\x') = \\hat{\\y} =  \\Theta^T \\cdot \\x'\n",
    "$$"
   ]
  },
  {
   "cell_type": "markdown",
   "metadata": {},
   "source": [
    "Notice that the Cost function (optimization objective, evaluated over the training set)\n",
    "mirrors our Performance Measure (evaluted over the *test* set).\n",
    "\n",
    "Hopefully, any $\\Theta$ which does a good job on the training set also does a good job on the test set.\n",
    "\n",
    "The critical assumptions are\n",
    "- that the training and test sets are samples from the same underlying distribution\n",
    "- $m$ is sufficiently large so that a $\\Theta$ estimated over the training set generalizes to unseen data\n",
    "\n",
    "For now, the Cost function and the Performance Measure happen to be identical in form\n",
    "- *but* one is evaluted over the training set; the other over the test set.\n"
   ]
  },
  {
   "cell_type": "markdown",
   "metadata": {},
   "source": [
    "# Linear Model with higher order features\n",
    "\n",
    "Our error analysis of the toy problem suggested that a straight line was perhaps not the best fit\n",
    "- positive errors in the extremes\n",
    "- negative errors in the center\n",
    "\n",
    "Perhaps a \"curve\" would be a better hypothesis ?\n",
    "What if our data is not linear ? "
   ]
  },
  {
   "cell_type": "markdown",
   "metadata": {},
   "source": [
    "Here's what the first dataset looked like"
   ]
  },
  {
   "cell_type": "code",
   "execution_count": 4,
   "metadata": {},
   "outputs": [
    {
     "data": {
      "image/png": "[encoded data removed]",
      "text/plain": [
       "<Figure size 432x288 with 1 Axes>"
      ]
     },
     "metadata": {
      "needs_background": "light"
     },
     "output_type": "display_data"
    }
   ],
   "source": [
    "(xlabel, ylabel) = (\"Size\", \"Price Premium\")\n",
    "\n",
    "# I will give you the data via a function (so I can easily alter the data in subsequent examples)\n",
    "v1, a1 = 1, .005\n",
    "lin = recipe_helper.Recipe_Helper(v = v1, a = a1)\n",
    "X_lin, y_lin = lin.gen_data(num=50)\n",
    "\n",
    "\n",
    "v2, a2 = v1, a1*2\n",
    "curv = recipe_helper.Recipe_Helper(v = v2, a = a2)\n",
    "X_curve, y_curve = curv.gen_data(num=50)\n",
    "_= curv.gen_plot(X_curve,y_curve, xlabel, ylabel)"
   ]
  },
  {
   "cell_type": "code",
   "execution_count": 5,
   "metadata": {},
   "outputs": [
    {
     "data": {
      "image/png": "[encoded data removed]",
      "text/plain": [
       "<Figure size 432x288 with 1 Axes>"
      ]
     },
     "metadata": {
      "needs_background": "light"
     },
     "output_type": "display_data"
    }
   ],
   "source": [
    "X_orig, y_orig = X_lin, y_lin \n",
    "\n",
    "_ = lin.gen_plot(X_orig, y_orig, xlabel, ylabel)"
   ]
  },
  {
   "cell_type": "code",
   "execution_count": 6,
   "metadata": {},
   "outputs": [
    {
     "name": "stdout",
     "output_type": "stream",
     "text": [
      "Coefficients: \n",
      " [4.93224426] [[0.96836946]]\n",
      "\n",
      "\n",
      "R-squared (test): 0.98\n",
      "Root Mean squared error (test): 6.86\n",
      "\n",
      "\n",
      "R-squared (train): 0.98\n",
      "Root Mean squared error (train): 6.56\n"
     ]
    },
    {
     "data": {
      "image/png": "[encoded data removed]",
      "text/plain": [
       "<Figure size 864x288 with 2 Axes>"
      ]
     },
     "metadata": {
      "needs_background": "light"
     },
     "output_type": "display_data"
    }
   ],
   "source": [
    "_= lin.run_regress(X_orig, y_orig)"
   ]
  },
  {
   "cell_type": "markdown",
   "metadata": {},
   "source": [
    "We will make our point by creating a similar dataset (the \"curvy\" dataset) that exagerates the curvature."
   ]
  },
  {
   "cell_type": "code",
   "execution_count": 7,
   "metadata": {},
   "outputs": [
    {
     "name": "stdout",
     "output_type": "stream",
     "text": [
      "Coefficients: \n",
      " [9.86448852] [[0.93673892]]\n",
      "\n",
      "\n",
      "R-squared (test): 0.91\n",
      "Root Mean squared error (test): 13.73\n",
      "\n",
      "\n",
      "R-squared (train): 0.91\n",
      "Root Mean squared error (train): 13.13\n"
     ]
    },
    {
     "data": {
      "image/png": "[encoded data removed]",
      "text/plain": [
       "<Figure size 864x288 with 2 Axes>"
      ]
     },
     "metadata": {
      "needs_background": "light"
     },
     "output_type": "display_data"
    }
   ],
   "source": [
    "_= curv.run_regress(X_curve, y_curve)"
   ]
  },
  {
   "cell_type": "markdown",
   "metadata": {},
   "source": [
    "Compared to the original, the \"curvy\" data set has a lot more curvature\n",
    "- the $R^2$ is still over 90%\n",
    "- but the Performance Metric (RMSE) is twice as big\n"
   ]
  },
  {
   "cell_type": "markdown",
   "metadata": {},
   "source": [
    "## Curvature in a linear model\n",
    "\n",
    "Our (first-order) linear model was\n",
    "\n",
    "$$ y = \\Theta_0 + \\Theta_1  x $$\n",
    "\n",
    "We can create a *second order* linear model by adding a feature $x^2$:\n",
    "\n",
    "$$ y = \\Theta_0 + \\Theta_1  x + \\Theta_2  x^2$$\n",
    "\n",
    "$y$ is a second order polynomial, whose plot is a curve\n",
    "- but it is linear in features $x, x^2$"
   ]
  },
  {
   "cell_type": "markdown",
   "metadata": {},
   "source": [
    "In other words, we are performing feature iteration\n",
    "- in this case: adding the missing feature $x^2$"
   ]
  },
  {
   "cell_type": "markdown",
   "metadata": {},
   "source": [
    "Let's modify $\\x^\\ip$ from a vector of length 1:\n",
    "\n",
    "$$\n",
    "\\x^\\ip = (\\x^\\ip_1)\n",
    "$$\n",
    "\n",
    "to a vector of length 2:\n",
    "\n",
    "$$\n",
    "\\x^\\ip = (\\x^\\ip_1, {\\x^\\ip_1}^2)\n",
    "$$\n",
    "\n",
    "by adding a squared term to the vector $\\x^\\ip$, for each $i$."
   ]
  },
  {
   "cell_type": "markdown",
   "metadata": {},
   "source": [
    "The modified $\\X'$ becomes:\n",
    "\n",
    "$$\n",
    "\\X =\n",
    "\\begin{pmatrix}\n",
    "  1  &\\x^{(1)}_1   &  (\\x^{(1)}_1)^2 \\\\ \n",
    "   1 &\\x^{(2)}_1   &  (\\x^{(2)}_1)^2\\\\ \n",
    "   \\vdots & \\vdots &                \\\\\n",
    "   1 &\\x^{(m)}_1   &  (\\x^{(m)}_1)^2\\ \\\n",
    "  \\end{pmatrix}\n",
    "$$"
   ]
  },
  {
   "cell_type": "markdown",
   "metadata": {},
   "source": [
    "Note that this modified $\\X'$ fits perfectly within our Linear hypothesis\n",
    "$$\n",
    "\\hat{\\y} = \\X' \\Theta\n",
    "$$\n",
    "\n",
    "The requirement is that the model be linear in its *features*, **not** that the features be linear !"
   ]
  },
  {
   "cell_type": "markdown",
   "metadata": {},
   "source": [
    "What we have done is added a second feature, that just so happens to be related to the first.\n",
    "\n",
    "We can now run our linear model with the modified feature vectors\n",
    "\n",
    "**A word about our module**\n",
    "- we add the $x^2$ column by setting optional parameter `run_transform` to `True`\n"
   ]
  },
  {
   "cell_type": "code",
   "execution_count": 8,
   "metadata": {},
   "outputs": [
    {
     "name": "stdout",
     "output_type": "stream",
     "text": [
      "Coefficients: \n",
      " [-3.55271368e-15] [[1.    0.005]]\n",
      "\n",
      "\n",
      "R-squared (test): 1.00\n",
      "Root Mean squared error (test): 0.00\n",
      "\n",
      "\n",
      "R-squared (train): 1.00\n",
      "Root Mean squared error (train): 0.00\n"
     ]
    },
    {
     "data": {
      "image/png": "[encoded data removed]",
      "text/plain": [
       "<Figure size 864x288 with 2 Axes>"
      ]
     },
     "metadata": {
      "needs_background": "light"
     },
     "output_type": "display_data"
    }
   ],
   "source": [
    "_= curv.run_regress(X_curve, y_curve, run_transforms=True)"
   ]
  },
  {
   "cell_type": "markdown",
   "metadata": {},
   "source": [
    "Perfect fit !"
   ]
  },
  {
   "cell_type": "markdown",
   "metadata": {},
   "source": [
    "<div class=\"alert alert-block alert-success\">\n",
    "<b>TIP</b>\n",
    "<br>\n",
    "    <ul>\n",
    "        <li>Don't stop just because you scored 91%. And don't give up if the score was awful.</li>\n",
    "\n",
    "<li>Examining the errors (residuals) reveals alot about how to improve your model.\n",
    "     <ul>\n",
    "    <li>Where was the fit good ? Where was it bad ? </li>\n",
    "    <li>Is there a pattern to the badly fit observations that points to a missing \n",
    "         feature ?</li>\n",
    "          </ul>\n",
    "    </li>\n",
    "</div>\n",
    "\n",
    "One of the real arts of ML is diagnosing model deficiencies and knowing how to improve them.\n",
    "\n",
    "We will have a separate module on this topic."
   ]
  },
  {
   "cell_type": "code",
   "execution_count": 9,
   "metadata": {
    "slideshow": {
     "slide_type": "slide"
    }
   },
   "outputs": [
    {
     "name": "stdout",
     "output_type": "stream",
     "text": [
      "Done !\n"
     ]
    }
   ],
   "source": [
    "print(\"Done !\")"
   ]
  }
 ],
 "metadata": {
  "celltoolbar": "Slideshow",
  "kernelspec": {
   "display_name": "Python 3",
   "language": "python",
   "name": "python3"
  },
  "language_info": {
   "codemirror_mode": {
    "name": "ipython",
    "version": 3
   },
   "file_extension": ".py",
   "mimetype": "text/x-python",
   "name": "python",
   "nbconvert_exporter": "python",
   "pygments_lexer": "ipython3",
   "version": "3.7.4"
  },
  "toc": {
   "base_numbering": 1,
   "nav_menu": {},
   "number_sections": true,
   "sideBar": true,
   "skip_h1_title": false,
   "title_cell": "Table of Contents",
   "title_sidebar": "Contents",
   "toc_cell": false,
   "toc_position": {},
   "toc_section_display": true,
   "toc_window_display": true
  }
 },
 "nbformat": 4,
 "nbformat_minor": 2
}
