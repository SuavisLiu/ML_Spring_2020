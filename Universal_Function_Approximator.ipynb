{
 "cells": [
  {
   "cell_type": "code",
   "execution_count": 1,
   "metadata": {
    "slideshow": {
     "slide_type": "notes"
    }
   },
   "outputs": [
    {
     "data": {
      "text/latex": [
       "$$\n",
       "\\newcommand{\\x}{\\mathbf{x}}\n",
       "\\newcommand{\\tx}{\\tilde{\\x}}\n",
       "\\newcommand{\\y}{\\mathbf{y}}\n",
       "\\newcommand{\\b}{\\mathbf{b}}\n",
       "\\newcommand{\\c}{\\mathbf{c}}\n",
       "\\newcommand{\\e}{\\mathbf{e}}\n",
       "\\newcommand{\\z}{\\mathbf{z}}\n",
       "\\newcommand{\\h}{\\mathbf{h}}\n",
       "\\newcommand{\\u}{\\mathbf{u}}\n",
       "\\newcommand{\\v}{\\mathbf{v}}\n",
       "\\newcommand{\\w}{\\mathbf{w}}\n",
       "\\newcommand{\\W}{\\mathbf{W}}\n",
       "\\newcommand{\\X}{\\mathbf{X}}\n",
       "\\newcommand{\\KL}{\\mathbf{KL}}\n",
       "\\newcommand{\\E}{{\\mathbb{E}}}\n",
       "\\newcommand{\\ip}{\\mathbf{{(i)}}}\n",
       "%\n",
       "% Test set\n",
       "\\newcommand{\\xt}{\\underline{\\x}}\n",
       "\\newcommand{\\yt}{\\underline{\\y}}\n",
       "\\newcommand{\\Xt}{\\underline{\\X}}\n",
       "\\newcommand{\\perfm}{\\mathcal{P}}\n",
       "%\n",
       "% \\ll indexes a layer; we can change the actual letter\n",
       "\\newcommand{\\ll}{l}\n",
       "\\newcommand{\\llp}{{(\\ll)}}\n",
       "%\n",
       "\\newcommand{Thetam}{\\Theta_{-0}}\n",
       "\n",
       "% CNN\n",
       "\\newcommand{\\kernel}{\\mathbf{k}} \n",
       "\\newcommand{\\dim}{d}\n",
       "%\n",
       "%\n",
       "% \\tt indexes a time step\n",
       "\\newcommand{\\tt}{t}\n",
       "\\newcommand{\\tp}{{(\\tt)}}\n",
       "%\n",
       "\\newcommand{\\loss}{\\mathcal{L}}\n",
       "\\newcommand{\\cost}{\\mathcal{L}}\n",
       "%\n",
       "%                     \n",
       "\\newcommand{\\pdata}{p_\\text{data}}\n",
       "\\newcommand{\\pmodel}{p_\\text{model}}\n",
       "%\n",
       "% SVM\n",
       "\\newcommand{\\margin}{{\\mathbb{m}}}\n",
       "\\newcommand{\\lmk}{\\boldsymbol{\\ell}}\n",
       "%\n",
       "% Functions with arguments\n",
       "\\def\\xsy#1#2{#1^#2}\n",
       "\\def\\rand#1{\\tilde{#1}}\n",
       "\\def\\randx{\\rand{\\x}}\n",
       "\\def\\randy{\\rand{\\y}}\n",
       "\\def\\trans#1{\\dot{#1}}\n",
       "\\def\\transx{\\trans{\\x}}\n",
       "\\def\\transy{\\trans{\\y}}\n",
       "%\n",
       "\\def\\argmax#1{\\underset{#1} {\\operatorname{argmax}} }\n",
       "\\def\\argmin#1{\\underset{#1} {\\operatorname{argmin}} }\n",
       "\\def\\max#1{\\underset{#1} {\\operatorname{max}} }\n",
       "\\def\\min#1{\\underset{#1} {\\operatorname{min}} }\n",
       "%\n",
       "\\def\\pr#1{\\mathcal{p}(#1)}\n",
       "\\def\\prc#1#2{\\mathcal{p}(#1 \\; | \\; #2)}\n",
       "\\def\\cnt#1{\\mathcal{count}_{#1}}\n",
       "\\def\\node#1{\\mathbb{#1}}\n",
       "%\n",
       "\\newcommand{\\floor}[1]{\\left\\lfloor #1 \\right\\rfloor}\n",
       "\\newcommand{\\ceil}[1]{\\left\\lceil #1 \\right\\rceil}\n",
       "%\n",
       "\\def\\loc#1{{\\text{##} {#1}}}\n",
       "%\n",
       "$$\n"
      ],
      "text/plain": [
       "<IPython.core.display.Latex object>"
      ]
     },
     "metadata": {},
     "output_type": "display_data"
    }
   ],
   "source": [
    "%run Latex_macros.ipynb"
   ]
  },
  {
   "cell_type": "code",
   "execution_count": 2,
   "metadata": {
    "slideshow": {
     "slide_type": "notes"
    }
   },
   "outputs": [],
   "source": [
    "# My standard magic !  You will see this in almost all my notebooks.\n",
    "\n",
    "from IPython.core.interactiveshell import InteractiveShell\n",
    "InteractiveShell.ast_node_interactivity = \"all\"\n",
    "\n",
    "# Reload all modules imported with %aimport\n",
    "%load_ext autoreload\n",
    "%autoreload 1\n",
    "\n",
    "%matplotlib inline"
   ]
  },
  {
   "cell_type": "code",
   "execution_count": 3,
   "metadata": {
    "slideshow": {
     "slide_type": "notes"
    }
   },
   "outputs": [],
   "source": [
    "%run beautify_plots.py"
   ]
  },
  {
   "cell_type": "code",
   "execution_count": 4,
   "metadata": {
    "slideshow": {
     "slide_type": "notes"
    }
   },
   "outputs": [],
   "source": [
    "import numpy as np\n",
    "import pandas as pd\n",
    "import matplotlib.pyplot as plt\n",
    "\n",
    "import neural_net_helper\n",
    "%aimport neural_net_helper\n",
    "\n",
    "nnh = neural_net_helper.NN_Helper()"
   ]
  },
  {
   "cell_type": "markdown",
   "metadata": {
    "slideshow": {
     "slide_type": "slide"
    }
   },
   "source": [
    "# The power of non-linear activation functions\n",
    "\n",
    "In our introduction to Neural Networks, we identified non-linear activation functions as a key ingredient.\n",
    "\n",
    "Let's examine, in depth, why this is so."
   ]
  },
  {
   "cell_type": "markdown",
   "metadata": {
    "slideshow": {
     "slide_type": "subslide"
    }
   },
   "source": [
    "Many activation functions behave like a binary \"switch\"\n",
    "- Converting the scalar value computed by the dot product\n",
    "- Into a True/False answer\n",
    "- To the question: \"Is a particular feature present\" ?"
   ]
  },
  {
   "cell_type": "markdown",
   "metadata": {
    "slideshow": {
     "slide_type": "subslide"
    }
   },
   "source": [
    "By changing the \"bias\" from $0$, we can move the threshold of the switch to an arbitrary value.\n",
    "\n",
    "This allows us to construct a *piece-wise* approximation of a function\n",
    "- The switch, in the region in which it is active, defines one piece\n",
    "- Changing the bias/threshold allows us to relocate the piece"
   ]
  },
  {
   "cell_type": "markdown",
   "metadata": {
    "slideshow": {
     "slide_type": "subslide"
    }
   },
   "source": [
    "Consider the following function $f$:"
   ]
  },
  {
   "cell_type": "markdown",
   "metadata": {
    "slideshow": {
     "slide_type": "subslide"
    }
   },
   "source": [
    "<div>\n",
    "    <center>Function to approximate</center>\n",
    "    <br>\n",
    "<img src=images/Piecewise_linear_1.jpg>\n",
    "</div>"
   ]
  },
  {
   "cell_type": "markdown",
   "metadata": {
    "slideshow": {
     "slide_type": "subslide"
    }
   },
   "source": [
    "This function is\n",
    "- Not continuous\n",
    "- Define over set of discrete examples\n",
    "\n",
    "$$ \\langle \\X, \\y \\rangle= [ \\x^\\ip, \\y^\\ip | 1 \\le i \\le m ]$$\n"
   ]
  },
  {
   "cell_type": "markdown",
   "metadata": {
    "slideshow": {
     "slide_type": "subslide"
    }
   },
   "source": [
    "<div>\n",
    "    <center>Function to approximate, defined by examples </b>x</b></center>\n",
    "    <br>\n",
    "<img src=images/Piecewise_linear_2.jpg>\n",
    "</div>"
   ]
  },
  {
   "cell_type": "markdown",
   "metadata": {
    "slideshow": {
     "slide_type": "subslide"
    }
   },
   "source": [
    "We can replicate the discrete function\n",
    "- By a sequence of *step functions*\n",
    "- Which create a piece-wise approximation of the function $f$"
   ]
  },
  {
   "cell_type": "markdown",
   "metadata": {
    "slideshow": {
     "slide_type": "subslide"
    }
   },
   "source": [
    "<div>\n",
    "    <center>Piece-wise function approximation by step functions</center>\n",
    "    <br>\n",
    "<img src=images/Piecewise_linear.jpg>\n",
    "</div>"
   ]
  },
  {
   "cell_type": "markdown",
   "metadata": {
    "slideshow": {
     "slide_type": "subslide"
    }
   },
   "source": [
    "We will show how to construct a step function using\n",
    "- Dot product\n",
    "- ReLU activation with $0$ threshold\n",
    "\n",
    "Once we have a step, we can place the center of the step anywhere along the $\\x$ axis\n",
    "- By adjusting the threshold of the ReLU"
   ]
  },
  {
   "cell_type": "markdown",
   "metadata": {
    "slideshow": {
     "slide_type": "subslide"
    }
   },
   "source": [
    "The plan is:\n",
    "- Construct a step function for the $i^{th}$ example\n",
    "- Step $i$ becomes \"active\" when its input is at least $x^\\ip$, using the bias of the ReLU\n",
    "- Height of $i^{th}$ step is $f(\\x^\\ip)$\n",
    "- The amount by which $f(\\x)$ increases between steps is $(f(\\x^{(i+1)} - f(\\x^\\ip))$"
   ]
  },
  {
   "cell_type": "markdown",
   "metadata": {
    "slideshow": {
     "slide_type": "subslide"
    }
   },
   "source": [
    "<div>\n",
    "    <center>Step function: binary switch with threshold 0</center>\n",
    "    <br>\n",
    "<img src=images/Step_function_1.jpg>\n",
    "</div>"
   ]
  },
  {
   "cell_type": "markdown",
   "metadata": {
    "slideshow": {
     "slide_type": "subslide"
    }
   },
   "source": [
    "<div>\n",
    "    <center>Step function: binary switch with threshold - x^(i)</center>\n",
    "    <br>\n",
    "<img src=images/Step_function_2.jpg>\n",
    "</div>"
   ]
  },
  {
   "cell_type": "markdown",
   "metadata": {
    "slideshow": {
     "slide_type": "subslide"
    }
   },
   "source": [
    "<div>\n",
    "    <center>Impulse function: Center x^(i); width (x^(i+1) - x^(i))</center>\n",
    "    <br>\n",
    "<img src=images/Step_function_3.jpg>\n",
    "</div>"
   ]
  },
  {
   "cell_type": "markdown",
   "metadata": {
    "slideshow": {
     "slide_type": "subslide"
    }
   },
   "source": [
    "That's the idea at a very intuitive level.\n",
    "\n",
    "The rest of the notebook demonstrates exactly how to achieve this."
   ]
  },
  {
   "cell_type": "markdown",
   "metadata": {
    "slideshow": {
     "slide_type": "slide"
    }
   },
   "source": [
    "# Universal function approximator\n",
    "A Neural Network is a Universal Function Approximator.\n",
    "\n",
    "This means that an NN that is sufficiently \n",
    "- wide (large number of neurons per layer) \n",
    "- and deep (many layers; deeper means the network can be narrower)\n",
    "\n",
    "can approximate (to arbitrary degree)\n",
    "the function represented by the training set.\n",
    "\n",
    "Recall that the training data $\\langle \\X, \\y \\rangle = [ (\\x^\\ip, \\y^\\ip) |  1 \\le i \\le m ]$ is a sequence of input/target pairs."
   ]
  },
  {
   "cell_type": "markdown",
   "metadata": {
    "slideshow": {
     "slide_type": "subslide"
    }
   },
   "source": [
    "This may look like a strange way to define a function \n",
    "- but it is indeed a mapping from the\n",
    "domain of $\\x$ (i.e., $\\mathcal{R}^n$) to the domain of $\\y$ (i.e., $\\mathcal{R})$\n",
    "- subject to $\\y^i = \\y^{i'} \\;  \\text{if} \\; \\x^i = \\x^{i'}$ (i.e., mapping is unique)."
   ]
  },
  {
   "cell_type": "markdown",
   "metadata": {
    "slideshow": {
     "slide_type": "subslide"
    }
   },
   "source": [
    "We give an intuitive proof for a one-dimensional function\n",
    "- all vectors $\\x, \\y, \\W, \\b$ are length 1.\n",
    "\n",
    "For simplicity, let's assume that the training set\n",
    "is presented in order of increasing value of $\\x$, i.e.\n",
    "$$\n",
    "\\x^{(0)} \\lt \\x^{(1)} \\lt \\ldots \\x^{(m)}\n",
    "$$\n",
    "\n",
    "Consider a single neuron with a ReLU activation, computing\n",
    "$$\n",
    "\\max{}(0, \\W \\x + \\b)\n",
    "$$\n",
    "\n",
    "Let's plot the output of this neuron, for varying $\\W, \\b$.\n",
    "\n",
    "The slope of the neuron's activation is $\\W$ and the intercept is $\\b$."
   ]
  },
  {
   "cell_type": "markdown",
   "metadata": {
    "slideshow": {
     "slide_type": "subslide"
    }
   },
   "source": [
    "By making slope $\\W$ extremely large, we can approach a vertical line."
   ]
  },
  {
   "cell_type": "code",
   "execution_count": 5,
   "metadata": {
    "slideshow": {
     "slide_type": "subslide"
    }
   },
   "outputs": [
    {
     "data": {
      "image/png": "[encoded data removed]",
      "text/plain": [
       "<Figure size 720x432 with 1 Axes>"
      ]
     },
     "metadata": {
      "needs_background": "light"
     },
     "output_type": "display_data"
    }
   ],
   "source": [
    "_ = nnh.plot_steps( [ nnh.NN(1,0), nnh.NN(10,0), nnh.NN(100,0), nnh.NN(1000,0), ])"
   ]
  },
  {
   "cell_type": "markdown",
   "metadata": {
    "slideshow": {
     "slide_type": "subslide"
    }
   },
   "source": [
    "And by varying the intercept (bias) we can shift this vertical line to any point on the feature axis."
   ]
  },
  {
   "cell_type": "code",
   "execution_count": 6,
   "metadata": {
    "slideshow": {
     "slide_type": "subslide"
    }
   },
   "outputs": [
    {
     "data": {
      "image/png": "[encoded data removed]",
      "text/plain": [
       "<Figure size 720x432 with 1 Axes>"
      ]
     },
     "metadata": {
      "needs_background": "light"
     },
     "output_type": "display_data"
    }
   ],
   "source": [
    "_ = nnh.plot_steps( [ nnh.NN(1,0), nnh.NN(1,10), nnh.NN(1,20), nnh.NN(1,30), ])"
   ]
  },
  {
   "cell_type": "markdown",
   "metadata": {
    "slideshow": {
     "slide_type": "slide"
    }
   },
   "source": [
    "With a little effort, we can construct a neuron \n",
    "- With near infinite slope\n",
    "- Rising from the x-axis at any offset."
   ]
  },
  {
   "cell_type": "code",
   "execution_count": 7,
   "metadata": {
    "slideshow": {
     "slide_type": "subslide"
    }
   },
   "outputs": [
    {
     "data": {
      "image/png": "[encoded data removed]",
      "text/plain": [
       "<Figure size 720x432 with 1 Axes>"
      ]
     },
     "metadata": {
      "needs_background": "light"
     },
     "output_type": "display_data"
    }
   ],
   "source": [
    "slope = 1000\n",
    "start_offset = 0\n",
    "\n",
    "start_step = nnh.NN(slope, -start_offset)\n",
    "\n",
    "_= nnh.plot_steps( [  start_step ] )"
   ]
  },
  {
   "cell_type": "markdown",
   "metadata": {
    "slideshow": {
     "slide_type": "slide"
    }
   },
   "source": [
    "If we create a neuron with intercept \"epsilon\" from the first neuron\n"
   ]
  },
  {
   "cell_type": "code",
   "execution_count": 8,
   "metadata": {
    "slideshow": {
     "slide_type": "subslide"
    }
   },
   "outputs": [],
   "source": [
    "end_offset = start_offset + .0001\n",
    "\n",
    "end_step = nnh.NN(slope,- end_offset)\n"
   ]
  },
  {
   "cell_type": "markdown",
   "metadata": {
    "slideshow": {
     "slide_type": "slide"
    }
   },
   "source": [
    "and add the two neurons together, we can approximate a step functiion\n",
    "- unit height\n",
    "- 0 output at inputs\n",
    "less than the x-intercept\n",
    "- unit output for all inputs greater than the intercept).\n",
    "\n",
    "(The sigmoid function is even more easily transformed into a step function)."
   ]
  },
  {
   "cell_type": "code",
   "execution_count": 9,
   "metadata": {
    "slideshow": {
     "slide_type": "subslide"
    }
   },
   "outputs": [
    {
     "data": {
      "image/png": "[encoded data removed]",
      "text/plain": [
       "<Figure size 720x432 with 1 Axes>"
      ]
     },
     "metadata": {
      "needs_background": "light"
     },
     "output_type": "display_data"
    }
   ],
   "source": [
    "step= {\"x\": start_step[\"x\"], \n",
    "       \"y\": start_step[\"y\"] - end_step[\"y\"],\n",
    "       \"W\": slope,\n",
    "       \"b\": 0\n",
    "      }\n",
    "_= nnh.plot_steps( [  step ] )"
   ]
  },
  {
   "cell_type": "markdown",
   "metadata": {
    "slideshow": {
     "slide_type": "subslide"
    }
   },
   "source": [
    "Let us construct $m$ step neurons\n",
    "- step neuron $i$ with intercept $\\x^\\ip$, for $1  \\le i \\le m $\n",
    "\n",
    "If we connect the $m$ step neurons to a \"final\" neuron with $0$ bias, linear activation, and weights\n",
    "\n",
    "$$\n",
    "\\begin{array}[lll] \\\\\n",
    "\\W_1 & = & \\y^{(1)} \\\\\n",
    "\\W_i & = & \\y^{(i)} - \\sum_{i'=1}^{i-1}\\W_{i'} \\\\\n",
    "\\end{array}\n",
    "$$"
   ]
  },
  {
   "cell_type": "markdown",
   "metadata": {
    "slideshow": {
     "slide_type": "subslide"
    }
   },
   "source": [
    "<table>\n",
    "    <tr>\n",
    "        <th><center>Function Approximation by Step functions</center></th>\n",
    "    </tr>\n",
    "    <tr>\n",
    "        <td><img src=\"images/Universal_Function_Step.jpg\" width=1200></td>\n",
    "    </tr>\n",
    "</table>"
   ]
  },
  {
   "cell_type": "markdown",
   "metadata": {
    "slideshow": {
     "slide_type": "subslide"
    }
   },
   "source": [
    "We claim that the output of this neuron approximates the training set.\n",
    "\n",
    "To see this: \n",
    "- Consider what happens when we input $\\x^\\ip$ to this network.\n",
    "- The only step neurons that are active (non-zero) are those corresponding\n",
    "to inputs $1 \\le i' \\le i$.\n",
    "- The output of the final neuron is the sum of the outputs of the first $i$ step neurons.\n",
    "- By construction, this sum is equal to $\\y^\\ip$."
   ]
  },
  {
   "cell_type": "markdown",
   "metadata": {
    "slideshow": {
     "slide_type": "subslide"
    }
   },
   "source": [
    "Thus, our two layer network outputs $\\y^\\ip$ given input $\\x^\\ip$.\n",
    "\n",
    "**Financial analogy:** if we have call options with completely flexible strikes and same expiry,\n",
    "we can mimic an arbitrary payoff in a similar manner."
   ]
  },
  {
   "cell_type": "code",
   "execution_count": 10,
   "metadata": {
    "slideshow": {
     "slide_type": "slide"
    }
   },
   "outputs": [
    {
     "name": "stdout",
     "output_type": "stream",
     "text": [
      "Done\n"
     ]
    }
   ],
   "source": [
    "print(\"Done\")"
   ]
  }
 ],
 "metadata": {
  "celltoolbar": "Slideshow",
  "kernelspec": {
   "display_name": "Python 3",
   "language": "python",
   "name": "python3"
  },
  "language_info": {
   "codemirror_mode": {
    "name": "ipython",
    "version": 3
   },
   "file_extension": ".py",
   "mimetype": "text/x-python",
   "name": "python",
   "nbconvert_exporter": "python",
   "pygments_lexer": "ipython3",
   "version": "3.7.4"
  },
  "toc": {
   "base_numbering": 1,
   "nav_menu": {},
   "number_sections": true,
   "sideBar": true,
   "skip_h1_title": false,
   "title_cell": "Table of Contents",
   "title_sidebar": "Contents",
   "toc_cell": false,
   "toc_position": {},
   "toc_section_display": true,
   "toc_window_display": false
  }
 },
 "nbformat": 4,
 "nbformat_minor": 2
}
