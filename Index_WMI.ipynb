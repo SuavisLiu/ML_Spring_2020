{
 "cells": [
  {
   "cell_type": "markdown",
   "metadata": {},
   "source": [
    "# Classical Machine Learning\n",
    "- [Introduction to Classical ML](1_1_Intro_Classical_ML_WMI.ipynb)\n",
    "    - [Loss function: Linear Regression](1_2_Linear_Regression_Loss_Function_WMI.ipynb)\n",
    "- [Classification Overview](1_3_Classification_Overview_WMI.ipynb)\n",
    "    - [Loss function: Classification](1_4_Classification_Loss_Function_WMI.ipynb)\n",
    "    - [Recipe in Action: Titanic Survival Classification task](1_5_Classification_and_Non_Numerical_Data_WMI.ipynb)\n",
    "- [Transformations](1_6_Transformations_WMI.ipynb)\n",
    "- [Gradient Descent](1_7_Gradient_Descent_WMI.ipynb)"
   ]
  },
  {
   "cell_type": "markdown",
   "metadata": {},
   "source": [
    "# Deep Learning\n",
    "- [Introduction to Neural Networks](2_1_Neural%20Networks_WMI.ipynb)\n",
    "- [Training Neural Networks](2_2_Training_Neural_Networks_WMI.ipynb)\n",
    "- Other Layer Types\n",
    "    - [Convolutional](2_3_CNN_WMI.ipynb)\n",
    "    - [Recurrent](2_4_RNN_WMI.ipynb)\n",
    "- [Natural Language Processing](2_5_Natural%20Language%20Processing_WMI.ipynb)"
   ]
  }
 ],
 "metadata": {
  "kernelspec": {
   "display_name": "Python 3",
   "language": "python",
   "name": "python3"
  },
  "language_info": {
   "codemirror_mode": {
    "name": "ipython",
    "version": 3
   },
   "file_extension": ".py",
   "mimetype": "text/x-python",
   "name": "python",
   "nbconvert_exporter": "python",
   "pygments_lexer": "ipython3",
   "version": "3.7.4"
  },
  "toc": {
   "base_numbering": 1,
   "nav_menu": {},
   "number_sections": true,
   "sideBar": true,
   "skip_h1_title": false,
   "title_cell": "Table of Contents",
   "title_sidebar": "Contents",
   "toc_cell": false,
   "toc_position": {},
   "toc_section_display": true,
   "toc_window_display": false
  }
 },
 "nbformat": 4,
 "nbformat_minor": 2
}
