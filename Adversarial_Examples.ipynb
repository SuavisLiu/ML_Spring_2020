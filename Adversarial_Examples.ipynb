{
 "cells": [
  {
   "cell_type": "code",
   "execution_count": 1,
   "metadata": {
    "slideshow": {
     "slide_type": "notes"
    }
   },
   "outputs": [
    {
     "data": {
      "text/latex": [
       "$$\n",
       "\\newcommand{\\x}{\\mathbf{x}}\n",
       "\\newcommand{\\tx}{\\tilde{\\x}}\n",
       "\\newcommand{\\y}{\\mathbf{y}}\n",
       "\\newcommand{\\b}{\\mathbf{b}}\n",
       "\\newcommand{\\c}{\\mathbf{c}}\n",
       "\\newcommand{\\e}{\\mathbf{e}}\n",
       "\\newcommand{\\z}{\\mathbf{z}}\n",
       "\\newcommand{\\h}{\\mathbf{h}}\n",
       "\\newcommand{\\w}{\\mathbf{w}}\n",
       "\\newcommand{\\W}{\\mathbf{W}}\n",
       "\\newcommand{\\X}{\\mathbf{X}}\n",
       "\\newcommand{\\KL}{\\mathbf{KL}}\n",
       "\\newcommand{\\E}{{\\mathbb{E}}}\n",
       "\\newcommand{\\ip}{\\mathbf{{(i)}}}\n",
       "% \\ll indexes a layer; we can change the actual letter\n",
       "\\newcommand{\\ll}{l}\n",
       "\\newcommand{\\llp}{{(\\ll)}}\n",
       "%\n",
       "\\newcommand{\\tp}{\\mathbf{{(t)}}}\n",
       "\\newcommand{\\loss}{\\mathcal{L}}\n",
       "\\newcommand{\\cost}{\\mathcal{L}}\n",
       "%\n",
       "% Functions with arguments\n",
       "\\def\\xsy#1#2{#1^#2}\n",
       "\\def\\rand#1{\\tilde{#1}}\n",
       "\\def\\randx{\\rand{\\x}}\n",
       "\\def\\randy{\\rand{\\y}}\n",
       "%\n",
       "\\def\\argmax#1{\\underset{#1} {\\operatorname{argmax}} }\n",
       "\\def\\argmin#1{\\underset{#1} {\\operatorname{argmin}} }\n",
       "\\def\\max#1{\\underset{#1} {\\operatorname{max}} }\n",
       "\\def\\min#1{\\underset{#1} {\\operatorname{min}} }\n",
       "%\n",
       "\\def\\pr#1{\\mathcal{p}(#1)}\n",
       "\\def\\cnt#1{\\mathcal{count}_{#1}}\n",
       "\\def\\node#1{\\mathbb{#1}}\n",
       "$$\n"
      ],
      "text/plain": [
       "<IPython.core.display.Latex object>"
      ]
     },
     "metadata": {},
     "output_type": "display_data"
    },
    {
     "name": "stdout",
     "output_type": "stream",
     "text": [
      "Macro `_latex_std_` created. To execute, type its name (without quotes).\n",
      "=== Macro contents: ===\n",
      "get_ipython().run_line_magic('run', 'Latex_macros.ipynb')\n",
      " "
     ]
    }
   ],
   "source": [
    "%run Latex_macros.ipynb"
   ]
  },
  {
   "cell_type": "code",
   "execution_count": null,
   "metadata": {
    "slideshow": {
     "slide_type": "notes"
    }
   },
   "outputs": [],
   "source": [
    "# My standard magic !  You will see this in almost all my notebooks.\n",
    "\n",
    "from IPython.core.interactiveshell import InteractiveShell\n",
    "InteractiveShell.ast_node_interactivity = \"all\"\n",
    "\n",
    "# Reload all modules imported with %aimport\n",
    "%load_ext autoreload\n",
    "%autoreload 1\n",
    "\n",
    "%matplotlib inline"
   ]
  },
  {
   "cell_type": "code",
   "execution_count": null,
   "metadata": {
    "slideshow": {
     "slide_type": "notes"
    }
   },
   "outputs": [],
   "source": [
    "from IPython.display import Image\n",
    "\n",
    "import cnn_helper\n",
    "%aimport cnn_helper\n",
    "cnnh = cnn_helper.CNN_Helper()"
   ]
  },
  {
   "cell_type": "markdown",
   "metadata": {
    "slideshow": {
     "slide_type": "slide"
    }
   },
   "source": [
    "# Adversarial examples\n",
    "\n",
    "Recall the process by which we \"invert\" an image classifier:\n",
    "\n",
    "Our optimization becomes\n",
    "$$\n",
    "\\begin{array}[lll]\\\\\n",
    "\\x = \\argmin{\\x} \\loss^\\ip \\\\\n",
    "\\text{subject to} \\\\\n",
    "\\hat{\\y}^\\ip = \\y^{(0)}\n",
    "\\end{array}\n",
    "$$\n",
    "\n",
    "which we solved via the derivative of the loss with respect to the inputs\n",
    "$$\n",
    "\\frac{\\partial \\loss}{\\partial \\x}\n",
    "$$"
   ]
  },
  {
   "cell_type": "markdown",
   "metadata": {
    "slideshow": {
     "slide_type": "subslide"
    }
   },
   "source": [
    "That is, we are\n",
    "- starting with $\\x = \\x^{(0)} $\n",
    "- modifying $\\x$\n",
    "- to derive an input $\\x$ that causes the NN to predict $\\hat{y} = \\y^{(0)}$ with highest probability\n",
    "\n",
    "We are inverting the output."
   ]
  },
  {
   "cell_type": "markdown",
   "metadata": {
    "slideshow": {
     "slide_type": "subslide"
    }
   },
   "source": [
    "We originally specified initializing the image with with $\\x = \\x^{(0)}$\n",
    "where $\\x^{(0)}$ was either random noise or all black image.\n",
    "\n",
    "What would happen if \n",
    "- we initialized $\\x = \\x^{(i')}$\n",
    "- where $\\y^{(0)} \\ne \\y^{(i')}$ ?\n",
    "\n",
    "That is: our initial image is from class $\\y^{(i')}$ but we give an objective target of $\\y^{(0)} \\ne \\y^{(i')} $"
   ]
  },
  {
   "cell_type": "markdown",
   "metadata": {
    "slideshow": {
     "slide_type": "subslide"
    }
   },
   "source": [
    "Gradient ascent would create an output\n",
    "- classified as $\\y^{(0)}$\n",
    "- by modifying an image that is *not* from this class\n",
    "\n",
    "The $\\x$ created is called an *Adversarial Example* as it was intentionally created to cause misclassificatio."
   ]
  },
  {
   "cell_type": "markdown",
   "metadata": {
    "slideshow": {
     "slide_type": "subslide"
    }
   },
   "source": [
    "Adversarial examples in action:\n",
    "\n",
    "<table>\n",
    "    <tr>\n",
    "        <center>What class is this ?</center>\n",
    "    </tr>\n",
    "    <tr>\n",
    "        <td><img src=\"images/cat7_classified.png\" width=450></td>\n",
    "    </tr>\n",
    "</table>"
   ]
  },
  {
   "cell_type": "markdown",
   "metadata": {
    "slideshow": {
     "slide_type": "subslide"
    }
   },
   "source": [
    "What about this ?\n",
    "\n",
    "<table>\n",
    "    <tr>\n",
    "        <center>What class is this ?</center>\n",
    "    </tr>\n",
    "    <tr>\n",
    "        <td><img src=\"images/cat7_as_class_859_classified.png\" width=450></td>\n",
    "    </tr>\n",
    "</table>\n",
    "\n",
    "It's almost certainly a toaster !"
   ]
  },
  {
   "cell_type": "markdown",
   "metadata": {
    "slideshow": {
     "slide_type": "subslide"
    }
   },
   "source": [
    "Your eye can't pick up the difference: that's a real-world problem !\n",
    "\n",
    "Here is the difference between the two images.\n",
    "\n",
    "<table>\n",
    "    <tr>\n",
    "        <center>Adversarial Cat to Toaster</center>\n",
    "    </tr>\n",
    "    <tr>\n",
    "        <td><img src=\"images/cat7_classified.png\" width=900></td> \n",
    "        <td><img src=\"images/cat7_as_class_859_diff.png\" width=900></td>\n",
    "        <td><img src=\"images/cat7_as_class_859_classified.png\" width=900></td>\n",
    "    </tr>\n",
    "</table>"
   ]
  },
  {
   "cell_type": "markdown",
   "metadata": {
    "slideshow": {
     "slide_type": "subslide"
    }
   },
   "source": [
    "What harm can this do ?\n",
    "\n",
    "<table>\n",
    "    <tr>\n",
    "        <center>Adversarial Stop Sign</center>\n",
    "    </tr>\n",
    "    <tr>\n",
    "        <td><img src=\"images/adv_stop_sign.jpg\" width=800></td> \n",
    "    </tr>\n",
    "</table>\n",
    "\n",
    "[Robust Physical-World Attacks on Deep Learning Models](https://arxiv.org/abs/1707.08945)"
   ]
  },
  {
   "cell_type": "markdown",
   "metadata": {
    "slideshow": {
     "slide_type": "subslide"
    }
   },
   "source": [
    "Why does this occur ?"
   ]
  },
  {
   "cell_type": "markdown",
   "metadata": {
    "slideshow": {
     "slide_type": "subslide"
    }
   },
   "source": [
    "Recall the fundamental assumption of Machine Learning:\n",
    "- an example from the test set is drawn from the same distribution as the training set\n",
    "\n",
    "In the case of Adversarial Examples, this condition is not satisfied."
   ]
  },
  {
   "cell_type": "markdown",
   "metadata": {
    "slideshow": {
     "slide_type": "subslide"
    }
   },
   "source": [
    "How do we remedy this before I get into a self-driving car ?"
   ]
  },
  {
   "cell_type": "markdown",
   "metadata": {
    "slideshow": {
     "slide_type": "subslide"
    }
   },
   "source": [
    "- Adversarial training\n",
    "    - augment training set with adversarial images\n",
    "    - but attacks are very robust\n",
    "        - if this is some artifact that can signal fakery\n",
    "        - adjust your Cost function to penalize for creating the artifact !\n",
    "        "
   ]
  },
  {
   "cell_type": "markdown",
   "metadata": {
    "slideshow": {
     "slide_type": "subslide"
    }
   },
   "source": [
    "- Can create adversarial example\n",
    "    - without manipulating training set\n",
    "    - without manipulating the trained classifier's weights\n",
    "    - without access to the classifier !\n",
    "        - black box versus white box attacks\n",
    "        \n",
    "- It turns out that an adversarial example that can fool *several* classifiers\n",
    "    - is also good at fooling a (time-limited) human !"
   ]
  },
  {
   "cell_type": "markdown",
   "metadata": {
    "slideshow": {
     "slide_type": "slide"
    }
   },
   "source": [
    "# Adversarial Reprogramming\n",
    "\n",
    "We can extend the Gradient Ascent method to perform even bigger tricks:\n",
    "- Getting a Classifier for Task 1 to do something completely different !\n",
    "\n",
    "Can we get an ImageNet Classifier to count squares ? Imagenet\n",
    "- does not have squares as an input image\n",
    "- or numbers as an output class\n",
    "\n",
    "This is called *Adversarial Reprogramming*."
   ]
  },
  {
   "cell_type": "markdown",
   "metadata": {
    "slideshow": {
     "slide_type": "subslide"
    }
   },
   "source": [
    "<img src=\"images/adv_reprogram_1.jpg\" width=900>\n",
    "\n",
    "[Adversarial Reprogramming of Neural Networks](https://arxiv.org/abs/1806.11146)"
   ]
  },
  {
   "cell_type": "markdown",
   "metadata": {
    "slideshow": {
     "slide_type": "subslide"
    }
   },
   "source": [
    "Here's a pictorial to describe the process:\n",
    "<img src=\"images/adv_reprogram_2.jpg\" width=900>"
   ]
  },
  {
   "cell_type": "markdown",
   "metadata": {
    "slideshow": {
     "slide_type": "subslide"
    }
   },
   "source": [
    "We refer to our original classifier as solving the Source task.\n",
    "\n",
    "Our goal is to get the classifier to solve the Target task.\n",
    "\n",
    "The first issue to address:\n",
    "- the $(\\x^\\ip, \\y^\\ip)$ pairs of the Source task come from a different domain than that of the Target task\n",
    "\n",
    "$$\n",
    "\\begin{array}[lll]\\\\\n",
    "\\X_\\text{source}, \\y_\\text{source}: & \\text{examples for Source task} \\\\\n",
    "\\X_\\text{target}, \\y_\\text{target}: &  \\text{examples for Target task} \\\\\n",
    "\\end{array}\n",
    "$$"
   ]
  },
  {
   "cell_type": "markdown",
   "metadata": {
    "slideshow": {
     "slide_type": "subslide"
    }
   },
   "source": [
    "We create a simple function $h_f$ to map an $\\x \\in \\X_\\text{target}$ to an $\\x \\in \\X_\\text{source}$.\n",
    "\n",
    "This ensures that the input to the Source task is of the right \"type\".\n",
    "\n",
    "<img src=\"images/adv_reprogram_3.jpg\" width=900>"
   ]
  },
  {
   "cell_type": "markdown",
   "metadata": {
    "slideshow": {
     "slide_type": "subslide"
    }
   },
   "source": [
    "$h_f$ simply embeds the Target input into an image, which is the domain of the Source task.\n",
    "\n",
    "Similarly, we create a function $h_g$ to map the Target label to a Source Label.\n",
    "\n",
    "This will ensure that the output of the Source task is of the right type.\n",
    "\n",
    "<img src=\"images/adv_reprogram_4.jpg\" width=900>"
   ]
  },
  {
   "cell_type": "markdown",
   "metadata": {
    "slideshow": {
     "slide_type": "subslide"
    }
   },
   "source": [
    "Finally, the \n",
    "Cost function to optimize\n",
    "\n",
    "$$\n",
    "\\W = \\argmin{\\W}{ - \\log( \\pr{h_g( \\y_t ) \\; | \\;\\tilde{\\X}_\\text{source} }) + \\lambda || \\W ||^2 }\n",
    "$$\n",
    "\n",
    "where\n",
    "$$\n",
    "\\begin{array}[lll]\\\\\n",
    "\\tilde{\\X}_\\text{source} & = & h_f( \\W, \\X_\\text{target}) \\\\\n",
    "h_f: & &\\y_\\text{target} \\mapsto \\y_\\text{source} & \\text{map source X to target X} \\\\\n",
    "h_g: & &\\y_\\text{target} \\mapsto \\y_\\text{source} & \\text{map source label y to target label} \\\\\\\\\n",
    "\\end{array}\n",
    "$$"
   ]
  },
  {
   "cell_type": "markdown",
   "metadata": {
    "slideshow": {
     "slide_type": "subslide"
    }
   },
   "source": [
    "- Given an input in the Target domain $\\X_\\text{target}$\n",
    "- Transform it into an input $\\tilde{\\X}_\\text{source}$ in the Source domain.\n",
    "- Use the Source Classifier to predict $\\tilde{\\X}_\\text{source}$ a label in the Source domain\n",
    "    - The correct label in the Target domain is $\\y_t$\n",
    "    - This maps to label $h_g(\\y_t) in the Source domain\n",
    "    \n",
    "So we are trying to\n",
    "- maximize the likelihood that the Source classifier creates the encoding for the correct Target label\n",
    "- subject to constraining the weights $\\W$ (the \"frame\" into which the Target input is placed)"
   ]
  },
  {
   "cell_type": "markdown",
   "metadata": {
    "slideshow": {
     "slide_type": "subslide"
    }
   },
   "source": [
    "How do we find the frame $\\W$ that \"reprograms\" the Source Classifier ?\n",
    "\n",
    "By training it of course !  Just plain old ML."
   ]
  },
  {
   "cell_type": "markdown",
   "metadata": {
    "slideshow": {
     "slide_type": "slide"
    }
   },
   "source": [
    "# Misaligned objectives\n",
    "\n",
    "We have framed the problem of Deep Learning as one of defining a Cost function that meets your objectives.\n",
    "\n",
    "This is not as easy as it sound.\n",
    "\n",
    "Consider the difference between\n",
    "- \"Maximize profit\"\n",
    "- \"Maximize profit subject to legal and ethical constraints\"\n",
    "\n",
    "We (hopefully) don't have to state the additional constraints to a human -- we take it for granted.\n",
    "\n",
    "Not so with a machine that has not been trained with additional objectives."
   ]
  },
  {
   "cell_type": "markdown",
   "metadata": {
    "slideshow": {
     "slide_type": "slide"
    }
   },
   "source": [
    "<img src=\"images/spider.jpg\" width=900>"
   ]
  },
  {
   "cell_type": "code",
   "execution_count": null,
   "metadata": {
    "slideshow": {
     "slide_type": "slide"
    }
   },
   "outputs": [],
   "source": [
    "print(\"Done\")"
   ]
  }
 ],
 "metadata": {
  "celltoolbar": "Slideshow",
  "kernelspec": {
   "display_name": "Python 3",
   "language": "python",
   "name": "python3"
  },
  "language_info": {
   "codemirror_mode": {
    "name": "ipython",
    "version": 3
   },
   "file_extension": ".py",
   "mimetype": "text/x-python",
   "name": "python",
   "nbconvert_exporter": "python",
   "pygments_lexer": "ipython3",
   "version": "3.7.1"
  },
  "toc": {
   "base_numbering": 1,
   "nav_menu": {},
   "number_sections": true,
   "sideBar": true,
   "skip_h1_title": false,
   "title_cell": "Table of Contents",
   "title_sidebar": "Contents",
   "toc_cell": false,
   "toc_position": {},
   "toc_section_display": true,
   "toc_window_display": false
  }
 },
 "nbformat": 4,
 "nbformat_minor": 2
}
