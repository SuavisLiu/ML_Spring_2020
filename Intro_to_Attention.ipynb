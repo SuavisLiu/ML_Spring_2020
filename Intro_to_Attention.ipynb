{
 "cells": [
  {
   "cell_type": "code",
   "execution_count": 1,
   "metadata": {
    "slideshow": {
     "slide_type": "notes"
    }
   },
   "outputs": [
    {
     "data": {
      "text/latex": [
       "$$\n",
       "\\newcommand{\\x}{\\mathbf{x}}\n",
       "\\newcommand{\\tx}{\\tilde{\\x}}\n",
       "\\newcommand{\\y}{\\mathbf{y}}\n",
       "\\newcommand{\\b}{\\mathbf{b}}\n",
       "\\newcommand{\\c}{\\mathbf{c}}\n",
       "\\newcommand{\\e}{\\mathbf{e}}\n",
       "\\newcommand{\\z}{\\mathbf{z}}\n",
       "\\newcommand{\\h}{\\mathbf{h}}\n",
       "\\newcommand{\\u}{\\mathbf{u}}\n",
       "\\newcommand{\\v}{\\mathbf{v}}\n",
       "\\newcommand{\\w}{\\mathbf{w}}\n",
       "\\newcommand{\\W}{\\mathbf{W}}\n",
       "\\newcommand{\\X}{\\mathbf{X}}\n",
       "\\newcommand{\\KL}{\\mathbf{KL}}\n",
       "\\newcommand{\\E}{{\\mathbb{E}}}\n",
       "\\newcommand{\\ip}{\\mathbf{{(i)}}}\n",
       "%\n",
       "% Test set\n",
       "\\newcommand{\\xt}{\\underline{\\x}}\n",
       "\\newcommand{\\yt}{\\underline{\\y}}\n",
       "\\newcommand{\\Xt}{\\underline{\\X}}\n",
       "\\newcommand{\\perfm}{\\mathcal{P}}\n",
       "%\n",
       "% \\ll indexes a layer; we can change the actual letter\n",
       "\\newcommand{\\ll}{l}\n",
       "\\newcommand{\\llp}{{(\\ll)}}\n",
       "%\n",
       "\\newcommand{Thetam}{\\Theta_{-0}}\n",
       "\n",
       "% CNN\n",
       "\\newcommand{\\kernel}{\\mathbf{k}} \n",
       "\\newcommand{\\dim}{d}\n",
       "%\n",
       "%\n",
       "\n",
       "% RNN\n",
       "% \\tt indexes a time step\n",
       "\\newcommand{\\tt}{t}\n",
       "\\newcommand{\\tp}{{(\\tt)}}\n",
       "%\n",
       "%\n",
       "\n",
       "% LSTM\n",
       "\\newcommand{\\g}{\\mathbf{g}}\n",
       "\\newcommand{\\remember}{\\mathbf{remember}}\n",
       "\\newcommand{\\save}{\\mathbf{save}}\n",
       "\\newcommand{\\focus}{\\mathbf{focus}}\n",
       "%\n",
       "%\n",
       "\n",
       "\\newcommand{\\loss}{\\mathcal{L}}\n",
       "\\newcommand{\\cost}{\\mathcal{L}}\n",
       "%\n",
       "%                     \n",
       "\\newcommand{\\pdata}{p_\\text{data}}\n",
       "\\newcommand{\\pmodel}{p_\\text{model}}\n",
       "%\n",
       "% SVM\n",
       "\\newcommand{\\margin}{{\\mathbb{m}}}\n",
       "\\newcommand{\\lmk}{\\boldsymbol{\\ell}}\n",
       "%\n",
       "% Functions with arguments\n",
       "\\def\\xsy#1#2{#1^#2}\n",
       "\\def\\rand#1{\\tilde{#1}}\n",
       "\\def\\randx{\\rand{\\x}}\n",
       "\\def\\randy{\\rand{\\y}}\n",
       "\\def\\trans#1{\\dot{#1}}\n",
       "\\def\\transx{\\trans{\\x}}\n",
       "\\def\\transy{\\trans{\\y}}\n",
       "%\n",
       "\\def\\argmax#1{\\underset{#1} {\\operatorname{argmax}} }\n",
       "\\def\\argmin#1{\\underset{#1} {\\operatorname{argmin}} }\n",
       "\\def\\max#1{\\underset{#1} {\\operatorname{max}} }\n",
       "\\def\\min#1{\\underset{#1} {\\operatorname{min}} }\n",
       "%\n",
       "\\def\\pr#1{\\mathcal{p}(#1)}\n",
       "\\def\\prc#1#2{\\mathcal{p}(#1 \\; | \\; #2)}\n",
       "\\def\\cnt#1{\\mathcal{count}_{#1}}\n",
       "\\def\\node#1{\\mathbb{#1}}\n",
       "%\n",
       "\\newcommand{\\floor}[1]{\\left\\lfloor #1 \\right\\rfloor}\n",
       "\\newcommand{\\ceil}[1]{\\left\\lceil #1 \\right\\rceil}\n",
       "%\n",
       "\\def\\loc#1{{\\text{##} {#1}}}\n",
       "%\n",
       "$$\n"
      ],
      "text/plain": [
       "<IPython.core.display.Latex object>"
      ]
     },
     "metadata": {},
     "output_type": "display_data"
    }
   ],
   "source": [
    "%run Latex_macros.ipynb"
   ]
  },
  {
   "cell_type": "markdown",
   "metadata": {
    "slideshow": {
     "slide_type": "subslide"
    }
   },
   "source": [
    "### Context Sensitive Memory\n",
    "\n",
    "A Context Sensitive Memory is like a Python dict:\n",
    "- data is stored via (key, value) pairs\n",
    "- a \"query\" matches a key and returns the associated value\n",
    "\n",
    "The difference from a Python dict\n",
    "- the query is compared to every key, and a \"weight\" indicating strength of match is returned\n",
    "    - match can be approximate\n",
    "- the value returned is the weighted sum of all values\n",
    "    - if there is an exact match of one and only one key, this is equivalent to a Python dict."
   ]
  },
  {
   "cell_type": "markdown",
   "metadata": {
    "slideshow": {
     "slide_type": "subslide"
    }
   },
   "source": [
    "Context Sensitive Memory\n",
    "- a collect of key/value pairs, like a Python dict\n",
    "$$\n",
    "M  = \\{ (k_\\tt, v_\\tt | 1 \\le \\tt \\le T \\}\n",
    "$$\n",
    "- lookup: pass in a \"query\", get a value-like output\n",
    "\n",
    "As we learned in studying gates: the lookup needs to make soft choices rather than hard choices to\n",
    "be differentiable."
   ]
  },
  {
   "cell_type": "markdown",
   "metadata": {},
   "source": [
    "## Normalized scores\n",
    "\n",
    "$$\n",
    "\\alpha(q, k) = \\frac{ \\exp(\\text{score}(q, k) )}{ \\sum_{k' \\in \\text{keys}(M) } { \\exp( \\text{score}(q, k' ) } }\n",
    "$$\n",
    "\n",
    "## Soft lookup\n",
    "\n",
    "$$\n",
    "\\c = \\text{lookup}(q, M) = \\sum_{ (k,v) \\in M} { \\alpha(q, k) * v }\n",
    "$$"
   ]
  },
  {
   "cell_type": "markdown",
   "metadata": {},
   "source": [
    "## Scoring functions\n",
    "\n",
    "**Redefine using generic k,v rather than h_t**\n",
    "\n",
    "There are several choices for the scoring function\n",
    "\n",
    "$$\n",
    "\\text{score}(\\h_\\tp, \\bar{\\h}_{(\\tt')}) =\n",
    "\\begin{cases}\n",
    "\\h^T_\\tp \\cdot \\bar{\\h}_{(\\tt')} & \\text{dot product, cosine similarity} \\\\\n",
    "\\h^T_\\tp \\W_\\alpha \\bar{\\h}_{(\\tt')} & \\text{general} \\\\\n",
    "\\v^T_\\alpha \\tanh(\\W_\\alpha [ \\h_\\tp; \\bar{\\h}_{(\\tt')}]) & \\text{concat}\\\\\n",
    "\\end{cases}\n",
    "$$\n",
    "\n",
    "**Note**\n",
    "\n",
    "What is $\\v^T_\\alpha$ ?"
   ]
  },
  {
   "cell_type": "raw",
   "metadata": {
    "slideshow": {
     "slide_type": "subslide"
    }
   },
   "source": [
    "decode_init(enc_states):\n",
    "    h = 0\n",
    "    \n",
    "    self.s = enc_states\n",
    "    \n",
    "    return h, s\n",
    "    \n",
    "def decode_step(h, x, s):\n",
    "    \"\"\"\n",
    "    h: hidden state (t-1)\n",
    "    x: input t\n",
    "        teacher forcing: x == y_t\n",
    "        inference      : x = hat{y}_{(t-1)}\n",
    "    s: array of encoder hidden states\n",
    "    \"\"\"\n",
    "    # Update hidden state, based on input x\n",
    "    h, out = RNN(h, x)\n",
    "    \n",
    "    # Compute attention weights\n",
    "    #   query == h (new state of decoder)\n",
    "    #   key == value == s\n",
    "    att_weights = ATT(h, s)\n",
    "    \n",
    "    # Compute context \n",
    "    c = att_weights * s\n",
    "    \n",
    "    # hat{y} is function of h and c (rather than just h as in NN w/o attention)\n",
    "    y = g( [h,c] )\n",
    "    \n",
    "    return h, y\n",
    "\n",
    "def decode( enc_states, y=None ):\n",
    "    h, s = decode_init(enc_states)\n",
    "    \n",
    "    for t in range(1, t):\n",
    "        h, y_hat = decode_step(h, x, s)\n",
    "        \n",
    "        # Create next input as output of this time step\n",
    "        if y is not None: \n",
    "            # Training: teacher forces output to be correct answer\n",
    "            x = y[t]\n",
    "        else:\n",
    "            # Test: output (which becomes next input)\n",
    "            x = y_hat\n",
    "    "
   ]
  },
  {
   "cell_type": "markdown",
   "metadata": {
    "slideshow": {
     "slide_type": "slide"
    }
   },
   "source": [
    "# Attention\n",
    "\n",
    "Consider a many to many implementation of a Recurrent NN (RNN, LSTM, etc).\n"
   ]
  },
  {
   "cell_type": "markdown",
   "metadata": {
    "slideshow": {
     "slide_type": "subslide"
    }
   },
   "source": [
    "<table>\n",
    "    <tr>\n",
    "        <th><center>RNN Encoder/Decoder</center></th>\n",
    "    </tr>\n",
    "    <tr>\n",
    "        <td><img src=\"images/RNN_layer_API_Encoder_Decoder.jpg\"</td>\n",
    "    </tr>\n",
    "</table>\n"
   ]
  },
  {
   "cell_type": "markdown",
   "metadata": {
    "slideshow": {
     "slide_type": "subslide"
    }
   },
   "source": [
    "An example might be a network that adds descriptions/captions to a stream of images (video)\n",
    "- input sequence: a sequence of frames\n",
    "- output sequence: a sequence of words\n",
    "\n",
    "or that translates from one language to another\n",
    "- input sequence: words in source language\n",
    "- output sequence: words in target language"
   ]
  },
  {
   "cell_type": "markdown",
   "metadata": {
    "slideshow": {
     "slide_type": "subslide"
    }
   },
   "source": [
    "It is very possible that the next word (time step $\\tt$) might refer to a much earlier frame ($\\tt' \\lt \\tt)$.\n",
    "\n",
    "A similar thing happens when translating between languages.\n",
    "\n",
    "There is not necessarily a correspondence between output $\\tt$ and input $\\tt$.\n"
   ]
  },
  {
   "cell_type": "markdown",
   "metadata": {
    "slideshow": {
     "slide_type": "subslide"
    }
   },
   "source": [
    "So an LSTM needs to decide which part of the past to \"attend\" (pay attention) to.\n",
    "\n",
    "We can help it via a mechanism know as \"attention\", which we sketch below."
   ]
  },
  {
   "cell_type": "markdown",
   "metadata": {
    "slideshow": {
     "slide_type": "subslide"
    }
   },
   "source": [
    "<table>\n",
    "    <tr>\n",
    "        <th><center>Sequence to Sequence: training (teacher forcing) + inference: No attention</center></th>\n",
    "    </tr>\n",
    "    <tr>\n",
    "        <td><img src=\"images/RNN_seq2seq.png\"></td>\n",
    "    </tr>\n",
    "</table>"
   ]
  },
  {
   "cell_type": "markdown",
   "metadata": {
    "slideshow": {
     "slide_type": "subslide"
    }
   },
   "source": [
    "<table>\n",
    "    <tr>\n",
    "        <th><center>Decoder: No attention</center></th>\n",
    "    </tr>\n",
    "    <tr>\n",
    "        <td><img src=\"images/Decoder_no_attention.png\"></td>\n",
    "    </tr>\n",
    "</table>"
   ]
  },
  {
   "cell_type": "markdown",
   "metadata": {
    "slideshow": {
     "slide_type": "subslide"
    }
   },
   "source": [
    "<table>\n",
    "    <tr>\n",
    "        <th><center>Decoder: Attention</center></th>\n",
    "    </tr>\n",
    "    <tr>\n",
    "        <td><img src=\"images/Decoder_attention.png\"></td>\n",
    "    </tr>\n",
    "</table>"
   ]
  },
  {
   "cell_type": "markdown",
   "metadata": {
    "slideshow": {
     "slide_type": "subslide"
    }
   },
   "source": [
    "<table>\n",
    "    <tr>\n",
    "        <th><center>Sequence to Sequence: attention</center></th>\n",
    "    </tr>\n",
    "    <tr>\n",
    "        <td><img src=\"images/RNN_seq2seq_attention.png\" width=1000></td>\n",
    "    </tr>\n",
    "</table>"
   ]
  },
  {
   "cell_type": "markdown",
   "metadata": {
    "slideshow": {
     "slide_type": "subslide"
    }
   },
   "source": [
    "The decoder is able to \"select one\" of the prior states, rather than just the latest one.\n",
    "\n",
    "Of course, by now, we understand that this is a \"soft\" select (case/switch)\n",
    "- needs to be differentiable\n",
    "- so it provides a weighted combination of all prior states\n",
    "    - a mask that is almost OHE becomes a true \"choose one\""
   ]
  },
  {
   "cell_type": "markdown",
   "metadata": {
    "slideshow": {
     "slide_type": "subslide"
    }
   },
   "source": [
    "How does the LSTM decide which of the past states to attend to ?\n",
    "\n",
    "Same way as all Machine Learning:\n",
    "- it is controlled by weights\n",
    "- that are learned by training !"
   ]
  },
  {
   "cell_type": "markdown",
   "metadata": {
    "slideshow": {
     "slide_type": "subslide"
    }
   },
   "source": [
    "So Deep Learning layers are almost becoming little computers that learn their own programs !"
   ]
  },
  {
   "cell_type": "code",
   "execution_count": null,
   "metadata": {},
   "outputs": [],
   "source": []
  },
  {
   "cell_type": "code",
   "execution_count": 3,
   "metadata": {
    "slideshow": {
     "slide_type": "slide"
    }
   },
   "outputs": [
    {
     "name": "stdout",
     "output_type": "stream",
     "text": [
      "Done\n"
     ]
    }
   ],
   "source": [
    "print(\"Done\")"
   ]
  }
 ],
 "metadata": {
  "celltoolbar": "Slideshow",
  "kernelspec": {
   "display_name": "Python 3",
   "language": "python",
   "name": "python3"
  },
  "language_info": {
   "codemirror_mode": {
    "name": "ipython",
    "version": 3
   },
   "file_extension": ".py",
   "mimetype": "text/x-python",
   "name": "python",
   "nbconvert_exporter": "python",
   "pygments_lexer": "ipython3",
   "version": "3.7.4"
  },
  "toc": {
   "base_numbering": 1,
   "nav_menu": {},
   "number_sections": true,
   "sideBar": true,
   "skip_h1_title": false,
   "title_cell": "Table of Contents",
   "title_sidebar": "Contents",
   "toc_cell": false,
   "toc_position": {},
   "toc_section_display": true,
   "toc_window_display": true
  }
 },
 "nbformat": 4,
 "nbformat_minor": 2
}
