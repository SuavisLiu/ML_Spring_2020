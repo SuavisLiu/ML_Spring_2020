{
 "cells": [
  {
   "cell_type": "markdown",
   "metadata": {
    "slideshow": {
     "slide_type": "subslide"
    }
   },
   "source": [
    "# Keras\n",
    "\n",
    "In this module we will introduce [Keras](https://keras.io/), a high level API for Neural Networks.\n",
    "\n",
    "\n",
    "To be specific\n",
    "- we will mostly restrict ourselves to the Keras Sequential model\n",
    "- this will greatly simplify your learning and coding\n",
    "- it will restrict the type of Deep Learning programs that you can write\n",
    "    - but not a meaningful restriction for the simple programs that you will write in this course"
   ]
  },
  {
   "cell_type": "markdown",
   "metadata": {
    "slideshow": {
     "slide_type": "subslide"
    }
   },
   "source": [
    "After we introduce the high level Keras API\n",
    "- we will review the history of Deep Learning programming to see how we got here\n",
    "- this will give you greater insight into what Keras does \"under the covers\"\n",
    "    - appreciate history\n",
    "    - aid your diagnostics\n",
    "  "
   ]
  },
  {
   "cell_type": "markdown",
   "metadata": {
    "slideshow": {
     "slide_type": "slide"
    }
   },
   "source": [
    "**Note**: \n",
    "\n",
    "The code snippets in this notebook\n",
    "- are illustrative: they are code fragments and will not actually execute in this notebook"
   ]
  },
  {
   "cell_type": "markdown",
   "metadata": {
    "slideshow": {
     "slide_type": "slide"
    }
   },
   "source": [
    "Confusion warning:\n",
    "- There are two similar *but different* packages that implement Keras\n",
    "    - one built into TensorFlow (the one we will use)\n",
    "    - a separate project\n",
    "    \n",
    "Later in this module we will explain the difference and why it's important to distinguish between them."
   ]
  },
  {
   "cell_type": "markdown",
   "metadata": {
    "slideshow": {
     "slide_type": "slide"
    }
   },
   "source": [
    "# The Keras Sequential Model\n",
    "\n",
    "**Reference**: [Getting started with the Keras Sequential Model](https://keras.io/getting-started/sequential-model-guide/)\n",
    "\n",
    "Keras has two programming models\n",
    "- Sequential\n",
    "- Functional\n",
    "\n",
    "We will start with the Sequential model"
   ]
  },
  {
   "cell_type": "markdown",
   "metadata": {
    "slideshow": {
     "slide_type": "subslide"
    }
   },
   "source": [
    "The Sequential model allows you to build Neural Networks (NN) that are composed of a *sequence* of layers\n",
    "- just like our cartoon\n",
    "- a very prevalent paradigm\n",
    "\n",
    "This will likely be sufficient in your initial studies\n",
    "- but it restricts the architecture of the Neural Networks that  you can build\n",
    "- use the Functional API for full generality\n",
    "    - but it might appear more complicated"
   ]
  },
  {
   "cell_type": "markdown",
   "metadata": {
    "slideshow": {
     "slide_type": "subslide"
    }
   },
   "source": [
    "Let's jump into some code.\n",
    "\n",
    "Some old friends, in new clothing:"
   ]
  },
  {
   "cell_type": "raw",
   "metadata": {
    "slideshow": {
     "slide_type": "subslide"
    }
   },
   "source": [
    "import tensorflow as tf\n",
    "\n",
    "from tensorflow.keras.models import Model, Sequential\n",
    "from tensorflow.keras import layers\n",
    "\n",
    "# Regression\n",
    "reg_model = Sequential([ layers.Dense(1, activation=None, input_dim=x.shape[1]) ] )\n",
    "\n",
    "reg_model.compile(optimizer='rmsprop', loss='mse')\n",
    "reg_model.fit(x, y, nb_epoch=10, validation_data=(x_val, y_val))"
   ]
  },
  {
   "cell_type": "raw",
   "metadata": {
    "slideshow": {
     "slide_type": "subslide"
    }
   },
   "source": [
    "# Classification\n",
    "class_model = Sequential([ layers.Dense(1, activation=\"sigmoid\", input_dim=x.shape[1]) ] )\n",
    "\n",
    "class_model.compile(optimizer='rmsprop', loss='binary_crossentropy')\n",
    "class_model.fit(x, y, nb_epoch=10, validation_data=(x_val, y_val))"
   ]
  },
  {
   "cell_type": "markdown",
   "metadata": {
    "slideshow": {
     "slide_type": "subslide"
    }
   },
   "source": [
    "<div class=\"alert alert-block alert-warning\">\n",
    "    <b>TL;DR</b> \n",
    "    <br>\n",
    "    <ul>\n",
    "        <li>Both examples are a single layer\n",
    "            <ul>\n",
    "                <li>Dense, with 1 unit (\"neuron\")</li>\n",
    "            </ul>\n",
    "        <li>Regression example\n",
    "             <ul>\n",
    "                <li>No activation</li>\n",
    "                <li>MSE cost</li>\n",
    "                 </ul>\n",
    "        <li>Binary classification example\n",
    "         <ul>\n",
    "            <li>Sigmoid activation</li>\n",
    "            <li>Binary cross entropy cost</li>\n",
    "             </ul>\n",
    "    </ul>\n",
    "    \n",
    "</div>"
   ]
  },
  {
   "cell_type": "markdown",
   "metadata": {
    "slideshow": {
     "slide_type": "subslide"
    }
   },
   "source": [
    "Hopefully you get the idea.\n",
    "\n",
    "Let's explore a slightly more complicted model.\n"
   ]
  },
  {
   "cell_type": "raw",
   "metadata": {
    "slideshow": {
     "slide_type": "subslide"
    }
   },
   "source": [
    "import tensorflow as tf\n",
    "from tensorflow.keras.models import Model, Sequential\n",
    "from tensorflow.keras import layers\n",
    "\n",
    "mnist_model = Sequential([ \n",
    "    layers.Dense(n_hidden_1, activation=tf.nn.relu,    name=\"hidden1\", input_shape=(input_size,)),\n",
    "    layers.Dense(n_hidden_2, activation=tf.nn.relu,    name=\"hidden2\")\n",
    "    layers.Dense(output_size,activation=tf.nn.softmax, name=\"outputs\")\n",
    "                         ]\n",
    "                        )\n",
    "    "
   ]
  },
  {
   "cell_type": "markdown",
   "metadata": {
    "slideshow": {
     "slide_type": "subslide"
    }
   },
   "source": [
    "This defines a NN with three layers\n",
    "- we will explain the layers in detail later\n",
    "\n",
    "To use the model, you first need to \"compile\" it"
   ]
  },
  {
   "cell_type": "raw",
   "metadata": {
    "slideshow": {
     "slide_type": "subslide"
    }
   },
   "source": [
    "metrics = [ \"acc\" ]\n",
    "mnist_model.compile(optimizer='adam',\n",
    "                    loss='sparse_categorical_crossentropy',\n",
    "                    metrics=metrics)\n"
   ]
  },
  {
   "cell_type": "markdown",
   "metadata": {
    "slideshow": {
     "slide_type": "subslide"
    }
   },
   "source": [
    "\"Compiling\" is quite significant as we will demonstrate later\n",
    "- For now: *it is where you define the Cost/Loss function*\n",
    "    \n",
    "Next, just as in `sklearn`: you \"fit\" the model to the training data."
   ]
  },
  {
   "cell_type": "raw",
   "metadata": {
    "slideshow": {
     "slide_type": "subslide"
    }
   },
   "source": [
    "history = mnist_model.fit(X_train, y_train, \n",
    "                          epochs=n_epochs, \n",
    "                          batch_size=batch_size, \n",
    "                          validation_data=(X_valid, y_valid), \n",
    "                          shuffle=True\n",
    "                         )\n",
    "                    "
   ]
  },
  {
   "cell_type": "markdown",
   "metadata": {
    "slideshow": {
     "slide_type": "subslide"
    }
   },
   "source": [
    "Once the model is fit, you can predict, just like `sklearn`.\n",
    "\n",
    "Here we evaluate the model on the Test dataset."
   ]
  },
  {
   "cell_type": "raw",
   "metadata": {
    "slideshow": {
     "slide_type": "subslide"
    }
   },
   "source": [
    "test_loss, test_accuracy = mnist_model.evaluate(X_test, y_test)\n",
    "print(\"Test dataset: loss={tl:5.4f}, accuracy={ta:5.4f}\".format(tl=test_loss, ta=test_accuracy))"
   ]
  },
  {
   "cell_type": "markdown",
   "metadata": {
    "slideshow": {
     "slide_type": "subslide"
    }
   },
   "source": [
    "The idea is quite simple\n",
    "- Keras Sequential implements an `sklearn`-like API\n",
    "    - define a model\n",
    "    - fit the model\n",
    "    - predict\n"
   ]
  },
  {
   "cell_type": "markdown",
   "metadata": {
    "slideshow": {
     "slide_type": "subslide"
    }
   },
   "source": [
    "We have glossed over a lot of details\n",
    "- What does each layer do ?\n",
    "- Why do we need to \"compile\" ?\n",
    "    - and why does it need an optimizer ?\n"
   ]
  },
  {
   "cell_type": "markdown",
   "metadata": {
    "slideshow": {
     "slide_type": "slide"
    }
   },
   "source": [
    "## The Keras Functional Model\n",
    "\n",
    "- More verbose than `Sequential`\n",
    "- Also more flexible\n",
    "    - you can define more complex computation graphs (multiple inputs/outputs, shared layers)\n",
    "    "
   ]
  },
  {
   "cell_type": "raw",
   "metadata": {
    "slideshow": {
     "slide_type": "subslide"
    }
   },
   "source": [
    "from keras.layers import Input, Dense\n",
    "from keras.models import Model\n",
    "\n",
    "# This returns a tensor\n",
    "inputs = Input(shape=(784,))\n",
    "\n",
    "# a layer instance is callable on a tensor, and returns a tensor\n",
    "x = Dense(32, activation='relu')(inputs)\n",
    "predictions = Dense(10, activation='softmax')(x)\n",
    "\n",
    "# This creates a model that includes\n",
    "# the Input layer and  Dense layers\n",
    "model = Model(inputs=inputs, outputs=predictions)"
   ]
  },
  {
   "cell_type": "markdown",
   "metadata": {
    "slideshow": {
     "slide_type": "subslide"
    }
   },
   "source": [
    "Highlights:\n",
    "- Manually invoke a single layer at a time\n",
    "    - Passing as input the output of the prior layer.\n",
    "\n",
    "- You must define an `Input` layer (placeholder for the input/define it's shape)\n",
    "    - `Sequential` uses the `input_shape=` parameter to the first layer\n",
    "- You \"wrap\" the graph into a \"model\" by a `Model` statement\n",
    "    - looks like a function definition\n",
    "        - names the input and output formal parameters\n",
    "    - a `Model` acts just like a layer (but with internals that you create)"
   ]
  },
  {
   "cell_type": "raw",
   "metadata": {
    "slideshow": {
     "slide_type": "subslide"
    }
   },
   "source": [
    "model.compile(optimizer='rmsprop',\n",
    "              loss='categorical_crossentropy',\n",
    "              metrics=['accuracy'])\n",
    "model.fit(data, labels)  # starts training"
   ]
  },
  {
   "cell_type": "markdown",
   "metadata": {
    "slideshow": {
     "slide_type": "subslide"
    }
   },
   "source": [
    "As a beginner, you will probably exclusively use the Sequential model.\n",
    "\n",
    "Keep the Functional API in the back of your mind."
   ]
  },
  {
   "cell_type": "markdown",
   "metadata": {
    "slideshow": {
     "slide_type": "slide"
    }
   },
   "source": [
    "# Archaelogy\n",
    "\n",
    "Before Keras there was a layer API.\n",
    "\n",
    "Before the layer API, there was raw TensorFlow.\n",
    "\n",
    "We will perform a deeper dive to uncover the multiple layers."
   ]
  },
  {
   "cell_type": "markdown",
   "metadata": {
    "slideshow": {
     "slide_type": "subslide"
    }
   },
   "source": [
    "You will be programming (almost exclusively) in the most modern layer: Keras.\n",
    "    \n",
    "Why bother with history ?"
   ]
  },
  {
   "cell_type": "markdown",
   "metadata": {
    "slideshow": {
     "slide_type": "subslide"
    }
   },
   "source": [
    "- The Deep Learning area evolves very quickly\n",
    "- Papers/blog posts/books become outdated very quickly\n",
    "    - The code in the Geron book is **not** exactly what we would use today\n",
    "    - And the code we show today will **not** be that which is recommended a year from now\n",
    "\n",
    "You will constantly encounter \"older\" code (without necessarily knowing it)\n",
    "- It is still very useful\n",
    "- You must understand why it is superfiically different in order to appreciate the *important* parts\n"
   ]
  },
  {
   "cell_type": "markdown",
   "metadata": {
    "slideshow": {
     "slide_type": "slide"
    }
   },
   "source": [
    "# Detour: DNN Tensorflow notebook on Colab\n",
    "\n",
    "We will now switch to a notebook running on Google Colab\n",
    "- will perform the archaelogical dig\n",
    "- maybe talk about Colab too\n",
    "\n",
    "[DNN Tensorflow example Notebook from github](https://colab.research.google.com/github/kenperry-public/ML_Fall_2019/blob/master/DNN_TensorFlow_example.ipynb)\n",
    "\n",
    "We will return to this notebook to clarify the difference\n",
    "between similar *but different* versions of Keras."
   ]
  },
  {
   "cell_type": "markdown",
   "metadata": {
    "slideshow": {
     "slide_type": "slide"
    }
   },
   "source": [
    "## Back from the detour:  summary\n",
    "\n",
    "Keras is now tightly integrated into TensorFlow (even more so in TensorFlow 2.0)\n",
    "\n",
    "This cleans up a rather unruly TensorFlow eco-system that resulted in  similar functionality in multiple places.\n",
    "\n",
    "This can make it very confusing for someone new to TensorFlow.  \n",
    "\n",
    "There are lots of examples on the web written\n",
    "using various similar-looking packages. \n",
    "\n",
    "I'll try to point out potential sources of confusion. Beware !\n",
    "\n",
    "[Demystify the TensorFlow APIs](https://medium.com/google-developer-experts/demystify-the-tensorflow-apis-57d2b0b8b6c0) summarizes it well"
   ]
  },
  {
   "cell_type": "markdown",
   "metadata": {
    "slideshow": {
     "slide_type": "subslide"
    }
   },
   "source": [
    "- `tf.layers` is going away in TensorFlow 2.0\n",
    "    - `tf.keras` is recommended going forward\n",
    "    - **Do not use**\n",
    "    \n",
    "- [Estimators](https://www.tensorflow.org/guide/estimators) (`tf.Estimator`)\n",
    "    - Estimators are sometimes called \"models in a box\"; somewhat similar to `sklearn`\n",
    "        - pre-canned high-level models (like Classifiers) rather than low-level `tf.keras.layers` (like Dense) from which it is built\n",
    "        - convenient interface to [Datasets for Estimators](https://www.tensorflow.org/guide/datasets_for_estimators)\n",
    "            - no need to create own mini-batches, etc.\n",
    "    - You can achieve quite a bit of the convenience using Keras, so we will skip Estimators.\n",
    "    "
   ]
  },
  {
   "cell_type": "markdown",
   "metadata": {
    "slideshow": {
     "slide_type": "subslide"
    }
   },
   "source": [
    "- Low-level TensorFlow \n",
    "    - great for learning\n",
    "    - better to rely on pre-defined layers when possible\n",
    "    \n",
    "And our own observations\n",
    "- `tf.contrib`\n",
    "    - this was a name-space created to enable users to contribute useful packages.\n",
    "    - some of these packages may have made their way into the core, or been integrated elsewhere\n",
    "        - `tf.contrib.learn.Estimator` is the obsolete version of `tf.Estimator`\n",
    "    - eliminated from TensorFlow 2.0\n",
    "        - **avoid**\n",
    "- [Datasets API](https://www.tensorflow.org/guide/datasets)\n",
    "    - an API to handle large datasets, in memory- "
   ]
  },
  {
   "cell_type": "markdown",
   "metadata": {
    "slideshow": {
     "slide_type": "slide"
    }
   },
   "source": [
    "We will focus on two styles or packages in our course\n",
    "- `tf.keras`\n",
    "    - this is the future, as it will be tightly integrated into TensorFlow 2.0\n",
    "- `tf.layers` modules (e.g., `tf.layers.dense`)\n",
    "    - used only to be compatible with the Geron book.\n",
    "    - it is slightly lower level than Keras\n",
    "    "
   ]
  },
  {
   "cell_type": "markdown",
   "metadata": {
    "slideshow": {
     "slide_type": "slide"
    }
   },
   "source": [
    "# TensorFlow 2.0\n",
    "\n",
    "TensorFlow 2.0 is a new version of TensorFlow that is in \"beta\".\n",
    "\n",
    "*It makes a very important changes from the current version*\n",
    "- eager execution becomes *the default*\n",
    "\n",
    "This is a very good thing\n",
    "- non-eager execution is probably *the most confusing part* of TensorFlow to beginners"
   ]
  },
  {
   "cell_type": "markdown",
   "metadata": {
    "slideshow": {
     "slide_type": "subslide"
    }
   },
   "source": [
    "So why aren't we using it ?\n",
    "- Most of the code you will find in papers/the Web requires *non-eager* execution\n",
    "- Still in beta\n",
    "\n",
    "I strongly recommend that you stick with a version of TensorFlow < 2.0\n"
   ]
  },
  {
   "cell_type": "markdown",
   "metadata": {
    "slideshow": {
     "slide_type": "subslide"
    }
   },
   "source": [
    "# `tensorflow.keras` vs `keras` (Confusion alert)\n",
    "<div class=\"alert alert-block alert-warning\">\n",
    "    <b>TL;DR</b> \n",
    "    <br>\n",
    "    <br>\n",
    "        <b>YES</b><br>\n",
    "    <ul>\n",
    "        <li>\n",
    "            <font face=\"Courier\" color=\"black\" weight=\"bold\">\n",
    "            import tensorflow as tf<br>\n",
    "            tf.keras.layers.Dense(...)\n",
    "            </font>\n",
    "        </li>\n",
    "        <li>\n",
    "            <font face=\"Courier\" color=\"black\" weight=\"bold\">\n",
    "            from tensorflow import keras<br>\n",
    "            keras.layers.Dense(...)\n",
    "            </font>\n",
    "        </li>\n",
    "    </ul>\n",
    "    <br>\n",
    "        <b>NO</b><br>\n",
    "    <ul>\n",
    "    <li> <font face=\"Courier\" color=\"black\" weight=\"bold\">\n",
    "        import keras<br>\n",
    "        keras.layers.Dense( ... )\n",
    "        </font>\n",
    "        </li>\n",
    "    </ul>\n",
    "        </div>"
   ]
  },
  {
   "cell_type": "markdown",
   "metadata": {
    "slideshow": {
     "slide_type": "subslide"
    }
   },
   "source": [
    "Technically speaking: Keras is an API -- a specification -- not a library.\n",
    "\n",
    "- TensorFlow has implemented this specification as a submodule of *the TensorFlow module*: \n",
    "    - `tensorflow.keras`\n",
    "- There is a *separate* Keras project *and* module: `keras`\n",
    "    - that supports multiple \"backends\", including TensorFlow\n",
    "    - Cannot run Python versions > 3.6 (one backend isn't cooperating)\n",
    "\n",
    "**This is not just a legal difference**\n",
    "- they are **separate** modules that do very similar things"
   ]
  },
  {
   "cell_type": "markdown",
   "metadata": {
    "slideshow": {
     "slide_type": "subslide"
    }
   },
   "source": [
    "This may get confusing\n",
    "\n",
    "- The [TensorFlow docs for Keras](https://www.tensorflow.org/guide/keras)  refers to TensorFlow's implementation of the API\n",
    "    - used as `from tensorflow import keras`\n",
    "    - this is what we will use !\n",
    "    - other syntactic forms to use: `tf.keras..`\n",
    "- The [Keras docs](https://keras.io/) refers to the abstract Keras API and `keras` module\n",
    "    - used as `import keras as keras`"
   ]
  },
  {
   "cell_type": "markdown",
   "metadata": {
    "slideshow": {
     "slide_type": "slide"
    }
   },
   "source": [
    "## `tensorflow.keras` \n",
    "[Guidance from TensorFlow team](https://medium.com/tensorflow/standardizing-on-keras-guidance-on-high-level-apis-in-tensorflow-2-0-bad2b04c819a)\n",
    "- `tf.keras` is an implementation of the Keras API\n",
    "    - *with enhancements*\n",
    "        - eager execution\n",
    "    - integrated into TensorFlow ecosystem\n",
    "        - `tf.data`"
   ]
  },
  {
   "cell_type": "raw",
   "metadata": {
    "slideshow": {
     "slide_type": "subslide"
    }
   },
   "source": [
    "import tensorflow as tf\n",
    "Dense = tf.keras.layers.Dense\n",
    "\n",
    "model = tf.keras.Sequential()\n",
    "model.add(layers.Dense(64, activation=’relu’))"
   ]
  },
  {
   "cell_type": "markdown",
   "metadata": {
    "slideshow": {
     "slide_type": "slide"
    }
   },
   "source": [
    "## Technical point: showing the difference between `tensorflow.keras` and `keras` \n",
    "\n",
    "Here we demonstrate that although the two modules implement the same methods, the *are different* methods\n"
   ]
  },
  {
   "cell_type": "raw",
   "metadata": {
    "slideshow": {
     "slide_type": "subslide"
    }
   },
   "source": [
    "import tensorflow as tf\n",
    "\n",
    "# \"keras\" prefix will refer to tensorflow.keras\n",
    "from tensorflow import keras\n",
    "\n",
    "from tensorflow.keras import layers\n",
    "\n",
    "# Also import the Keras API, for comparison\n",
    "import keras as k"
   ]
  },
  {
   "cell_type": "markdown",
   "metadata": {
    "slideshow": {
     "slide_type": "subslide"
    }
   },
   "source": [
    "All the following comparisons evaluate to True, as you can test for yourself.\n",
    "\n",
    "They are just different ways to access the `tensorflow.keras` module's methods."
   ]
  },
  {
   "cell_type": "raw",
   "metadata": {
    "slideshow": {
     "slide_type": "subslide"
    }
   },
   "source": [
    "tf.keras.layers.Dense == keras.layers.Dense\n",
    "tf.keras.layers.Dense == layers.Dense"
   ]
  },
  {
   "cell_type": "markdown",
   "metadata": {
    "slideshow": {
     "slide_type": "subslide"
    }
   },
   "source": [
    "But the following is **not** True because they come from different packages:\n",
    "- one from `tensorflow.keras`\n",
    "- one from `keras`"
   ]
  },
  {
   "cell_type": "raw",
   "metadata": {
    "slideshow": {
     "slide_type": "subslide"
    }
   },
   "source": [
    "tf.keras.layers.Dense == k.layers.Dense"
   ]
  }
 ],
 "metadata": {
  "celltoolbar": "Slideshow",
  "kernelspec": {
   "display_name": "Python 3",
   "language": "python",
   "name": "python3"
  },
  "language_info": {
   "codemirror_mode": {
    "name": "ipython",
    "version": 3
   },
   "file_extension": ".py",
   "mimetype": "text/x-python",
   "name": "python",
   "nbconvert_exporter": "python",
   "pygments_lexer": "ipython3",
   "version": "3.7.4"
  },
  "toc": {
   "base_numbering": 1,
   "nav_menu": {},
   "number_sections": true,
   "sideBar": true,
   "skip_h1_title": false,
   "title_cell": "Table of Contents",
   "title_sidebar": "Contents",
   "toc_cell": false,
   "toc_position": {},
   "toc_section_display": true,
   "toc_window_display": true
  }
 },
 "nbformat": 4,
 "nbformat_minor": 2
}
