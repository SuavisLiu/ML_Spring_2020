{
 "cells": [
  {
   "cell_type": "code",
   "execution_count": 36,
   "metadata": {
    "colab": {
     "base_uri": "https://localhost:8080/",
     "height": 35
    },
    "colab_type": "code",
    "executionInfo": {
     "elapsed": 524,
     "status": "ok",
     "timestamp": 1571275537784,
     "user": {
      "displayName": "K Perry",
      "photoUrl": "",
      "userId": "06663495321778630978"
     },
     "user_tz": 240
    },
    "id": "pj1uBF8Yv8Wc",
    "outputId": "4b71cac9-3aa7-4f04-e169-5f9f19731f5c"
   },
   "outputs": [
    {
     "name": "stdout",
     "output_type": "stream",
     "text": [
      "Running TensorFlow version  1.15.0-rc3\n"
     ]
    }
   ],
   "source": [
    "import tensorflow as tf\n",
    "\n",
    "print(\"Running TensorFlow version \",tf.__version__)"
   ]
  },
  {
   "cell_type": "markdown",
   "metadata": {
    "colab_type": "text",
    "id": "0gPB8QwD7hAk"
   },
   "source": [
    "# We will explain \"eager execution\" shortly"
   ]
  },
  {
   "cell_type": "code",
   "execution_count": 0,
   "metadata": {
    "colab": {},
    "colab_type": "code",
    "id": "b-BS0QYm6jLO"
   },
   "outputs": [],
   "source": [
    "def show_eager(set_eager=None):\n",
    "  if set_eager is not None:\n",
    "    if set_eager:\n",
    "      tf.enable_eager_execution()\n",
    "    else:\n",
    "      tf.disable_eager_execution()\n",
    "      \n",
    "  eager_status=\"ARE\" if tf.executing_eagerly() else \"ARE NOT\"\n",
    "  print(\"We {status:s} using TensorFlow eager execution\".format(status=eager_status))\n"
   ]
  },
  {
   "cell_type": "code",
   "execution_count": 38,
   "metadata": {
    "colab": {
     "base_uri": "https://localhost:8080/",
     "height": 35
    },
    "colab_type": "code",
    "executionInfo": {
     "elapsed": 778,
     "status": "ok",
     "timestamp": 1571275538101,
     "user": {
      "displayName": "K Perry",
      "photoUrl": "",
      "userId": "06663495321778630978"
     },
     "user_tz": 240
    },
    "id": "jmgQ1WDc7_l0",
    "outputId": "367f80b3-8b47-413d-c2b5-61fab6d6cf5f"
   },
   "outputs": [
    {
     "name": "stdout",
     "output_type": "stream",
     "text": [
      "We ARE NOT using TensorFlow eager execution\n"
     ]
    }
   ],
   "source": [
    "show_eager()"
   ]
  },
  {
   "cell_type": "code",
   "execution_count": 39,
   "metadata": {
    "colab": {
     "base_uri": "https://localhost:8080/",
     "height": 35
    },
    "colab_type": "code",
    "executionInfo": {
     "elapsed": 753,
     "status": "ok",
     "timestamp": 1571275538102,
     "user": {
      "displayName": "K Perry",
      "photoUrl": "",
      "userId": "06663495321778630978"
     },
     "user_tz": 240
    },
    "id": "whS0IRTO_iZI",
    "outputId": "e657df6b-6274-464f-bbe8-c8a35f464911"
   },
   "outputs": [
    {
     "name": "stdout",
     "output_type": "stream",
     "text": [
      "We ARE NOT using TensorFlow eager execution\n"
     ]
    }
   ],
   "source": [
    "show_eager(set_eager=False)"
   ]
  },
  {
   "cell_type": "code",
   "execution_count": 40,
   "metadata": {
    "colab": {
     "base_uri": "https://localhost:8080/",
     "height": 53
    },
    "colab_type": "code",
    "executionInfo": {
     "elapsed": 735,
     "status": "ok",
     "timestamp": 1571275538103,
     "user": {
      "displayName": "K Perry",
      "photoUrl": "",
      "userId": "06663495321778630978"
     },
     "user_tz": 240
    },
    "id": "kU4L34gI8-R4",
    "outputId": "d18c6e27-1a62-416e-ce1a-a6ef3a1a977e"
   },
   "outputs": [
    {
     "name": "stdout",
     "output_type": "stream",
     "text": [
      "Tensor(\"Add_1:0\", shape=(), dtype=int32)\n",
      "c value: 3\n"
     ]
    }
   ],
   "source": [
    "a = tf.Variable(2)\n",
    "b = tf.Variable(1)\n",
    "c= tf.add(a,b)\n",
    "\n",
    "print(c)\n",
    "\n",
    "init = tf.global_variables_initializer()\n",
    "with tf.Session() as sess:\n",
    "  init.run()\n",
    " \n",
    "  c_value = sess.run(c)\n",
    "  print(\"c value:\", c_value)"
   ]
  },
  {
   "cell_type": "code",
   "execution_count": 41,
   "metadata": {
    "colab": {
     "base_uri": "https://localhost:8080/",
     "height": 35
    },
    "colab_type": "code",
    "executionInfo": {
     "elapsed": 723,
     "status": "ok",
     "timestamp": 1571275538104,
     "user": {
      "displayName": "K Perry",
      "photoUrl": "",
      "userId": "06663495321778630978"
     },
     "user_tz": 240
    },
    "id": "Z6nzbpGK_Ztl",
    "outputId": "150ff5ed-7e71-4bd1-9359-bf613ad2c7f5"
   },
   "outputs": [
    {
     "data": {
      "text/plain": [
       "<function tensorflow.python.framework.ops.disable_eager_execution>"
      ]
     },
     "execution_count": 41,
     "metadata": {
      "tags": []
     },
     "output_type": "execute_result"
    }
   ],
   "source": [
    "tf.disable_eager_execution"
   ]
  },
  {
   "cell_type": "code",
   "execution_count": 42,
   "metadata": {
    "colab": {
     "base_uri": "https://localhost:8080/",
     "height": 35
    },
    "colab_type": "code",
    "executionInfo": {
     "elapsed": 705,
     "status": "ok",
     "timestamp": 1571275538112,
     "user": {
      "displayName": "K Perry",
      "photoUrl": "",
      "userId": "06663495321778630978"
     },
     "user_tz": 240
    },
    "id": "RDIvIfIHv_L3",
    "outputId": "2a00de5a-ac25-43c4-ee49-8e55c1fd66be"
   },
   "outputs": [
    {
     "name": "stdout",
     "output_type": "stream",
     "text": [
      "Tensor(\"add_2:0\", shape=(), dtype=int32)\n"
     ]
    }
   ],
   "source": [
    "a = tf.Variable(1)\n",
    "b = tf.Variable(2)\n",
    "c = a + b\n",
    "\n",
    "print(c)\n"
   ]
  },
  {
   "cell_type": "code",
   "execution_count": 43,
   "metadata": {
    "colab": {
     "base_uri": "https://localhost:8080/",
     "height": 35
    },
    "colab_type": "code",
    "executionInfo": {
     "elapsed": 694,
     "status": "ok",
     "timestamp": 1571275538115,
     "user": {
      "displayName": "K Perry",
      "photoUrl": "",
      "userId": "06663495321778630978"
     },
     "user_tz": 240
    },
    "id": "nJ0g8X2qwKfO",
    "outputId": "1aa6d365-4684-4159-d120-1c552d1bfe91"
   },
   "outputs": [
    {
     "name": "stdout",
     "output_type": "stream",
     "text": [
      "a (1.00) + b (2.00) = 3.00\n"
     ]
    }
   ],
   "source": [
    "init = tf.global_variables_initializer()\n",
    "\n",
    "with tf.Session() as sess:\n",
    "  # Without initialization, Variables a,b won't be assigned\n",
    "  init.run()\n",
    "  \n",
    "  a_value, b_value, c_value = sess.run([a,b,c])\n",
    "  print(\"a ({a:3.2f}) + b ({b:3.2f}) = {c:3.2f}\".format(a=a_value, b=b_value, c=c_value) )"
   ]
  },
  {
   "cell_type": "code",
   "execution_count": 44,
   "metadata": {
    "colab": {
     "base_uri": "https://localhost:8080/",
     "height": 35
    },
    "colab_type": "code",
    "executionInfo": {
     "elapsed": 683,
     "status": "ok",
     "timestamp": 1571275538116,
     "user": {
      "displayName": "K Perry",
      "photoUrl": "",
      "userId": "06663495321778630978"
     },
     "user_tz": 240
    },
    "id": "PeIdbOPvxpJr",
    "outputId": "72f3ba03-98f5-4164-8e9b-826b80206efe"
   },
   "outputs": [
    {
     "name": "stdout",
     "output_type": "stream",
     "text": [
      "Tensor(\"add_3:0\", dtype=float32)\n"
     ]
    }
   ],
   "source": [
    "d = tf.placeholder(tf.float32,  name=\"d\")\n",
    "e = tf.placeholder(tf.float32,  name=\"d\")\n",
    "\n",
    "f= d + e\n",
    "print(f)\n",
    "\n"
   ]
  },
  {
   "cell_type": "code",
   "execution_count": 45,
   "metadata": {
    "colab": {
     "base_uri": "https://localhost:8080/",
     "height": 53
    },
    "colab_type": "code",
    "executionInfo": {
     "elapsed": 675,
     "status": "ok",
     "timestamp": 1571275538117,
     "user": {
      "displayName": "K Perry",
      "photoUrl": "",
      "userId": "06663495321778630978"
     },
     "user_tz": 240
    },
    "id": "NqjV1_aY4wAH",
    "outputId": "1fec0b1e-3c18-4954-be39-082e1023824c"
   },
   "outputs": [
    {
     "name": "stdout",
     "output_type": "stream",
     "text": [
      "a (1.00) + b (2.00) = 3.00\n",
      "d (10.00) + e (20.00) = 30.00\n"
     ]
    }
   ],
   "source": [
    "init = tf.global_variables_initializer()\n",
    "\n",
    "with tf.Session() as sess:\n",
    "  # Without initialization, Variables a,b won't be assigned\n",
    "  init.run()\n",
    "  \n",
    "  # All previous nodes (a,b, c) still exist in the default graph\n",
    "  a_value, b_value, c_value = sess.run([a,b,c])\n",
    "  print(\"a ({a:3.2f}) + b ({b:3.2f}) = {c:3.2f}\".format(a=a_value, b=b_value, c=c_value) )\n",
    "  \n",
    "  # d,e are now placeholders: formal parameters whose value must be passed in on the call using the \"feed_dict\"\n",
    "  d_value, e_value, f_value = sess.run([d,e,f], feed_dict={ d:10, e:20})\n",
    "  print(\"d ({d:3.2f}) + e ({e:3.2f}) = {f:3.2f}\".format(d=d_value, e=e_value, f=f_value) )"
   ]
  },
  {
   "cell_type": "markdown",
   "metadata": {
    "colab_type": "text",
    "id": "ROxvm7vv70mo"
   },
   "source": [
    "# Eager execution"
   ]
  },
  {
   "cell_type": "markdown",
   "metadata": {
    "colab_type": "text",
    "id": "9YHgEi5M8qBO"
   },
   "source": [
    "[Eager execution](https://www.tensorflow.org/guide/eager) makes TensorFlow behave more like a familiar imperative language:\n",
    "- no need to create a session\n",
    "- all expressions are immediately evaluated"
   ]
  },
  {
   "cell_type": "code",
   "execution_count": 46,
   "metadata": {
    "colab": {
     "base_uri": "https://localhost:8080/",
     "height": 35
    },
    "colab_type": "code",
    "executionInfo": {
     "elapsed": 667,
     "status": "ok",
     "timestamp": 1571275538118,
     "user": {
      "displayName": "K Perry",
      "photoUrl": "",
      "userId": "06663495321778630978"
     },
     "user_tz": 240
    },
    "id": "ycM5hBo973Wk",
    "outputId": "7d4bc8cc-af1b-48de-f505-f78cd51e360e"
   },
   "outputs": [
    {
     "name": "stdout",
     "output_type": "stream",
     "text": [
      "We ARE using TensorFlow eager execution\n"
     ]
    }
   ],
   "source": [
    "# Really should turn eager on at the very start, to avoid confusion.  At the least, reset the default graph\n",
    "tf.reset_default_graph()\n",
    "\n",
    "show_eager(set_eager=True)"
   ]
  },
  {
   "cell_type": "markdown",
   "metadata": {
    "colab_type": "text",
    "id": "Q609Wzyp8izC"
   },
   "source": [
    "Compared to non-eager execution, c has been evaluated\n",
    "\n",
    "(It is still a Tensor, but notice it has a value)"
   ]
  },
  {
   "cell_type": "code",
   "execution_count": 47,
   "metadata": {
    "colab": {
     "base_uri": "https://localhost:8080/",
     "height": 71
    },
    "colab_type": "code",
    "executionInfo": {
     "elapsed": 1086,
     "status": "ok",
     "timestamp": 1571275538545,
     "user": {
      "displayName": "K Perry",
      "photoUrl": "",
      "userId": "06663495321778630978"
     },
     "user_tz": 240
    },
    "id": "WMZm4TFr8ZIM",
    "outputId": "343e6b8e-ee95-4959-b7ef-0c46e5fd1b33"
   },
   "outputs": [
    {
     "name": "stdout",
     "output_type": "stream",
     "text": [
      "tf.Tensor(3, shape=(), dtype=int32)\n",
      "Type of c:  <class 'tensorflow.python.framework.ops.EagerTensor'>\n",
      "c = 3.00\n"
     ]
    }
   ],
   "source": [
    "a = tf.constant(1)\n",
    "b = tf.constant(2)\n",
    "c = a + b\n",
    "\n",
    "print(c)\n",
    "\n",
    "# Note the automatic conversion of EagerTensor in format\n",
    "print(\"Type of c: \", type(c))\n",
    "print(\"c = {c:3.2f}\".format(c=c))\n"
   ]
  }
 ],
 "metadata": {
  "colab": {
   "name": "Raw_TensorFlow.ipynb",
   "provenance": []
  },
  "kernelspec": {
   "display_name": "Python 3",
   "language": "python",
   "name": "python3"
  },
  "language_info": {
   "codemirror_mode": {
    "name": "ipython",
    "version": 3
   },
   "file_extension": ".py",
   "mimetype": "text/x-python",
   "name": "python",
   "nbconvert_exporter": "python",
   "pygments_lexer": "ipython3",
   "version": "3.7.1"
  },
  "toc": {
   "base_numbering": 1,
   "nav_menu": {},
   "number_sections": true,
   "sideBar": true,
   "skip_h1_title": false,
   "title_cell": "Table of Contents",
   "title_sidebar": "Contents",
   "toc_cell": false,
   "toc_position": {},
   "toc_section_display": true,
   "toc_window_display": false
  }
 },
 "nbformat": 4,
 "nbformat_minor": 1
}
