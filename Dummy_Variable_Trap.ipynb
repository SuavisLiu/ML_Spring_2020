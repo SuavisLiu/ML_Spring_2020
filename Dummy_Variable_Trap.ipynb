{
 "cells": [
  {
   "cell_type": "code",
   "execution_count": 1,
   "metadata": {
    "slideshow": {
     "slide_type": "notes"
    }
   },
   "outputs": [
    {
     "data": {
      "text/latex": [
       "$$\n",
       "\\newcommand{\\x}{\\mathbf{x}}\n",
       "\\newcommand{\\tx}{\\tilde{\\x}}\n",
       "\\newcommand{\\y}{\\mathbf{y}}\n",
       "\\newcommand{\\b}{\\mathbf{b}}\n",
       "\\newcommand{\\c}{\\mathbf{c}}\n",
       "\\newcommand{\\e}{\\mathbf{e}}\n",
       "\\newcommand{\\z}{\\mathbf{z}}\n",
       "\\newcommand{\\h}{\\mathbf{h}}\n",
       "\\newcommand{\\w}{\\mathbf{w}}\n",
       "\\newcommand{\\W}{\\mathbf{W}}\n",
       "\\newcommand{\\X}{\\mathbf{X}}\n",
       "\\newcommand{\\KL}{\\mathbf{KL}}\n",
       "\\newcommand{\\E}{{\\mathbb{E}}}\n",
       "\\newcommand{\\ip}{\\mathbf{{(i)}}}\n",
       "% \\ll indexes a layer; we can change the actual letter\n",
       "\\newcommand{\\ll}{l}\n",
       "\\newcommand{\\llp}{{(\\ll)}}\n",
       "%\n",
       "% \\tt indexes a time step\n",
       "\\newcommand{\\tt}{t}\n",
       "\\newcommand{\\tp}{{(\\tt)}}\n",
       "%\n",
       "\\newcommand{\\loss}{\\mathcal{L}}\n",
       "\\newcommand{\\cost}{\\mathcal{L}}\n",
       "%\n",
       "%                     \n",
       "\\newcommand{\\pdata}{p_\\text{data}}\n",
       "\\newcommand{\\pmodel}{p_\\text{model}}\n",
       "%\n",
       "% Functions with arguments\n",
       "\\def\\xsy#1#2{#1^#2}\n",
       "\\def\\rand#1{\\tilde{#1}}\n",
       "\\def\\randx{\\rand{\\x}}\n",
       "\\def\\randy{\\rand{\\y}}\n",
       "%\n",
       "\\def\\argmax#1{\\underset{#1} {\\operatorname{argmax}} }\n",
       "\\def\\argmin#1{\\underset{#1} {\\operatorname{argmin}} }\n",
       "\\def\\max#1{\\underset{#1} {\\operatorname{max}} }\n",
       "\\def\\min#1{\\underset{#1} {\\operatorname{min}} }\n",
       "%\n",
       "\\def\\pr#1{\\mathcal{p}(#1)}\n",
       "\\def\\cnt#1{\\mathcal{count}_{#1}}\n",
       "\\def\\node#1{\\mathbb{#1}}\n",
       "%\n",
       "\\newcommand{\\floor}[1]{\\left\\lfloor #1 \\right\\rfloor}\n",
       "\\newcommand{\\ceil}[1]{\\left\\lceil #1 \\right\\rceil}\n",
       "%\n",
       "\n",
       "$$\n"
      ],
      "text/plain": [
       "<IPython.core.display.Latex object>"
      ]
     },
     "metadata": {},
     "output_type": "display_data"
    },
    {
     "name": "stdout",
     "output_type": "stream",
     "text": [
      "Macro `_latex_std_` created. To execute, type its name (without quotes).\n",
      "=== Macro contents: ===\n",
      "get_ipython().run_line_magic('run', 'Latex_macros.ipynb')\n",
      " no stored variable _latex_std_\n"
     ]
    }
   ],
   "source": [
    "%run Latex_macros.ipynb"
   ]
  },
  {
   "cell_type": "markdown",
   "metadata": {
    "slideshow": {
     "slide_type": "notes"
    }
   },
   "source": [
    "$$\n",
    "\\newcommand{\\o}{\\mathbf{o}}\n",
    "$$\n"
   ]
  },
  {
   "cell_type": "code",
   "execution_count": 2,
   "metadata": {
    "slideshow": {
     "slide_type": "notes"
    }
   },
   "outputs": [],
   "source": [
    "# My standard magic !  You will see this in almost all my notebooks.\n",
    "\n",
    "from IPython.core.interactiveshell import InteractiveShell\n",
    "InteractiveShell.ast_node_interactivity = \"all\"\n",
    "\n",
    "# Reload all modules imported with %aimport\n",
    "%load_ext autoreload\n",
    "%autoreload 1\n",
    "%matplotlib inline"
   ]
  },
  {
   "cell_type": "code",
   "execution_count": 3,
   "metadata": {
    "slideshow": {
     "slide_type": "notes"
    }
   },
   "outputs": [],
   "source": [
    "# Standard imports\n",
    "import pandas as pd\n",
    "import numpy as np\n",
    "import matplotlib.pyplot as plt\n",
    "\n",
    "# Common imports\n",
    "import os\n",
    "\n",
    "import mnist_helper\n",
    "%aimport mnist_helper\n",
    "\n",
    "mnh = mnist_helper.MNIST_Helper()\n",
    "\n",
    "import class_helper\n",
    "%aimport class_helper\n",
    "\n",
    "clh= class_helper.Classification_Helper()\n",
    "\n",
    "import training_models_helper as tmh\n",
    "%aimport training_models_helper\n",
    "\n",
    "tm = tmh.TrainingModelsHelper()"
   ]
  },
  {
   "cell_type": "markdown",
   "metadata": {
    "slideshow": {
     "slide_type": "slide"
    }
   },
   "source": [
    "# Categorical features: the Dummy Variable Trap for Linear Regression\n",
    "\n",
    "In general, OHE of features is the best way to deal with Categorical features in\n",
    "Machine Learning.\n",
    "\n",
    "**However** there is a mathematical issue for some models\n",
    "- linear models (like Linear Regression and Logistic Regression).\n",
    "\n",
    "This is called the **Dummy Variable Trap** \n",
    "\n",
    "To avoid the trap, we need to perform OHE in a slightly different way for the affected models.\n",
    "\n",
    "Special cases are unfortunate and we will only offer a quick explanation here.\n"
   ]
  },
  {
   "cell_type": "markdown",
   "metadata": {
    "slideshow": {
     "slide_type": "slide"
    }
   },
   "source": [
    "For now, when using linear models there are several alternatives to avoid the trap\n",
    "- if you have a categorical variable $v$ with $||C||$ classes\n",
    "\n",
    "- The vector $\\mathbf{v}$ should consist of $||C|| -1$ indicators rather than $||C||$\n",
    "    - this solution is common enough that several toolkits provide functions to deal with it\n",
    "        - `sklearn.preprocessing.OneHotEncoder` with argument `drop=\"first\"`\n",
    "        - Pandas: `pd.get_dummies` with argument `drop_first=True`\n",
    "- Use a regularizer (e.g., Ridge regression)\n",
    "- *Don't* include an intercept term\n",
    "    - But this may cause problems\n",
    "        - Having an intercept ensures that the errors are mean $0$"
   ]
  },
  {
   "cell_type": "markdown",
   "metadata": {
    "slideshow": {
     "slide_type": "slide"
    }
   },
   "source": [
    "## Dummy variable trap: Multi-collinearity in Linear Regression\n",
    "\n",
    "Consider the class $C = $ { \"Red\", \"Green\", \"Blue\" } and a categorical variable $v$ for this class.\n",
    "\n",
    "Suppose we create $||C||$ indicator variables\n",
    "- $\\mathbf{v}_{Red}, \\mathbf{v}_{Green}, \\mathbf{v}_{Blue}$\n",
    "\n",
    "By construction of the OHE of $v$,\n",
    "for each example $i$:\n",
    "$$\n",
    "\\sum_{c \\in C} { \\mathbf{v}^\\ip_c } = 1\n",
    "$$\n",
    "\n",
    "This means that the indicators in $\\mathbf{v}$ are perfectly collinear with the \"constant\" attribute 1 in each example\n",
    "representing the intercept term, e.g, $\\x_0$."
   ]
  },
  {
   "cell_type": "markdown",
   "metadata": {
    "slideshow": {
     "slide_type": "subslide"
    }
   },
   "source": [
    "$\n",
    "  \\X'' = \\begin{pmatrix}\n",
    "  \\mathbf{const} & \\mathbf{Is Red} & \\mathbf{Is Green} & \\mathbf{Is Blue}\\\\\n",
    "  1 &  1 & 0 & 0 \\\\ \n",
    "  1 &  0 & 0 & 1\\\\ \n",
    "  1 &  0 & 1 & 0 \\\\ \n",
    "   \\vdots \\\\\n",
    "  \\end{pmatrix}\n",
    "$"
   ]
  },
  {
   "cell_type": "markdown",
   "metadata": {
    "slideshow": {
     "slide_type": "slide"
    }
   },
   "source": [
    "When one feature (e.g., the constant) is equal to a linear combination of some other features, this is\n",
    "called Perfect Multi-collinearity.\n",
    "\n",
    "Linear Regression has mathematical issues with Perfect Multi-colinearity (or even with Imperfect Multi-collinearity).\n",
    "\n",
    "This manifests itself as \n",
    "- some variables with huge positive parameter values (e.g., $\\Theta_{Red}, \\Theta_{Blue}$)\n",
    "- and other variables with huge (offsetting) negative parameter values (e.g., $\\Theta_{Green}$)."
   ]
  },
  {
   "cell_type": "markdown",
   "metadata": {
    "slideshow": {
     "slide_type": "slide"
    }
   },
   "source": [
    "Regularization skirts the issue by enforcing a constraint that restricts large values for parameters.\n",
    "\n",
    "By turning the parameter value of one indicator in a class to $0$, we effectively eliminate\n",
    "1 indicator and avoid perfect collinearity."
   ]
  },
  {
   "cell_type": "markdown",
   "metadata": {
    "slideshow": {
     "slide_type": "slide"
    }
   },
   "source": [
    "So where did we get lucky in our two versions of Tittanic ?\n",
    "- In the first version, a binary variable for `Sex` is  same as $||C|| -1$ indicators since $||C|| = 2$\n",
    "- In the second version, with a full set of indicators for `Sex` (2) and `Pclass` (3)\n",
    "    - `LogisticRegression` defaults to a regularized cost function\n",
    "\n",
    "So by luck or design, we avoided any potential Dummay Variable Trap issues."
   ]
  },
  {
   "cell_type": "code",
   "execution_count": 48,
   "metadata": {
    "slideshow": {
     "slide_type": "slide"
    }
   },
   "outputs": [
    {
     "name": "stdout",
     "output_type": "stream",
     "text": [
      "Done\n"
     ]
    }
   ],
   "source": [
    "print(\"Done\")"
   ]
  }
 ],
 "metadata": {
  "celltoolbar": "Slideshow",
  "kernelspec": {
   "display_name": "Python 3",
   "language": "python",
   "name": "python3"
  },
  "language_info": {
   "codemirror_mode": {
    "name": "ipython",
    "version": 3
   },
   "file_extension": ".py",
   "mimetype": "text/x-python",
   "name": "python",
   "nbconvert_exporter": "python",
   "pygments_lexer": "ipython3",
   "version": "3.7.4"
  },
  "toc": {
   "base_numbering": 1,
   "nav_menu": {},
   "number_sections": true,
   "sideBar": true,
   "skip_h1_title": false,
   "title_cell": "Table of Contents",
   "title_sidebar": "Contents",
   "toc_cell": false,
   "toc_position": {
    "height": "calc(100% - 180px)",
    "left": "10px",
    "top": "150px",
    "width": "368px"
   },
   "toc_section_display": true,
   "toc_window_display": true
  }
 },
 "nbformat": 4,
 "nbformat_minor": 2
}
