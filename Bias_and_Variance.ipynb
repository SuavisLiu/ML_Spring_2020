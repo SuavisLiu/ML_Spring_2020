{
 "cells": [
  {
   "cell_type": "code",
   "execution_count": 1,
   "metadata": {
    "slideshow": {
     "slide_type": "notes"
    }
   },
   "outputs": [
    {
     "data": {
      "text/latex": [
       "$$\n",
       "\\newcommand{\\x}{\\mathbf{x}}\n",
       "\\newcommand{\\tx}{\\tilde{\\x}}\n",
       "\\newcommand{\\y}{\\mathbf{y}}\n",
       "\\newcommand{\\b}{\\mathbf{b}}\n",
       "\\newcommand{\\c}{\\mathbf{c}}\n",
       "\\newcommand{\\e}{\\mathbf{e}}\n",
       "\\newcommand{\\z}{\\mathbf{z}}\n",
       "\\newcommand{\\h}{\\mathbf{h}}\n",
       "\\newcommand{\\w}{\\mathbf{w}}\n",
       "\\newcommand{\\W}{\\mathbf{W}}\n",
       "\\newcommand{\\X}{\\mathbf{X}}\n",
       "\\newcommand{\\KL}{\\mathbf{KL}}\n",
       "\\newcommand{\\E}{{\\mathbb{E}}}\n",
       "\\newcommand{\\ip}{\\mathbf{{(i)}}}\n",
       "% \\ll indexes a layer; we can change the actual letter\n",
       "\\newcommand{\\ll}{l}\n",
       "\\newcommand{\\llp}{{(\\ll)}}\n",
       "%\n",
       "% \\tt indexes a time step\n",
       "\\newcommand{\\tt}{t}\n",
       "\\newcommand{\\tp}{{(\\tt)}}\n",
       "%\n",
       "\\newcommand{\\loss}{\\mathcal{L}}\n",
       "\\newcommand{\\cost}{\\mathcal{L}}\n",
       "%\n",
       "%                     \n",
       "\\newcommand{\\pdata}{p_\\text{data}}\n",
       "\\newcommand{\\pmodel}{p_\\text{model}}\n",
       "%\n",
       "% Functions with arguments\n",
       "\\def\\xsy#1#2{#1^#2}\n",
       "\\def\\rand#1{\\tilde{#1}}\n",
       "\\def\\randx{\\rand{\\x}}\n",
       "\\def\\randy{\\rand{\\y}}\n",
       "%\n",
       "\\def\\argmax#1{\\underset{#1} {\\operatorname{argmax}} }\n",
       "\\def\\argmin#1{\\underset{#1} {\\operatorname{argmin}} }\n",
       "\\def\\max#1{\\underset{#1} {\\operatorname{max}} }\n",
       "\\def\\min#1{\\underset{#1} {\\operatorname{min}} }\n",
       "%\n",
       "\\def\\pr#1{\\mathcal{p}(#1)}\n",
       "\\def\\cnt#1{\\mathcal{count}_{#1}}\n",
       "\\def\\node#1{\\mathbb{#1}}\n",
       "%\n",
       "\\newcommand{\\floor}[1]{\\left\\lfloor #1 \\right\\rfloor}\n",
       "\\newcommand{\\ceil}[1]{\\left\\lceil #1 \\right\\rceil}\n",
       "%\n",
       "\n",
       "$$\n"
      ],
      "text/plain": [
       "<IPython.core.display.Latex object>"
      ]
     },
     "metadata": {},
     "output_type": "display_data"
    },
    {
     "name": "stdout",
     "output_type": "stream",
     "text": [
      "Macro `_latex_std_` created. To execute, type its name (without quotes).\n",
      "=== Macro contents: ===\n",
      "get_ipython().run_line_magic('run', 'Latex_macros.ipynb')\n",
      " no stored variable _latex_std_\n"
     ]
    }
   ],
   "source": [
    "%run Latex_macros.ipynb"
   ]
  },
  {
   "cell_type": "code",
   "execution_count": 2,
   "metadata": {
    "slideshow": {
     "slide_type": "notes"
    }
   },
   "outputs": [],
   "source": [
    "# My standard magic !  You will see this in almost all my notebooks.\n",
    "\n",
    "from IPython.core.interactiveshell import InteractiveShell\n",
    "InteractiveShell.ast_node_interactivity = \"all\"\n",
    "\n",
    "# Reload all modules imported with %aimport\n",
    "%load_ext autoreload\n",
    "%autoreload 1\n",
    "\n",
    "%matplotlib inline"
   ]
  },
  {
   "cell_type": "code",
   "execution_count": 3,
   "metadata": {
    "slideshow": {
     "slide_type": "notes"
    }
   },
   "outputs": [],
   "source": [
    "import numpy as np\n",
    "import pandas as pd\n",
    "import matplotlib.pyplot as plt\n",
    "         \n",
    "    \n",
    "from sklearn import datasets, linear_model\n",
    "from sklearn.metrics import mean_squared_error, r2_score\n",
    "\n",
    "import recipe_helper\n",
    "%aimport recipe_helper\n"
   ]
  },
  {
   "cell_type": "markdown",
   "metadata": {
    "slideshow": {
     "slide_type": "slide"
    }
   },
   "source": [
    "# When to stop improving: the Bias/Variance tradeoff\n",
    "\n",
    "In our Linear Regression model\n",
    "we had great sucess when we created second order polynomial features.\n",
    "\n",
    "We stopped adding features at order 2 because we achieved a perfect in-sample fit.\n",
    "\n",
    "But if we hadn't: we would not worsen the in-sample fit by continuing to add higher order features.\n",
    "\n",
    "So why not continue to add ?"
   ]
  },
  {
   "cell_type": "markdown",
   "metadata": {
    "slideshow": {
     "slide_type": "subslide"
    }
   },
   "source": [
    "Let's illustrate the problem: we'll use our first \"linear\" dataset, but corrupt one point.\n",
    "\n",
    "This might occur, for example, because of a measurement error."
   ]
  },
  {
   "cell_type": "code",
   "execution_count": 75,
   "metadata": {
    "scrolled": true,
    "slideshow": {
     "slide_type": "subslide"
    }
   },
   "outputs": [
    {
     "data": {
      "image/png": "[encoded data removed]",
      "text/plain": [
       "<Figure size 432x288 with 1 Axes>"
      ]
     },
     "metadata": {
      "needs_background": "light"
     },
     "output_type": "display_data"
    }
   ],
   "source": [
    "(xlabel, ylabel) = (\"Size\", \"Price Premium\")\n",
    "\n",
    "v1, a1 = 1, .005\n",
    "lin = recipe_helper.Recipe_Helper(v = v1, a = a1)\n",
    "X_lin, y_lin = lin.gen_data(num=50)\n",
    "\n",
    "bad = recipe_helper.Recipe_Helper(v = v1, a = 0)\n",
    "X_bad, y_bad = bad.gen_data(num=50)\n",
    "\n",
    "bad_idx = 0\n",
    "bad.y[bad_idx] = bad.y[bad_idx] * 5\n",
    "_ = bad.gen_plot(bad.X, bad.y, xlabel, ylabel)"
   ]
  },
  {
   "cell_type": "markdown",
   "metadata": {
    "slideshow": {
     "slide_type": "subslide"
    }
   },
   "source": [
    "<div class=\"alert alert-block alert-success\">\n",
    "<b>TIP</b>\n",
    "\n",
    "- The time to discover a potential \"problem\" in the data is during Exploratory Data Analysis\n",
    "- The time to *avoid* the problem is during Prepare the Data: Cleaning\n",
    "    - We will show various ways to deal with suspect data\n",
    "- For now: let's deal with the data as is \n",
    "</div>  "
   ]
  },
  {
   "cell_type": "markdown",
   "metadata": {
    "slideshow": {
     "slide_type": "subslide"
    }
   },
   "source": [
    "Let's fit a simple linear model (degree 1) and a more complex model (degree 7)"
   ]
  },
  {
   "cell_type": "code",
   "execution_count": 74,
   "metadata": {
    "slideshow": {
     "slide_type": "subslide"
    }
   },
   "outputs": [
    {
     "data": {
      "image/png": "[encoded data removed]",
      "text/plain": [
       "<Figure size 864x288 with 2 Axes>"
      ]
     },
     "metadata": {
      "needs_background": "light"
     },
     "output_type": "display_data"
    },
    {
     "data": {
      "image/png": "[encoded data removed]",
      "text/plain": [
       "<Figure size 864x288 with 2 Axes>"
      ]
     },
     "metadata": {
      "needs_background": "light"
     },
     "output_type": "display_data"
    }
   ],
   "source": [
    "from sklearn.pipeline import make_pipeline\n",
    "\n",
    "for degree in [1, 7]:\n",
    "    poly_model = make_pipeline(PolynomialFeatures(degree),\n",
    "                               linear_model.LinearRegression())\n",
    "\n",
    "    _= bad.run_regress(bad.X, bad.y, model=poly_model, print_summary=False)"
   ]
  },
  {
   "cell_type": "markdown",
   "metadata": {
    "slideshow": {
     "slide_type": "subslide"
    }
   },
   "source": [
    "In-sample (training) the Performance Metric decreases with increased model complexity.\n",
    "\n",
    "But our ultimate goal, the out of sample Performance Metric, is worse.\n",
    "\n",
    "The more complex model ignores the true linear relationship in a quest to match the training data."
   ]
  },
  {
   "cell_type": "markdown",
   "metadata": {
    "slideshow": {
     "slide_type": "slide"
    }
   },
   "source": [
    "If you add features, you might get a training fit which is better numerically but\n",
    "also misses the essence.\n",
    "\n",
    "Here is an even more extreme example: fitting a simple to describe function ($\\textrm{sin}(x)$)\n",
    "with a complex polynomial.\n",
    "\n",
    "It can be done, but we really are forcing a square peg into a round hole.\n"
   ]
  },
  {
   "cell_type": "code",
   "execution_count": 4,
   "metadata": {
    "slideshow": {
     "slide_type": "subslide"
    }
   },
   "outputs": [],
   "source": [
    "# Fit a higher order (degree) polynomial\n",
    "xfit = np.linspace(0, 10, 1000)\n",
    "\n",
    "from sklearn.preprocessing import PolynomialFeatures\n",
    "\n",
    "from sklearn.pipeline import make_pipeline\n",
    "degree = 7\n",
    "poly_model = make_pipeline(PolynomialFeatures(degree),\n",
    "                           linear_model.LinearRegression())\n",
    "rng = np.random.RandomState(1)\n",
    "x = 10 * rng.rand(50)\n",
    "y = np.sin(x) + 0.1 * rng.randn(50)\n",
    "\n",
    "_= poly_model.fit(x[:, np.newaxis], y)"
   ]
  },
  {
   "cell_type": "code",
   "execution_count": 5,
   "metadata": {},
   "outputs": [
    {
     "data": {
      "image/png": "[encoded data removed]",
      "text/plain": [
       "<Figure size 432x288 with 1 Axes>"
      ]
     },
     "metadata": {
      "needs_background": "light"
     },
     "output_type": "display_data"
    }
   ],
   "source": [
    "# Plot the fit of the high order polynomial\n",
    "yfit = poly_model.predict(xfit[:, np.newaxis])\n",
    "\n",
    "_= plt.scatter(x, y, label=\"data\")\n",
    "_= plt.plot(xfit, yfit, label=\"fit\");\n",
    "_= plt.title(\"Order 7 polynomial fit\")\n",
    "_= plt.legend()\n"
   ]
  },
  {
   "cell_type": "markdown",
   "metadata": {
    "slideshow": {
     "slide_type": "subslide"
    }
   },
   "source": [
    "Even worse:  suppose the data's true functional form was simple, but there were a handful\n",
    "of \"noisy\" mis-measured target values.\n",
    "\n",
    "Giving ourselves the freedom of adding an arbitrary number of features would cause\n",
    "us to alter the fit in order to match the \"noise\" rather than the true functional forms.\n",
    "\n",
    "This would likely lead to worse generalization."
   ]
  },
  {
   "cell_type": "markdown",
   "metadata": {
    "slideshow": {
     "slide_type": "slide"
    }
   },
   "source": [
    "By adding more features, we can improve the in-sample Performance Metric\n",
    "- eventually we can \"memorize\" the training set\n",
    "- but out of sample generaliation would likely suffer\n",
    "- this is called *overfitting* or *high variance*\n",
    "\n",
    "Alternatively, we might find the out of sample Performance Metric better than in-sample!\n",
    "- this indicates that there is unrealized potential in the training data\n",
    "- this is called *underfitting* or *high bias*"
   ]
  },
  {
   "cell_type": "markdown",
   "metadata": {
    "slideshow": {
     "slide_type": "subslide"
    }
   },
   "source": [
    "\n",
    "*Overfitting* is a problem because it means that $\\Theta$ has been made overly sensitive to the training examples.\n",
    "\n",
    "It is unlikely to generalize (i.e., predict out of sample) well.\n",
    "\n",
    "*Underfitting* is a problem because it means your model may be able to be improved\n",
    "\n",
    "Let's see how to deterimine whether we have an overfitting or underfitting problem."
   ]
  },
  {
   "cell_type": "markdown",
   "metadata": {
    "slideshow": {
     "slide_type": "subslide"
    }
   },
   "source": [
    "\n",
    "We can quantify these concepts in terms of the relationship between the Training Error and the Validation Error."
   ]
  },
  {
   "cell_type": "markdown",
   "metadata": {
    "slideshow": {
     "slide_type": "subslide"
    }
   },
   "source": [
    "## High Variance\n",
    "- if Training Error $<<$ Validation Error\n",
    "    - overfit: poor generalization out of sample\n",
    "        - model may be too complex relative to quantity of Training Data\n",
    "            - simplify model (fewer parameters)\n",
    "            - use regularization to reduce number of non-zero parameters\n",
    "            - increase Training Data (e.g., data augmentation)"
   ]
  },
  {
   "cell_type": "markdown",
   "metadata": {
    "slideshow": {
     "slide_type": "subslide"
    }
   },
   "source": [
    "## High Bias\n",
    "- if Training Error $>$ Validation Error or Training Error seems \"high\"\n",
    "    - underfit: sub-optimal performance in sample\n",
    "        - try a more complex (more parameters) model\n",
    "        - train model longer (assuming optimization via search, rather than closed form solution)\n",
    "        - what is \"high\" ? Compare to a baseline model"
   ]
  },
  {
   "cell_type": "markdown",
   "metadata": {
    "slideshow": {
     "slide_type": "slide"
    }
   },
   "source": [
    "## Regularization: reducing overfitting\n",
    "What can we do to combat over-fitting ?\n",
    "\n",
    "Recall that LinearRegression model is optimizing a Loss Function $\\loss$\n",
    "which was initially identical to the performance metric MSE in our example.\n",
    "\n",
    "We will create a *weighted penalty* term \n",
    "\n",
    "$$P = \\alpha Q$$\n",
    "where $Q$ is a function of $\\Theta$ in order to impose a cost on using too many degrees of freedom."
   ]
  },
  {
   "cell_type": "markdown",
   "metadata": {
    "slideshow": {
     "slide_type": "subslide"
    }
   },
   "source": [
    "The new loss function becomes\n",
    "$$\n",
    "\\loss' = \\loss + \\alpha Q\n",
    "$$\n",
    "\n",
    "The weight $\\alpha$ balances the original Cost fuction with the penalty.\n",
    "\n",
    "Observe that the new Loss function is **no longer identical** to the performance metric, which\n",
    "remains unchanged.\n",
    "\n",
    "We'll show several modified Regression models and identify the penalty used."
   ]
  },
  {
   "cell_type": "markdown",
   "metadata": {
    "slideshow": {
     "slide_type": "subslide"
    }
   },
   "source": [
    "### [Ridge Regression](external/PythonDataScienceHandbook/notebooks/05.06-Linear-Regression.ipynb#Ridge-regression-%28$L_2$-Regularization%29)\n",
    "\n",
    "Penalty is: sum (over parameters) of squared parameter value\n",
    "\n",
    "$$\n",
    "P = \\alpha\\sum_{n=1}^N \\theta_n^2\n",
    "$$\n",
    "\n",
    "Also known as $L_2$ regularizer.\n",
    "\n",
    "This tends to push parameters $\\theta_n$ towards smaller values."
   ]
  },
  {
   "cell_type": "markdown",
   "metadata": {
    "slideshow": {
     "slide_type": "subslide"
    }
   },
   "source": [
    "### [Lasso Regression][1]\n",
    "[1]: external/PythonDataScienceHandbook/notebooks/05.06-Linear-Regression.ipynb#Lasso-regression-($L_1$-regularization)\n",
    "\n",
    "\n",
    "Penalty is: sum (over parameters) of parameter's absolute value\n",
    "$$\n",
    "P = \\alpha\\sum_{n=1}^N |\\theta_n|\n",
    "$$\n",
    "\n",
    "Also know as the $L_1$ regularizer.\n",
    "\n",
    "This tends to push parameters $\\theta_n$ towards 0"
   ]
  },
  {
   "cell_type": "markdown",
   "metadata": {
    "slideshow": {
     "slide_type": "subslide"
    }
   },
   "source": [
    "<div class=\"alert alert-block alert-success\">\n",
    "    <b>TIP</b> \n",
    "\n",
    "- Know your Cost Function !  \n",
    "    - This is what is driving your model's fitting process.  Does it make sense for your problem ?\n",
    "\n",
    "- Don't try to force a square peg into a round hole.\n",
    "</div>\n"
   ]
  },
  {
   "cell_type": "markdown",
   "metadata": {
    "slideshow": {
     "slide_type": "slide"
    }
   },
   "source": [
    "# Error Analysis\n",
    "\n",
    "**Error analysis diagram should be on TEST and performance metric, vs train and loss**\n",
    "\n",
    "**Conditional** loss can be used to justify understanding loss for fitting\n",
    "- e.g., imbalanced data focus optimizer on majority class"
   ]
  },
  {
   "cell_type": "markdown",
   "metadata": {
    "slideshow": {
     "slide_type": "subslide"
    }
   },
   "source": [
    "<table>\n",
    "    <tr>\n",
    "        <th><center>Error analysis: conditional loss</center></th>\n",
    "    </tr>\n",
    "    <tr>\n",
    "        <td><img src=\"images/Intro_error_analysis_1.jpg\"</td>\n",
    "    </tr>\n",
    "</table>\n",
    "​"
   ]
  },
  {
   "cell_type": "code",
   "execution_count": 6,
   "metadata": {
    "slideshow": {
     "slide_type": "slide"
    }
   },
   "outputs": [
    {
     "name": "stdout",
     "output_type": "stream",
     "text": [
      "Done !\n"
     ]
    }
   ],
   "source": [
    "print(\"Done !\")"
   ]
  },
  {
   "cell_type": "markdown",
   "metadata": {},
   "source": [
    "# Extra: try adding noise and using higher order polynomial to show danger of overfitting"
   ]
  }
 ],
 "metadata": {
  "celltoolbar": "Slideshow",
  "kernelspec": {
   "display_name": "Python 3",
   "language": "python",
   "name": "python3"
  },
  "language_info": {
   "codemirror_mode": {
    "name": "ipython",
    "version": 3
   },
   "file_extension": ".py",
   "mimetype": "text/x-python",
   "name": "python",
   "nbconvert_exporter": "python",
   "pygments_lexer": "ipython3",
   "version": "3.7.4"
  },
  "toc": {
   "base_numbering": 1,
   "nav_menu": {},
   "number_sections": true,
   "sideBar": true,
   "skip_h1_title": false,
   "title_cell": "Table of Contents",
   "title_sidebar": "Contents",
   "toc_cell": false,
   "toc_position": {},
   "toc_section_display": true,
   "toc_window_display": true
  }
 },
 "nbformat": 4,
 "nbformat_minor": 2
}
