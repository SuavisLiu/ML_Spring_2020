{
 "cells": [
  {
   "cell_type": "code",
   "execution_count": 1,
   "metadata": {
    "slideshow": {
     "slide_type": "notes"
    }
   },
   "outputs": [
    {
     "data": {
      "text/latex": [
       "$$\n",
       "\\newcommand{\\x}{\\mathbf{x}}\n",
       "\\newcommand{\\tx}{\\tilde{\\x}}\n",
       "\\newcommand{\\y}{\\mathbf{y}}\n",
       "\\newcommand{\\b}{\\mathbf{b}}\n",
       "\\newcommand{\\c}{\\mathbf{c}}\n",
       "\\newcommand{\\e}{\\mathbf{e}}\n",
       "\\newcommand{\\z}{\\mathbf{z}}\n",
       "\\newcommand{\\h}{\\mathbf{h}}\n",
       "\\newcommand{\\u}{\\mathbf{u}}\n",
       "\\newcommand{\\v}{\\mathbf{v}}\n",
       "\\newcommand{\\w}{\\mathbf{w}}\n",
       "\\newcommand{\\W}{\\mathbf{W}}\n",
       "\\newcommand{\\X}{\\mathbf{X}}\n",
       "\\newcommand{\\KL}{\\mathbf{KL}}\n",
       "\\newcommand{\\E}{{\\mathbb{E}}}\n",
       "\\newcommand{\\ip}{\\mathbf{{(i)}}}\n",
       "%\n",
       "% Test set\n",
       "\\newcommand{\\xt}{\\underline{\\x}}\n",
       "\\newcommand{\\yt}{\\underline{\\y}}\n",
       "\\newcommand{\\Xt}{\\underline{\\X}}\n",
       "\\newcommand{\\perfm}{\\mathcal{P}}\n",
       "%\n",
       "% \\ll indexes a layer; we can change the actual letter\n",
       "\\newcommand{\\ll}{l}\n",
       "\\newcommand{\\llp}{{(\\ll)}}\n",
       "%\n",
       "\\newcommand{Thetam}{\\Theta_{-0}}\n",
       "\n",
       "% CNN\n",
       "\\newcommand{\\kernel}{\\mathbf{k}} \n",
       "\\newcommand{\\dim}{d}\n",
       "%\n",
       "%\n",
       "% \\tt indexes a time step\n",
       "\\newcommand{\\tt}{t}\n",
       "\\newcommand{\\tp}{{(\\tt)}}\n",
       "%\n",
       "\\newcommand{\\loss}{\\mathcal{L}}\n",
       "\\newcommand{\\cost}{\\mathcal{L}}\n",
       "%\n",
       "%                     \n",
       "\\newcommand{\\pdata}{p_\\text{data}}\n",
       "\\newcommand{\\pmodel}{p_\\text{model}}\n",
       "%\n",
       "% SVM\n",
       "\\newcommand{\\margin}{{\\mathbb{m}}}\n",
       "\\newcommand{\\lmk}{\\boldsymbol{\\ell}}\n",
       "%\n",
       "% Functions with arguments\n",
       "\\def\\xsy#1#2{#1^#2}\n",
       "\\def\\rand#1{\\tilde{#1}}\n",
       "\\def\\randx{\\rand{\\x}}\n",
       "\\def\\randy{\\rand{\\y}}\n",
       "\\def\\trans#1{\\dot{#1}}\n",
       "\\def\\transx{\\trans{\\x}}\n",
       "\\def\\transy{\\trans{\\y}}\n",
       "%\n",
       "\\def\\argmax#1{\\underset{#1} {\\operatorname{argmax}} }\n",
       "\\def\\argmin#1{\\underset{#1} {\\operatorname{argmin}} }\n",
       "\\def\\max#1{\\underset{#1} {\\operatorname{max}} }\n",
       "\\def\\min#1{\\underset{#1} {\\operatorname{min}} }\n",
       "%\n",
       "\\def\\pr#1{\\mathcal{p}(#1)}\n",
       "\\def\\prc#1#2{\\mathcal{p}(#1 \\; | \\; #2)}\n",
       "\\def\\cnt#1{\\mathcal{count}_{#1}}\n",
       "\\def\\node#1{\\mathbb{#1}}\n",
       "%\n",
       "\\newcommand{\\floor}[1]{\\left\\lfloor #1 \\right\\rfloor}\n",
       "\\newcommand{\\ceil}[1]{\\left\\lceil #1 \\right\\rceil}\n",
       "%\n",
       "\\def\\loc#1{{\\text{##} {#1}}}\n",
       "%\n",
       "$$\n"
      ],
      "text/plain": [
       "<IPython.core.display.Latex object>"
      ]
     },
     "metadata": {},
     "output_type": "display_data"
    }
   ],
   "source": [
    "%run Latex_macros.ipynb"
   ]
  },
  {
   "cell_type": "markdown",
   "metadata": {
    "slideshow": {
     "slide_type": "slide"
    }
   },
   "source": [
    "# Back propagation through time (BPTT)\n",
    "\n",
    "<div class=\"alert alert-block alert-warning\">\n",
    "    <b>TL;DR</b> \n",
    "    <br>\n",
    "    <ul>\n",
    "        <li>We can \"unroll\" the RNN into a sequence of layers, one per time step</li>\n",
    "        <li>In theory: Back Propagation on the unrolled RNN is the same as for a non-Recurrent Network</li>\n",
    "        <li>In practice: the unrolled RNN is very deep, which causes issues in Back Propagation.\n",
    "    </ul>\n",
    "</div>\n"
   ]
  },
  {
   "cell_type": "markdown",
   "metadata": {
    "slideshow": {
     "slide_type": "subslide"
    }
   },
   "source": [
    "*Back Propagation Through Time (BPTT)* refers to\n",
    "- unrolling the RNN computation into a sequence of layers\n",
    "- performing ordinary Back Propagation in order to update weights"
   ]
  },
  {
   "cell_type": "markdown",
   "metadata": {
    "slideshow": {
     "slide_type": "slide"
    }
   },
   "source": [
    "- In a non-Recurrent network:\n",
    "    - $\\W_\\llp$, the weights of layer $\\ll$, affect only layers $\\ll$ and greater.\n",
    "    - This means the backward flow of the gradient with respect to $\\W_\\llp$ stops at layer $\\ll$.\n",
    "- In  Recurrent Network:\n",
    "    - All unrolled \"layers\" share the *same* weights\n",
    "    - This means the gradients with respect to shared weight $\\W$ must flow backward all the way to the input layer at time $0$.\n",
    "    "
   ]
  },
  {
   "cell_type": "markdown",
   "metadata": {
    "slideshow": {
     "slide_type": "subslide"
    }
   },
   "source": [
    "<table>\n",
    "    <tr>\n",
    "        <th><center>RNN Loss: Forward pass</center></th>\n",
    "    </tr>\n",
    "    <tr>\n",
    "        <td><img src=images/RNN_layer_loss.png></td>\n",
    "    </tr>\n",
    "</table>"
   ]
  },
  {
   "cell_type": "markdown",
   "metadata": {
    "slideshow": {
     "slide_type": "subslide"
    }
   },
   "source": [
    "<table>\n",
    "    <tr>\n",
    "        <th><center>RNN Loss: Backward pass</center></th>\n",
    "    </tr>\n",
    "    <tr>\n",
    "        <td><img src=\"images/RNN_layer_loss_gradient.png\"></td>\n",
    "    </tr>\n",
    "</table>"
   ]
  },
  {
   "cell_type": "markdown",
   "metadata": {
    "slideshow": {
     "slide_type": "slide"
    }
   },
   "source": [
    "The unrolled graph is as deep as the length of $\\x^\\ip$ ($T^\\ip = |\\x^\\ip|)$ \n",
    "- weights can update only after $T^\\ip$ input values have been processed,\n",
    "so training can be slow.\n",
    "- Vanishing Gradients become a concern for large $T^\\ip$\n",
    "    - Recall from the Vanishing Gradient lecture: magnitude of gradients diminishes from layer $\\ll$ to layer $(\\ll-1)$ during back propagation"
   ]
  },
  {
   "cell_type": "markdown",
   "metadata": {
    "slideshow": {
     "slide_type": "slide"
    }
   },
   "source": [
    "## Calculating gradients with BPTT\n",
    "\n",
    "### Back propagation: Refresher\n",
    "\n",
    "The same math that we used to show how to obtain derivatives (for weight updates in Gradient Descent)\n",
    "will apply to RNN's."
   ]
  },
  {
   "cell_type": "markdown",
   "metadata": {
    "slideshow": {
     "slide_type": "slide"
    }
   },
   "source": [
    "To refresh our memory on notation and results, recall our derivation of back propagation:\n",
    "\n",
    "Layer $\\ll$:\n",
    "- input/output relation of layer $\\ll$ as\n",
    "$$\n",
    "\\y_{(\\ll)} = a_{(\\ll)}( f_{(\\ll)}( \\y_{(\\ll-1)}, \\W_{(\\ll)}) )\n",
    "$$\n",
    "\n",
    "for\n",
    "- activation function $a_\\llp$\n",
    "- weights $\\W_\\llp$\n",
    "- $\\y_{(\\ll-1)}$ are the outputs of the previous layer\n",
    "\n",
    "- $f_{(\\ll)}$ is the function computed by layer $\\ll$\n",
    "    - function of input $\\y_{(\\ll-1)}$ and weights $\\W_\\llp$\n",
    "    - e.g., `Dense`: $f_{(\\ll)}( \\y_{(\\ll-1)}, \\W_{(\\ll)}) = \\y_\\llp = \\W_\\llp \\y_{(\\ll-1)} + \\b_\\llp$\n",
    "\n",
    "**Note** We neglect to add $\\b_\\llp$ as an argument to $f_\\llp$ to simplify notation\n",
    "- as a convenience we sometimes view $\\b_\\llp$ as being part of $\\W_\\llp$"
   ]
  },
  {
   "cell_type": "markdown",
   "metadata": {
    "slideshow": {
     "slide_type": "slide"
    }
   },
   "source": [
    "Let \n",
    "- $\\loss$ denote loss (computed after final layer $L$)\n",
    "- $\\loss'_\\llp = \\frac{\\partial \\loss}{\\partial y_\\llp}$ denote the derivative of $\\loss$ with respect to the output of layer $\\ll$, i.e., $y_\\llp$,\n",
    "    - refer to as **loss gradient** (at output of layer $\\ll$)\n",
    "    "
   ]
  },
  {
   "cell_type": "markdown",
   "metadata": {
    "slideshow": {
     "slide_type": "subslide"
    }
   },
   "source": [
    "We showed how to compute\n",
    "- $\\loss'_{(\\ll-1)}$ from $\\loss'_\\ll$ \n",
    "    - so that we can continue this process as the previous layer (i.e, *propogate loss gradient backwards*)\n",
    "\n",
    "and we showed how to compute the weight update\n",
    "- $\\frac{\\partial \\loss}{\\partial W_\\llp}$, from $\\loss'_\\llp$  for $\\ll \\in [1,L]$"
   ]
  },
  {
   "cell_type": "markdown",
   "metadata": {
    "slideshow": {
     "slide_type": "subslide"
    }
   },
   "source": [
    "Note that $\\y_\\llp$ is a function of \n",
    "- $\\y_{(\\ll-1)}$ (the output of the previous layer) \n",
    "- and $\\W_\\llp$, the parameters of layer $\\ll$.\n",
    "\n",
    "We can compute derivatives of $\\y_\\llp$ with respect to each of its inputs\n",
    "- $\\frac{\\partial \\y_\\llp}{\\partial \\y_{(\\ll-1)}}$\n",
    "- $\\frac{\\partial \\y_\\llp}{\\partial \\W_\\llp}$\n",
    "\n",
    "Refer to these as **local gradients**"
   ]
  },
  {
   "cell_type": "markdown",
   "metadata": {
    "slideshow": {
     "slide_type": "subslide"
    }
   },
   "source": [
    "We used the chain rule to obtain the \n",
    "- gradient with respect to weights $\\W_\\llp$, given the loss gradient $\\loss'_\\llp$ \n",
    "\n",
    "$$\n",
    "\\begin{array}[lll] \\\\\n",
    "\\frac{\\partial \\loss}{\\partial \\W_\\llp} & = & \\frac{\\partial \\loss}{\\partial \\y_\\llp} \\frac{\\partial \\y_\\llp}{\\partial \\W_\\llp} & = & \\loss'_\\llp \\frac{\\partial \\y_\\llp}{\\partial \\W_\\llp}\n",
    "\\end{array}\n",
    "$$\n",
    "\n",
    "That is: \n",
    "- gradient of $\\loss$ with respect to weight $\\W_\\llp$ \n",
    "- is the loss gradient (at current step), multiplied by\n",
    "- a local gradient (with respect to input  $W_\\llp$ )\n",
    "\n",
    "So we have the information required to update $\\W_\\llp$ by Gradient Descent.\n"
   ]
  },
  {
   "cell_type": "markdown",
   "metadata": {
    "slideshow": {
     "slide_type": "subslide"
    }
   },
   "source": [
    "### BPTT: gradient calculation\n",
    "\n",
    "Let us adapt these results for the case of a *single layer* RNN\n",
    "- by \"unrolling\" this RNN, layer $\\ll$ is equated with \"time\" (of index into input sequence ) $\\tt$\n",
    "\n",
    "Per example loss $\\loss^\\ip$ is now a per example loss *per time step*\n",
    "$$\n",
    "\\loss^\\ip_\\tp\n",
    "$$\n",
    "so\n",
    "$$\n",
    "\\loss^\\ip = \\sum_{t=1}^T \\loss^\\ip_\\tp\n",
    "$$\n",
    "\n",
    "We will focus on the per example loss for a single time $\\loss^\\ip_\\tp$"
   ]
  },
  {
   "cell_type": "markdown",
   "metadata": {
    "slideshow": {
     "slide_type": "subslide"
    }
   },
   "source": [
    "​\n",
    "<table>\n",
    "    <tr>\n",
    "        <th><center>RNN Loss</center></th>\n",
    "    </tr>\n",
    "    <tr>\n",
    "        <td><img src=\"images/RNN_layer_loss.png\"></td>\n",
    "    </tr>\n",
    "</table>"
   ]
  },
  {
   "cell_type": "markdown",
   "metadata": {},
   "source": [
    "In order to compute \n",
    "$$\n",
    "\\frac{\\partial \\loss^\\ip}{\\partial \\W}\n",
    "$$\n",
    "we must compute\n",
    "$$\n",
    "\\frac{\\partial \\loss^\\ip_\\tp}{\\partial \\W}\n",
    "$$\n",
    "for each time $t$."
   ]
  },
  {
   "cell_type": "markdown",
   "metadata": {
    "slideshow": {
     "slide_type": "subslide"
    }
   },
   "source": [
    "As per regular backprop, we can obtain the loss update by\n",
    "multiplying the loss gradient by a local gradient\n",
    "\n",
    "$$\n",
    "\\frac{\\partial \\loss^\\ip_\\tp}{\\partial \\W}\n",
    "$$\n",
    "\n",
    "but note that we use unsubscripted $\\W$ (rather than $\\W_\\tp$ because the *same* $\\W$ is used at all timesteps."
   ]
  },
  {
   "cell_type": "markdown",
   "metadata": {
    "slideshow": {
     "slide_type": "subslide"
    }
   },
   "source": [
    "$$\n",
    "\\frac{\\partial \\loss^\\ip_\\tp}{\\partial \\W} = \\loss'_\\tp \\frac{\\partial \\y_\\tp}{\\partial W}\n",
    "$$\n",
    "\n",
    "but now \n",
    "$$\n",
    "\\frac{\\partial \\y_\\tp}{\\partial W}\n",
    "$$\n",
    "\n",
    "becomes more complicated, governed by the RNN Update equations"
   ]
  },
  {
   "cell_type": "markdown",
   "metadata": {
    "slideshow": {
     "slide_type": "subslide"
    }
   },
   "source": [
    "$$\n",
    "\\begin{array}[lll]\\\\\n",
    "\\h_\\tp & = & \\phi(\\W_{xh}\\x_\\tp  + \\W_{hh}\\h_{(t-1)}  + \\b_h) \\\\\n",
    "\\y_\\tp & = &  \\W_{hy} \\h_\\tp  + \\b_y \\\\\n",
    "\\end{array}\n",
    "$$\n",
    "\n",
    "**Notes**\n",
    "\n",
    "- In this section we will assume $\\phi$ is the identity function to simplify the presentation.\n",
    "\n",
    "    - There will be no loss of generality.\n",
    "- Recall that $\\W$ is the matrix with embedded sub-matrices $\\W_{xh}, \\W_{hh}, \\W_{hy}$\n",
    "    - For clarity: we will add subscripts to $\\W$ in the derivatives to show which part of $\\W$ is the cause."
   ]
  },
  {
   "cell_type": "markdown",
   "metadata": {
    "slideshow": {
     "slide_type": "subslide"
    }
   },
   "source": [
    "The equation defining $\\y_\\tp$\n",
    "$$\n",
    "\\y_\\tp  =   \\W_{hy} \\h_\\tp  + \\b_y \n",
    "$$\n",
    "\n",
    "shows that $\\y_\\tp$ is\n",
    "- directly depends on  $\\W$ (through $\\W_{hy}$ )\n",
    "- *and* indirectly depends on $\\W$  through its dependence on $h_\\tp$ (which depends on $\\W$)\n",
    "\n",
    "So\n",
    "$$\n",
    "\\frac{\\partial \\y^\\ip_\\tp}{\\partial \\W} = \n",
    "\\frac{\\partial \\y^\\ip_\\tp}{\\partial \\W_{hy}}\n",
    "+\n",
    "\\frac{\\partial \\y^\\ip_\\tp}{\\partial \\h_{(\\tt)} } \\frac{\\partial \\h_{(\\tt)}}{\\partial \\W_{hh}}\n",
    "$$"
   ]
  },
  {
   "cell_type": "markdown",
   "metadata": {
    "slideshow": {
     "slide_type": "subslide"
    }
   },
   "source": [
    "Let's expand the term\n",
    "$$\n",
    "\\frac{\\partial \\h_{(\\tt)}}{\\partial \\W_{hh}}\n",
    "$$\n",
    "\n",
    "Recall the recursive definition of $\\h_\\tp$ \n",
    "$$\n",
    "\\h_\\tp =  \\W_{xh}\\x_\\tp  + \\W_{hh}\\h_{(\\tt-1)}  + \\b_h\n",
    "$$\n",
    "\n",
    "$\\h_\\tp$ depends on $\\h_{(\\tt-1)}$, which by recursion depends on $\\h_{(\\tt-2)}$ which $\\ldots$ depends on $\\h_{(0)}$.\n",
    "- and all $\\h_\\tp$ share the *same* $\\W_{hh}$.\n",
    "\n",
    "This means that $\\h_\\tp$ depends on $\\W$ through *each* $\\h_{(\\tt-k)}$ for $k=1, \\ldots, \\tt$.\n",
    "$$\n",
    "\\frac{\\partial \\h_\\tp}{\\partial \\W_{hh}} = \n",
    "\\sum_{k=1}^{\\tt} { \n",
    " \\frac{\\partial \\h_\\tp}{\\partial \\h_{(\\tt -k)}}   \\frac{\\partial \\h_{(\\tt -k)}}{\\partial \\W_{hh}}   \n",
    "}\n",
    "$$"
   ]
  },
  {
   "cell_type": "markdown",
   "metadata": {
    "slideshow": {
     "slide_type": "subslide"
    }
   },
   "source": [
    "So \n",
    "\n",
    "$$\n",
    "\\frac{\\partial \\loss^\\ip_\\tp}{\\partial \\W} = \\loss'_\\tp \\frac{\\partial \\y_\\tp}{\\partial W}\n",
    "$$\n",
    "\n",
    "and\n",
    "$$\\frac{\\partial \\y^\\ip_\\tp}{\\partial W}$$\n",
    "*depends* on all time steps from $1$ to $t$.\n",
    "\n",
    "Thus, the derivative update for $\\W$ cannot be computed without the gradient (for each time step $t$)\n",
    "flowing all the way back to time step $0$.\n"
   ]
  },
  {
   "cell_type": "markdown",
   "metadata": {
    "slideshow": {
     "slide_type": "slide"
    }
   },
   "source": [
    "**Note**\n",
    "\n",
    "Directly expanding the recursion would show\n",
    "$$\n",
    "\\frac{\\partial \\h_\\tp}{\\partial \\h_{(\\tt -k)}} = \n",
    "\\prod_{k'=0}^{k-1} { \n",
    "\\frac{\\partial \\h_{(\\tt-k')}}{\\partial \\h_{(\\tt -k' -1)}}\n",
    "} \n",
    "$$\n",
    "\n",
    "It is not necessary now, but will be useful in explaining vanishing/exploding gradients"
   ]
  },
  {
   "cell_type": "markdown",
   "metadata": {
    "slideshow": {
     "slide_type": "subslide"
    }
   },
   "source": [
    "<table>\n",
    "    <tr>\n",
    "        <th><center>RNN Loss Gradient Flow</center></th>\n",
    "    </tr>\n",
    "    <tr>\n",
    "        <td><img src=\"images/RNN_layer_loss_gradient.png\"></td>\n",
    "    </tr>\n",
    "</table>"
   ]
  },
  {
   "cell_type": "markdown",
   "metadata": {
    "slideshow": {
     "slide_type": "slide"
    }
   },
   "source": [
    "## Truncated back progagation through time (TBTT)\n",
    "\n",
    "<div class=\"alert alert-block alert-warning\">\n",
    "    <b>TL;DR</b> \n",
    "    <br>\n",
    "    <ul>\n",
    "        <li>We \"unroll\" the RNN into a sequence of  T layers, one per time step</li>\n",
    "        <li>We compute the loss at each time step t, for t=1 to T.</li>\n",
    "        <li>The gradient of the loss of time step t flows backward for a limited number of time steps</li>\n",
    "        <ul>\n",
    "            <li>Rather than flowing backwards al the way to time step 0</li>\n",
    "        </ul>\n",
    "    </ul>\n",
    "</div>\n",
    "\n",
    "This is called *Truncated BPTT (TBPTT)*."
   ]
  },
  {
   "cell_type": "markdown",
   "metadata": {
    "slideshow": {
     "slide_type": "slide"
    }
   },
   "source": [
    "The advantage of TBPTT\n",
    "- more frequent gradient updates\n",
    "\n",
    "The disadvantage\n",
    "- the loss at step $t$ won't affect **all** previous time steps (because of truncation)\n",
    "- the error signal from time $\\tt$ does not affect any time steps below $\\tt - \\tau$.\n",
    "- this means the RNN has difficulty capturing dependencies longer than $\\tau$.\n",
    "\n",
    "Consider a long piece of text\n",
    "- The first few words indicate the gender/plurality/age of the subject\n",
    "- A mis-prediction of, e.g. gender, at word $\\tau' > \\tau$ causes an error at time step $\\tau'$\n",
    "    - which can't interact with the correct gender in the first few words\n"
   ]
  },
  {
   "cell_type": "markdown",
   "metadata": {
    "slideshow": {
     "slide_type": "subslide"
    }
   },
   "source": [
    "Note that there is *no truncation* of the forward pass of the RNN !\n",
    "\n",
    "Only gradient calculations are truncated."
   ]
  },
  {
   "cell_type": "markdown",
   "metadata": {
    "slideshow": {
     "slide_type": "slide"
    }
   },
   "source": [
    "### TBTT: Variations\n",
    "\n",
    "There are several ways to truncate the Back Propagation.\n",
    "\n",
    "We will describe them via a function $f(\\tt) = \\tt'$\n",
    "- describes the earliest time\n",
    "step affecting the gradient of $\\loss_\\tp$\n",
    "- that is, it describes the window $\\tau$"
   ]
  },
  {
   "cell_type": "markdown",
   "metadata": {
    "slideshow": {
     "slide_type": "subslide"
    }
   },
   "source": [
    "- Untruncated BPTT\n",
    "    - $f(\\tt) = 0$\n",
    "- k-truncated BPTT\n",
    "    - $f(\\tt) = \\max{}(0, \\tt -k)$\n",
    "- subsequence truncated BPTT\n",
    "    - $f(\\tt) = k * \\floor{\\tt/k}$"
   ]
  },
  {
   "cell_type": "markdown",
   "metadata": {
    "slideshow": {
     "slide_type": "subslide"
    }
   },
   "source": [
    "What we refer to as subsequence TBTT seems to be common\n",
    "- break long sequence $\\x^\\ip$ into subsequences (chunks) of size $k$\n",
    "- feed $\\x^\\ip$ forward as usual\n",
    "    - at the end of a subsequence: \n",
    "        - immediately compute the loss gradients for all time steps within the chunk\n"
   ]
  },
  {
   "cell_type": "markdown",
   "metadata": {
    "slideshow": {
     "slide_type": "slide"
    }
   },
   "source": [
    "# RNN vanishing/exploding gradient problem\n",
    "\n",
    "\n",
    "<div class=\"alert alert-block alert-warning\">\n",
    "    <b>TL;DR</b> \n",
    "    <br>\n",
    "    <ul>\n",
    "        <li>A \"single-layer RNN that has been unrolled for T time steps</li>\n",
    "        <ul>\n",
    "            <li>is mathematically equivalent to a simple NN with T layers</li>\n",
    "            <li><bold>BUT</bold> all layers share the same weights</li>\n",
    "        </ul>\n",
    "        <li>This sharing of weights leads to a problem of Vanishing/Exploding gradients</li>\n",
    "        <ul>\n",
    "            <li>Similar to the vanishing gradient problem we derived for simple NN</li>\n",
    "            <li>but with a different root cause (weight sharing)</li>\n",
    "        </ul>\n",
    "    </ul>\n",
    "</div>"
   ]
  },
  {
   "cell_type": "markdown",
   "metadata": {
    "slideshow": {
     "slide_type": "slide"
    }
   },
   "source": [
    "<div class=\"alert alert-block alert-warning\">\n",
    "    <b>TL;DR</b> \n",
    "    <br>\n",
    "    <ul>\n",
    "        <li>Why shared weights are different</li>\n",
    "        <ul>\n",
    "            <li>Output <bold>y</bold> at time t is a function of cell state h at time t</li>\n",
    "            <li>Cell state h at time t is recursively defined</li>\n",
    "            <ul>\n",
    "                <li>So it is a function of cell states over all times t' < t as well</li>\n",
    "                <li>This means the weight update involves a repeated product: (t -t') times</li>\n",
    "                <li>This product tends to 0 (vanishing) or infinity (explode) as (t -t') increases</li>\n",
    "            </ul>\n",
    "            <li>So losses at time step t have difficulty updating gradients for the distant past<</li>\n",
    "            <li>RNN has difficulty with long-term dependencies</li>   \n",
    "        </ul>\n",
    "    </ul>\n",
    "</div>"
   ]
  },
  {
   "cell_type": "markdown",
   "metadata": {
    "slideshow": {
     "slide_type": "subslide"
    }
   },
   "source": [
    "Returning to the loss gradient\n",
    "we encountered the terms\n",
    "\n",
    "$$\\frac{\\partial \\y^\\ip_\\tp}{\\partial \\W}$$"
   ]
  },
  {
   "cell_type": "markdown",
   "metadata": {
    "slideshow": {
     "slide_type": "subslide"
    }
   },
   "source": [
    "We will focus on the part of $\\W$ that is $\\W_{hh}$\n",
    "\n",
    "$$\n",
    "\\frac{\\partial \\y_\\tp}{\\partial W_{hh}} = \\frac{\\partial \\y_\\tp}{\\partial \\h_\\tp} \\frac{{\\partial \\h_\\tp}}{\\partial \\W_{hh}}\n",
    "$$"
   ]
  },
  {
   "cell_type": "markdown",
   "metadata": {
    "slideshow": {
     "slide_type": "subslide"
    }
   },
   "source": [
    "But recursively defined $\\h_\\tp$ is a function of $\\h_{(\\tt-1)}, \\h_{(\\tt-1)}, \\ldots, \\h_{(1)}$\n",
    "so\n",
    "\n",
    "$$\n",
    "\\frac{\\partial \\y_\\tp}{\\partial W_{hh}} = \\frac{\\partial \\y_\\tp}{\\partial \\h_\\tp}\n",
    " \\sum_{k=0}^\\tt {  \\frac{\\partial \\h_\\tp}{\\partial \\h_{(\\tt -k)}} \\frac{\\partial \\h_{(\\tt -k)}}{\\partial \\W_{hh}} }\n",
    "$$\n",
    "\n",
    "The summation: $\\frac{\\partial \\h_\\tp}{\\partial \\W_{hh}}$, through all intermediate $\\h_{(\\tt -k)}$\n"
   ]
  },
  {
   "cell_type": "markdown",
   "metadata": {
    "slideshow": {
     "slide_type": "subslide"
    }
   },
   "source": [
    "The problematic term for us is\n",
    "$$\n",
    "\\frac{\\partial \\h_\\tp}{\\partial \\h_{(\\tt-k)}}\n",
    "$$\n",
    "\n",
    "It can be computed by the Chain Rule as\n",
    "$$\n",
    "\\frac{\\partial \\h_\\tp}{\\partial \\h_{(\\tt-k)}} = \\prod_{u=0}^{\\tt-1} { \\frac{\\partial \\h_{(\\tt -u)}}{\\partial \\h_{(\\tt - u -1) }}}\n",
    "$$"
   ]
  },
  {
   "cell_type": "markdown",
   "metadata": {
    "slideshow": {
     "slide_type": "subslide"
    }
   },
   "source": [
    "Each term\n",
    "$$\n",
    "\\frac{\\partial \\h_{(\\tt -u)}}{\\partial \\h_{(\\tt - u-1)}}\n",
    "$$\n",
    "results in a term $\\W_{hh}$ so the repeated product compute matrix $\\W_{hh}$ raised to the power $k$.\n",
    "\n"
   ]
  },
  {
   "cell_type": "markdown",
   "metadata": {
    "slideshow": {
     "slide_type": "subslide"
    }
   },
   "source": [
    "For simplicity,  suppose $\\W_{hh}$ were a scalar\n",
    "- if $\\W_{hh} < 1$ then repeatedly multiply $\\W_{hh}$ by itself approaches $0$\n",
    "- if $\\W_{hh} > 1$ then repeatedly multiply $\\W_{hh}$ by itself approaches $\\infty$\n",
    "\n",
    "In other words:\n",
    "- as the distance between time steps $\\tt$ and $(\\tt -k)$ increases\n",
    "- the gradient (for the weight  update) either vanishes or explodes."
   ]
  },
  {
   "cell_type": "markdown",
   "metadata": {
    "slideshow": {
     "slide_type": "subslide"
    }
   },
   "source": [
    "Since this term is used in the update for our weights\n",
    "- updates  will either be erratic (too big) \n",
    "- or\n",
    "non-existent, hampering learning of weights.\n",
    "\n",
    "This was not necessarily a problem in non-recurrent networks \n",
    "- because each layer had a different\n",
    "weight matrix.\n",
    "\n",
    "What an RNN does that helps it be parsimonius in number of parameters\n",
    "- by sharing the weights across\n",
    "all time steps\n",
    "- hurts us in learning.\n",
    "                                              "
   ]
  },
  {
   "cell_type": "markdown",
   "metadata": {
    "slideshow": {
     "slide_type": "subslide"
    }
   },
   "source": [
    "For the general case where $\\W_{hh}$ is a matrix\n",
    "- we can show the same resul with the eigenvalues of the matrix"
   ]
  },
  {
   "cell_type": "markdown",
   "metadata": {
    "slideshow": {
     "slide_type": "subslide"
    }
   },
   "source": [
    "### Controlling exploding gradients by clipping\n",
    "In theory, we can control the explosion by clipping the gradient $\\frac{\\partial \\loss}{\\partial W_i}$.\n",
    "\n",
    "We are still left with the vanishing gradient problem.\n",
    "\n",
    "This means that we can't learn long-term dependencies (i.e., too many steps backward).\n",
    "\n",
    "This will be \"solved\" by introducing recurrent architectures that address this issue."
   ]
  },
  {
   "cell_type": "code",
   "execution_count": 3,
   "metadata": {
    "slideshow": {
     "slide_type": "slide"
    }
   },
   "outputs": [
    {
     "name": "stdout",
     "output_type": "stream",
     "text": [
      "Done\n"
     ]
    }
   ],
   "source": [
    "print(\"Done\")"
   ]
  }
 ],
 "metadata": {
  "celltoolbar": "Slideshow",
  "kernelspec": {
   "display_name": "Python 3",
   "language": "python",
   "name": "python3"
  },
  "language_info": {
   "codemirror_mode": {
    "name": "ipython",
    "version": 3
   },
   "file_extension": ".py",
   "mimetype": "text/x-python",
   "name": "python",
   "nbconvert_exporter": "python",
   "pygments_lexer": "ipython3",
   "version": "3.7.4"
  },
  "toc": {
   "base_numbering": 1,
   "nav_menu": {},
   "number_sections": true,
   "sideBar": true,
   "skip_h1_title": false,
   "title_cell": "Table of Contents",
   "title_sidebar": "Contents",
   "toc_cell": false,
   "toc_position": {
    "height": "calc(100% - 180px)",
    "left": "10px",
    "top": "150px",
    "width": "370.594px"
   },
   "toc_section_display": true,
   "toc_window_display": true
  }
 },
 "nbformat": 4,
 "nbformat_minor": 2
}
